{
 "cells": [
  {
   "cell_type": "markdown",
   "id": "76f438f9-426c-419a-aed6-361e46a39769",
   "metadata": {
    "tags": []
   },
   "source": [
    "# QUIZ 1"
   ]
  },
  {
   "cell_type": "markdown",
   "id": "f7fe838a-9aea-4ad6-ac7c-8a59edaf7eeb",
   "metadata": {},
   "source": [
    "Code used for QUIZ 1 of IST 652"
   ]
  },
  {
   "cell_type": "code",
   "execution_count": 1,
   "id": "f41e6302-6bba-4324-b1e0-c5668c18fb4a",
   "metadata": {},
   "outputs": [
    {
     "name": "stdout",
     "output_type": "stream",
     "text": [
      "<class 'bool'>\n",
      "<class 'float'>\n",
      "<class 'str'>\n"
     ]
    }
   ],
   "source": [
    "m = True\n",
    "n = 3.14\n",
    "q = \"−7.2345907654\"\n",
    "print (type(m))\n",
    "print(type(n))\n",
    "print(type(q))"
   ]
  },
  {
   "cell_type": "code",
   "execution_count": 5,
   "id": "7b37dedb-aae2-4362-ac86-9528793c52d0",
   "metadata": {},
   "outputs": [
    {
     "name": "stdout",
     "output_type": "stream",
     "text": [
      "Monty Python\n",
      "Monty Python\n",
      "Monty Python\n",
      "All of the above have the correct syntax for defining a string\n"
     ]
    }
   ],
   "source": [
    "String1 = 'Monty Python'\n",
    "String2 = \"Monty Python\"\n",
    "String3 = 'Monty ' + 'Python'\n",
    "\n",
    "print(String1)\n",
    "print(String2)\n",
    "print(String3)\n",
    "\n",
    "print('All of the above have the correct syntax for defining a string')"
   ]
  },
  {
   "cell_type": "markdown",
   "id": "fd9735b6-1187-4971-b5d8-8c2deb448397",
   "metadata": {},
   "source": [
    "Q 3\n",
    "Question 3\n",
    "The correct syntax for creating an empty list named Students is\n",
    "\n",
    "Select one:\n",
    "a. Students[] = 0\n",
    "b. Students[] = empty\n",
    "c. Students = []\n",
    "d. Students = ['']\n",
    "\n",
    "Answer: C"
   ]
  },
  {
   "cell_type": "markdown",
   "id": "ac5d2e8e-9f6f-4f0e-956b-735abfbd4f64",
   "metadata": {},
   "source": [
    "Q 4\n",
    "Question 4\n",
    "Consider the following code:\n",
    "\n",
    "Evennumbers = [2, 4, 6, 8, 10, 12, 14, 16, 18]\n",
    "Temp = Evennumbers[1]+Evennumbers[3]\n",
    "Calculate the value of Evennumbers[1], Evennumbers[3], Evennumbers[7], and Temp, respectively."
   ]
  },
  {
   "cell_type": "code",
   "execution_count": 10,
   "id": "c93d9ab0-4a2f-4281-b813-e68a10f22755",
   "metadata": {},
   "outputs": [
    {
     "name": "stdout",
     "output_type": "stream",
     "text": [
      "Evennumbers[1] = 4\n",
      "Evennumbers[3] = 8\n",
      "Evennumbers[7] = 16\n",
      "Temp = 12\n"
     ]
    }
   ],
   "source": [
    "Evennumbers = [2, 4, 6, 8, 10, 12, 14, 16, 18]\n",
    "\n",
    "Temp = Evennumbers[1]+Evennumbers[3]\n",
    "\n",
    "print('Evennumbers[1] =', Evennumbers[1])\n",
    "print('Evennumbers[3] =', Evennumbers[3])\n",
    "print('Evennumbers[7] =', Evennumbers[7])\n",
    "print('Temp =', Temp)"
   ]
  },
  {
   "cell_type": "markdown",
   "id": "47d4ece2-5b09-4323-8044-836b6a89e8d4",
   "metadata": {},
   "source": [
    "Q 5\n",
    "Question 5\n",
    "Consider the following list:\n",
    "\n",
    "Suitcase = [\"sunglasses\", \"hat\", \"passport\", \"laptop\", \"suit\", \"shoes\"]\n",
    "What will be the value of Suitcase[1:] and Suitcase[:4], respectively?\n",
    "\n",
    "Select one:\n",
    "a. [\"hat\", \"passport\", \"laptop\", \"suit\", \"shoes\"] and [\"sunglasses\", \"hat\", \"passport\", \"laptop\"]\n",
    "b. [\"sunglasses\"] and [\"laptop\"]\n",
    "c. [\"hat\"] and [\"suit\"]\n",
    "d. [\"sunglasses\", \"hat\", \"passport\", \"laptop\", \"suit\", \"shoes\"] and [\"sunglasses\", \"hat\", \"passport\", \"laptop\", \"suit\"]"
   ]
  },
  {
   "cell_type": "code",
   "execution_count": 11,
   "id": "9ea589e7-0fb2-4f44-912f-c6dc18edcf0d",
   "metadata": {},
   "outputs": [
    {
     "name": "stdout",
     "output_type": "stream",
     "text": [
      "Value of Suitcase[1:] = ['hat', 'passport', 'laptop', 'suit', 'shoes']\n",
      "Value of Suitcase[:4] = ['sunglasses', 'hat', 'passport', 'laptop']\n"
     ]
    }
   ],
   "source": [
    "Suitcase = [\"sunglasses\", \"hat\", \"passport\", \"laptop\", \"suit\", \"shoes\"]\n",
    "print('Value of Suitcase[1:] =', Suitcase[1:])\n",
    "print('Value of Suitcase[:4] =', Suitcase[:4])"
   ]
  },
  {
   "cell_type": "markdown",
   "id": "d9958bb9-e7a3-48a0-af0c-9a99b456cb3c",
   "metadata": {},
   "source": [
    "Q 6\n",
    "Question 6\n",
    "Which of the following expressions will make the condition inside the IF statement \"TRUE\" with the following value for x:\n",
    "\n",
    "     x = 5\n",
    "if(<choose the expression from the options given below>):\n",
    "     print(\"Welcome to the world of logical operators\")\n",
    "else:\n",
    "     print(\"Try Again\")"
   ]
  },
  {
   "cell_type": "code",
   "execution_count": 12,
   "id": "4ea0363d-5f57-485f-bef7-6b5f0dfe0fe9",
   "metadata": {},
   "outputs": [
    {
     "name": "stdout",
     "output_type": "stream",
     "text": [
      "Welcome to the world of logical operators\n"
     ]
    }
   ],
   "source": [
    "x = 5\n",
    "if(x >= 0 or x < 0):\n",
    "     print(\"Welcome to the world of logical operators\")\n",
    "else:\n",
    "     print(\"Try Again\")"
   ]
  },
  {
   "cell_type": "markdown",
   "id": "29c51477-7d27-4549-9082-8c5690bd0a5c",
   "metadata": {},
   "source": [
    "Q 7\n",
    "Question 7\n",
    "Consider the following code:\n",
    "\n",
    "xlist = [1, 2, 3, 4]\n",
    "for x in xlist:\n",
    "     print(x + 1)\n",
    "\n",
    "\n",
    "\n",
    "What will the output be (where the numbers will be on separate lines)?"
   ]
  },
  {
   "cell_type": "code",
   "execution_count": 13,
   "id": "d79668ff-772c-40c6-bce2-383be654d2a2",
   "metadata": {},
   "outputs": [
    {
     "name": "stdout",
     "output_type": "stream",
     "text": [
      "2\n",
      "3\n",
      "4\n",
      "5\n"
     ]
    }
   ],
   "source": [
    "xlist = [1, 2, 3, 4]\n",
    "for x in xlist:\n",
    "     print(x + 1)"
   ]
  },
  {
   "cell_type": "markdown",
   "id": "55001c48-a667-42ac-baf2-639ca122b392",
   "metadata": {},
   "source": [
    "Q 8\n",
    "Question 8\n",
    "Consider the following program:\n",
    "\n",
    "nlist = [8, 92, 79, 55, 23, 17, 4, 45, 63, 9, 100]\n",
    "threshold = input('Type Threshold: ')\n",
    "if (max(nlist) > threshold):\n",
    "     print('Great')\n",
    "else:\n",
    "     print('Not great')\n",
    "\n",
    "\n",
    "If the user types in '55', what will the result be?"
   ]
  },
  {
   "cell_type": "code",
   "execution_count": 14,
   "id": "b44d4cf4-d221-4070-8f86-6d41ef6710db",
   "metadata": {},
   "outputs": [
    {
     "name": "stdin",
     "output_type": "stream",
     "text": [
      "Type Threshold:  55\n"
     ]
    },
    {
     "ename": "TypeError",
     "evalue": "'>' not supported between instances of 'int' and 'str'",
     "output_type": "error",
     "traceback": [
      "\u001b[0;31m---------------------------------------------------------------------------\u001b[0m",
      "\u001b[0;31mTypeError\u001b[0m                                 Traceback (most recent call last)",
      "Input \u001b[0;32mIn [14]\u001b[0m, in \u001b[0;36m<cell line: 3>\u001b[0;34m()\u001b[0m\n\u001b[1;32m      1\u001b[0m nlist \u001b[38;5;241m=\u001b[39m [\u001b[38;5;241m8\u001b[39m, \u001b[38;5;241m92\u001b[39m, \u001b[38;5;241m79\u001b[39m, \u001b[38;5;241m55\u001b[39m, \u001b[38;5;241m23\u001b[39m, \u001b[38;5;241m17\u001b[39m, \u001b[38;5;241m4\u001b[39m, \u001b[38;5;241m45\u001b[39m, \u001b[38;5;241m63\u001b[39m, \u001b[38;5;241m9\u001b[39m, \u001b[38;5;241m100\u001b[39m]\n\u001b[1;32m      2\u001b[0m threshold \u001b[38;5;241m=\u001b[39m \u001b[38;5;28minput\u001b[39m(\u001b[38;5;124m'\u001b[39m\u001b[38;5;124mType Threshold: \u001b[39m\u001b[38;5;124m'\u001b[39m)\n\u001b[0;32m----> 3\u001b[0m \u001b[38;5;28;01mif\u001b[39;00m (\u001b[38;5;28;43mmax\u001b[39;49m\u001b[43m(\u001b[49m\u001b[43mnlist\u001b[49m\u001b[43m)\u001b[49m\u001b[43m \u001b[49m\u001b[38;5;241;43m>\u001b[39;49m\u001b[43m \u001b[49m\u001b[43mthreshold\u001b[49m):\n\u001b[1;32m      4\u001b[0m      \u001b[38;5;28mprint\u001b[39m(\u001b[38;5;124m'\u001b[39m\u001b[38;5;124mGreat\u001b[39m\u001b[38;5;124m'\u001b[39m)\n\u001b[1;32m      5\u001b[0m \u001b[38;5;28;01melse\u001b[39;00m:\n",
      "\u001b[0;31mTypeError\u001b[0m: '>' not supported between instances of 'int' and 'str'"
     ]
    }
   ],
   "source": [
    "nlist = [8, 92, 79, 55, 23, 17, 4, 45, 63, 9, 100]\n",
    "threshold = input('Type Threshold: ')\n",
    "if (max(nlist) > threshold):\n",
    "     print('Great')\n",
    "else:\n",
    "     print('Not great')"
   ]
  },
  {
   "cell_type": "markdown",
   "id": "fad85f24-9719-40fb-aa8b-b54d226b6578",
   "metadata": {},
   "source": [
    "Q 9\n",
    "Question 9\n",
    "In the blog post Data Science: A Kaggle Walkthrough—Understanding the Data, Brett Romero creates Chart 2—Reported Ages of Users. In this chart, we see that there are a number of people whose ages are between 100 and 1,000. This is an example of\n",
    "\n",
    "Answer: Using outliers to identify issues with the data"
   ]
  },
  {
   "cell_type": "markdown",
   "id": "c54cb128-c72f-4e02-b4d9-f93b35c952b3",
   "metadata": {},
   "source": [
    "Q 10\n",
    "\n",
    "True....lol"
   ]
  },
  {
   "cell_type": "markdown",
   "id": "f728288d-e2b1-4e32-8de8-23f369f4a2c1",
   "metadata": {},
   "source": [
    " 11\n",
    "Question 11\n",
    "Question 1: Lists and Strings\n",
    "\n",
    "\n",
    "Suppose that you have a list of strings named examples. Write a Python loop that goes through the list and prints each string where the string length is three or more and the first and last characters of the strings are the same.\n",
    "\n",
    "Test your code on the following three versions of the list examples:\n",
    "examples = ['abab', 'xyz', 'aa', 'x', 'bcb']\n",
    "examples = ['', 'x', 'xy', 'xyx', 'xx']\n",
    "examples = ['aaa', 'be', 'abc', 'hello']\n",
    "\n",
    "You may do this exercise either in the interpreter or in a program. Please submit your code and the output from the three examples."
   ]
  },
  {
   "cell_type": "code",
   "execution_count": 100,
   "id": "6f8f3e41-d77c-49ac-bf9e-50dfb23e4232",
   "metadata": {},
   "outputs": [
    {
     "name": "stdout",
     "output_type": "stream",
     "text": [
      "xyx\n"
     ]
    }
   ],
   "source": [
    "# List of example lists provided through the question\n",
    "#examples = ['abab', 'xyz', 'aa', 'x', 'bcb']\n",
    "examples = ['', 'x', 'xy', 'xyx', 'xx']\n",
    "#examples = ['aaa', 'be', 'abc', 'hello']\n",
    "\n",
    "# Create a for-loop to iterate through the length of the list titled 'examples'; it's important to note that the range function was utilized in order to ensure accuracy of hte loop\n",
    "for item in range(len(examples)):\n",
    "    # Within the for-loop, we use an if statement that introduces conditional logic through the 'and' operator.  If the character count is 3 or more and if the first character matches the last, we print the output as such:\n",
    "    if len(examples[item]) >= 3 and examples[item][0] == examples[item][-1]:\n",
    "        print(examples[item])\n"
   ]
  },
  {
   "cell_type": "markdown",
   "id": "1d566154-cc1c-493f-bac5-e729fcac0d46",
   "metadata": {},
   "source": [
    "Q 12\n",
    "Question 12\n",
    "Question 2: Reading and processing data in a file\n",
    "\n",
    "\n",
    "For this question, you are to write a program that reads the data in the file state_satscores_2004.txt. Each line of this file has name of a state, mean Verbal SAT score, and mean Math SAT score.\n",
    "\n",
    "After reading the data, \n",
    "a. Print the state with the highest mean Verbal SAT score \n",
    "b. Print each state that has a mean Math SAT score greater than 500\n",
    "\n",
    "Submit the code and the output from your program.\n",
    "\n",
    "You may use the code developed for the NBA data as a template, but it is absolutely essential that you use appropriate variable names and that you write original comments for what your program does.\n",
    "\n",
    "If you prefer, you can write this program with a csv reader, using state_satscores_2004.tsv."
   ]
  },
  {
   "cell_type": "code",
   "execution_count": 104,
   "id": "9a3f7e93-ed50-4fc7-a3bb-e0872788db21",
   "metadata": {},
   "outputs": [
    {
     "name": "stdout",
     "output_type": "stream",
     "text": [
      "Part A:\n",
      "Print the state with the highest mean Verbal SAT score: South_Dakota ( 594 )\n",
      "----------------------------------\n",
      "Part B:\n",
      "Print each state that has a mean Math SAT score of greater than 500:              State\n",
      "0         New_York\n",
      "1      Connecticut\n",
      "2    Massachusetts\n",
      "3       New_Jersey\n",
      "4    New_Hampshire\n",
      "6            Maine\n",
      "7     Pennsylvania\n",
      "10    Rhode_Island\n",
      "11        Virginia\n",
      "12  North_Carolina\n",
      "13        Maryland\n",
      "15         Vermont\n",
      "16         Indiana\n",
      "18          Hawaii\n",
      "19          Oregon\n",
      "20          Alaska\n",
      "22      Washington\n",
      "23      California\n",
      "24          Nevada\n",
      "25         Arizona\n",
      "26         Montana\n",
      "27            Ohio\n",
      "28        Colorado\n",
      "29           Idaho\n",
      "30   West_Virginia\n",
      "31       Tennessee\n",
      "32      New_Mexico\n",
      "33        Kentucky\n",
      "34         Wyoming\n",
      "35        Michigan\n",
      "36        Illinois\n",
      "37       Minnesota\n",
      "38         Alabama\n",
      "39          Kansas\n",
      "40       Louisiana\n",
      "41        Missouri\n",
      "42        Nebraska\n",
      "43        Oklahoma\n",
      "44       Wisconsin\n",
      "45            Utah\n",
      "46        Arkansas\n",
      "47            Iowa\n",
      "48    South_Dakota\n",
      "49     Mississippi\n",
      "50    North_Dakota\n"
     ]
    }
   ],
   "source": [
    "# Import the pandas package to help importing the data\n",
    "import pandas as pd\n",
    "\n",
    "# Read data to the python interpreter by provding the path name, separator, and column names\n",
    "filename_state_satscores_2004 = pd.read_csv('/Users/pergolicious/Downloads/state_satscores_2004.txt', sep = '\\t', names = ['State', 'Mean Verbal SAT Score', 'Mean Math SAT Score', 'Unkown'])\n",
    "# Extra column was read in and is filled with blanks/NaNs, so this column is removed in the next line of code\n",
    "filename_state_satscores_2004 = filename_state_satscores_2004.iloc[:,:-1]\n",
    "# Ensure the data frame is loaded correctly\n",
    "filename_state_satscores_2004\n",
    "\n",
    "# Find the state with the highest mena Verbal SAT score.  This approach is different from what was explored in class; I believe it is more efficient.\n",
    "    # We are using the loc function to specify which columns we'd like to filter by and which to show.  The idxmax command helps us find the max within the Mean Verbal SAT Score column\n",
    "HighestMeanVerbalSatScore_state = filename_state_satscores_2004.loc[filename_state_satscores_2004['Mean Verbal SAT Score'].idxmax(),'State']\n",
    "# We do something similar for th next line of code, but instead of locating the state, we're locating the score itself\n",
    "HighestMeanVerbalSatScore_score = filename_state_satscores_2004.loc[filename_state_satscores_2004['Mean Verbal SAT Score'].idxmax(),'Mean Verbal SAT Score']\n",
    "\n",
    "# Print context to part A and provide the answer to the overall question\n",
    "print('Part A:')\n",
    "print('Print the state with the highest mean Verbal SAT score:',HighestMeanVerbalSatScore_state, '(',HighestMeanVerbalSatScore_score,')')\n",
    "\n",
    "# Separator to distinguish between parts A and B\n",
    "print('----------------------------------')\n",
    "\n",
    "# Print context to part B and provide the answer to the overall question\n",
    "print('Part B:')\n",
    "print('Print each state that has a mean Math SAT score of greater than 500:', filename_state_satscores_2004.loc[filename_state_satscores_2004['Mean Math SAT Score'] > 500,['State']])"
   ]
  }
 ],
 "metadata": {
  "kernelspec": {
   "display_name": "Python 3 (ipykernel)",
   "language": "python",
   "name": "python3"
  },
  "language_info": {
   "codemirror_mode": {
    "name": "ipython",
    "version": 3
   },
   "file_extension": ".py",
   "mimetype": "text/x-python",
   "name": "python",
   "nbconvert_exporter": "python",
   "pygments_lexer": "ipython3",
   "version": "3.9.12"
  }
 },
 "nbformat": 4,
 "nbformat_minor": 5
}
