{
 "cells": [
  {
   "cell_type": "markdown",
   "id": "5c93d9d3-ae81-45ce-b079-2b8606d9778b",
   "metadata": {
    "tags": []
   },
   "source": [
    "# 3.2 Data Exploration | Activity"
   ]
  },
  {
   "cell_type": "markdown",
   "id": "e0badfd9-8b86-450f-8ed7-21a650a19448",
   "metadata": {},
   "source": [
    "3.2-Data-Exploration_Matthew-L-Pergolski"
   ]
  },
  {
   "cell_type": "markdown",
   "id": "ae353b5b-2f2d-4198-b57f-c3d3834d185c",
   "metadata": {},
   "source": [
    "Write your own program (or build on the one you wrote before) to read the NBA Attendance file into Python, and find the average attendance, average price of a ticket, and the max attendance record, max ticket price. \n",
    "Display the total attendance, average attendance, the max attendance with the team name, and the max ticket price with the team name.\n",
    "\n",
    "Capture your program and results in a text file and upload."
   ]
  },
  {
   "cell_type": "code",
   "execution_count": 61,
   "id": "1c0c48a4-1d3d-4e3c-b4c4-ac5a7516c38c",
   "metadata": {},
   "outputs": [
    {
     "name": "stdout",
     "output_type": "stream",
     "text": [
      "Total Attendance: 424189\n",
      "-\n",
      "Avg Attendance: Washington  | 15710.7\n",
      "-\n",
      "Avg Price: 18.57\n",
      "-\n",
      "Max Price: $ 29.18\n"
     ]
    }
   ],
   "source": [
    "import numpy as np\n",
    "\n",
    "file = open('/Users/pergolicious/Downloads/nba-attendance-1989.txt', 'r')\n",
    "\n",
    "NBAlist = []\n",
    "attendance = []\n",
    "price = []\n",
    "\n",
    "for line in file:\n",
    "    textline = line.strip()\n",
    "    item = textline.split()\n",
    "    NBAlist.append(item)\n",
    "\n",
    "    \n",
    "for (city, att, cost) in NBAlist:\n",
    "    attendance.append(int(att))\n",
    "    price.append(float(cost))\n",
    "    \n",
    "print('Total Attendance:',sum(attendance))\n",
    "print('-')\n",
    "print('Avg Attendance:',city,' |',round(np.mean(attendance),1))\n",
    "print('-')\n",
    "print('Avg Price:', round(np.mean(price),2))\n",
    "print('-')\n",
    "print('Max Price: $',max(price))\n",
    "file.close()"
   ]
  }
 ],
 "metadata": {
  "kernelspec": {
   "display_name": "Python 3 (ipykernel)",
   "language": "python",
   "name": "python3"
  },
  "language_info": {
   "codemirror_mode": {
    "name": "ipython",
    "version": 3
   },
   "file_extension": ".py",
   "mimetype": "text/x-python",
   "name": "python",
   "nbconvert_exporter": "python",
   "pygments_lexer": "ipython3",
   "version": "3.8.13"
  }
 },
 "nbformat": 4,
 "nbformat_minor": 5
}
