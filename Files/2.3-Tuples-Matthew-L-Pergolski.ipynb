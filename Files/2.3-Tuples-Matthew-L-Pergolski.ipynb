{
 "cells": [
  {
   "cell_type": "markdown",
   "id": "53459649-6a73-4529-ad8d-e1868464dbd4",
   "metadata": {},
   "source": [
    "# 2.3 Tuples | Activity"
   ]
  },
  {
   "cell_type": "code",
   "execution_count": null,
   "id": "62c61de3-7026-4fbb-9f97-648d9c745438",
   "metadata": {},
   "outputs": [],
   "source": [
    "# 2.3-Tuples-Matthew-L-Pergolski"
   ]
  },
  {
   "cell_type": "code",
   "execution_count": null,
   "id": "d1f3e6c4-983d-4d36-bae1-3c31d017efff",
   "metadata": {},
   "outputs": [],
   "source": [
    "# Create a sequence of items in Python. The sequence should include at least five items. \n",
    "# Identify the length of the tuple and list the items in your tuple using Python.\n",
    "\n",
    "# Capture the commands you used and the results you got in a text document and submit it here.\n",
    "\n",
    "# Look at some of your classmates' examples to see what they did."
   ]
  },
  {
   "cell_type": "code",
   "execution_count": 3,
   "id": "dcbab175-e06b-40c2-ab2e-70c0415d2780",
   "metadata": {},
   "outputs": [
    {
     "name": "stdout",
     "output_type": "stream",
     "text": [
      "5\n",
      "('a', 'b', 'c', 'd', '5')\n"
     ]
    }
   ],
   "source": [
    "tupletoople = ('a', 'b', 'c', 'd', '5')\n",
    "\n",
    "print(len(tupletoople))\n",
    "print(tupletoople)\n"
   ]
  }
 ],
 "metadata": {
  "kernelspec": {
   "display_name": "Python 3 (ipykernel)",
   "language": "python",
   "name": "python3"
  },
  "language_info": {
   "codemirror_mode": {
    "name": "ipython",
    "version": 3
   },
   "file_extension": ".py",
   "mimetype": "text/x-python",
   "name": "python",
   "nbconvert_exporter": "python",
   "pygments_lexer": "ipython3",
   "version": "3.9.12"
  }
 },
 "nbformat": 4,
 "nbformat_minor": 5
}
