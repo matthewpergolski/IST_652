{
 "cells": [
  {
   "cell_type": "markdown",
   "id": "a16231a1-31b6-4982-a730-450f576eb7ed",
   "metadata": {},
   "source": [
    "# 2.4 Writing a Program"
   ]
  },
  {
   "cell_type": "code",
   "execution_count": null,
   "id": "e041dcad-b9ad-4cf8-84cb-60f89e122390",
   "metadata": {},
   "outputs": [],
   "source": [
    "# 2.4-Writing-a-Program_Matthew-L-Pergolski"
   ]
  },
  {
   "cell_type": "code",
   "execution_count": null,
   "id": "11c26ed4-0fc7-431f-9ae6-d160f460b1c3",
   "metadata": {
    "tags": []
   },
   "outputs": [],
   "source": [
    "# Create a folder on your computer to store your Python programs. \n",
    "# Write a simple program to collect the number of hours worked and rate of pay from the user, calculate the pay, \n",
    "# output should be 'Pay:' and the amount calculated. \n",
    "# Run your program in Python, generate your result, \n",
    "# and place your program code and result in a text document and upload it here."
   ]
  },
  {
   "cell_type": "code",
   "execution_count": 2,
   "id": "d1a622e3-5a1e-495f-ac21-c4aa793bbf9b",
   "metadata": {},
   "outputs": [
    {
     "name": "stdout",
     "output_type": "stream",
     "text": [
      "/Users/pergolicious/Library/CloudStorage/OneDrive-SyracuseUniversity/Syracuse University/Courses/IST 652/Activities\n"
     ]
    }
   ],
   "source": [
    "# Show my working directory set up through Jupyter Lab\n",
    "\n",
    "import os\n",
    "print(os.getcwd())"
   ]
  },
  {
   "cell_type": "code",
   "execution_count": 4,
   "id": "76d74f5c-ae48-49ae-bf27-61bb4be15b16",
   "metadata": {},
   "outputs": [
    {
     "name": "stdin",
     "output_type": "stream",
     "text": [
      "Input number of hours worked: 4\n",
      "Input rate of pay for user: 100\n"
     ]
    },
    {
     "name": "stdout",
     "output_type": "stream",
     "text": [
      "Pay: 400.0\n"
     ]
    }
   ],
   "source": [
    "hours = input('Input number of hours worked:')\n",
    "rate = input('Input rate of pay for user:')\n",
    "\n",
    "pay = float(hours) * float(rate)\n",
    "print('Pay:',pay)"
   ]
  }
 ],
 "metadata": {
  "kernelspec": {
   "display_name": "Python 3 (ipykernel)",
   "language": "python",
   "name": "python3"
  },
  "language_info": {
   "codemirror_mode": {
    "name": "ipython",
    "version": 3
   },
   "file_extension": ".py",
   "mimetype": "text/x-python",
   "name": "python",
   "nbconvert_exporter": "python",
   "pygments_lexer": "ipython3",
   "version": "3.9.12"
  }
 },
 "nbformat": 4,
 "nbformat_minor": 5
}
