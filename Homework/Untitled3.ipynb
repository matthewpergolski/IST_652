{
 "cells": [
  {
   "cell_type": "markdown",
   "id": "55a14239-e810-4bb5-bd7e-ea69dced01d4",
   "metadata": {},
   "source": [
    "9.2 Text Tokenization"
   ]
  },
  {
   "cell_type": "code",
   "execution_count": 1,
   "id": "b158591e-078f-46d6-816f-a5a2c0c5744c",
   "metadata": {},
   "outputs": [],
   "source": [
    "import nltk\n",
    "import pymongo"
   ]
  },
  {
   "cell_type": "code",
   "execution_count": 8,
   "id": "0506f409-328f-4fb7-8b33-1d67dcf87edc",
   "metadata": {},
   "outputs": [
    {
     "data": {
      "text/plain": [
       "<bound method Database.list_collection_names of Database(MongoClient(host=['local host:27107'], document_class=dict, tz_aware=False, connect=True), 'fbusers')>"
      ]
     },
     "execution_count": 8,
     "metadata": {},
     "output_type": "execute_result"
    }
   ],
   "source": [
    "client = pymongo.MongoClient('local host', 27107)\n",
    "client.list_database_names\n",
    "db = client.fbusers\n",
    "db.list_collection_names\n",
    " "
   ]
  },
  {
   "cell_type": "code",
   "execution_count": 14,
   "id": "f90d08db-fb3c-422e-ae23-de1a47f6709e",
   "metadata": {},
   "outputs": [
    {
     "ename": "ServerSelectionTimeoutError",
     "evalue": "local host:27107: [Errno 8] nodename nor servname provided, or not known, Timeout: 30s, Topology Description: <TopologyDescription id: 630d5cd4da5b4789e65bacea, topology_type: Single, servers: [<ServerDescription ('local host', 27107) server_type: Unknown, rtt: None, error=AutoReconnect('local host:27107: [Errno 8] nodename nor servname provided, or not known')>]>",
     "output_type": "error",
     "traceback": [
      "\u001b[0;31m---------------------------------------------------------------------------\u001b[0m",
      "\u001b[0;31mServerSelectionTimeoutError\u001b[0m               Traceback (most recent call last)",
      "Input \u001b[0;32mIn [14]\u001b[0m, in \u001b[0;36m<cell line: 3>\u001b[0;34m()\u001b[0m\n\u001b[1;32m      1\u001b[0m coll \u001b[38;5;241m=\u001b[39m db\u001b[38;5;241m.\u001b[39mdelta\n\u001b[1;32m      2\u001b[0m docs \u001b[38;5;241m=\u001b[39m coll\u001b[38;5;241m.\u001b[39mfind()\n\u001b[0;32m----> 3\u001b[0m doclist \u001b[38;5;241m=\u001b[39m \u001b[38;5;28;43mlist\u001b[39;49m\u001b[43m(\u001b[49m\u001b[43mdocs\u001b[49m\u001b[43m)\u001b[49m\n\u001b[1;32m      4\u001b[0m msglist \u001b[38;5;241m=\u001b[39m [doc[\u001b[38;5;124m'\u001b[39m\u001b[38;5;124mmessage\u001b[39m\u001b[38;5;124m'\u001b[39m] \u001b[38;5;28;01mfor\u001b[39;00m doc \u001b[38;5;129;01min\u001b[39;00m doclist \u001b[38;5;28;01mif\u001b[39;00m \u001b[38;5;124m'\u001b[39m\u001b[38;5;124mmessage\u001b[39m\u001b[38;5;124m'\u001b[39m \u001b[38;5;129;01min\u001b[39;00m doc\u001b[38;5;241m.\u001b[39mkeys()]\n\u001b[1;32m      5\u001b[0m \u001b[38;5;28mlen\u001b[39m(msglist)\n",
      "File \u001b[0;32m~/opt/anaconda3/lib/python3.9/site-packages/pymongo/cursor.py:1238\u001b[0m, in \u001b[0;36mCursor.next\u001b[0;34m(self)\u001b[0m\n\u001b[1;32m   1236\u001b[0m \u001b[38;5;28;01mif\u001b[39;00m \u001b[38;5;28mself\u001b[39m\u001b[38;5;241m.\u001b[39m__empty:\n\u001b[1;32m   1237\u001b[0m     \u001b[38;5;28;01mraise\u001b[39;00m \u001b[38;5;167;01mStopIteration\u001b[39;00m\n\u001b[0;32m-> 1238\u001b[0m \u001b[38;5;28;01mif\u001b[39;00m \u001b[38;5;28mlen\u001b[39m(\u001b[38;5;28mself\u001b[39m\u001b[38;5;241m.\u001b[39m__data) \u001b[38;5;129;01mor\u001b[39;00m \u001b[38;5;28;43mself\u001b[39;49m\u001b[38;5;241;43m.\u001b[39;49m\u001b[43m_refresh\u001b[49m\u001b[43m(\u001b[49m\u001b[43m)\u001b[49m:\n\u001b[1;32m   1239\u001b[0m     \u001b[38;5;28;01mif\u001b[39;00m \u001b[38;5;28mself\u001b[39m\u001b[38;5;241m.\u001b[39m__manipulate:\n\u001b[1;32m   1240\u001b[0m         _db \u001b[38;5;241m=\u001b[39m \u001b[38;5;28mself\u001b[39m\u001b[38;5;241m.\u001b[39m__collection\u001b[38;5;241m.\u001b[39mdatabase\n",
      "File \u001b[0;32m~/opt/anaconda3/lib/python3.9/site-packages/pymongo/cursor.py:1130\u001b[0m, in \u001b[0;36mCursor._refresh\u001b[0;34m(self)\u001b[0m\n\u001b[1;32m   1127\u001b[0m     \u001b[38;5;28;01mreturn\u001b[39;00m \u001b[38;5;28mlen\u001b[39m(\u001b[38;5;28mself\u001b[39m\u001b[38;5;241m.\u001b[39m__data)\n\u001b[1;32m   1129\u001b[0m \u001b[38;5;28;01mif\u001b[39;00m \u001b[38;5;129;01mnot\u001b[39;00m \u001b[38;5;28mself\u001b[39m\u001b[38;5;241m.\u001b[39m__session:\n\u001b[0;32m-> 1130\u001b[0m     \u001b[38;5;28mself\u001b[39m\u001b[38;5;241m.\u001b[39m__session \u001b[38;5;241m=\u001b[39m \u001b[38;5;28;43mself\u001b[39;49m\u001b[38;5;241;43m.\u001b[39;49m\u001b[43m__collection\u001b[49m\u001b[38;5;241;43m.\u001b[39;49m\u001b[43mdatabase\u001b[49m\u001b[38;5;241;43m.\u001b[39;49m\u001b[43mclient\u001b[49m\u001b[38;5;241;43m.\u001b[39;49m\u001b[43m_ensure_session\u001b[49m\u001b[43m(\u001b[49m\u001b[43m)\u001b[49m\n\u001b[1;32m   1132\u001b[0m \u001b[38;5;28;01mif\u001b[39;00m \u001b[38;5;28mself\u001b[39m\u001b[38;5;241m.\u001b[39m__id \u001b[38;5;129;01mis\u001b[39;00m \u001b[38;5;28;01mNone\u001b[39;00m:  \u001b[38;5;66;03m# Query\u001b[39;00m\n\u001b[1;32m   1133\u001b[0m     \u001b[38;5;28;01mif\u001b[39;00m (\u001b[38;5;28mself\u001b[39m\u001b[38;5;241m.\u001b[39m__min \u001b[38;5;129;01mor\u001b[39;00m \u001b[38;5;28mself\u001b[39m\u001b[38;5;241m.\u001b[39m__max) \u001b[38;5;129;01mand\u001b[39;00m \u001b[38;5;129;01mnot\u001b[39;00m \u001b[38;5;28mself\u001b[39m\u001b[38;5;241m.\u001b[39m__hint:\n",
      "File \u001b[0;32m~/opt/anaconda3/lib/python3.9/site-packages/pymongo/mongo_client.py:1935\u001b[0m, in \u001b[0;36mMongoClient._ensure_session\u001b[0;34m(self, session)\u001b[0m\n\u001b[1;32m   1930\u001b[0m     \u001b[38;5;28;01mreturn\u001b[39;00m session\n\u001b[1;32m   1932\u001b[0m \u001b[38;5;28;01mtry\u001b[39;00m:\n\u001b[1;32m   1933\u001b[0m     \u001b[38;5;66;03m# Don't make implicit sessions causally consistent. Applications\u001b[39;00m\n\u001b[1;32m   1934\u001b[0m     \u001b[38;5;66;03m# should always opt-in.\u001b[39;00m\n\u001b[0;32m-> 1935\u001b[0m     \u001b[38;5;28;01mreturn\u001b[39;00m \u001b[38;5;28;43mself\u001b[39;49m\u001b[38;5;241;43m.\u001b[39;49m\u001b[43m__start_session\u001b[49m\u001b[43m(\u001b[49m\u001b[38;5;28;43;01mTrue\u001b[39;49;00m\u001b[43m,\u001b[49m\u001b[43m \u001b[49m\u001b[43mcausal_consistency\u001b[49m\u001b[38;5;241;43m=\u001b[39;49m\u001b[38;5;28;43;01mFalse\u001b[39;49;00m\u001b[43m)\u001b[49m\n\u001b[1;32m   1936\u001b[0m \u001b[38;5;28;01mexcept\u001b[39;00m (ConfigurationError, InvalidOperation):\n\u001b[1;32m   1937\u001b[0m     \u001b[38;5;66;03m# Sessions not supported, or multiple users authenticated.\u001b[39;00m\n\u001b[1;32m   1938\u001b[0m     \u001b[38;5;28;01mreturn\u001b[39;00m \u001b[38;5;28;01mNone\u001b[39;00m\n",
      "File \u001b[0;32m~/opt/anaconda3/lib/python3.9/site-packages/pymongo/mongo_client.py:1883\u001b[0m, in \u001b[0;36mMongoClient.__start_session\u001b[0;34m(self, implicit, **kwargs)\u001b[0m\n\u001b[1;32m   1879\u001b[0m     \u001b[38;5;28;01mraise\u001b[39;00m InvalidOperation(\u001b[38;5;124m\"\u001b[39m\u001b[38;5;124mCannot call start_session when\u001b[39m\u001b[38;5;124m\"\u001b[39m\n\u001b[1;32m   1880\u001b[0m                            \u001b[38;5;124m\"\u001b[39m\u001b[38;5;124m multiple users are authenticated\u001b[39m\u001b[38;5;124m\"\u001b[39m)\n\u001b[1;32m   1882\u001b[0m \u001b[38;5;66;03m# Raises ConfigurationError if sessions are not supported.\u001b[39;00m\n\u001b[0;32m-> 1883\u001b[0m server_session \u001b[38;5;241m=\u001b[39m \u001b[38;5;28;43mself\u001b[39;49m\u001b[38;5;241;43m.\u001b[39;49m\u001b[43m_get_server_session\u001b[49m\u001b[43m(\u001b[49m\u001b[43m)\u001b[49m\n\u001b[1;32m   1884\u001b[0m opts \u001b[38;5;241m=\u001b[39m client_session\u001b[38;5;241m.\u001b[39mSessionOptions(\u001b[38;5;241m*\u001b[39m\u001b[38;5;241m*\u001b[39mkwargs)\n\u001b[1;32m   1885\u001b[0m \u001b[38;5;28;01mreturn\u001b[39;00m client_session\u001b[38;5;241m.\u001b[39mClientSession(\n\u001b[1;32m   1886\u001b[0m     \u001b[38;5;28mself\u001b[39m, server_session, opts, authset, implicit)\n",
      "File \u001b[0;32m~/opt/anaconda3/lib/python3.9/site-packages/pymongo/mongo_client.py:1921\u001b[0m, in \u001b[0;36mMongoClient._get_server_session\u001b[0;34m(self)\u001b[0m\n\u001b[1;32m   1919\u001b[0m \u001b[38;5;28;01mdef\u001b[39;00m \u001b[38;5;21m_get_server_session\u001b[39m(\u001b[38;5;28mself\u001b[39m):\n\u001b[1;32m   1920\u001b[0m     \u001b[38;5;124;03m\"\"\"Internal: start or resume a _ServerSession.\"\"\"\u001b[39;00m\n\u001b[0;32m-> 1921\u001b[0m     \u001b[38;5;28;01mreturn\u001b[39;00m \u001b[38;5;28;43mself\u001b[39;49m\u001b[38;5;241;43m.\u001b[39;49m\u001b[43m_topology\u001b[49m\u001b[38;5;241;43m.\u001b[39;49m\u001b[43mget_server_session\u001b[49m\u001b[43m(\u001b[49m\u001b[43m)\u001b[49m\n",
      "File \u001b[0;32m~/opt/anaconda3/lib/python3.9/site-packages/pymongo/topology.py:520\u001b[0m, in \u001b[0;36mTopology.get_server_session\u001b[0;34m(self)\u001b[0m\n\u001b[1;32m    517\u001b[0m \u001b[38;5;28;01mwith\u001b[39;00m \u001b[38;5;28mself\u001b[39m\u001b[38;5;241m.\u001b[39m_lock:\n\u001b[1;32m    518\u001b[0m     \u001b[38;5;66;03m# Sessions are always supported in load balanced mode.\u001b[39;00m\n\u001b[1;32m    519\u001b[0m     \u001b[38;5;28;01mif\u001b[39;00m \u001b[38;5;129;01mnot\u001b[39;00m \u001b[38;5;28mself\u001b[39m\u001b[38;5;241m.\u001b[39m_settings\u001b[38;5;241m.\u001b[39mload_balanced:\n\u001b[0;32m--> 520\u001b[0m         session_timeout \u001b[38;5;241m=\u001b[39m \u001b[38;5;28;43mself\u001b[39;49m\u001b[38;5;241;43m.\u001b[39;49m\u001b[43m_check_session_support\u001b[49m\u001b[43m(\u001b[49m\u001b[43m)\u001b[49m\n\u001b[1;32m    521\u001b[0m     \u001b[38;5;28;01melse\u001b[39;00m:\n\u001b[1;32m    522\u001b[0m         \u001b[38;5;66;03m# Sessions never time out in load balanced mode.\u001b[39;00m\n\u001b[1;32m    523\u001b[0m         session_timeout \u001b[38;5;241m=\u001b[39m \u001b[38;5;28mfloat\u001b[39m(\u001b[38;5;124m'\u001b[39m\u001b[38;5;124minf\u001b[39m\u001b[38;5;124m'\u001b[39m)\n",
      "File \u001b[0;32m~/opt/anaconda3/lib/python3.9/site-packages/pymongo/topology.py:499\u001b[0m, in \u001b[0;36mTopology._check_session_support\u001b[0;34m(self)\u001b[0m\n\u001b[1;32m    497\u001b[0m \u001b[38;5;28;01mif\u001b[39;00m \u001b[38;5;28mself\u001b[39m\u001b[38;5;241m.\u001b[39m_description\u001b[38;5;241m.\u001b[39mtopology_type \u001b[38;5;241m==\u001b[39m TOPOLOGY_TYPE\u001b[38;5;241m.\u001b[39mSingle:\n\u001b[1;32m    498\u001b[0m     \u001b[38;5;28;01mif\u001b[39;00m \u001b[38;5;129;01mnot\u001b[39;00m \u001b[38;5;28mself\u001b[39m\u001b[38;5;241m.\u001b[39m_description\u001b[38;5;241m.\u001b[39mhas_known_servers:\n\u001b[0;32m--> 499\u001b[0m         \u001b[38;5;28;43mself\u001b[39;49m\u001b[38;5;241;43m.\u001b[39;49m\u001b[43m_select_servers_loop\u001b[49m\u001b[43m(\u001b[49m\n\u001b[1;32m    500\u001b[0m \u001b[43m            \u001b[49m\u001b[43many_server_selector\u001b[49m\u001b[43m,\u001b[49m\n\u001b[1;32m    501\u001b[0m \u001b[43m            \u001b[49m\u001b[38;5;28;43mself\u001b[39;49m\u001b[38;5;241;43m.\u001b[39;49m\u001b[43m_settings\u001b[49m\u001b[38;5;241;43m.\u001b[39;49m\u001b[43mserver_selection_timeout\u001b[49m\u001b[43m,\u001b[49m\n\u001b[1;32m    502\u001b[0m \u001b[43m            \u001b[49m\u001b[38;5;28;43;01mNone\u001b[39;49;00m\u001b[43m)\u001b[49m\n\u001b[1;32m    503\u001b[0m \u001b[38;5;28;01melif\u001b[39;00m \u001b[38;5;129;01mnot\u001b[39;00m \u001b[38;5;28mself\u001b[39m\u001b[38;5;241m.\u001b[39m_description\u001b[38;5;241m.\u001b[39mreadable_servers:\n\u001b[1;32m    504\u001b[0m     \u001b[38;5;28mself\u001b[39m\u001b[38;5;241m.\u001b[39m_select_servers_loop(\n\u001b[1;32m    505\u001b[0m         readable_server_selector,\n\u001b[1;32m    506\u001b[0m         \u001b[38;5;28mself\u001b[39m\u001b[38;5;241m.\u001b[39m_settings\u001b[38;5;241m.\u001b[39mserver_selection_timeout,\n\u001b[1;32m    507\u001b[0m         \u001b[38;5;28;01mNone\u001b[39;00m)\n",
      "File \u001b[0;32m~/opt/anaconda3/lib/python3.9/site-packages/pymongo/topology.py:218\u001b[0m, in \u001b[0;36mTopology._select_servers_loop\u001b[0;34m(self, selector, timeout, address)\u001b[0m\n\u001b[1;32m    215\u001b[0m \u001b[38;5;28;01mwhile\u001b[39;00m \u001b[38;5;129;01mnot\u001b[39;00m server_descriptions:\n\u001b[1;32m    216\u001b[0m     \u001b[38;5;66;03m# No suitable servers.\u001b[39;00m\n\u001b[1;32m    217\u001b[0m     \u001b[38;5;28;01mif\u001b[39;00m timeout \u001b[38;5;241m==\u001b[39m \u001b[38;5;241m0\u001b[39m \u001b[38;5;129;01mor\u001b[39;00m now \u001b[38;5;241m>\u001b[39m end_time:\n\u001b[0;32m--> 218\u001b[0m         \u001b[38;5;28;01mraise\u001b[39;00m ServerSelectionTimeoutError(\n\u001b[1;32m    219\u001b[0m             \u001b[38;5;124m\"\u001b[39m\u001b[38;5;132;01m%s\u001b[39;00m\u001b[38;5;124m, Timeout: \u001b[39m\u001b[38;5;132;01m%s\u001b[39;00m\u001b[38;5;124ms, Topology Description: \u001b[39m\u001b[38;5;132;01m%r\u001b[39;00m\u001b[38;5;124m\"\u001b[39m \u001b[38;5;241m%\u001b[39m\n\u001b[1;32m    220\u001b[0m             (\u001b[38;5;28mself\u001b[39m\u001b[38;5;241m.\u001b[39m_error_message(selector), timeout, \u001b[38;5;28mself\u001b[39m\u001b[38;5;241m.\u001b[39mdescription))\n\u001b[1;32m    222\u001b[0m     \u001b[38;5;28mself\u001b[39m\u001b[38;5;241m.\u001b[39m_ensure_opened()\n\u001b[1;32m    223\u001b[0m     \u001b[38;5;28mself\u001b[39m\u001b[38;5;241m.\u001b[39m_request_check_all()\n",
      "\u001b[0;31mServerSelectionTimeoutError\u001b[0m: local host:27107: [Errno 8] nodename nor servname provided, or not known, Timeout: 30s, Topology Description: <TopologyDescription id: 630d5cd4da5b4789e65bacea, topology_type: Single, servers: [<ServerDescription ('local host', 27107) server_type: Unknown, rtt: None, error=AutoReconnect('local host:27107: [Errno 8] nodename nor servname provided, or not known')>]>"
     ]
    }
   ],
   "source": [
    "coll = db.delta\n",
    "docs = coll.find()\n",
    "doclist = list(docs)\n",
    "msglist = [doc['message'] for doc in doclist if 'message' in doc.keys()]\n",
    "len(msglist)\n",
    " "
   ]
  },
  {
   "cell_type": "code",
   "execution_count": 31,
   "id": "0037e597-dd8b-4776-a269-004dbb2b8fbc",
   "metadata": {},
   "outputs": [],
   "source": [
    "words = \"The unanimous Declaration of the thirteen united States of America, When in the Course of human events, it becomes necessary for one people to dissolve the political bands which have connected them with another, and to assume among the powers of the earth, the separate and equal station to which the Laws of Nature and of Nature's God entitle them, a decent respect to the opinions of mankind requires that they should declare the causes which impel them to the separation. We hold these truths to be self-evident, that all men are created equal, that they are endowed by their Creator with certain unalienable Rights, that among these are Life, Liberty and the pursuit of Happiness.--That to secure these rights, Governments are instituted among Men, deriving their just powers from the consent of the governed, --That whenever any Form of Government becomes destructive of these ends, it is the Right of the People to alter or to abolish it, and to institute new Government, laying its foundation on such principles and organizing its powers in such form, as to them shall seem most likely to effect their Safety and Happiness. Prudence, indeed, will dictate that Governments long established should not be changed for light and transient causes; and accordingly all experience hath shewn, that mankind are more disposed to suffer, while evils are sufferable, than to right themselves by abolishing the forms to which they are accustomed. But when a long train of abuses and usurpations, pursuing invariably the same Object evinces a design to reduce them under absolute Despotism, it is their right, it is their duty, to throw off such Government, and to provide new Guards for their future security.--Such has been the patient sufferance of these Colonies; and such is now the necessity which constrains them to alter their former Systems of Government. The history of the present King of Great Britain is a history of repeated injuries and usurpations, all having in direct object the establishment of an absolute Tyranny over these States. To prove this, let Facts be submitted to a candid world.\"\n",
    "words = words.split()\n",
    "lower_words = []\n",
    "for word in words:\n",
    "    lower_words.append(word.lower())"
   ]
  },
  {
   "cell_type": "code",
   "execution_count": 32,
   "id": "48c2d6b5-a622-4591-8ac1-a5c229e1e01e",
   "metadata": {},
   "outputs": [
    {
     "data": {
      "text/plain": [
       "[('the', 23),\n",
       " ('to', 21),\n",
       " ('of', 19),\n",
       " ('and', 13),\n",
       " ('are', 7),\n",
       " ('their', 7),\n",
       " ('that', 6),\n",
       " ('these', 6),\n",
       " ('which', 5),\n",
       " ('them', 5),\n",
       " ('a', 5),\n",
       " ('is', 5),\n",
       " ('it', 4),\n",
       " ('such', 4),\n",
       " ('in', 3),\n",
       " ('for', 3),\n",
       " ('among', 3),\n",
       " ('powers', 3),\n",
       " ('they', 3),\n",
       " ('be', 3),\n",
       " ('all', 3),\n",
       " ('when', 2),\n",
       " ('becomes', 2),\n",
       " ('people', 2),\n",
       " ('with', 2),\n",
       " ('mankind', 2),\n",
       " ('should', 2),\n",
       " ('by', 2),\n",
       " ('rights,', 2),\n",
       " ('governments', 2)]"
      ]
     },
     "execution_count": 32,
     "metadata": {},
     "output_type": "execute_result"
    }
   ],
   "source": [
    "msgFD = nltk.FreqDist(lower_words)\n",
    "msgFD.most_common(30)"
   ]
  },
  {
   "cell_type": "code",
   "execution_count": null,
   "id": "21ba37f7-3d7e-4f76-a1b4-4bcc570c7f2d",
   "metadata": {},
   "outputs": [],
   "source": [
    ">>> nltk_stopwords =\n",
    " nltk.corpus.stopwords.words('english')\n",
    " >>> len(nltk_stopwords)\n",
    " "
   ]
  }
 ],
 "metadata": {
  "kernelspec": {
   "display_name": "Python 3 (ipykernel)",
   "language": "python",
   "name": "python3"
  },
  "language_info": {
   "codemirror_mode": {
    "name": "ipython",
    "version": 3
   },
   "file_extension": ".py",
   "mimetype": "text/x-python",
   "name": "python",
   "nbconvert_exporter": "python",
   "pygments_lexer": "ipython3",
   "version": "3.9.12"
  }
 },
 "nbformat": 4,
 "nbformat_minor": 5
}
