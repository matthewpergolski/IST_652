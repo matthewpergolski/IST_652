{
 "cells": [
  {
   "cell_type": "markdown",
   "id": "3a14fa62-456e-478b-88e2-713372119727",
   "metadata": {},
   "source": [
    "# HOMEWORK 1"
   ]
  },
  {
   "cell_type": "markdown",
   "id": "c6ada86f-ab93-403b-9400-906d24278d8a",
   "metadata": {},
   "source": [
    "Matthew Pergolski | IST 652"
   ]
  },
  {
   "cell_type": "code",
   "execution_count": 1,
   "id": "5a7352b9-b855-46a5-80db-2197fe393d17",
   "metadata": {},
   "outputs": [],
   "source": [
    "import pandas as pd\n",
    "import numpy as np"
   ]
  },
  {
   "cell_type": "code",
   "execution_count": 4,
   "id": "fbc5f4ee-3a4a-4755-b872-22a8cfb9aa4e",
   "metadata": {},
   "outputs": [
    {
     "name": "stdout",
     "output_type": "stream",
     "text": [
      "<class 'pandas.core.frame.DataFrame'>\n",
      "RangeIndex: 3120 entries, 0 to 3119\n",
      "Data columns (total 24 columns):\n",
      " #   Column           Non-Null Count  Dtype  \n",
      "---  ------           --------------  -----  \n",
      " 0   Row Id           3120 non-null   int64  \n",
      " 1   Row Id.          3120 non-null   int64  \n",
      " 2   zipconvert_2     3120 non-null   int64  \n",
      " 3   zipconvert_3     3120 non-null   int64  \n",
      " 4   zipconvert_4     3120 non-null   int64  \n",
      " 5   zipconvert_5     3120 non-null   int64  \n",
      " 6   homeowner dummy  3120 non-null   int64  \n",
      " 7   NUMCHLD          3120 non-null   int64  \n",
      " 8   INCOME           3120 non-null   int64  \n",
      " 9   gender dummy     3120 non-null   int64  \n",
      " 10  WEALTH           3120 non-null   int64  \n",
      " 11  HV               3120 non-null   int64  \n",
      " 12  Icmed            3120 non-null   int64  \n",
      " 13  Icavg            3120 non-null   int64  \n",
      " 14  IC15             3120 non-null   int64  \n",
      " 15  NUMPROM          3120 non-null   int64  \n",
      " 16  RAMNTALL         3120 non-null   float64\n",
      " 17  MAXRAMNT         3120 non-null   float64\n",
      " 18  LASTGIFT         3120 non-null   float64\n",
      " 19  totalmonths      3120 non-null   int64  \n",
      " 20  TIMELAG          3120 non-null   int64  \n",
      " 21  AVGGIFT          3120 non-null   float64\n",
      " 22  TARGET_B         3120 non-null   int64  \n",
      " 23  TARGET_D         3120 non-null   float64\n",
      "dtypes: float64(5), int64(19)\n",
      "memory usage: 585.1 KB\n"
     ]
    }
   ],
   "source": [
    "df = pd.read_csv('/Users/pergolicious/Library/CloudStorage/OneDrive-SyracuseUniversity/Syracuse University/Courses/IST 652/Files/donors_data.csv')\n",
    "df.info()"
   ]
  }
 ],
 "metadata": {
  "kernelspec": {
   "display_name": "Python 3 (ipykernel)",
   "language": "python",
   "name": "python3"
  },
  "language_info": {
   "codemirror_mode": {
    "name": "ipython",
    "version": 3
   },
   "file_extension": ".py",
   "mimetype": "text/x-python",
   "name": "python",
   "nbconvert_exporter": "python",
   "pygments_lexer": "ipython3",
   "version": "3.9.12"
  }
 },
 "nbformat": 4,
 "nbformat_minor": 5
}
