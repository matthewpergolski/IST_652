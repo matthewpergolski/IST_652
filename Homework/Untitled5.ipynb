{
 "cells": [
  {
   "cell_type": "markdown",
   "id": "bfdea19b-ce13-44f3-9ba8-9bafb66ac0a8",
   "metadata": {},
   "source": [
    "9.4 Finding Patterns in Text"
   ]
  },
  {
   "cell_type": "code",
   "execution_count": 1,
   "id": "c9a4cb35-b7c2-46a6-a54a-04e185c8a9bd",
   "metadata": {},
   "outputs": [],
   "source": [
    ">>> import re\n",
    ">>> line = '1.1.1.1 - - [21/Feb/2014:06:35:45 +0100] \"GET /robots.txt HTTP/1.1\" 200 112 \"-\" \"Mozilla/5.0 (compatible; Googlebot/2.1; +http://www.google.com/bot.html)\"'"
   ]
  },
  {
   "cell_type": "code",
   "execution_count": 2,
   "id": "d3e77bba-db27-4e09-8e6d-a603c450cd12",
   "metadata": {},
   "outputs": [
    {
     "data": {
      "text/plain": [
       "['21/Feb/2014:06:35:45 +0100']"
      ]
     },
     "execution_count": 2,
     "metadata": {},
     "output_type": "execute_result"
    }
   ],
   "source": [
    ">>> pdate = re.compile(\"\\[([^\\]]+)\\]\") \n",
    ">>> resultlist = pdate.findall(line) \n",
    ">>> resultlist"
   ]
  },
  {
   "cell_type": "code",
   "execution_count": 3,
   "id": "e27057c8-a3a5-447a-a735-ffeabd033a33",
   "metadata": {},
   "outputs": [
    {
     "data": {
      "text/plain": [
       "'21/Feb/2014:06:35:45 +0100'"
      ]
     },
     "execution_count": 3,
     "metadata": {},
     "output_type": "execute_result"
    }
   ],
   "source": [
    ">>> datestring = resultlist[0] \n",
    ">>> datestring"
   ]
  },
  {
   "cell_type": "code",
   "execution_count": 4,
   "id": "580f109b-480e-4472-bb89-120f68ec935f",
   "metadata": {},
   "outputs": [
    {
     "data": {
      "text/plain": [
       "['GET /robots.txt HTTP/1.1',\n",
       " '-',\n",
       " 'Mozilla/5.0 (compatible; Googlebot/2.1; +http://www.google.com/bot.html)']"
      ]
     },
     "execution_count": 4,
     "metadata": {},
     "output_type": "execute_result"
    }
   ],
   "source": [
    ">>> pquotes = re.compile('\\\"([^\\\"]+)\\\"')\n",
    ">>> quotecontents = pquotes.findall(line)\n",
    ">>> quotecontents"
   ]
  },
  {
   "cell_type": "code",
   "execution_count": 5,
   "id": "7e0ebe35-5f35-4c49-a9ea-4713b346bb9b",
   "metadata": {},
   "outputs": [
    {
     "data": {
      "text/plain": [
       "'GET /robots.txt HTTP/1.1'"
      ]
     },
     "execution_count": 5,
     "metadata": {},
     "output_type": "execute_result"
    }
   ],
   "source": [
    ">>> requeststring = quotecontents[0] \n",
    ">>> requeststring"
   ]
  },
  {
   "cell_type": "code",
   "execution_count": 6,
   "id": "a2de1d4e-e333-46a5-b116-1be09eaf25fb",
   "metadata": {},
   "outputs": [
    {
     "data": {
      "text/plain": [
       "['/robots.txt']"
      ]
     },
     "execution_count": 6,
     "metadata": {},
     "output_type": "execute_result"
    }
   ],
   "source": [
    ">>> prequest = re.compile('GET ([\\w/.]+) HTTP') \n",
    ">>> request = prequest.findall(requeststring)\n",
    ">>> request"
   ]
  },
  {
   "cell_type": "code",
   "execution_count": 8,
   "id": "5a239975-f017-41d9-b852-3f135de6ba43",
   "metadata": {},
   "outputs": [
    {
     "data": {
      "text/plain": [
       "['-', '- ', '-']"
      ]
     },
     "execution_count": 8,
     "metadata": {},
     "output_type": "execute_result"
    }
   ],
   "source": [
    ">>> line2 = '7.7.7.7 - - [21/Feb/2014:08:51:34 +0100] \"-\" 400 0 \"- \" \"-\"'\n",
    ">>> quotecontents = pquotes.findall(line2) \n",
    ">>> quotecontents"
   ]
  },
  {
   "cell_type": "code",
   "execution_count": 9,
   "id": "642d05c5-0615-47e7-9160-0c78b87fe802",
   "metadata": {},
   "outputs": [
    {
     "data": {
      "text/plain": [
       "[]"
      ]
     },
     "execution_count": 9,
     "metadata": {},
     "output_type": "execute_result"
    }
   ],
   "source": [
    ">>> requeststring = quotecontents[0]\n",
    ">>> request = prequest.findall(requeststring) \n",
    ">>> request"
   ]
  },
  {
   "cell_type": "code",
   "execution_count": 10,
   "id": "53a4a3ac-fa34-4547-80a9-4c576515d5cd",
   "metadata": {},
   "outputs": [
    {
     "data": {
      "text/plain": [
       "datetime.datetime(2014, 2, 21, 6, 35, 45, tzinfo=datetime.timezone(datetime.timedelta(seconds=3600)))"
      ]
     },
     "execution_count": 10,
     "metadata": {},
     "output_type": "execute_result"
    }
   ],
   "source": [
    ">>> from datetime import datetime\n",
    ">>> tt = datetime.strptime(datestring, \"%d/%b/%Y:%H:%M:%S %z\")\n",
    ">>> tt"
   ]
  },
  {
   "cell_type": "code",
   "execution_count": 11,
   "id": "46a2effd-ab0d-4ffb-9b43-b7b5a7c4e7ee",
   "metadata": {},
   "outputs": [
    {
     "data": {
      "text/plain": [
       "[('21/Feb/2014:06:35:45 +0100', 'GET /robots.txt HTTP/1.1')]"
      ]
     },
     "execution_count": 11,
     "metadata": {},
     "output_type": "execute_result"
    }
   ],
   "source": [
    ">>> pboth = re.compile('\\[([^\\]]+)\\][^\"]+\\\"([^\\\"]+)\\\"')\n",
    ">>> result = pboth.findall(line)\n",
    ">>> result"
   ]
  },
  {
   "cell_type": "code",
   "execution_count": null,
   "id": "ec69d40e-9a00-4ea2-80a1-a6717128d244",
   "metadata": {},
   "outputs": [],
   "source": []
  }
 ],
 "metadata": {
  "kernelspec": {
   "display_name": "Python 3 (ipykernel)",
   "language": "python",
   "name": "python3"
  },
  "language_info": {
   "codemirror_mode": {
    "name": "ipython",
    "version": 3
   },
   "file_extension": ".py",
   "mimetype": "text/x-python",
   "name": "python",
   "nbconvert_exporter": "python",
   "pygments_lexer": "ipython3",
   "version": "3.9.12"
  }
 },
 "nbformat": 4,
 "nbformat_minor": 5
}
