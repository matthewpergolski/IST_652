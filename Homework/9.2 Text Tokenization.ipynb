{
 "cells": [
  {
   "cell_type": "markdown",
   "id": "55a14239-e810-4bb5-bd7e-ea69dced01d4",
   "metadata": {},
   "source": [
    "9.2 Text Tokenization"
   ]
  },
  {
   "cell_type": "code",
   "execution_count": 1,
   "id": "b158591e-078f-46d6-816f-a5a2c0c5744c",
   "metadata": {},
   "outputs": [],
   "source": [
    "import nltk\n",
    "import pymongo"
   ]
  },
  {
   "cell_type": "code",
   "execution_count": 8,
   "id": "0506f409-328f-4fb7-8b33-1d67dcf87edc",
   "metadata": {},
   "outputs": [
    {
     "data": {
      "text/plain": [
       "<bound method Database.list_collection_names of Database(MongoClient(host=['local host:27107'], document_class=dict, tz_aware=False, connect=True), 'fbusers')>"
      ]
     },
     "execution_count": 8,
     "metadata": {},
     "output_type": "execute_result"
    }
   ],
   "source": [
    "client = pymongo.MongoClient('local host', 27107)\n",
    "client.list_database_names\n",
    "db = client.fbusers\n",
    "db.list_collection_names\n",
    " "
   ]
  },
  {
   "cell_type": "code",
   "execution_count": 31,
   "id": "0037e597-dd8b-4776-a269-004dbb2b8fbc",
   "metadata": {},
   "outputs": [],
   "source": [
    "words = \"The unanimous Declaration of the thirteen united States of America, When in the Course of human events, it becomes necessary for one people to dissolve the political bands which have connected them with another, and to assume among the powers of the earth, the separate and equal station to which the Laws of Nature and of Nature's God entitle them, a decent respect to the opinions of mankind requires that they should declare the causes which impel them to the separation. We hold these truths to be self-evident, that all men are created equal, that they are endowed by their Creator with certain unalienable Rights, that among these are Life, Liberty and the pursuit of Happiness.--That to secure these rights, Governments are instituted among Men, deriving their just powers from the consent of the governed, --That whenever any Form of Government becomes destructive of these ends, it is the Right of the People to alter or to abolish it, and to institute new Government, laying its foundation on such principles and organizing its powers in such form, as to them shall seem most likely to effect their Safety and Happiness. Prudence, indeed, will dictate that Governments long established should not be changed for light and transient causes; and accordingly all experience hath shewn, that mankind are more disposed to suffer, while evils are sufferable, than to right themselves by abolishing the forms to which they are accustomed. But when a long train of abuses and usurpations, pursuing invariably the same Object evinces a design to reduce them under absolute Despotism, it is their right, it is their duty, to throw off such Government, and to provide new Guards for their future security.--Such has been the patient sufferance of these Colonies; and such is now the necessity which constrains them to alter their former Systems of Government. The history of the present King of Great Britain is a history of repeated injuries and usurpations, all having in direct object the establishment of an absolute Tyranny over these States. To prove this, let Facts be submitted to a candid world.\"\n",
    "words = words.split()\n",
    "lower_words = []\n",
    "for word in words:\n",
    "    lower_words.append(word.lower())"
   ]
  },
  {
   "cell_type": "code",
   "execution_count": 32,
   "id": "48c2d6b5-a622-4591-8ac1-a5c229e1e01e",
   "metadata": {},
   "outputs": [
    {
     "data": {
      "text/plain": [
       "[('the', 23),\n",
       " ('to', 21),\n",
       " ('of', 19),\n",
       " ('and', 13),\n",
       " ('are', 7),\n",
       " ('their', 7),\n",
       " ('that', 6),\n",
       " ('these', 6),\n",
       " ('which', 5),\n",
       " ('them', 5),\n",
       " ('a', 5),\n",
       " ('is', 5),\n",
       " ('it', 4),\n",
       " ('such', 4),\n",
       " ('in', 3),\n",
       " ('for', 3),\n",
       " ('among', 3),\n",
       " ('powers', 3),\n",
       " ('they', 3),\n",
       " ('be', 3),\n",
       " ('all', 3),\n",
       " ('when', 2),\n",
       " ('becomes', 2),\n",
       " ('people', 2),\n",
       " ('with', 2),\n",
       " ('mankind', 2),\n",
       " ('should', 2),\n",
       " ('by', 2),\n",
       " ('rights,', 2),\n",
       " ('governments', 2)]"
      ]
     },
     "execution_count": 32,
     "metadata": {},
     "output_type": "execute_result"
    }
   ],
   "source": [
    "msgFD = nltk.FreqDist(lower_words)\n",
    "msgFD.most_common(30)"
   ]
  },
  {
   "cell_type": "code",
   "execution_count": 35,
   "id": "21ba37f7-3d7e-4f76-a1b4-4bcc570c7f2d",
   "metadata": {},
   "outputs": [
    {
     "name": "stderr",
     "output_type": "stream",
     "text": [
      "[nltk_data] Downloading package stopwords to\n",
      "[nltk_data]     /Users/pergolicious/nltk_data...\n",
      "[nltk_data]   Unzipping corpora/stopwords.zip.\n"
     ]
    },
    {
     "data": {
      "text/plain": [
       "179"
      ]
     },
     "execution_count": 35,
     "metadata": {},
     "output_type": "execute_result"
    }
   ],
   "source": [
    "nltk.download('stopwords')\n",
    "nltk_stopwords = nltk.corpus.stopwords.words('english')\n",
    "len(nltk_stopwords)\n",
    " "
   ]
  },
  {
   "cell_type": "code",
   "execution_count": null,
   "id": "c1c0fd00-bafa-4d82-9f3a-5946a5d8c043",
   "metadata": {},
   "outputs": [],
   "source": []
  }
 ],
 "metadata": {
  "kernelspec": {
   "display_name": "Python 3 (ipykernel)",
   "language": "python",
   "name": "python3"
  },
  "language_info": {
   "codemirror_mode": {
    "name": "ipython",
    "version": 3
   },
   "file_extension": ".py",
   "mimetype": "text/x-python",
   "name": "python",
   "nbconvert_exporter": "python",
   "pygments_lexer": "ipython3",
   "version": "3.8.13"
  }
 },
 "nbformat": 4,
 "nbformat_minor": 5
}
