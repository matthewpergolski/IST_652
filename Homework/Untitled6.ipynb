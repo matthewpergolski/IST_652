{
 "cells": [
  {
   "cell_type": "code",
   "execution_count": 1,
   "id": "2692a3b9-ba10-45c8-ad70-580421426b1d",
   "metadata": {},
   "outputs": [
    {
     "name": "stdout",
     "output_type": "stream",
     "text": [
      "/Users/pergolicious/Library/jupyterlab-desktop/jlab_server/bin/python\n"
     ]
    }
   ],
   "source": [
    "!which python"
   ]
  },
  {
   "cell_type": "code",
   "execution_count": 2,
   "id": "1ec39006-4025-4f4e-a6ac-5e3900b1b12a",
   "metadata": {},
   "outputs": [
    {
     "name": "stderr",
     "output_type": "stream",
     "text": [
      "UsageError: Line magic function `%which` not found.\n"
     ]
    }
   ],
   "source": [
    "%which python"
   ]
  },
  {
   "cell_type": "code",
   "execution_count": null,
   "id": "99343fcc-69c7-4d86-a30b-e1ac159df468",
   "metadata": {},
   "outputs": [],
   "source": []
  }
 ],
 "metadata": {
  "kernelspec": {
   "display_name": "Python 3 (ipykernel)",
   "language": "python",
   "name": "python3"
  },
  "language_info": {
   "codemirror_mode": {
    "name": "ipython",
    "version": 3
   },
   "file_extension": ".py",
   "mimetype": "text/x-python",
   "name": "python",
   "nbconvert_exporter": "python",
   "pygments_lexer": "ipython3",
   "version": "3.8.13"
  }
 },
 "nbformat": 4,
 "nbformat_minor": 5
}
