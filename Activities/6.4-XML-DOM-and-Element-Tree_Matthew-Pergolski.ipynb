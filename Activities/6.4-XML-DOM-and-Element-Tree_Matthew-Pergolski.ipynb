{
 "cells": [
  {
   "cell_type": "markdown",
   "id": "6cac8a85-85eb-4188-b679-38e581718d81",
   "metadata": {},
   "source": [
    "6.4 XML, DOM, and Element Tree"
   ]
  },
  {
   "cell_type": "markdown",
   "id": "2cbd66dd-9502-4361-99d8-461e43ffbf68",
   "metadata": {},
   "source": [
    "6.4-XML-DOM-and-Element-Tree_Matthew-Pergolski"
   ]
  },
  {
   "cell_type": "code",
   "execution_count": 29,
   "id": "5ab1ffa7-9629-4dd7-a2a8-57e5b9677205",
   "metadata": {},
   "outputs": [],
   "source": [
    "import urllib.request\n",
    "\n",
    "url = \"http://feeds.bbci.co.uk/news/rss.xml\"\n",
    "#url = 'https://www.feedspot.com/infiniterss.php?_src=feed_title&followfeedid=4811466&q=site:https%3A%2F%2Fwww.teslarati.com%2Ffeed%2F'\n",
    "xmlstring = urllib.request.urlopen(url).read().decode('utf8')"
   ]
  },
  {
   "cell_type": "code",
   "execution_count": 30,
   "id": "78102782-65d8-452c-9223-f7b6c944a2c0",
   "metadata": {},
   "outputs": [
    {
     "data": {
      "text/plain": [
       "25881"
      ]
     },
     "execution_count": 30,
     "metadata": {},
     "output_type": "execute_result"
    }
   ],
   "source": [
    "len(xmlstring)"
   ]
  },
  {
   "cell_type": "code",
   "execution_count": 31,
   "id": "c3784ffe-574b-4a89-a06c-e08a654e6837",
   "metadata": {},
   "outputs": [
    {
     "data": {
      "text/plain": [
       "'<?xml version=\"1.0\" encoding=\"UTF-8\"?>\\n<?xml-stylesheet title=\"XSL_formatting\" type=\"text/xsl\" href=\"/shared/bsp/xsl/rss/nolsol.xsl\"?>\\n<rss xmlns:dc=\"http://purl.org/dc/elements/1.1/\" xmlns:content=\"http://purl.org/rss/1.0/modules/content/\" xmlns:atom=\"http://www.w3.org/2005/Atom\" version=\"2.0\" xmlns:media=\"http://search.yahoo.com/mrss/\">\\n    <channel>\\n        <title><![CDATA[BBC News - Home]]></title>\\n        <description><![CDATA[BBC News - Home]]></description>\\n        <link>https://www.bbc.c'"
      ]
     },
     "execution_count": 31,
     "metadata": {},
     "output_type": "execute_result"
    }
   ],
   "source": [
    "xmlstring[:500]"
   ]
  },
  {
   "cell_type": "code",
   "execution_count": 32,
   "id": "5fbcaf66-07a1-449b-bc56-5187d07f5a57",
   "metadata": {},
   "outputs": [
    {
     "data": {
      "text/plain": [
       "xml.etree.ElementTree.ElementTree"
      ]
     },
     "execution_count": 32,
     "metadata": {},
     "output_type": "execute_result"
    }
   ],
   "source": [
    "import xml.etree.ElementTree as etree\n",
    "import io\n",
    "\n",
    "xmlfile = io.StringIO(xmlstring)\n",
    "tree = etree.parse(xmlfile)\n",
    "type(tree)"
   ]
  },
  {
   "cell_type": "code",
   "execution_count": 5,
   "id": "a0ca5c98-cda1-4480-8793-69bd6b3aa2f5",
   "metadata": {},
   "outputs": [
    {
     "data": {
      "text/plain": [
       "xml.etree.ElementTree.Element"
      ]
     },
     "execution_count": 5,
     "metadata": {},
     "output_type": "execute_result"
    }
   ],
   "source": [
    "root = tree.getroot()\n",
    "type(root)"
   ]
  },
  {
   "cell_type": "code",
   "execution_count": 8,
   "id": "a3c14060-ad21-40b0-a0be-34bf4ff89e7b",
   "metadata": {},
   "outputs": [
    {
     "name": "stdout",
     "output_type": "stream",
     "text": [
      "rss\n",
      "{'version': '2.0'}\n",
      "\n",
      "    \n"
     ]
    }
   ],
   "source": [
    "print(root.tag)\n",
    "print(root.attrib)\n",
    "print(root.text)"
   ]
  },
  {
   "cell_type": "code",
   "execution_count": 9,
   "id": "33ff8a26-3788-4ca1-be70-312feee38adb",
   "metadata": {},
   "outputs": [
    {
     "data": {
      "text/plain": [
       "1"
      ]
     },
     "execution_count": 9,
     "metadata": {},
     "output_type": "execute_result"
    }
   ],
   "source": [
    "len(root)"
   ]
  },
  {
   "cell_type": "code",
   "execution_count": 10,
   "id": "818ba785-7ff2-47c3-9a3d-22bbed256255",
   "metadata": {},
   "outputs": [
    {
     "name": "stdout",
     "output_type": "stream",
     "text": [
      "<Element 'channel' at 0x7fddc88804f0>\n"
     ]
    }
   ],
   "source": [
    "for child in root:\n",
    "    print(child)"
   ]
  },
  {
   "cell_type": "code",
   "execution_count": 11,
   "id": "152be988-30bf-4136-944b-b1d8abc41c3d",
   "metadata": {},
   "outputs": [
    {
     "data": {
      "text/plain": [
       "xml.etree.ElementTree.Element"
      ]
     },
     "execution_count": 11,
     "metadata": {},
     "output_type": "execute_result"
    }
   ],
   "source": [
    ">>> firstchild = root[0]\n",
    ">>> type(firstchild)"
   ]
  },
  {
   "cell_type": "code",
   "execution_count": 13,
   "id": "9719acab-a9d3-435b-a845-b012f6194c47",
   "metadata": {},
   "outputs": [
    {
     "name": "stdout",
     "output_type": "stream",
     "text": [
      "channel\n",
      "{}\n",
      "\n",
      "        \n",
      "53\n"
     ]
    }
   ],
   "source": [
    ">>> print(firstchild.tag)\n",
    "\n",
    ">>> print(firstchild.attrib)\n",
    "\n",
    ">>> print(firstchild.text)\n",
    "\n",
    ">>> print(len(firstchild))\n"
   ]
  },
  {
   "cell_type": "code",
   "execution_count": 19,
   "id": "19f674b2-310c-4432-8ebc-59c83c2feb02",
   "metadata": {},
   "outputs": [
    {
     "name": "stdout",
     "output_type": "stream",
     "text": [
      "title\n",
      "{}\n",
      "BBC News - Home\n"
     ]
    }
   ],
   "source": [
    ">>> firstgrandchild = firstchild[0]\n",
    ">>> print(firstgrandchild.tag)\n",
    "print(firstgrandchild.attrib)\n",
    "print(firstgrandchild.text)"
   ]
  },
  {
   "cell_type": "code",
   "execution_count": 20,
   "id": "30702e6e-f890-4b8a-9f57-11a96cadc4a9",
   "metadata": {},
   "outputs": [
    {
     "name": "stdout",
     "output_type": "stream",
     "text": [
      "44\n",
      "{}\n",
      "\n",
      "            \n",
      "5\n",
      "title {} Tory leadership: I'd rather lose doing right thing, says Sunak\n",
      "description {} The former chancellor says he has a \"moral responsibility\" to help the poorest with energy bills.\n",
      "link {} https://www.bbc.co.uk/news/uk-politics-62496858?at_medium=RSS&at_campaign=KARANGA\n",
      "guid {'isPermaLink': 'false'} https://www.bbc.co.uk/news/uk-politics-62496858\n",
      "pubDate {} Wed, 10 Aug 2022 17:17:45 GMT\n"
     ]
    }
   ],
   "source": [
    ">>> itemlist = firstchild.findall('item')\n",
    ">>> print(len(itemlist))\n",
    ">>> firstitem = itemlist[0] \n",
    ">>> print(firstitem.attrib)\n",
    ">>> print(firstitem.text)\n",
    ">>> print(len(firstitem))\n",
    "for element in firstitem:\n",
    "    print(element.tag, element.attrib, element.text)\n"
   ]
  },
  {
   "cell_type": "code",
   "execution_count": 21,
   "id": "d0a36f2e-6326-463c-b9fc-67db0b723cc4",
   "metadata": {},
   "outputs": [
    {
     "data": {
      "text/plain": [
       "<Element 'item' at 0x7fddc07f1c70>"
      ]
     },
     "execution_count": 21,
     "metadata": {},
     "output_type": "execute_result"
    }
   ],
   "source": [
    ">>> firstitem = firstchild.find('item') \n",
    ">>> firstitem"
   ]
  },
  {
   "cell_type": "code",
   "execution_count": 22,
   "id": "d5510db9-6e77-4a6e-9bb2-3e50e81360ff",
   "metadata": {},
   "outputs": [
    {
     "data": {
      "text/plain": [
       "46"
      ]
     },
     "execution_count": 22,
     "metadata": {},
     "output_type": "execute_result"
    }
   ],
   "source": [
    ">>> alltitles = tree.findall('.//title') \n",
    ">>> len(alltitles)"
   ]
  },
  {
   "cell_type": "code",
   "execution_count": 33,
   "id": "92d42bbb-da08-4a72-8bd7-c15fada48985",
   "metadata": {},
   "outputs": [
    {
     "name": "stdout",
     "output_type": "stream",
     "text": [
      "BBC News - Home\n",
      "BBC News - Home\n",
      "Tory leadership: I'd rather lose doing right thing, says Sunak\n",
      "Donald Trump refuses to answer questions in New York investigation\n",
      "Energy bills could go up before October price cap rise\n",
      "One dead, three injured in string of attacks around Skye\n",
      "Homes for Ukraine: Quarter of refugee sponsors do not want to carry on\n",
      "Marcus Mumford reveals he was sexually abused aged six\n",
      "Supermarkets not passing on lower fuel price - RAC\n",
      "Zaporizhzhia: Russia must exit Ukraine nuclear plant, says G7\n"
     ]
    }
   ],
   "source": [
    ">>> for title in alltitles[:10]:\n",
    "    print(title.text)"
   ]
  },
  {
   "cell_type": "code",
   "execution_count": null,
   "id": "aebd798d-9a38-4cc3-84f8-a70281066ac3",
   "metadata": {},
   "outputs": [],
   "source": []
  }
 ],
 "metadata": {
  "kernelspec": {
   "display_name": "Python 3 (ipykernel)",
   "language": "python",
   "name": "python3"
  },
  "language_info": {
   "codemirror_mode": {
    "name": "ipython",
    "version": 3
   },
   "file_extension": ".py",
   "mimetype": "text/x-python",
   "name": "python",
   "nbconvert_exporter": "python",
   "pygments_lexer": "ipython3",
   "version": "3.9.12"
  }
 },
 "nbformat": 4,
 "nbformat_minor": 5
}
