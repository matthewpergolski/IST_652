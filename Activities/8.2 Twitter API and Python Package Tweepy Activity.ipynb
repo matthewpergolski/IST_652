{
 "cells": [
  {
   "cell_type": "code",
   "execution_count": 7,
   "id": "731b3734-d568-4a90-abd6-0bbbc1be1b19",
   "metadata": {},
   "outputs": [
    {
     "data": {
      "text/plain": [
       "'\\n    This main function retrieves documents from a file and writes them to a Mongo database collection,\\n        where each line of the file is a document represented as a json item\\n    It assumes that the Mongo DB server is running.\\n    Command line usage:\\n        python DB_from_file.py <DB name> <collection name> <filepath>\\n    Example:      python DB_from_file.py fbusers cdelta out/fb-delta-feed.txt \\n        (where quotes may not be necessary)\\n'"
      ]
     },
     "execution_count": 7,
     "metadata": {},
     "output_type": "execute_result"
    }
   ],
   "source": [
    "'''\n",
    "    This main function retrieves documents from a file and writes them to a Mongo database collection,\n",
    "        where each line of the file is a document represented as a json item\n",
    "    It assumes that the Mongo DB server is running.\n",
    "    Command line usage:\n",
    "        python DB_from_file.py <DB name> <collection name> <filepath>\n",
    "    Example:      python DB_from_file.py fbusers cdelta out/fb-delta-feed.txt \n",
    "        (where quotes may not be necessary)\n",
    "'''\n",
    "\n",
    "# import json\n",
    "# import sys\n",
    "# from DB_fn import save_to_DB\n",
    "\n",
    "# # use a main so can get command line arguments\n",
    "# if __name__ == '__main__':\n",
    "#     # Make a list of command line arguments, omitting the [0] element\n",
    "#     # which is the script itself.\n",
    "#     args = sys.argv[1:]\n",
    "#     if not args or len(args) < 3:\n",
    "#         print('usage: python DB_from_file.py <DB name> <collection name> <filepath>')\n",
    "#         sys.exit(1)\n",
    "#     DBname = args[0]\n",
    "#     DBcollection = args[1]\n",
    "#     filename = args[2]  \n",
    "    \n",
    "#     # get the data from the file\n",
    "#     fload = open(filename, encoding='utf-8')\n",
    "#     resultString = fload.read()\n",
    "#     # loads converts from a string back to a json structure\n",
    "#     doclist = json.loads(resultString)  \n",
    "#     print (\"Read\", len(doclist), \"from file:\", filename)\n",
    "\n",
    "#     # in case this was saved from a database, we delete the database id key _id, so that DB will assign unique key\n",
    "#     for doc in doclist:\n",
    "#         if '_id' in doc.keys():\n",
    "#             del doc['_id']\n",
    "    \n",
    "#     # use the save and load functions in this program\n",
    "#     save_to_DB(DBname, DBcollection, doclist)\n",
    "\n"
   ]
  },
  {
   "cell_type": "markdown",
   "id": "4bb8b4c6-b3b9-43f0-9ed8-d17ce91daf04",
   "metadata": {},
   "source": [
    "## Terminal commands to get files to read to MONGODB\n",
    "\n",
    "\n",
    "Terminal Text in order to get the files to read to mongodb:\n",
    "\n",
    "Last login: Thu Aug 18 19:30:33 on ttys001\n",
    "(base) pergolicious@pergolicious ~ % cd /Users/pergolicious/Downloads/         \n",
    "(base) pergolicious@pergolicious Downloads % python DB_from_file.py bball bbcoll bball_mm2.txt\n",
    "Traceback (most recent call last):\n",
    "  File \"/Users/pergolicious/Downloads/DB_from_file.py\", line 13, in <module>\n",
    "    from DB_fn import save_to_DB\n",
    "ModuleNotFoundError: No module named 'DB_fn'\n",
    "(base) pergolicious@pergolicious Downloads % python db_from_file.py bball bbcoll bball_mm2.txt\n",
    "Read 2000 from file: bball_mm2.txt\n",
    "Saved 2000 documents to DB collection bball bbcoll\n",
    "(base) pergolicious@pergolicious Downloads % "
   ]
  },
  {
   "cell_type": "code",
   "execution_count": 2,
   "id": "f3171e8f-5c79-4e39-b543-851958cf295b",
   "metadata": {},
   "outputs": [],
   "source": [
    "import pymongo\n",
    "\n",
    "client = pymongo.MongoClient('localhost',27017) \n",
    "\n",
    "#list the databases defined \n",
    "client.list_database_names()\n",
    "db = client.bball\n",
    "db.list_collection_names()\n",
    "coll=db.bbcoll\n",
    "docs = coll.find()"
   ]
  },
  {
   "cell_type": "code",
   "execution_count": 3,
   "id": "864d2fe1-bde7-4bb8-a692-85c95bab10ec",
   "metadata": {},
   "outputs": [
    {
     "data": {
      "text/plain": [
       "2000"
      ]
     },
     "execution_count": 3,
     "metadata": {},
     "output_type": "execute_result"
    }
   ],
   "source": [
    "#convert the document cursor to a list of documents \n",
    ">>> doclist = [tweet for tweet in docs] \n",
    ">>> len(doclist)\n",
    "\n",
    "\n"
   ]
  },
  {
   "cell_type": "code",
   "execution_count": 4,
   "id": "e1041cf3-b366-4ddc-a276-9716a1fd79e9",
   "metadata": {},
   "outputs": [
    {
     "name": "stdout",
     "output_type": "stream",
     "text": [
      "[{'_id': ObjectId('62fedc9ce4e1ed9e84615062'), 'user': {'profile_background_tile': True, 'friends_count': 217, 'profile_sidebar_fill_color': 'EFEFEF', 'id_str': '513196438', 'is_translation_enabled': False, 'profile_link_color': 'F70808', 'followers_count': 256, 'location': '', 'protected': False, 'default_profile_image': False, 'contributors_enabled': False, 'favourites_count': 2187, 'profile_background_color': 'BFD0D9', 'statuses_count': 1104, 'id': 513196438, 'profile_banner_url': 'https://pbs.twimg.com/profile_banners/513196438/1437359097', 'created_at': 'Sat Mar 03 13:54:37 +0000 2012', 'profile_image_url_https': 'https://pbs.twimg.com/profile_images/732514428051181568/OkOVa8Ia_normal.jpg', 'time_zone': 'Eastern Time (US & Canada)', 'follow_request_sent': None, 'listed_count': 1, 'utc_offset': -14400, 'lang': 'en', 'is_translator': False, 'name': 'Will', 'description': \"Do not worry about tomorrow, for tomorrow will worry about itself.-Matthew 6:34 HSC'20\", 'profile_use_background_image': True, 'verified': False, 'geo_enabled': True, 'profile_text_color': '333333', 'profile_image_url': 'http://pbs.twimg.com/profile_images/732514428051181568/OkOVa8Ia_normal.jpg', 'entities': {'description': {'urls': []}}, 'notifications': None, 'url': None, 'translator_type': 'none', 'has_extended_profile': True, 'default_profile': False, 'screen_name': 'frenchythe1st', 'following': None, 'profile_background_image_url': 'http://pbs.twimg.com/profile_background_images/850934042/26e0a43c1f821ac098571fb3de80944c.jpeg', 'profile_sidebar_border_color': 'FFFFFF', 'profile_background_image_url_https': 'https://pbs.twimg.com/profile_background_images/850934042/26e0a43c1f821ac098571fb3de80944c.jpeg'}, 'metadata': {'iso_language_code': 'en', 'result_type': 'recent'}, 'favorited': False, 'in_reply_to_user_id': None, 'text': 'RT @HowardWKYT: The final seconds of the Kentucky-North Carolina game was an emotional roller coaster for Big Blue fans. #marchmadness #WKY…', 'retweet_count': 9739, 'id': 846489633387089920, 'in_reply_to_screen_name': None, 'created_at': 'Mon Mar 27 22:30:30 +0000 2017', 'is_quote_status': False, 'retweeted_status': {'user': {'profile_background_tile': False, 'friends_count': 573, 'profile_sidebar_fill_color': 'C0DFEC', 'id_str': '27059989', 'is_translation_enabled': False, 'profile_link_color': '0084B4', 'followers_count': 3330, 'location': 'Lexington, KY', 'protected': False, 'default_profile_image': False, 'contributors_enabled': False, 'favourites_count': 1231, 'profile_background_color': '000000', 'statuses_count': 9463, 'id': 27059989, 'profile_banner_url': 'https://pbs.twimg.com/profile_banners/27059989/1431999643', 'created_at': 'Fri Mar 27 18:09:16 +0000 2009', 'profile_image_url_https': 'https://pbs.twimg.com/profile_images/575376840304386049/atONJG3G_normal.jpeg', 'time_zone': 'Eastern Time (US & Canada)', 'follow_request_sent': None, 'listed_count': 77, 'utc_offset': -14400, 'lang': 'en', 'is_translator': False, 'name': 'Lee K. Howard', 'description': 'Sports Anchor/Reporter for CBS/FOX in Lexington Kentucky, providing sports news and my random rants and chants!', 'profile_use_background_image': True, 'verified': True, 'geo_enabled': True, 'profile_text_color': '333333', 'profile_image_url': 'http://pbs.twimg.com/profile_images/575376840304386049/atONJG3G_normal.jpeg', 'entities': {'description': {'urls': []}, 'url': {'urls': [{'expanded_url': 'http://www.facebook.com/profile.php?id=100003241678454', 'display_url': 'facebook.com/profile.php?id…', 'indices': [0, 22], 'url': 'http://t.co/C2UFfLkjB1'}]}}, 'notifications': None, 'url': 'http://t.co/C2UFfLkjB1', 'translator_type': 'none', 'has_extended_profile': False, 'default_profile': False, 'screen_name': 'HowardWKYT', 'following': None, 'profile_background_image_url': 'http://pbs.twimg.com/profile_background_images/596008542/6qfqqg0jndpp3su53ay5.jpeg', 'profile_sidebar_border_color': 'A8C7F7', 'profile_background_image_url_https': 'https://pbs.twimg.com/profile_background_images/596008542/6qfqqg0jndpp3su53ay5.jpeg'}, 'metadata': {'iso_language_code': 'en', 'result_type': 'recent'}, 'favorited': False, 'in_reply_to_user_id': None, 'text': 'The final seconds of the Kentucky-North Carolina game was an emotional roller coaster for Big Blue fans.… https://t.co/TPZ6PuXHxH', 'possibly_sensitive': False, 'retweet_count': 9739, 'id': 846214230026178564, 'in_reply_to_screen_name': None, 'created_at': 'Mon Mar 27 04:16:08 +0000 2017', 'is_quote_status': False, 'favorite_count': 12590, 'contributors': None, 'lang': 'en', 'in_reply_to_status_id_str': None, 'source': '<a href=\"http://twitter.com\" rel=\"nofollow\">Twitter Web Client</a>', 'in_reply_to_status_id': None, 'place': {'country': 'United States', 'contained_within': [], 'id': '6ffcf3b0b904bbcb', 'country_code': 'US', 'bounding_box': {'type': 'Polygon', 'coordinates': [[[-89.57151, 36.497129], [-81.964971, 36.497129], [-81.964971, 39.147359], [-89.57151, 39.147359]]]}, 'place_type': 'admin', 'full_name': 'Kentucky, USA', 'url': 'https://api.twitter.com/1.1/geo/id/6ffcf3b0b904bbcb.json', 'name': 'Kentucky', 'attributes': {}}, 'entities': {'hashtags': [], 'urls': [{'expanded_url': 'https://twitter.com/i/web/status/846214230026178564', 'display_url': 'twitter.com/i/web/status/8…', 'indices': [106, 129], 'url': 'https://t.co/TPZ6PuXHxH'}], 'symbols': [], 'user_mentions': []}, 'geo': None, 'truncated': True, 'coordinates': None, 'in_reply_to_user_id_str': None, 'retweeted': False, 'id_str': '846214230026178564'}, 'favorite_count': 0, 'contributors': None, 'lang': 'en', 'in_reply_to_status_id_str': None, 'source': '<a href=\"http://twitter.com/download/iphone\" rel=\"nofollow\">Twitter for iPhone</a>', 'in_reply_to_status_id': None, 'place': None, 'entities': {'hashtags': [{'indices': [121, 134], 'text': 'marchmadness'}], 'urls': [], 'symbols': [], 'user_mentions': [{'indices': [3, 14], 'name': 'Lee K. Howard', 'id': 27059989, 'id_str': '27059989', 'screen_name': 'HowardWKYT'}]}, 'geo': None, 'truncated': False, 'coordinates': None, 'in_reply_to_user_id_str': None, 'retweeted': False, 'id_str': '846489633387089920'}]\n"
     ]
    }
   ],
   "source": [
    "# show difference from print \n",
    "print(doclist[:1])\n",
    "# Look through this to point out field names"
   ]
  },
  {
   "cell_type": "code",
   "execution_count": 5,
   "id": "8a625915-29ca-4813-a262-4c5fc9287701",
   "metadata": {},
   "outputs": [],
   "source": [
    "def print_tweet_data(tweets):\n",
    "    for tweet in tweets:\n",
    "        print('\\nDate:', tweet['created_at'])\n",
    "        print('From:', tweet['user']['name'])\n",
    "        print('Message', tweet['text'])"
   ]
  },
  {
   "cell_type": "code",
   "execution_count": 6,
   "id": "18a03849-2c92-4853-90a2-95e6f2ebea5f",
   "metadata": {},
   "outputs": [
    {
     "name": "stdout",
     "output_type": "stream",
     "text": [
      "\n",
      "Date: Mon Mar 27 22:30:30 +0000 2017\n",
      "From: Will\n",
      "Message RT @HowardWKYT: The final seconds of the Kentucky-North Carolina game was an emotional roller coaster for Big Blue fans. #marchmadness #WKY…\n",
      "\n",
      "Date: Mon Mar 27 22:30:22 +0000 2017\n",
      "From: Kahlen Donatell\n",
      "Message RT @WhistleSports: When you perfectly time the #UNC buzzer beater 😱🏀 #MarchMadness\n",
      "\n",
      "(via:@SamuelGrubbs1 ) https://t.co/Ol2ibpZjB4\n",
      "\n",
      "Date: Mon Mar 27 22:30:21 +0000 2017\n",
      "From: Jesús\n",
      "Message RT @HowardWKYT: The final seconds of the Kentucky-North Carolina game was an emotional roller coaster for Big Blue fans. #marchmadness #WKY…\n",
      "\n",
      "Date: Mon Mar 27 22:30:14 +0000 2017\n",
      "From: plug,\n",
      "Message RT @BleacherReport: And then there were four... #MarchMadness https://t.co/0MbxpgAuUC\n",
      "\n",
      "Date: Mon Mar 27 22:30:11 +0000 2017\n",
      "From: Joni Dickerson\n",
      "Message RT @mycarolinastdnt: RT if you'll be cheering on @GamecockWBB and @dawnstaley tonight. Let's Go Gamecocks! #MarchMadness\n"
     ]
    }
   ],
   "source": [
    "print_tweet_data(doclist[:5])"
   ]
  },
  {
   "cell_type": "markdown",
   "id": "c7725ce6-4429-4abe-95d4-4dfdf1fd56c0",
   "metadata": {},
   "source": [
    "Terminal Text in order to get the files to read to mongodb:\n",
    "\n",
    "Last login: Thu Aug 18 19:30:33 on ttys001\n",
    "(base) pergolicious@pergolicious ~ % cd /Users/pergolicious/Downloads/         \n",
    "(base) pergolicious@pergolicious Downloads % python DB_from_file.py bball bbcoll bball_mm2.txt\n",
    "Traceback (most recent call last):\n",
    "  File \"/Users/pergolicious/Downloads/DB_from_file.py\", line 13, in <module>\n",
    "    from DB_fn import save_to_DB\n",
    "ModuleNotFoundError: No module named 'DB_fn'\n",
    "(base) pergolicious@pergolicious Downloads % python db_from_file.py bball bbcoll bball_mm2.txt\n",
    "Read 2000 from file: bball_mm2.txt\n",
    "Saved 2000 documents to DB collection bball bbcoll\n",
    "(base) pergolicious@pergolicious Downloads % "
   ]
  },
  {
   "cell_type": "code",
   "execution_count": null,
   "id": "e745088f-eb47-47eb-884f-6a1efd511af4",
   "metadata": {},
   "outputs": [],
   "source": [
    "# Change directory in terminal to where the files are downloaded:\n",
    "\n",
    "    # cd /Users/pergolicious/Downloads/  \n",
    "\n",
    "# Insert the following line (may have to change names of files to ensure they match code):\n",
    "    # python db_from_file.py bball bbcoll bball_mm2.txt\n",
    "    \n"
   ]
  },
  {
   "cell_type": "code",
   "execution_count": 8,
   "id": "f674aa6e-d76b-4467-bbff-ef5f634aaecb",
   "metadata": {},
   "outputs": [
    {
     "name": "stdout",
     "output_type": "stream",
     "text": [
      "frenchythe1st\n",
      "KahDon\n",
      "_jonwilliams\n",
      "21shawtyy\n",
      "jonidickerson\n"
     ]
    }
   ],
   "source": [
    "for tweet in doclist[:5]:\n",
    "    print(tweet['user']['screen_name'])"
   ]
  },
  {
   "cell_type": "code",
   "execution_count": 9,
   "id": "204666e6-d70d-46fe-ab15-9fdc8cb0e5f2",
   "metadata": {},
   "outputs": [],
   "source": [
    "# solution from class avtivity:"
   ]
  },
  {
   "cell_type": "markdown",
   "id": "48a1e4aa-2db8-4106-8b5b-1493c8afb2ce",
   "metadata": {},
   "source": [
    "Reading Tweets Activity Solution\n",
    "Possible responses to the activity\n",
    ">>> import pymongo\n",
    ">>> client = pymongo.MongoClient('localhost',27017) >>> client.database_names()\n",
    "['admin', 'bball', 'fbusers', 'lax', 'local', 'peopledb', 'usgs'] >>> db = client.bball\n",
    ">>> db.collection_names()\n",
    "['bbcoll']\n",
    ">>> coll = db.bbcoll\n",
    ">>> docs = coll.find()\n",
    ">>> doclist = [tweet for tweet in docs]\n",
    ">>> len(doclist)\n",
    "2000\n",
    ">>> print(doclist[:1])\n",
    "[{'id': 846489633387089920, 'user': {'contributors_enabled': False, 'protected': False, 'profile_background_color': 'BFD0D9', 'geo_enabled': True, 'profile_sidebar_fill_color': 'EFEFEF', 'profile_image_url_https': 'https://pbs.twimg.com/profile_images/732514428051181568/OkOVa8Ia_normal.jpg', 'profile_banner_url': 'https://pbs.twimg.com/profile_banners/513196438/1437359097', 'lang': 'en', 'url': None, 'following': None, 'followers_count': 256, 'id': 513196438, 'has_extended_profile': True, 'location': '', 'profile_sidebar_border_color': 'FFFFFF', 'friends_count': 217, 'listed_count': 1, 'profile_background_image_url': 'http://pbs.twimg.com/profile_background_images/850934042/26e0a43c1f821ac098571fb3de80944c.j peg', 'is_translation_enabled': False, 'profile_background_image_url_https': 'https://pbs.twimg.com/profile_background_images/850934042/26e0a43c1f821ac098571fb3de80944c. jpeg', 'favourites_count': 2187, 'name': 'Will', 'entities': {'description': {'urls': []}}, 'profile_link_color': 'F70808', 'profile_text_color': '333333', 'default_profile_image': False, 'screen_name': 'frenchythe1st', 'translator_type': 'none', 'created_at': 'Sat Mar 03 13:54:37 +0000 2012', 'profile_image_url': 'http://pbs.twimg.com/profile_images/732514428051181568/OkOVa8Ia_normal.jpg', 'profile_use_background_image': True, 'statuses_count': 1104, 'description': \"Do not worry about tomorrow, for tomorrow will worry about itself.-Matthew 6:34 HSC'20\", 'profile_background_tile': True, 'is_translator': False, 'default_profile': False, 'verified': False, 'time_zone': 'Eastern Time (US & Canada)', 'follow_request_sent': None, 'id_str': '513196438', 'utc_offset': -14400, 'notifications': None},\n",
    "'coordinates': None, 'in_reply_to_status_id_str': None, 'retweeted_status': {'id': 846214230026178564, 'user': {'contributors_enabled': False, 'protected': False, 'profile_background_color': '000000', 'geo_enabled': True, 'profile_sidebar_fill_color': 'C0DFEC', 'profile_image_url_https': 'https://pbs.twimg.com/profile_images/575376840304386049/atONJG3G_normal.jpeg', 'profile_banner_url': 'https://pbs.twimg.com/profile_banners/27059989/1431999643', 'lang': 'en', 'url': 'http://t.co/C2UFfLkjB1', 'following': None, 'followers_count': 3330, 'id': 27059989, 'has_extended_profile': False, 'location': 'Lexington, KY', 'profile_sidebar_border_color': 'A8C7F7', 'friends_count': 573, 'listed_count': 77, 'profile_background_image_url': 'http://pbs.twimg.com/profile_background_images/596008542/6qfqqg0jndpp3su53ay5.jpeg', 'is_translation_enabled': False, 'profile_background_image_url_https': 'https://pbs.twimg.com/profile_background_images/596008542/6qfqqg0jndpp3su53ay5.jpeg', 'favourites_count': 1231, 'name': 'Lee K. Howard', 'entities': {'description': {'urls': []}, 'url': {'urls': [{'display_url': 'facebook.com/profile.php?id...', 'expanded_url': 'http://www.facebook.com/profile.php?id=100003241678454', 'indices': [0, 22], 'url': 'http://t.co/C2UFfLkjB1'}]}}, 'profile_link_color': '0084B4', 'profile_text_color': '333333', 'default_profile_image': False, 'screen_name': 'HowardWKYT', 'translator_type': 'none', 'created_at': 'Fri Mar 27 18:09:16 +0000 2009', 'profile_image_url': 'http://pbs.twimg.com/profile_images/575376840304386049/atONJG3G_normal.jpeg', 'profile_use_background_image': True, 'statuses_count': 9463, 'description': 'Sports Anchor/Reporter for CBS/FOX in Lexington Kentucky, providing sports news and my random rants and chants!', 'profile_background_tile': False, 'is_translator': False, 'default_profile': False, 'verified': True, 'time_zone': 'Eastern Time (US & Canada)', 'follow_request_sent': None, 'id_str': '27059989', 'utc_offset': -14400, 'notifications': None}, 'coordinates': None, 'in_reply_to_status_id_str': None, 'metadata': {'iso_language_code': 'en', 'result_type': 'recent'}, 'in_reply_to_user_id': None, 'lang': 'en', 'favorite_count': 12590, 'is_quote_status': False, 'geo': None, 'possibly_sensitive': False, 'in_reply_to_status_id': None, 'favorited': False, 'in_reply_to_screen_name': None, 'created_at': 'Mon Mar 27 04:16:08 +0000 2017', 'in_reply_to_user_id_str': None, 'entities': {'hashtags': [], 'urls': [{'display_url': 'twitter.com/i/web/status/8...', 'expanded_url': 'https://twitter.com/i/web/status/846214230026178564', 'indices': [106, 129], 'url': 'https://t.co/TPZ6PuXHxH'}], 'user_mentions': [], 'symbols': []}, 'truncated': True, 'source': '<a href=\"http://twitter.com\" rel=\"nofollow\">Twitter Web Client</a>', 'retweet_count': 9739, 'contributors': None, 'place': {'contained_within': [], 'country_code': 'US', 'id': '6ffcf3b0b904bbcb', 'country': 'United States', 'full_name': 'Kentucky, USA', 'url': 'https://api.twitter.com/1.1/geo/id/6ffcf3b0b904bbcb.json', 'place_type': 'admin', 'attributes': {}, 'name': 'Kentucky', 'bounding_box': {'type': 'Polygon', 'coordinates': [[[-89.57151, 36.497129], [- 81.964971, 36.497129], [-81.964971, 39.147359], [-89.57151, 39.147359]]]}}, 'retweeted': False, 'text': 'The final seconds of the Kentucky-North Carolina game was an emotional roller coaster for Big Blue fans.... https://t.co/TPZ6PuXHxH', 'id_str': '846214230026178564'}, 'metadata': {'iso_language_code': 'en', 'result_type': 'recent'}, 'in_reply_to_user_id': None, 'lang': 'en', 'favorite_count': 0, '_id': ObjectId('5aca8b348f5b161128bf4496'), 'is_quote_status': False, 'geo': None, 'in_reply_to_status_id': None, 'favorited': False, 'in_reply_to_screen_name': None, 'created_at': 'Mon Mar 27 22:30:30 +0000 2017', 'in_reply_to_user_id_str': None, 'entities': {'hashtags': [{'text': 'marchmadness', 'indices': [121, 134]}], 'urls': [], 'user_mentions': [{'id': 27059989, 'id_str': '27059989', 'indices': [3, 14], 'screen_name': 'HowardWKYT', 'name': 'Lee K. Howard'}], 'symbols': []}, 'truncated': False, 'contributors': None,\n",
    "\n",
    "'retweet_count': 9739, 'place': None, 'retweeted': False, 'text': 'RT @HowardWKYT: The final seconds of the Kentucky-North Carolina game was an emotional roller coaster for Big Blue fans. #marchmadness #WKY...', 'id_str': '846489633387089920', 'source': '<a href=\"http://twitter.com/download/iphone\" rel=\"nofollow\">Twitter for iPhone</a>'}]\n",
    ">>> def print_tweet_data(tweets):\n",
    "...\n",
    "...\n",
    "...\n",
    "...\n",
    "...\n",
    ">>> print_tweet_data(doclist[:1])\n",
    "for tweet in tweets:\n",
    "print('\\nDate: ',tweet['created_at']) print('From: ',tweet['user']['name']) print('Message: ',tweet['text'])\n",
    "Date: Mon Mar 27 22:30:30 +0000 2017 From: Will\n",
    "Message: RT @HowardWKYT: The final seconds of the Kentucky-North Carolina game was an emotional roller coaster for Big Blue fans. #marchmadness #WKY...\n",
    ">>> for tweet in doclist[:5]:\n",
    "... print(tweet['user']['screen_name']) ...\n",
    "frenchythe1st\n",
    "KahDon\n",
    "_jonwilliams\n",
    "21shawtyy\n",
    "jonidickerson"
   ]
  },
  {
   "cell_type": "code",
   "execution_count": null,
   "id": "7de8c4de-0d41-46ea-adc4-56943caea888",
   "metadata": {},
   "outputs": [],
   "source": []
  }
 ],
 "metadata": {
  "kernelspec": {
   "display_name": "Python 3 (ipykernel)",
   "language": "python",
   "name": "python3"
  },
  "language_info": {
   "codemirror_mode": {
    "name": "ipython",
    "version": 3
   },
   "file_extension": ".py",
   "mimetype": "text/x-python",
   "name": "python",
   "nbconvert_exporter": "python",
   "pygments_lexer": "ipython3",
   "version": "3.9.12"
  }
 },
 "nbformat": 4,
 "nbformat_minor": 5
}
