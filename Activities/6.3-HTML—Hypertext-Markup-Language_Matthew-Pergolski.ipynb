{
 "cells": [
  {
   "cell_type": "markdown",
   "id": "d45a7cb4-38f0-428e-a6d8-d0305c950aac",
   "metadata": {},
   "source": [
    "# 6.3 HTML—Hypertext Markup Language"
   ]
  },
  {
   "cell_type": "markdown",
   "id": "9dc57048-691a-449c-a00a-37e2f4404acc",
   "metadata": {},
   "source": [
    "6.3-HTML—Hypertext-Markup-Language_Matthew-Pergolski"
   ]
  },
  {
   "cell_type": "code",
   "execution_count": 4,
   "id": "490d5a38-b631-4207-83d5-3055120f2bd4",
   "metadata": {},
   "outputs": [],
   "source": [
    "from urllib import request"
   ]
  },
  {
   "cell_type": "code",
   "execution_count": 5,
   "id": "af50511f-5b96-4017-b8be-58c420ebffad",
   "metadata": {},
   "outputs": [],
   "source": [
    "ILoveTesla = \"https://www.tesla.com\""
   ]
  },
  {
   "cell_type": "code",
   "execution_count": 29,
   "id": "06d49dad-f226-4c6e-b817-9aa4df8548bf",
   "metadata": {},
   "outputs": [
    {
     "name": "stdout",
     "output_type": "stream",
     "text": [
      "\n",
      "<!DOCTYPE\n"
     ]
    }
   ],
   "source": [
    "html = request.urlopen(ILoveTesla).read().decode('utf8')\n",
    "\n",
    "response = request.urlopen(ILoveTesla)\n",
    "type(response)\n",
    "\n",
    "# If we just read the response, we get a sequence of bytes, so instead we decode it to convert it to a Python string.\n",
    "html = response.read().decode('utf8')\n",
    "type(html)\n",
    "\n",
    "print(html[:10])\n"
   ]
  },
  {
   "cell_type": "code",
   "execution_count": null,
   "id": "a4fdfbd6-2812-4753-a188-285f1f8a5f18",
   "metadata": {},
   "outputs": [],
   "source": []
  },
  {
   "cell_type": "code",
   "execution_count": 30,
   "id": "476b2a3d-a5c0-425b-89f3-731479b40572",
   "metadata": {},
   "outputs": [
    {
     "name": "stdout",
     "output_type": "stream",
     "text": [
      "[<a class=\"tds-link\" href=\"/impact\">Read Tesla's 2021 Impact Report</a>, <a class=\"tds-link\" href=\"https://www.tesla.com//support/browser-support\">Learn More</a>, <a id=\"main-content\" tabindex=\"-1\"></a>, <a class=\"tds-link\" data-tesla_locale_processed=\"1\" href=\"/support/taking-delivery?redirect=no\">Touchless Delivery</a>, <a class=\"tds-link\" data-tesla_locale_processed=\"1\" href=\"/support/taking-delivery?redirect=no\">Touchless Delivery</a>, <a class=\"tds-btn tcl-button tds-btn--primary tcl-button--primary\" data-button-text-desktop=\"Custom Order\" data-button-text-mobile=\"Custom Order\" data-gtm-drawer=\"model3\" data-gtm-event=\"drawer-interaction\" data-gtm-interaction=\"custom-order\" data-mask=\"80\" href=\"/model3/design\" title=\"Custom Order\">\n",
      "<span>Custom Order</span>\n",
      "</a>, <a class=\"tds-btn tcl-button tds-btn--tertiary tcl-button--tertiary\" data-button-text-desktop=\"Existing Inventory\" data-button-text-mobile=\"Existing Inventory\" data-gtm-drawer=\"model3\" data-gtm-event=\"drawer-interaction\" data-gtm-interaction=\"existing-inventory\" data-mask=\"65\" href=\"/inventory/new/m3\" title=\"Existing Inventory\">\n",
      "<span>Existing Inventory</span>\n",
      "</a>, <a class=\"tds-btn tcl-button tds-btn--primary tcl-button--primary\" data-button-text-desktop=\"Custom Order\" data-button-text-mobile=\"Custom Order\" data-gtm-drawer=\"model3\" data-gtm-event=\"drawer-interaction\" data-gtm-interaction=\"custom-order\" data-mask=\"80\" href=\"/model3/design\" title=\"Custom Order\">\n",
      "<span>Custom Order</span>\n",
      "</a>]\n",
      "['/impact', 'https://www.tesla.com//support/browser-support', 'None', '/support/taking-delivery?redirect=no']\n",
      "['https://www.tesla.com//support/browser-support']\n"
     ]
    }
   ],
   "source": [
    "from bs4 import BeautifulSoup\n",
    "\n",
    "htmlsoup = BeautifulSoup(html, 'html.parser')\n",
    "type(htmlsoup)\n",
    "firsttitle = htmlsoup.title\n",
    "firsttitle\n",
    "type(firsttitle)\n",
    "firsttitle.name\n",
    "firsttitle.get_text()\n",
    "anchors = htmlsoup.find_all('a')\n",
    "type(anchors)\n",
    "len(anchors)\n",
    "print(anchors[:8])\n",
    "links = [str(link.get('href')) for link in htmlsoup.find_all('a')]\n",
    "print(links[ :4])\n",
    "outlinks = [link for link in links if link.startswith('http')]\n",
    "len(outlinks)\n",
    "print(outlinks[:4])"
   ]
  },
  {
   "cell_type": "code",
   "execution_count": null,
   "id": "41f14263-b8c8-4848-b8af-57d6958e72cc",
   "metadata": {},
   "outputs": [],
   "source": []
  },
  {
   "cell_type": "code",
   "execution_count": 28,
   "id": "eba2e3a5-3bf2-4788-a4e2-4fbdbb41855a",
   "metadata": {},
   "outputs": [
    {
     "name": "stdout",
     "output_type": "stream",
     "text": [
      "<class 'http.client.HTTPResponse'>\n",
      "###########################################################################\n",
      "['__abstractmethods__', '__class__', '__del__', '__delattr__', '__dict__', '__dir__', '__doc__', '__enter__', '__eq__', '__exit__', '__format__', '__ge__', '__getattribute__', '__gt__', '__hash__', '__init__', '__init_subclass__', '__iter__', '__le__', '__lt__', '__module__', '__ne__', '__new__', '__next__', '__reduce__', '__reduce_ex__', '__repr__', '__setattr__', '__sizeof__', '__str__', '__subclasshook__', '_abc_impl', '_checkClosed', '_checkReadable', '_checkSeekable', '_checkWritable', '_check_close', '_close_conn', '_get_chunk_left', '_method', '_peek_chunked', '_read1_chunked', '_read_and_discard_trailer', '_read_next_chunk_size', '_read_status', '_readall_chunked', '_readinto_chunked', '_safe_read', '_safe_readinto', 'begin', 'chunk_left', 'chunked', 'close', 'closed', 'code', 'debuglevel', 'detach', 'fileno', 'flush', 'fp', 'getcode', 'getheader', 'getheaders', 'geturl', 'headers', 'info', 'isatty', 'isclosed', 'length', 'msg', 'peek', 'read', 'read1', 'readable', 'readinto', 'readinto1', 'readline', 'readlines', 'reason', 'seek', 'seekable', 'status', 'tell', 'truncate', 'url', 'version', 'will_close', 'writable', 'write', 'writelines']\n",
      "###########################################################################\n",
      "200\n",
      "###########################################################################\n",
      "283437\n",
      "###########################################################################\n",
      "b'\\n<!DOCTYPE html>\\n<html lang=\"en\" dir=\"ltr\" prefix=\"content: http://purl.org/rss/1.0/modules/content/  dc: http://purl.org/dc/terms/  foaf: http://xmlns.com/foaf/0.1/  og: http://ogp.me/ns#  rdfs: http://www.w3.org/2000/01/rdf-schema#  schema: http://schema.org/  sioc: http://rdfs.org/sioc/ns#  sioct: http://rdfs.org/sioc/types#  skos: http://www.w3.org/2004/02/skos/core#  xsd: http://www.w3.org/2001/XMLSchema# \">\\n  <head>\\n          <!-- Optimize anti-flicker code https://developers.google.com/optimize -->\\n      <style>.async-hide { opacity: 0 !important} </style>\\n      <script>(function(a,s,y,n,c,h,i,d,e){s.className+=\\' \\'+y;h.start=1*new Date;\\n          h.end=i=function(){s.className=s.className.replace(RegExp(\\' ?\\'+y),\\'\\')};\\n          (a[n]=a[n]||[]).hide=h;setTimeout(function(){i();h.end=null},c);h.timeout=c;\\n        })(window,document.documentElement,\\'async-hide\\',\\'dataLayer\\',4000,\\n          {\\'GTM-KMG5DM\\':true});</script>\\n      <!-- (end code) -->\\n\\n          \\n    \\n    <meta charset=\"utf-8\" />\\n<link rel=\"canonical\" href=\"https://www.tesla.com/\" />\\n<link rel=\"shortlink\" href=\"https://www.tesla.com/\" />\\n<link rel=\"image_src\" href=\"https://tesla-cdn.thron.com/delivery/public/image/tesla/6139697c-9d6a-4579-837e-a9fc5df4a773/bvlatuR/std/1200x628/Model-3-Homepage-Social-LHD\" />\\n<meta name=\"description\" content=\"Tesla is accelerating the world&#039;s transition to sustainable energy with electric cars, solar and integrated renewable energy solutions for homes and businesses.\" />\\n<meta name=\"keywords\" content=\"Tesla, Electric Vehicles, EV, Electric Cars, Elon Musk, Sustainable Energy, Autopilot, Supercharger, Model S, Model X, Model 3, Model Y, Roadster, Energy, Powerwall, Powerpack, Megapack, Battery Storage, Solar Panels, Solar Roof\" />\\n<meta property=\"image:alt_text\" content=\"Red Model 3\" />\\n<meta property=\"og:site_name\" content=\"Tesla\" />\\n<meta property=\"og:type\" content=\"website\" />\\n<meta property=\"og:url\" content=\"https://www.tesla.com/\" />\\n<meta property=\"og:title\" content=\"Electric Cars, Solar &amp; Clean Energy | Tesla\" />\\n<meta property=\"og:description\" content=\"Tesla is accelerating the world&#039;s transition to sustainable energy with electric cars, solar and integrated renewable energy solutions for homes and businesses.\" />\\n<meta property=\"og:image\" content=\"https://tesla-cdn.thron.com/delivery/public/image/tesla/6139697c-9d6a-4579-837e-a9fc5df4a773/bvlatuR/std/1200x628/Model-3-Homepage-Social-LHD\" />\\n<meta property=\"og:image:url\" content=\"https://tesla-cdn.thron.com/delivery/public/image/tesla/6139697c-9d6a-4579-837e-a9fc5df4a773/bvlatuR/std/1200x628/Model-3-Homepage-Social-LHD\" />\\n<meta property=\"og:image:secure_url\" content=\"https://tesla-cdn.thron.com/delivery/public/image/tesla/6139697c-9d6a-4579-837e-a9fc5df4a773/bvlatuR/std/1200x628/Model-3-Homepage-Social-LHD\" />\\n<meta name=\"twitter:card\" content=\"summary_large_image\" />\\n<meta name=\"twitter:site\" content=\"@tesla\" />\\n<meta name=\"twitter:description\" content=\"Tesla is accelerating the world&#039;s transition to sustainable energy with electric cars, solar and integrated renewable energy solutions for homes and businesses.\" />\\n<meta name=\"twitter:title\" content=\"Electric Cars, Solar &amp; Clean Energy | Tesla\" />\\n<meta name=\"twitter:creator\" content=\"@tesla\" />\\n<meta name=\"twitter:url\" content=\"https://www.tesla.com/\" />\\n<meta name=\"twitter:image\" content=\"https://tesla-cdn.thron.com/delivery/public/image/tesla/6139697c-9d6a-4579-837e-a9fc5df4a773/bvlatuR/std/1200x628/Model-3-Homepage-Social-LHD\" />\\n<meta name=\"Generator\" content=\"Drupal 9 (https://www.drupal.org)\" />\\n<meta name=\"MobileOptimized\" content=\"width\" />\\n<meta name=\"HandheldFriendly\" content=\"true\" />\\n<link rel=\"alternate\" hreflang=\"x-default\" href=\"/\" />\\n<link rel=\"alternate\" hreflang=\"en-au\" href=\"/en_au\" />\\n<link rel=\"alternate\" hreflang=\"de-at\" href=\"/de_at\" />\\n<link rel=\"alternate\" hreflang=\"nl-be\" href=\"/nl_be\" />\\n<link rel=\"alternate\" hreflang=\"fr-be\" href=\"/fr_be\" />\\n<link rel=\"alternate\" hreflang=\"en-ca\" href=\"/en_ca\" />\\n<link rel=\"alternate\" hreflang=\"fr-ca\" href=\"/fr_ca\" />\\n<link rel=\"alternate\" hreflang=\"zh-cn\" href=\"https://www.tesla.cn/\" />\\n<link rel=\"alternate\" hreflang=\"cs-cz\" href=\"/cs_cz\" />\\n<link rel=\"alternate\" hreflang=\"da-dk\" href=\"/da_dk\" />\\n<link rel=\"alternate\" hreflang=\"en\" href=\"/\" />\\n<link rel=\"alternate\" hreflang=\"fi-fi\" href=\"/fi_fi\" />\\n<link rel=\"alternate\" hreflang=\"fr-fr\" href=\"/fr_fr\" />\\n<link rel=\"alternate\" hreflang=\"de-de\" href=\"/de_de\" />\\n<link rel=\"alternate\" hreflang=\"el-gr\" href=\"/el_gr\" />\\n<link rel=\"alternate\" hreflang=\"zh-hk\" href=\"/zh_hk\" />\\n<link rel=\"alternate\" hreflang=\"en-hk\" href=\"/en_hk\" />\\n<link rel=\"alternate\" hreflang=\"hu-hu\" href=\"/hu_hu\" />\\n<link rel=\"alternate\" hreflang=\"is-is\" href=\"/is_is\" />\\n<link rel=\"alternate\" hreflang=\"en-in\" href=\"/en_in\" />\\n<link rel=\"alternate\" hreflang=\"en-ie\" href=\"/en_ie\" />\\n<link rel=\"alternate\" hreflang=\"it-it\" href=\"/it_it\" />\\n<link rel=\"alternate\" hreflang=\"ja-jp\" href=\"/ja_jp\" />\\n<link rel=\"alternate\" hreflang=\"en-jo\" href=\"/en_jo\" />\\n<link rel=\"alternate\" hreflang=\"fr-lu\" href=\"/fr_lu\" />\\n<link rel=\"alternate\" hreflang=\"de-lu\" href=\"/de_lu\" />\\n<link rel=\"alternate\" hreflang=\"zh-mo\" href=\"/zh_mo\" />\\n<link rel=\"alternate\" hreflang=\"en-mo\" href=\"/en_mo\" />\\n<link rel=\"alternate\" hreflang=\"es-mx\" href=\"/es_mx\" />\\n<link rel=\"alternate\" hreflang=\"nl-nl\" href=\"/nl_nl\" />\\n<link rel=\"alternate\" hreflang=\"en-nz\" href=\"/en_nz\" />\\n<link rel=\"alternate\" hreflang=\"no-no\" href=\"/no_no\" />\\n<link rel=\"alternate\" hreflang=\"en-eu\" href=\"/en_eu\" />\\n<link rel=\"alternate\" hreflang=\"pl-pl\" href=\"/pl_pl\" />\\n<link rel=\"alternate\" hreflang=\"pt-pt\" href=\"/pt_pt\" />\\n<link rel=\"alternate\" hreflang=\"en-pr\" href=\"/en_pr\" />\\n<link rel=\"alternate\" hreflang=\"es-pr\" href=\"/es_pr\" />\\n<link rel=\"alternate\" hreflang=\"ro-ro\" href=\"/ro_ro\" />\\n<link rel=\"alternate\" hreflang=\"en-sg\" href=\"/en_sg\" />\\n<link rel=\"alternate\" hreflang=\"sl-si\" href=\"/sl_si\" />\\n<link rel=\"alternate\" hreflang=\"ko-kr\" href=\"/ko_kr\" />\\n<link rel=\"alternate\" hreflang=\"es-es\" href=\"/es_es\" />\\n<link rel=\"alternate\" hreflang=\"sv-se\" href=\"/sv_se\" />\\n<link rel=\"alternate\" hreflang=\"fr-ch\" href=\"/fr_ch\" />\\n<link rel=\"alternate\" hreflang=\"de-ch\" href=\"/de_ch\" />\\n<link rel=\"alternate\" hreflang=\"it-ch\" href=\"/it_ch\" />\\n<link rel=\"alternate\" hreflang=\"zh-tw\" href=\"/zh_tw\" />\\n<link rel=\"alternate\" hreflang=\"ar-ae\" href=\"/ar_ae\" />\\n<link rel=\"alternate\" hreflang=\"en-ae\" href=\"/en_ae\" />\\n<link rel=\"alternate\" hreflang=\"en-gb\" href=\"/en_gb\" />\\n<link rel=\"alternate\" hreflang=\"he-il\" href=\"/he_il\" />\\n<link rel=\"alternate\" hreflang=\"hr-hr\" href=\"/hr_hr\" />\\n<link rel=\"shortcut icon\" href=\"/themes/custom/tesla_frontend/assets/favicons/favicon.ico\" type=\"image/vnd.microsoft.icon\" />\\n<link rel=\"revision\" href=\"https://www.tesla.com/homepage-v2-MTUwNWM3-old\" />\\n\\n    <title>Electric Cars, Solar &amp; Clean Energy | Tesla</title>\\n    <link rel=\"stylesheet\" media=\"all\" href=\"/_flysystem/s3/css/css_f5YekgYckDKzgXZ1JApb5vO3HaNCWc'\n",
      "###########################################################################\n",
      "<class 'bytes'>\n",
      "###########################################################################\n",
      "<class 'str'>\n",
      "###########################################################################\n",
      "\n",
      "<!DOCTYPE html>\n",
      "<ht\n"
     ]
    }
   ],
   "source": [
    "from urllib import request\n",
    "from urllib import parse\n",
    "\n",
    "ILoveTesla = \"https://www.tesla.com\"\n",
    "\n",
    "resp = request.urlopen(ILoveTesla)\n",
    "print(type(resp))\n",
    "print('###########################################################################')\n",
    "print(dir(resp))\n",
    "print('###########################################################################')\n",
    "print(resp.code)\n",
    "print('###########################################################################')\n",
    "print(resp.length)\n",
    "print('###########################################################################')\n",
    "print(resp.peek())\n",
    "print('###########################################################################')\n",
    "data = resp.read()\n",
    "print(type(data))\n",
    "print('###########################################################################')\n",
    "html = data.decode(\"UTF-8\")\n",
    "print(type(html))\n",
    "print('###########################################################################')\n",
    "print(html[:20])"
   ]
  },
  {
   "cell_type": "code",
   "execution_count": null,
   "id": "a4be7cac-d355-4ec9-b4e8-b9556893fc64",
   "metadata": {},
   "outputs": [],
   "source": []
  }
 ],
 "metadata": {
  "kernelspec": {
   "display_name": "Python 3 (ipykernel)",
   "language": "python",
   "name": "python3"
  },
  "language_info": {
   "codemirror_mode": {
    "name": "ipython",
    "version": 3
   },
   "file_extension": ".py",
   "mimetype": "text/x-python",
   "name": "python",
   "nbconvert_exporter": "python",
   "pygments_lexer": "ipython3",
   "version": "3.9.12"
  }
 },
 "nbformat": 4,
 "nbformat_minor": 5
}
