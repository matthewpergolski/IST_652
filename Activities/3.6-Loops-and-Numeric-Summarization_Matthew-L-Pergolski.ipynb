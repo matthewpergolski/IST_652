{
 "cells": [
  {
   "cell_type": "markdown",
   "id": "9b9a8c38-1a6f-4c40-942c-3155b1e86e47",
   "metadata": {},
   "source": [
    "# 3.6 Loops and Numeric Summarization"
   ]
  },
  {
   "cell_type": "markdown",
   "id": "b10ab7ff-e8f6-4856-b66d-bb02ea2d1202",
   "metadata": {},
   "source": [
    "3.6-Loops-and-Numeric-Summarization_Matthew-L-Pergolski"
   ]
  },
  {
   "cell_type": "markdown",
   "id": "7a0be9d7-076a-47e8-a5d1-b36b99062a2c",
   "metadata": {},
   "source": [
    "Consider the following two dictionaries:\n",
    "\n",
    "stock = {\"banana\":6,\"apple\":0,\"orange\":32,\"pear\":15}\n",
    "\n",
    "prices={\"banana\":4,\"apple\":2,\"orange\":1.5,\"pear\":3}\n",
    "\n",
    "Show the expression that gets the value of the stock dictionary at the key \"orange\". Add another item to the dictionary (\"cherry\", 14).\n",
    "Write the code for a loop that iterates over the stock dictionary and prints each key and value.\n",
    "Submit your code and results. Check out a couple of your classmates' submissions to see if and how they differ from yours."
   ]
  },
  {
   "cell_type": "code",
   "execution_count": 1,
   "id": "e5e33646-a11f-460e-a5ce-35601aab73d7",
   "metadata": {},
   "outputs": [],
   "source": [
    "stock = {\"banana\":6,\"apple\":0,\"orange\":32,\"pear\":15}\n",
    "\n",
    "prices={\"banana\":4,\"apple\":2,\"orange\":1.5,\"pear\":3}"
   ]
  },
  {
   "cell_type": "code",
   "execution_count": 2,
   "id": "28aaeffb-e53a-42b4-85a0-d77a74e9b2fc",
   "metadata": {},
   "outputs": [
    {
     "data": {
      "text/plain": [
       "32"
      ]
     },
     "execution_count": 2,
     "metadata": {},
     "output_type": "execute_result"
    }
   ],
   "source": [
    "stock['orange']"
   ]
  },
  {
   "cell_type": "code",
   "execution_count": 6,
   "id": "16642783-1051-4d9b-a1f0-befbfdf2fb78",
   "metadata": {},
   "outputs": [
    {
     "data": {
      "text/plain": [
       "{'banana': 6, 'apple': 0, 'orange': 32, 'pear': 15, 'cherry': 14}"
      ]
     },
     "execution_count": 6,
     "metadata": {},
     "output_type": "execute_result"
    }
   ],
   "source": [
    "stock.update({'cherry':14})\n",
    "stock"
   ]
  },
  {
   "cell_type": "code",
   "execution_count": 10,
   "id": "090152f7-b06c-4e78-9d6a-1931ae9c3b4d",
   "metadata": {},
   "outputs": [
    {
     "name": "stdout",
     "output_type": "stream",
     "text": [
      "key: banana | value: 6\n",
      "key: apple | value: 0\n",
      "key: orange | value: 32\n",
      "key: pear | value: 15\n",
      "key: cherry | value: 14\n"
     ]
    }
   ],
   "source": [
    "for k, v in stock.items():\n",
    "    print('key:',k,'|','value:',v)"
   ]
  }
 ],
 "metadata": {
  "kernelspec": {
   "display_name": "Python 3 (ipykernel)",
   "language": "python",
   "name": "python3"
  },
  "language_info": {
   "codemirror_mode": {
    "name": "ipython",
    "version": 3
   },
   "file_extension": ".py",
   "mimetype": "text/x-python",
   "name": "python",
   "nbconvert_exporter": "python",
   "pygments_lexer": "ipython3",
   "version": "3.9.12"
  }
 },
 "nbformat": 4,
 "nbformat_minor": 5
}
