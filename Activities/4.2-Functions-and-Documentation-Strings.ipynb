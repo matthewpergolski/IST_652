{
 "cells": [
  {
   "cell_type": "markdown",
   "id": "f2719ca6-c13e-4c5c-8ce7-532f04cd8c1b",
   "metadata": {},
   "source": [
    "# 4.2 Functions and Documentation Strings"
   ]
  },
  {
   "cell_type": "markdown",
   "id": "10b3b157-cf8b-445b-97cd-5c27d3d1b00a",
   "metadata": {},
   "source": [
    "4.2-Functions-and-Documentation-Strings"
   ]
  },
  {
   "cell_type": "markdown",
   "id": "2d5a785e-4785-4174-b1fc-ee4e1e550f36",
   "metadata": {},
   "source": [
    "Week 4.2 – Functions Activity\n",
    "Exercise 1\n",
    "What will the following Python program print out? def fred():\n",
    "print \"Zap\" def jane():\n",
    "print \"ABC\" jane()\n",
    "fred() jane()\n",
    "a) Zap ABC jane fred jane b) Zap ABC Zap\n",
    "c) ABC Zap jane\n",
    "d) ABC Zap ABC\n",
    "e) Zap Zap Zap\n",
    "Explain your answer:\n",
    "Exercise 2\n",
    "Rewrite the pay computation program that you created in Week 2 with time-and-a- half for overtime and create a function called computepay that takes two parameters (hours and rate).\n",
    "Enter Hours: 45 Enter Rate: 20\n",
    "Pay: 950.0\n",
    "Please put your answers into one text file for submission. Submit the answer to Exercise 1, and for Exercise 2 submit your code and the results you got from running your program."
   ]
  },
  {
   "cell_type": "code",
   "execution_count": 4,
   "id": "a79118fb-1d52-4f79-b77b-8ea6390aca1e",
   "metadata": {},
   "outputs": [
    {
     "name": "stdout",
     "output_type": "stream",
     "text": [
      "ABC\n",
      "Zap\n",
      "ABC\n"
     ]
    }
   ],
   "source": [
    "# Exercize 1\n",
    "def fred():\n",
    "    print(\"Zap\")\n",
    "    \n",
    "def jane():\n",
    "    print(\"ABC\")\n",
    "\n",
    "jane()\n",
    "fred()\n",
    "jane()"
   ]
  },
  {
   "cell_type": "markdown",
   "id": "a4fb252b-fb1e-4b01-b8ed-c093c9fdebf3",
   "metadata": {},
   "source": [
    "If the print statements weren't missing parenthesis, it would print out option D -- ABC, Zap, ABC; since these functions are essentially print statement aliases"
   ]
  },
  {
   "cell_type": "code",
   "execution_count": null,
   "id": "355647b0-133a-4058-a59c-9fbdc58cb340",
   "metadata": {},
   "outputs": [],
   "source": [
    "# Exercize 2"
   ]
  },
  {
   "cell_type": "code",
   "execution_count": 10,
   "id": "f13d8459-b270-4434-9c6b-4e79bb495d8c",
   "metadata": {},
   "outputs": [
    {
     "data": {
      "text/plain": [
       "900"
      ]
     },
     "execution_count": 10,
     "metadata": {},
     "output_type": "execute_result"
    }
   ],
   "source": [
    "def computepay(hours, rate):\n",
    "    pay = hours * rate\n",
    "    return pay\n",
    "    \n",
    "computepay(45, 20)"
   ]
  },
  {
   "cell_type": "markdown",
   "id": "a6e58afa-630d-493d-92ec-8088a8bcd572",
   "metadata": {},
   "source": [
    "Class answer:\n",
    "\n",
    "Week 4.2 – Functions Activity\n",
    "Exercise 1\n",
    "What will the following Python program print out? def fred():\n",
    "print \"Zap\" def jane():\n",
    "print \"ABC\" jane()\n",
    "fred() jane()\n",
    "a) Zap ABC jane fred jane\n",
    "b) Zap ABC Zap\n",
    "c) ABC Zap jane\n",
    "d) ABC Zap ABC CORRECT ANSWER e) Zap Zap Zap\n",
    "Explain your answer:\n",
    "Exercise 2\n",
    "Rewrite the pay computation program that you created in Week 2 with time-and-a- half for overtime, and create a function called computepay that takes two parameters (hours and rate).\n",
    "Enter Hours: 45 Enter Rate: 20\n",
    "Pay: 950.0\n",
    "#This program gets info from user and calculates pay #gets the hours and rate\n",
    "hours=input('Enter Hours: ')\n",
    "45\n",
    "rate=input('Enter Rate: ')\n",
    "20\n",
    "#define function computepay\n",
    "def computepay() reghours = 40\n",
    "ovhours = int(hours) – 40\n",
    "repay = 40 * float(rate) ovpay=int(ovhours) * float(rate) * 1.5 totalpay = repay + ovpay\n",
    "print('Total Pay: ', totalpay)\n",
    "computepay() Total Pay: 950"
   ]
  },
  {
   "cell_type": "code",
   "execution_count": 17,
   "id": "11c275f6-435f-4c2d-8c2c-10a3ba23ef18",
   "metadata": {},
   "outputs": [
    {
     "name": "stdin",
     "output_type": "stream",
     "text": [
      "Enter Hours:  45\n",
      "Enter Rate:  20\n"
     ]
    },
    {
     "name": "stdout",
     "output_type": "stream",
     "text": [
      "Total Pay:  950.0\n"
     ]
    }
   ],
   "source": [
    "#This program gets info from user and calculates pay #gets the hours and rate\n",
    "hours=input('Enter Hours: ')\n",
    "45\n",
    "rate=input('Enter Rate: ')\n",
    "20\n",
    "#define function computepay\n",
    "def computepay():\n",
    "    reghours = 40\n",
    "    ovhours = (int(hours) - 40)\n",
    "    repay = 40 * float(rate) \n",
    "    ovpay=int(ovhours) * float(rate) * 1.5 \n",
    "    totalpay = repay + ovpay\n",
    "    print('Total Pay: ', totalpay)\n",
    "    \n",
    "computepay()"
   ]
  }
 ],
 "metadata": {
  "kernelspec": {
   "display_name": "Python 3 (ipykernel)",
   "language": "python",
   "name": "python3"
  },
  "language_info": {
   "codemirror_mode": {
    "name": "ipython",
    "version": 3
   },
   "file_extension": ".py",
   "mimetype": "text/x-python",
   "name": "python",
   "nbconvert_exporter": "python",
   "pygments_lexer": "ipython3",
   "version": "3.9.12"
  }
 },
 "nbformat": 4,
 "nbformat_minor": 5
}
