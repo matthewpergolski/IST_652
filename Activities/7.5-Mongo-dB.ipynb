{
 "cells": [
  {
   "cell_type": "code",
   "execution_count": 1,
   "id": "1d19bd00-fa9a-423e-9271-e7b8d96e77e7",
   "metadata": {},
   "outputs": [
    {
     "name": "stdout",
     "output_type": "stream",
     "text": [
      "Collected data from USGS Significant Earthquakes, Past Month\n",
      "Connected successfully!!!\n",
      "Added 7 to earthquakes collection in usgs database\n"
     ]
    }
   ],
   "source": [
    "''' \n",
    "\tThis program accesses the USGS earthquake data feed. This URL is for\n",
    "       significant quakes in the last 30 days.\n",
    "\tIt then saves the earthquakes to a database named usgs and a collection called earthquakes.\n",
    "\tThe mongod server must be running for this program to work!\n",
    "'''\n",
    "\n",
    "import urllib.request\n",
    "import json\n",
    "import pymongo\n",
    "\n",
    "\n",
    "# get the bbc rss feed of news stories and connect to it\n",
    "earthquake_url = \"http://earthquake.usgs.gov/earthquakes/feed/v1.0/summary/significant_month.geojson\"\n",
    "\n",
    "try:\n",
    "\tresponse = urllib.request.urlopen(earthquake_url)\n",
    "except urllib.error.URLError as e:\n",
    "    if hasattr(e, 'reason'):\n",
    "        print('We failed to reach a server.')\n",
    "        print('Reason: ', e.reason)\n",
    "    elif hasattr(e, 'code'):\n",
    "        print('The server couldn\\'t fulfill the request.')\n",
    "        print('Error code: ', e.code)\n",
    "else:\n",
    "\t# the url request was successful - convert the response to a string\n",
    "\tjson_string = response.read().decode('utf-8')\n",
    "\n",
    "\t# the json package loads() converts the string to python dictionaries and lists\n",
    "\teq_json = json.loads(json_string)\n",
    "\t\n",
    "\t# from the json dictionary we get the title to print\n",
    "\ttitle = eq_json['metadata']['title']\n",
    "\tprint('Collected data from', title)\n",
    "\t#  and we get the list of earthquakes\n",
    "\tquakelist = eq_json['features']\n",
    "\n",
    "\t# Connection to Mongo DB\n",
    "\ttry:\n",
    "\t    client=pymongo.MongoClient('localhost', 27017)\n",
    "\t    print (\"Connected successfully!!!\")\n",
    "\texcept pymongo.errors.ConnectionFailure as e:\n",
    "\t   print (\"Could not connect to MongoDB: %s\" % e )\n",
    "\telse:\n",
    "\n",
    "\t\t# use database named usgs or create it if not there already\n",
    "\t\teqdb = client.usgs\n",
    "\t\t# create collection named earthquakes or create it if not there already\n",
    "\t\tquakecoll = eqdb.earthquakes\n",
    "\t\t# add all the earthquakes to the list\n",
    "\t\tquakecoll.insert_many(quakelist)\n",
    "\t\tprint(\"Added\", len(quakelist), \"to earthquakes collection in usgs database\")\n",
    "\t\t# close the database connection\n",
    "\t\tclient.close()\n"
   ]
  },
  {
   "cell_type": "code",
   "execution_count": 18,
   "id": "c57b88da-6a29-4ba0-93fc-6402be4d2a91",
   "metadata": {},
   "outputs": [
    {
     "name": "stdout",
     "output_type": "stream",
     "text": [
      "{'_id': ObjectId('62fc3726372b0b2f37277182'), 'type': 'Feature', 'properties': {'mag': 6.4, 'place': 'southeast of the Loyalty Islands', 'time': 1660511084752, 'updated': 1660667966040, 'tz': None, 'url': 'https://earthquake.usgs.gov/earthquakes/eventpage/us6000iav7', 'detail': 'https://earthquake.usgs.gov/earthquakes/feed/v1.0/detail/us6000iav7.geojson', 'felt': 3, 'cdi': 2.2, 'mmi': 0, 'alert': 'green', 'status': 'reviewed', 'tsunami': 0, 'sig': 631, 'net': 'us', 'code': '6000iav7', 'ids': ',us6000iav7,', 'sources': ',us,', 'types': ',dyfi,ground-failure,losspager,moment-tensor,origin,phase-data,shakemap,', 'nst': 114, 'dmin': 3.296, 'rms': 0.58, 'gap': 41, 'magType': 'mww', 'type': 'earthquake', 'title': 'M 6.4 - southeast of the Loyalty Islands'}, 'geometry': {'type': 'Point', 'coordinates': [170.961, -22.0854, 78]}, 'id': 'us6000iav7'}\n",
      "{'_id': ObjectId('62fc3726372b0b2f37277183'), 'type': 'Feature', 'properties': {'mag': 6.6, 'place': 'south of the Kermadec Islands', 'time': 1660484660760, 'updated': 1660668320040, 'tz': None, 'url': 'https://earthquake.usgs.gov/earthquakes/eventpage/us6000iasi', 'detail': 'https://earthquake.usgs.gov/earthquakes/feed/v1.0/detail/us6000iasi.geojson', 'felt': 2, 'cdi': 7.2, 'mmi': 5.959, 'alert': 'green', 'status': 'reviewed', 'tsunami': 1, 'sig': 672, 'net': 'us', 'code': '6000iasi', 'ids': ',us6000iasi,pt22226003,at00rgly5y,', 'sources': ',us,pt,at,', 'types': ',dyfi,impact-link,losspager,moment-tensor,origin,phase-data,shakemap,', 'nst': 63, 'dmin': 5.26, 'rms': 0.63, 'gap': 67, 'magType': 'mww', 'type': 'earthquake', 'title': 'M 6.6 - south of the Kermadec Islands'}, 'geometry': {'type': 'Point', 'coordinates': [-179.0086, -32.7728, 39.08]}, 'id': 'us6000iasi'}\n",
      "{'_id': ObjectId('62fc3726372b0b2f37277184'), 'type': 'Feature', 'properties': {'mag': 5.5, 'place': '199 km NNE of Nagqu, China', 'time': 1660465201800, 'updated': 1660668565040, 'tz': None, 'url': 'https://earthquake.usgs.gov/earthquakes/eventpage/us6000iaqi', 'detail': 'https://earthquake.usgs.gov/earthquakes/feed/v1.0/detail/us6000iaqi.geojson', 'felt': None, 'cdi': None, 'mmi': 6.771, 'alert': 'yellow', 'status': 'reviewed', 'tsunami': 0, 'sig': 650, 'net': 'us', 'code': '6000iaqi', 'ids': ',us6000iaqi,', 'sources': ',us,', 'types': ',losspager,moment-tensor,origin,phase-data,shakemap,', 'nst': 99, 'dmin': 12.895, 'rms': 0.82, 'gap': 30, 'magType': 'mww', 'type': 'earthquake', 'title': 'M 5.5 - 199 km NNE of Nagqu, China'}, 'geometry': {'type': 'Point', 'coordinates': [92.8196, 33.1554, 10]}, 'id': 'us6000iaqi'}\n",
      "{'_id': ObjectId('62fc3726372b0b2f37277185'), 'type': 'Feature', 'properties': {'mag': 6.1, 'place': '23 km NW of Tocopilla, Chile', 'time': 1658981703937, 'updated': 1660608853340, 'tz': None, 'url': 'https://earthquake.usgs.gov/earthquakes/eventpage/us6000i636', 'detail': 'https://earthquake.usgs.gov/earthquakes/feed/v1.0/detail/us6000i636.geojson', 'felt': 57, 'cdi': 7, 'mmi': 6.741, 'alert': 'green', 'status': 'reviewed', 'tsunami': 0, 'sig': 612, 'net': 'us', 'code': '6000i636', 'ids': ',us6000i636,', 'sources': ',us,', 'types': ',dyfi,ground-failure,losspager,moment-tensor,origin,phase-data,shakemap,', 'nst': 138, 'dmin': 0.558, 'rms': 0.89, 'gap': 25, 'magType': 'mww', 'type': 'earthquake', 'title': 'M 6.1 - 23 km NW of Tocopilla, Chile'}, 'geometry': {'type': 'Point', 'coordinates': [-70.3399, -21.9284, 54]}, 'id': 'us6000i636'}\n",
      "{'_id': ObjectId('62fc3726372b0b2f37277186'), 'type': 'Feature', 'properties': {'mag': 6.2, 'place': '48 km NE of Calama, Chile', 'time': 1658948338403, 'updated': 1660077432624, 'tz': None, 'url': 'https://earthquake.usgs.gov/earthquakes/eventpage/us6000i5zi', 'detail': 'https://earthquake.usgs.gov/earthquakes/feed/v1.0/detail/us6000i5zi.geojson', 'felt': 41, 'cdi': 5.3, 'mmi': 4.971, 'alert': 'green', 'status': 'reviewed', 'tsunami': 0, 'sig': 613, 'net': 'us', 'code': '6000i5zi', 'ids': ',us6000i5zi,', 'sources': ',us,', 'types': ',dyfi,ground-failure,losspager,moment-tensor,origin,phase-data,shakemap,', 'nst': 115, 'dmin': 0.731, 'rms': 1.13, 'gap': 31, 'magType': 'mww', 'type': 'earthquake', 'title': 'M 6.2 - 48 km NE of Calama, Chile'}, 'geometry': {'type': 'Point', 'coordinates': [-68.5651, -22.1728, 112]}, 'id': 'us6000i5zi'}\n",
      "{'_id': ObjectId('62fc3726372b0b2f37277187'), 'type': 'Feature', 'properties': {'mag': 7, 'place': '13 km NNE of Bantay, Philippines', 'time': 1658882608277, 'updated': 1660304476527, 'tz': None, 'url': 'https://earthquake.usgs.gov/earthquakes/eventpage/us6000i5rd', 'detail': 'https://earthquake.usgs.gov/earthquakes/feed/v1.0/detail/us6000i5rd.geojson', 'felt': 667, 'cdi': 8.9, 'mmi': 8.068, 'alert': 'yellow', 'status': 'reviewed', 'tsunami': 1, 'sig': 1347, 'net': 'us', 'code': '6000i5rd', 'ids': ',pt22208000,us6000i5rd,at00rfnm0d,', 'sources': ',pt,us,at,', 'types': ',dyfi,finite-fault,general-text,ground-failure,impact-link,impact-text,losspager,losspager-admin,moment-tensor,origin,phase-data,shakemap,', 'nst': 167, 'dmin': 5.252, 'rms': 0.63, 'gap': 21, 'magType': 'mww', 'type': 'earthquake', 'title': 'M 7.0 - 13 km NNE of Bantay, Philippines'}, 'geometry': {'type': 'Point', 'coordinates': [120.8099, 17.5448, 46]}, 'id': 'us6000i5rd'}\n",
      "{'_id': ObjectId('62fc3726372b0b2f37277188'), 'type': 'Feature', 'properties': {'mag': 5.4, 'place': '51 km NE of Bandar-e Lengeh, Iran', 'time': 1658592468157, 'updated': 1658789264818, 'tz': None, 'url': 'https://earthquake.usgs.gov/earthquakes/eventpage/us7000hszk', 'detail': 'https://earthquake.usgs.gov/earthquakes/feed/v1.0/detail/us7000hszk.geojson', 'felt': 29, 'cdi': 3.6, 'mmi': 6.799, 'alert': 'yellow', 'status': 'reviewed', 'tsunami': 0, 'sig': 660, 'net': 'us', 'code': '7000hszk', 'ids': ',us7000hszk,', 'sources': ',us,', 'types': ',dyfi,losspager,moment-tensor,origin,phase-data,shakemap,', 'nst': 91, 'dmin': 2.149, 'rms': 0.83, 'gap': 54, 'magType': 'mww', 'type': 'earthquake', 'title': 'M 5.4 - 51 km NE of Bandar-e Lengeh, Iran'}, 'geometry': {'type': 'Point', 'coordinates': [55.2149, 26.9092, 10]}, 'id': 'us7000hszk'}\n"
     ]
    }
   ],
   "source": [
    "docs = quakecoll.find()\n",
    "for doc in docs:\n",
    "    print(doc)"
   ]
  },
  {
   "cell_type": "code",
   "execution_count": 23,
   "id": "e6bb601a-f122-40ed-bf3e-21890f563797",
   "metadata": {},
   "outputs": [
    {
     "ename": "TypeError",
     "evalue": "filter must be an instance of dict, bson.son.SON, or any other type that inherits from collections.Mapping",
     "output_type": "error",
     "traceback": [
      "\u001b[0;31m---------------------------------------------------------------------------\u001b[0m",
      "\u001b[0;31mTypeError\u001b[0m                                 Traceback (most recent call last)",
      "Input \u001b[0;32mIn [23]\u001b[0m, in \u001b[0;36m<cell line: 2>\u001b[0;34m()\u001b[0m\n\u001b[1;32m      1\u001b[0m \u001b[38;5;66;03m#results = quakecoll.find({'place':{'$lt':21}})\u001b[39;00m\n\u001b[0;32m----> 2\u001b[0m results \u001b[38;5;241m=\u001b[39m \u001b[43mquakecoll\u001b[49m\u001b[38;5;241;43m.\u001b[39;49m\u001b[43mfind\u001b[49m\u001b[43m(\u001b[49m\u001b[43m{\u001b[49m\u001b[38;5;124;43m'\u001b[39;49m\u001b[38;5;124;43mplace\u001b[39;49m\u001b[38;5;124;43m'\u001b[39;49m\u001b[43m}\u001b[49m\u001b[43m)\u001b[49m\n\u001b[1;32m      4\u001b[0m \u001b[38;5;28;01mfor\u001b[39;00m result \u001b[38;5;129;01min\u001b[39;00m results:\n\u001b[1;32m      5\u001b[0m     \u001b[38;5;28mprint\u001b[39m(result)\n",
      "File \u001b[0;32m~/opt/anaconda3/lib/python3.9/site-packages/pymongo/collection.py:1532\u001b[0m, in \u001b[0;36mCollection.find\u001b[0;34m(self, *args, **kwargs)\u001b[0m\n\u001b[1;32m   1332\u001b[0m \u001b[38;5;28;01mdef\u001b[39;00m \u001b[38;5;21mfind\u001b[39m(\u001b[38;5;28mself\u001b[39m, \u001b[38;5;241m*\u001b[39margs, \u001b[38;5;241m*\u001b[39m\u001b[38;5;241m*\u001b[39mkwargs):\n\u001b[1;32m   1333\u001b[0m     \u001b[38;5;124;03m\"\"\"Query the database.\u001b[39;00m\n\u001b[1;32m   1334\u001b[0m \n\u001b[1;32m   1335\u001b[0m \u001b[38;5;124;03m    The `filter` argument is a prototype document that all results\u001b[39;00m\n\u001b[0;32m   (...)\u001b[0m\n\u001b[1;32m   1530\u001b[0m \n\u001b[1;32m   1531\u001b[0m \u001b[38;5;124;03m    \"\"\"\u001b[39;00m\n\u001b[0;32m-> 1532\u001b[0m     \u001b[38;5;28;01mreturn\u001b[39;00m \u001b[43mCursor\u001b[49m\u001b[43m(\u001b[49m\u001b[38;5;28;43mself\u001b[39;49m\u001b[43m,\u001b[49m\u001b[43m \u001b[49m\u001b[38;5;241;43m*\u001b[39;49m\u001b[43margs\u001b[49m\u001b[43m,\u001b[49m\u001b[43m \u001b[49m\u001b[38;5;241;43m*\u001b[39;49m\u001b[38;5;241;43m*\u001b[39;49m\u001b[43mkwargs\u001b[49m\u001b[43m)\u001b[49m\n",
      "File \u001b[0;32m~/opt/anaconda3/lib/python3.9/site-packages/pymongo/cursor.py:173\u001b[0m, in \u001b[0;36mCursor.__init__\u001b[0;34m(self, collection, filter, projection, skip, limit, no_cursor_timeout, cursor_type, sort, allow_partial_results, oplog_replay, modifiers, batch_size, manipulate, collation, hint, max_scan, max_time_ms, max, min, return_key, show_record_id, snapshot, comment, session, allow_disk_use)\u001b[0m\n\u001b[1;32m    170\u001b[0m \u001b[38;5;28;01mif\u001b[39;00m spec \u001b[38;5;129;01mis\u001b[39;00m \u001b[38;5;28;01mNone\u001b[39;00m:\n\u001b[1;32m    171\u001b[0m     spec \u001b[38;5;241m=\u001b[39m {}\n\u001b[0;32m--> 173\u001b[0m \u001b[43mvalidate_is_mapping\u001b[49m\u001b[43m(\u001b[49m\u001b[38;5;124;43m\"\u001b[39;49m\u001b[38;5;124;43mfilter\u001b[39;49m\u001b[38;5;124;43m\"\u001b[39;49m\u001b[43m,\u001b[49m\u001b[43m \u001b[49m\u001b[43mspec\u001b[49m\u001b[43m)\u001b[49m\n\u001b[1;32m    174\u001b[0m \u001b[38;5;28;01mif\u001b[39;00m \u001b[38;5;129;01mnot\u001b[39;00m \u001b[38;5;28misinstance\u001b[39m(skip, \u001b[38;5;28mint\u001b[39m):\n\u001b[1;32m    175\u001b[0m     \u001b[38;5;28;01mraise\u001b[39;00m \u001b[38;5;167;01mTypeError\u001b[39;00m(\u001b[38;5;124m\"\u001b[39m\u001b[38;5;124mskip must be an instance of int\u001b[39m\u001b[38;5;124m\"\u001b[39m)\n",
      "File \u001b[0;32m~/opt/anaconda3/lib/python3.9/site-packages/pymongo/common.py:495\u001b[0m, in \u001b[0;36mvalidate_is_mapping\u001b[0;34m(option, value)\u001b[0m\n\u001b[1;32m    493\u001b[0m \u001b[38;5;124;03m\"\"\"Validate the type of method arguments that expect a document.\"\"\"\u001b[39;00m\n\u001b[1;32m    494\u001b[0m \u001b[38;5;28;01mif\u001b[39;00m \u001b[38;5;129;01mnot\u001b[39;00m \u001b[38;5;28misinstance\u001b[39m(value, abc\u001b[38;5;241m.\u001b[39mMapping):\n\u001b[0;32m--> 495\u001b[0m     \u001b[38;5;28;01mraise\u001b[39;00m \u001b[38;5;167;01mTypeError\u001b[39;00m(\u001b[38;5;124m\"\u001b[39m\u001b[38;5;132;01m%s\u001b[39;00m\u001b[38;5;124m must be an instance of dict, bson.son.SON, or \u001b[39m\u001b[38;5;124m\"\u001b[39m\n\u001b[1;32m    496\u001b[0m                     \u001b[38;5;124m\"\u001b[39m\u001b[38;5;124many other type that inherits from \u001b[39m\u001b[38;5;124m\"\u001b[39m\n\u001b[1;32m    497\u001b[0m                     \u001b[38;5;124m\"\u001b[39m\u001b[38;5;124mcollections.Mapping\u001b[39m\u001b[38;5;124m\"\u001b[39m \u001b[38;5;241m%\u001b[39m (option,))\n",
      "\u001b[0;31mTypeError\u001b[0m: filter must be an instance of dict, bson.son.SON, or any other type that inherits from collections.Mapping"
     ]
    }
   ],
   "source": [
    "#results = quakecoll.find({'place':{'$lt':21}})\n",
    "results = quakecoll.find({'place'})\n",
    "\n",
    "for result in results:\n",
    "    print(result)"
   ]
  },
  {
   "cell_type": "markdown",
   "id": "e1ea5070-7ee2-4ba0-946c-e0a3aeccf480",
   "metadata": {},
   "source": [
    "### Class Answer:"
   ]
  },
  {
   "cell_type": "code",
   "execution_count": 24,
   "id": "7b5fc919-6daf-4955-adec-5772217fa661",
   "metadata": {},
   "outputs": [
    {
     "name": "stdout",
     "output_type": "stream",
     "text": [
      "Collected data from USGS Significant Earthquakes, Past Month\n",
      "Connected successfully!!!\n",
      "Added 7 to earthquakes collection in usgs database\n",
      "Place:  southeast of the Loyalty Islands         Time:  1660511084.752\n",
      "Place:  south of the Kermadec Islands         Time:  1660484660.76\n",
      "Place:  199 km NNE of Nagqu, China         Time:  1660465201.8\n",
      "Place:  23 km NW of Tocopilla, Chile         Time:  1658981703.937\n",
      "Place:  48 km NE of Calama, Chile         Time:  1658948338.403\n",
      "Place:  13 km NNE of Bantay, Philippines         Time:  1658882608.277\n",
      "Place:  51 km NE of Bandar-e Lengeh, Iran         Time:  1658592468.157\n",
      "Place:  southeast of the Loyalty Islands         Time:  1660511084.752\n",
      "Place:  south of the Kermadec Islands         Time:  1660484660.76\n",
      "Place:  199 km NNE of Nagqu, China         Time:  1660465201.8\n",
      "Place:  23 km NW of Tocopilla, Chile         Time:  1658981703.937\n",
      "Place:  48 km NE of Calama, Chile         Time:  1658948338.403\n",
      "Place:  13 km NNE of Bantay, Philippines         Time:  1658882608.277\n",
      "Place:  51 km NE of Bandar-e Lengeh, Iran         Time:  1658592468.157\n"
     ]
    }
   ],
   "source": [
    "''' \n",
    "\tThis program accesses the USGS earthquake data feed. This URL is for\n",
    "       significant quakes in the last 30 days.\n",
    "\tIt then saves the earthquakes to a database named usgs and a collection called earthquakes.\n",
    "\tThe mongod server must be running for this program to work!\n",
    "'''\n",
    "\n",
    "import urllib.request\n",
    "import json\n",
    "import pymongo\n",
    "\n",
    "\n",
    "# get the bbc rss feed of news stories and connect to it\n",
    "earthquake_url = \"http://earthquake.usgs.gov/earthquakes/feed/v1.0/summary/significant_month.geojson\"\n",
    "\n",
    "try:\n",
    "\tresponse = urllib.request.urlopen(earthquake_url)\n",
    "except urllib.error.URLError as e:\n",
    "    if hasattr(e, 'reason'):\n",
    "        print('We failed to reach a server.')\n",
    "        print('Reason: ', e.reason)\n",
    "    elif hasattr(e, 'code'):\n",
    "        print('The server couldn\\'t fulfill the request.')\n",
    "        print('Error code: ', e.code)\n",
    "else:\n",
    "\t# the url request was successful - convert the response to a string\n",
    "\tjson_string = response.read().decode('utf-8')\n",
    "\n",
    "\t# the json package loads() converts the string to python dictionaries and lists\n",
    "\teq_json = json.loads(json_string)\n",
    "\t\n",
    "\t# from the json dictionary we get the title to print\n",
    "\ttitle = eq_json['metadata']['title']\n",
    "\tprint('Collected data from', title)\n",
    "\t#  and we get the list of earthquakes\n",
    "\tquakelist = eq_json['features']\n",
    "\n",
    "\t# Connection to Mongo DB\n",
    "\ttry:\n",
    "\t    client=pymongo.MongoClient('localhost', 27017)\n",
    "\t    print (\"Connected successfully!!!\")\n",
    "\texcept pymongo.errors.ConnectionFailure as e:\n",
    "\t   print (\"Could not connect to MongoDB: %s\" % e )\n",
    "\telse:\n",
    "\n",
    "\t\t# use database named usgs or create it if not there already\n",
    "\t\teqdb = client.usgs\n",
    "\t\t# create collection named earthquakes or create it if not there already\n",
    "\t\tquakecoll = eqdb.earthquakes\n",
    "\t\t# add all the earthquakes to the list\n",
    "\t\tquakecoll.insert_many(quakelist)\n",
    "\t\tprint(\"Added\", len(quakelist), \"to earthquakes collection in usgs database\")\n",
    "\t\t\n",
    "\t# Grab back the collection of earthquakes from MongoDB\n",
    "\t\tquake_docs = quakecoll.find()\n",
    "\t\t# Loop through and print out place and time of the earthquakes\n",
    "\t\tfor doc in quake_docs:\n",
    "\t\t\tplace = doc[\"properties\"][\"place\"]\n",
    "\t\t\t# grab unix timestamp in milliseconds\n",
    "\t\t\tunix_time_mil = doc[\"properties\"][\"time\"]\n",
    "\t\t\t# convert to unix in seconds\n",
    "\t\t\tunix_time = unix_time_mil / 1000\n",
    "\t\t\t# use datatime to convert to human readible time format, goes down to milliseconds\n",
    "\t\t\t# print the place and time, with a label to show the time is in UTC\n",
    "\t\t\tprint('Place: ',place,'        Time: ',unix_time)\n",
    "# close the database connection\n",
    "\t\tclient.close()"
   ]
  },
  {
   "cell_type": "code",
   "execution_count": null,
   "id": "edb44330-e939-487d-924b-45adf09aa14a",
   "metadata": {},
   "outputs": [],
   "source": []
  }
 ],
 "metadata": {
  "kernelspec": {
   "display_name": "Python 3 (ipykernel)",
   "language": "python",
   "name": "python3"
  },
  "language_info": {
   "codemirror_mode": {
    "name": "ipython",
    "version": 3
   },
   "file_extension": ".py",
   "mimetype": "text/x-python",
   "name": "python",
   "nbconvert_exporter": "python",
   "pygments_lexer": "ipython3",
   "version": "3.9.12"
  }
 },
 "nbformat": 4,
 "nbformat_minor": 5
}
