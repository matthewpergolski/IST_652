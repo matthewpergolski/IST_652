{
 "cells": [
  {
   "cell_type": "markdown",
   "id": "5c93d9d3-ae81-45ce-b079-2b8606d9778b",
   "metadata": {
    "tags": []
   },
   "source": [
    "# 3.2 Data Exploration | Activity"
   ]
  },
  {
   "cell_type": "markdown",
   "id": "e0badfd9-8b86-450f-8ed7-21a650a19448",
   "metadata": {},
   "source": [
    "3.2-Data-Exploration_Matthew-L-Pergolski"
   ]
  },
  {
   "cell_type": "markdown",
   "id": "ae353b5b-2f2d-4198-b57f-c3d3834d185c",
   "metadata": {},
   "source": [
    "Write your own program (or build on the one you wrote before) to read the NBA Attendance file into Python, and find the average attendance, average price of a ticket, and the max attendance record, max ticket price. \n",
    "Display the total attendance, average attendance, the max attendance with the team name, and the max ticket price with the team name.\n",
    "\n",
    "Capture your program and results in a text file and upload."
   ]
  },
  {
   "cell_type": "code",
   "execution_count": 61,
   "id": "1c0c48a4-1d3d-4e3c-b4c4-ac5a7516c38c",
   "metadata": {},
   "outputs": [
    {
     "name": "stdout",
     "output_type": "stream",
     "text": [
      "Total Attendance: 424189\n",
      "-\n",
      "Avg Attendance: Washington  | 15710.7\n",
      "-\n",
      "Avg Price: 18.57\n",
      "-\n",
      "Max Price: $ 29.18\n"
     ]
    }
   ],
   "source": [
    "import numpy as np\n",
    "\n",
    "file = open('/Users/pergolicious/Downloads/nba-attendance-1989.txt', 'r')\n",
    "\n",
    "NBAlist = []\n",
    "attendance = []\n",
    "price = []\n",
    "\n",
    "for line in file:\n",
    "    textline = line.strip()\n",
    "    item = textline.split()\n",
    "    NBAlist.append(item)\n",
    "\n",
    "    \n",
    "for (city, att, cost) in NBAlist:\n",
    "    attendance.append(int(att))\n",
    "    price.append(float(cost))\n",
    "    \n",
    "print('Total Attendance:',sum(attendance))\n",
    "print('-')\n",
    "print('Avg Attendance:',city,' |',round(np.mean(attendance),1))\n",
    "print('-')\n",
    "print('Avg Price:', round(np.mean(price),2))\n",
    "print('-')\n",
    "print('Max Price: $',max(price))\n",
    "file.close()"
   ]
  },
  {
   "cell_type": "code",
   "execution_count": 63,
   "id": "8de288ac-2f56-48f6-8904-f0a978c1a12c",
   "metadata": {},
   "outputs": [
    {
     "name": "stdout",
     "output_type": "stream",
     "text": [
      "Total Attendance was:  424189\n",
      "Average Attendance was:  15710.703703703704\n",
      "Average Ticket Price was:  18.566666666666666\n",
      "Team with greatest attendance was:  Minnesota Attendance of:  26160\n",
      "Team with greatest price was:  LA_Lakers Price of:  29.18\n"
     ]
    }
   ],
   "source": [
    "# Class solution:\n",
    "\n",
    "NBAfile= open('/Users/pergolicious/Downloads/nba-attendance-1989.txt','r')\n",
    "NBAList = []\n",
    "for line in NBAfile:\n",
    "     textline=line.strip()\n",
    "     items = textline.split()\n",
    "     NBAList.append(items)\n",
    "\n",
    "attendances = []\n",
    "for line in NBAList:\n",
    "     attendances.append(int(line[1]))\n",
    "\n",
    "att_sum = sum(attendances)\n",
    "print ('Total Attendance was: ',att_sum)\n",
    "\n",
    "average_att = sum(attendances) / len(attendances)\n",
    "print ('Average Attendance was: ',average_att)\n",
    "\n",
    "team, att, price = NBAList[0]\n",
    "prices = []\n",
    "for (team, att, price) in NBAList:\n",
    "     prices.append(float(price))\n",
    "\n",
    "avg_price = sum(prices) / len(prices)\n",
    "print ('Average Ticket Price was: ',avg_price)\n",
    "\n",
    "max_att = max(attendances)\n",
    "max_price = max(prices)\n",
    "teams = []\n",
    "for (team, att, price) in NBAList:\n",
    "     teams.append(team)\n",
    "max_team=teams[attendances.index(max_att)]\n",
    "max_team2 = teams[prices.index(max_price)]\n",
    "print ('Team with greatest attendance was: ',max_team, 'Attendance of: ', max_att)\n",
    "print ('Team with greatest price was: ',max_team2, 'Price of: ', max_price)"
   ]
  }
 ],
 "metadata": {
  "kernelspec": {
   "display_name": "Python 3 (ipykernel)",
   "language": "python",
   "name": "python3"
  },
  "language_info": {
   "codemirror_mode": {
    "name": "ipython",
    "version": 3
   },
   "file_extension": ".py",
   "mimetype": "text/x-python",
   "name": "python",
   "nbconvert_exporter": "python",
   "pygments_lexer": "ipython3",
   "version": "3.9.12"
  }
 },
 "nbformat": 4,
 "nbformat_minor": 5
}
