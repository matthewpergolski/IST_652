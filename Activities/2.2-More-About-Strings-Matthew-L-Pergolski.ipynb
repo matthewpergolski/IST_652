{
 "cells": [
  {
   "cell_type": "markdown",
   "id": "8547d560-81db-4f9e-b09a-7c41f695d6ae",
   "metadata": {},
   "source": [
    "## 2.2-More-About-Strings-Matthew-L-Pergolski | Activity"
   ]
  },
  {
   "cell_type": "code",
   "execution_count": 1,
   "id": "83315542-d392-4310-a1db-3372b6bbb9ac",
   "metadata": {},
   "outputs": [
    {
     "name": "stdout",
     "output_type": "stream",
     "text": [
      "today is a great day\n",
      "TODAY IS A GREAT DAY\n",
      "Today is a Great DAY\n",
      "False\n",
      "-1\n"
     ]
    }
   ],
   "source": [
    "mp = 'Today is a Great DAY'\n",
    "\n",
    "\n",
    "print(mp.lower())\n",
    "\n",
    "print(mp.upper())\n",
    "\n",
    "print(mp.strip())\n",
    "\n",
    "print(mp.startswith('X'))  # where X is the starting letter of your string\n",
    "\n",
    "print(mp.find('Z'))  # find another character in your string"
   ]
  },
  {
   "cell_type": "code",
   "execution_count": 1,
   "id": "0c8a70ca-402f-46f7-84d1-661627292153",
   "metadata": {},
   "outputs": [
    {
     "name": "stdout",
     "output_type": "stream",
     "text": [
      "0.8475 <class 'float'>\n"
     ]
    }
   ],
   "source": [
    "str = 'X-DSPAM-Confidence:0.8475'\n",
    "str = str.split(':')\n",
    "str = str[1]\n",
    "str = float(str)\n",
    "print(str, type(str))"
   ]
  }
 ],
 "metadata": {
  "kernelspec": {
   "display_name": "Python 3 (ipykernel)",
   "language": "python",
   "name": "python3"
  },
  "language_info": {
   "codemirror_mode": {
    "name": "ipython",
    "version": 3
   },
   "file_extension": ".py",
   "mimetype": "text/x-python",
   "name": "python",
   "nbconvert_exporter": "python",
   "pygments_lexer": "ipython3",
   "version": "3.9.12"
  }
 },
 "nbformat": 4,
 "nbformat_minor": 5
}
