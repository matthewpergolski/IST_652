{
 "cells": [
  {
   "cell_type": "markdown",
   "id": "1dfee976-1325-4831-9f1c-56e880b0c24a",
   "metadata": {},
   "source": [
    "7.3 Unicode and Python\n"
   ]
  },
  {
   "cell_type": "code",
   "execution_count": 1,
   "id": "40e90b44-5ba8-49d3-bbd1-c25df1905575",
   "metadata": {},
   "outputs": [
    {
     "name": "stdout",
     "output_type": "stream",
     "text": [
      "15\n",
      "255\n",
      "127\n",
      "Δ\n",
      "Δ\n",
      "Δ\n",
      "b'\\xffab'\n",
      "<class 'bytes'>\n",
      "<class 'bytes'>\n",
      "3\n",
      "<class 'str'>\n",
      "ꀀabcd޴\n",
      "ꀀabcd޴\n",
      "b'abcd'\n",
      "b'?abcd?'\n",
      "b'&#40960;abcd&#1972;'\n",
      "b'\\\\ua000abcd\\\\u07b4'\n"
     ]
    }
   ],
   "source": [
    "print(15)\n",
    "\n",
    "print(0xFF)\n",
    "\n",
    "print(0x7F)\n",
    "\n",
    "print('\\u0394')\n",
    "\n",
    "print(\"\\U00000394\")\n",
    "\n",
    "print(\"\\N{GREEK CAPITAL LETTER DELTA}\")\n",
    "\n",
    "print(b'\\xFFab')\n",
    "\n",
    "print(type(b'ab'))\n",
    "\n",
    "print(type(b'\\xFFab'))\n",
    "\n",
    "print(len(b'\\xFFab'))\n",
    "\n",
    "u=chr(40960) + 'abcd' + chr(1972)\n",
    "\n",
    "print(type(u))\n",
    "\n",
    "print(u)\n",
    "\n",
    "print(u)\n",
    "\n",
    "print(u.encode('ascii','ignore'))\n",
    "\n",
    "print(u.encode('ascii','replace'))\n",
    "\n",
    "print(u.encode('ascii', 'xmlcharrefreplace'))\n",
    "\n",
    "print(u.encode('ascii', 'backslashreplace'))"
   ]
  },
  {
   "cell_type": "code",
   "execution_count": null,
   "id": "018b4ceb-73d0-48ec-8d0c-5734555bfc42",
   "metadata": {},
   "outputs": [],
   "source": []
  }
 ],
 "metadata": {
  "kernelspec": {
   "display_name": "Python 3 (ipykernel)",
   "language": "python",
   "name": "python3"
  },
  "language_info": {
   "codemirror_mode": {
    "name": "ipython",
    "version": 3
   },
   "file_extension": ".py",
   "mimetype": "text/x-python",
   "name": "python",
   "nbconvert_exporter": "python",
   "pygments_lexer": "ipython3",
   "version": "3.9.12"
  }
 },
 "nbformat": 4,
 "nbformat_minor": 5
}
