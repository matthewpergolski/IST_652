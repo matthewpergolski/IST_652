{
 "cells": [
  {
   "cell_type": "markdown",
   "id": "fe295456-25ee-4ef2-aa35-0972650a1d6b",
   "metadata": {},
   "source": [
    "Group 2 In Class Activity"
   ]
  },
  {
   "cell_type": "code",
   "execution_count": 16,
   "id": "99696aa8-5470-42f3-94b8-50f2798f2e79",
   "metadata": {},
   "outputs": [
    {
     "name": "stdin",
     "output_type": "stream",
     "text": [
      "Provide multiple numbers 1,2,3\n"
     ]
    },
    {
     "data": {
      "text/plain": [
       "6"
      ]
     },
     "execution_count": 16,
     "metadata": {},
     "output_type": "execute_result"
    }
   ],
   "source": [
    "import numpy\n",
    "\n",
    "values = input('Provide multiple numbers')\n",
    "lst = values.split(\",\")\n",
    "\n",
    "lst = [int(i) for i in lst]\n",
    "tple = tuple(lst)\n",
    "\n",
    "result = numpy.prod(lst)\n",
    "result"
   ]
  }
 ],
 "metadata": {
  "kernelspec": {
   "display_name": "Python 3 (ipykernel)",
   "language": "python",
   "name": "python3"
  },
  "language_info": {
   "codemirror_mode": {
    "name": "ipython",
    "version": 3
   },
   "file_extension": ".py",
   "mimetype": "text/x-python",
   "name": "python",
   "nbconvert_exporter": "python",
   "pygments_lexer": "ipython3",
   "version": "3.9.12"
  }
 },
 "nbformat": 4,
 "nbformat_minor": 5
}
