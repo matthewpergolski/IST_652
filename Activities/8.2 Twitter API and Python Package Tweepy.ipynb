{
 "cells": [
  {
   "cell_type": "markdown",
   "id": "24ef8978-7d2e-4c70-8cc8-677bf7c631df",
   "metadata": {},
   "source": [
    "8.2 Twitter API and Python Package Tweepy"
   ]
  },
  {
   "cell_type": "code",
   "execution_count": 1,
   "id": "84790382-b7d9-46bf-aecd-6b4307e17d0a",
   "metadata": {},
   "outputs": [],
   "source": [
    "# This program contains functions to save and load from database collections in Mongo\n",
    "#   They connect to mongod running on port 27017 on the localhost\n",
    "\n",
    "\n",
    "import pymongo\n",
    "import json\n",
    "from bson.json_util import dumps\n",
    "\n",
    "\n",
    "# This function either starts or adds to an existing database and collection in Mongo\n",
    "# Parameters:  \n",
    "#   data - this should be a list of json objects, where each will be a collection element\n",
    "#      in the DB stored under a unique ID key created by Mongo\n",
    "#   DBname - the name of the database, either new or existing\n",
    "#   DBcollection - the name of the collection, either new or existing\n",
    "\n",
    "def save_to_DB (DBname, DBcollection, data):\n",
    "    # connect to database server and just let connection errors fail the program\n",
    "    client = pymongo.MongoClient('localhost', 27017)\n",
    "    # save the results in a database collection\n",
    "    #   change names to lowercase because they are not case sensitive\n",
    "    #   and remove special characters like hashtags and spaces (other special characters may also be forbidden)\n",
    "    DBname = DBname.lower()\n",
    "    DBname = DBname.replace('#', '')\n",
    "    DBname = DBname.replace(' ', '')\n",
    "    DBcollection = DBcollection.lower()\n",
    "    DBcollection = DBcollection.replace('#', '')\n",
    "    DBcollection = DBcollection.replace(' ', '')\n",
    "\n",
    "    # use the DBname and collection, which will create if not existing\n",
    "    db = client[DBname]\n",
    "    collection = db[DBcollection]   \n",
    "        \n",
    "    # add the data to the database\n",
    "    collection.insert_many(data)\n",
    "    print(\"Saved\", len(data), \"documents to DB collection\", DBname, DBcollection)\n",
    "\n",
    "\n",
    "# This function gets data from an existing DB and collection\n",
    "# Parameters:  \n",
    "#   DBname and DBcollection- the name of the database and collection, either new or existing\n",
    "# Result:\n",
    "#   data - returns all the data in the collection as a list of JSON objects\n",
    "\n",
    "def load_from_DB (DBname, DBcollection):\n",
    "    # connect to database server and just let connection errors fail the program\n",
    "    client = pymongo.MongoClient('localhost', 27017)\n",
    "    # use the DBname and collection, which will create if not existing\n",
    "    db = client[DBname]\n",
    "    collection = db[DBcollection]    \n",
    "        \n",
    "    # get all the data from the collection as a cursor\n",
    "    docs = collection.find()\n",
    "    #  convert the cursor to a list\n",
    "    docs_bson = list(docs)\n",
    "    docs_json_str = [dumps(doc) for doc in docs_bson]\n",
    "    docs_json = [json.loads(doc) for doc in docs_json_str]\n",
    "    return docs_json"
   ]
  },
  {
   "cell_type": "code",
   "execution_count": null,
   "id": "5d69dad6-2e31-4bd1-abf8-642ec30cff3f",
   "metadata": {},
   "outputs": [],
   "source": []
  }
 ],
 "metadata": {
  "kernelspec": {
   "display_name": "Python 3 (ipykernel)",
   "language": "python",
   "name": "python3"
  },
  "language_info": {
   "codemirror_mode": {
    "name": "ipython",
    "version": 3
   },
   "file_extension": ".py",
   "mimetype": "text/x-python",
   "name": "python",
   "nbconvert_exporter": "python",
   "pygments_lexer": "ipython3",
   "version": "3.8.13"
  }
 },
 "nbformat": 4,
 "nbformat_minor": 5
}
