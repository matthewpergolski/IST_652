{
 "cells": [
  {
   "cell_type": "markdown",
   "id": "cc94b6b4-4acb-48e4-a127-e0742e9ecfaf",
   "metadata": {},
   "source": [
    "# 3.4 Sorting Lists | Activity"
   ]
  },
  {
   "cell_type": "markdown",
   "id": "bb045a46-1679-423b-9df4-9a87ee3d24a0",
   "metadata": {},
   "source": [
    "3.4-Sorting-Lists_Matthew-L-Pergolski"
   ]
  },
  {
   "cell_type": "markdown",
   "id": "780c155a-a494-4b5c-8e1e-b0737c11f2c0",
   "metadata": {},
   "source": [
    "Given a list of non-empty tuples, write a sort expression that will sort in increasing order by the last element in each tuple.\n",
    "\n",
    "Tuples:  [(1,7),(1,3),(3,4),(2,2)]\n",
    "\n",
    "Your result should look like:  [(2,2),(1,3),(3,4),(1,7)]\n",
    "\n",
    "Share your sort statement with us here, and talk about the steps you took to accomplish this task."
   ]
  },
  {
   "cell_type": "code",
   "execution_count": 14,
   "id": "65da9332-23f6-4509-a436-7b206a90e4af",
   "metadata": {},
   "outputs": [
    {
     "data": {
      "text/plain": [
       "[(2, 2), (1, 3), (3, 4), (1, 7)]"
      ]
     },
     "execution_count": 14,
     "metadata": {},
     "output_type": "execute_result"
    }
   ],
   "source": [
    "# initialize the tuple\n",
    "toople = ([(1,7),(1,3),(3,4),(2,2)])\n",
    "\n",
    "# use the sorted function versus the .sort() method; this will allow for the use of the lambda 'nameless' function to identify\n",
    "# which index of the tuple to sort.  Lastly, using the reverse arugment to indicate 'increasing order' is what lead to this answer\n",
    "toople = sorted(toople, key = lambda toople: toople[1], reverse = False)\n",
    "toople"
   ]
  }
 ],
 "metadata": {
  "kernelspec": {
   "display_name": "Python 3 (ipykernel)",
   "language": "python",
   "name": "python3"
  },
  "language_info": {
   "codemirror_mode": {
    "name": "ipython",
    "version": 3
   },
   "file_extension": ".py",
   "mimetype": "text/x-python",
   "name": "python",
   "nbconvert_exporter": "python",
   "pygments_lexer": "ipython3",
   "version": "3.9.12"
  }
 },
 "nbformat": 4,
 "nbformat_minor": 5
}
