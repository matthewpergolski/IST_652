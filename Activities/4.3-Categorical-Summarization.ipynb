{
 "cells": [
  {
   "cell_type": "markdown",
   "id": "fa7b5c8f-e98b-480d-835c-95462a6cb5cf",
   "metadata": {},
   "source": [
    "# 4.3 Categorical Summarization"
   ]
  },
  {
   "cell_type": "markdown",
   "id": "e05c794d-733b-4cb7-b5fa-3446767cad88",
   "metadata": {},
   "source": [
    "4.3-Categorical-Summarization"
   ]
  },
  {
   "cell_type": "markdown",
   "id": "97c21049-cbd0-487b-b713-ad8f586b4804",
   "metadata": {},
   "source": [
    "Write a program which repeatedly reads numbers until the user enters 'done'. Once 'done' is entered, print out the total, count, and average of the numbers. If the user enters anything other than a number, detect their mistake using try and except and print an error message and skip to the next number.\n",
    "\n",
    "Submit your code and the results you got from running your program.\n",
    "\n",
    "Check a couple of your classmates to see what they did."
   ]
  },
  {
   "cell_type": "code",
   "execution_count": 36,
   "id": "876e6418-a490-45da-babc-e4901f40058b",
   "metadata": {},
   "outputs": [
    {
     "name": "stdin",
     "output_type": "stream",
     "text": [
      "Input a number: 3\n",
      "Input a number: 4\n",
      "Input a number: 5\n",
      "Input a number: 6\n",
      "Input a number: 4\n",
      "Input a number: 3\n",
      "Input a number: 4\n",
      "Input a number: 5\n",
      "Input a number: 6\n",
      "Input a number: 6\n",
      "Input a number: 7\n",
      "Input a number: tree\n"
     ]
    },
    {
     "name": "stdout",
     "output_type": "stream",
     "text": [
      "Please input a number\n"
     ]
    },
    {
     "name": "stdin",
     "output_type": "stream",
     "text": [
      "Input a number: done\n"
     ]
    },
    {
     "data": {
      "text/plain": [
       "'Sum:53, Count:, 11, Average: 4.818181818181818'"
      ]
     },
     "execution_count": 36,
     "metadata": {},
     "output_type": "execute_result"
    }
   ],
   "source": [
    "def thisisapgoram():\n",
    "    summ = 0\n",
    "    count = 0\n",
    "    while True:\n",
    "        try:\n",
    "            x = input('Input a number:')\n",
    "            x=int(x)\n",
    "            summ += int(x)\n",
    "            count += 1\n",
    "        except ValueError:\n",
    "            x=str(x)\n",
    "            if x.lower() == 'done':\n",
    "                return f'Sum:{summ}, Count:, {count}, Average: {summ/count}'\n",
    "            else:\n",
    "                print('Please input a number')\n",
    "                \n",
    "                \n",
    "thisisapgoram()"
   ]
  }
 ],
 "metadata": {
  "kernelspec": {
   "display_name": "Python 3 (ipykernel)",
   "language": "python",
   "name": "python3"
  },
  "language_info": {
   "codemirror_mode": {
    "name": "ipython",
    "version": 3
   },
   "file_extension": ".py",
   "mimetype": "text/x-python",
   "name": "python",
   "nbconvert_exporter": "python",
   "pygments_lexer": "ipython3",
   "version": "3.9.12"
  }
 },
 "nbformat": 4,
 "nbformat_minor": 5
}
