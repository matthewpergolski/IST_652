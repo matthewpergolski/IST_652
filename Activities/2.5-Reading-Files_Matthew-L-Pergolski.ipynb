{
 "cells": [
  {
   "cell_type": "markdown",
   "id": "d4254533-8236-49de-9c73-aa5cfd524cf5",
   "metadata": {},
   "source": [
    "# 2.5 Reading Files"
   ]
  },
  {
   "cell_type": "code",
   "execution_count": null,
   "id": "d79c9bce-180e-4ac4-ba6d-a0b223f076b7",
   "metadata": {},
   "outputs": [],
   "source": [
    "# 2.5-Reading-Files_Matthew-L-Pergolski"
   ]
  },
  {
   "cell_type": "markdown",
   "id": "ed9ed0b5-db93-49d7-b6f8-9ded579481ba",
   "metadata": {},
   "source": [
    "Take the example I demonstrated in the previous lecture (NBA attendance), \n",
    "write your own program to read the data, store in a list, strip the white space, and display your results.\n",
    "\n",
    "Submit your program code and the results you got in a text file.\n",
    "\n",
    "The data file NBA-Attendance-1989.txt is attached here."
   ]
  },
  {
   "cell_type": "code",
   "execution_count": 7,
   "id": "413e9ee0-8b57-4045-a1e1-bb2ea5cb087c",
   "metadata": {},
   "outputs": [
    {
     "name": "stdout",
     "output_type": "stream",
     "text": [
      "['Atlanta', '13993', '20.06']\n",
      "['Boston', '14916', '22.54']\n",
      "['Charlotte', '23901', '17']\n",
      "['Chicago', '18404', '21.98']\n",
      "['Cleveland', '16969', '19.63']\n",
      "['Dallas', '16868', '17.05']\n",
      "['Denver', '12668', '17.4']\n",
      "['Detroit', '21454', '24.42']\n",
      "['Golden_State', '15025', '17.04']\n",
      "['Houston', '15846', '17.56']\n",
      "['Indiana', '12885', '13.77']\n",
      "['LA_Clippers', '11869', '21.95']\n",
      "['LA_Lakers', '17378', '29.18']\n",
      "['Miami', '15008', '17.6']\n",
      "['Milwaukee', '16088', '14.08']\n",
      "['Minnesota', '26160', '10.92']\n",
      "['New_Jersey', '12160', '13.31']\n",
      "['New_York', '17815', '22.7']\n",
      "['Orlando', '15606', '20.47']\n",
      "['Philadelphia', '14017', '19.04']\n",
      "['Phoenix', '14114', '16.59']\n",
      "['Portland', '12884', '22.19']\n",
      "['Sacramento', '17014', '16.96']\n",
      "['San_Antonio', '14722', '16.79']\n",
      "['Seattle', '12244', '18.11']\n",
      "['Utah', '12616', '18.41']\n",
      "['Washington', '11565', '14.55']\n"
     ]
    }
   ],
   "source": [
    "file = open('/Users/pergolicious/Downloads/nba-attendance-1989.txt', 'r')\n",
    "\n",
    "NBAlist = []\n",
    "\n",
    "for line in file:\n",
    "    textline = line.strip()\n",
    "    items = textline.split()\n",
    "    NBAlist.append(items)\n",
    "\n",
    "for row in NBAlist:\n",
    "    print(row)\n",
    "\n",
    "file.close()"
   ]
  },
  {
   "cell_type": "code",
   "execution_count": 8,
   "id": "4288075c-6ae1-4e77-be5e-24010a9529e7",
   "metadata": {},
   "outputs": [
    {
     "name": "stdout",
     "output_type": "stream",
     "text": [
      "['Atlanta', '13993', '20.06']\n",
      "['Boston', '14916', '22.54']\n",
      "['Charlotte', '23901', '17']\n",
      "['Chicago', '18404', '21.98']\n",
      "['Cleveland', '16969', '19.63']\n",
      "['Dallas', '16868', '17.05']\n",
      "['Denver', '12668', '17.4']\n",
      "['Detroit', '21454', '24.42']\n",
      "['Golden_State', '15025', '17.04']\n",
      "['Houston', '15846', '17.56']\n",
      "['Indiana', '12885', '13.77']\n",
      "['LA_Clippers', '11869', '21.95']\n",
      "['LA_Lakers', '17378', '29.18']\n",
      "['Miami', '15008', '17.6']\n",
      "['Milwaukee', '16088', '14.08']\n",
      "['Minnesota', '26160', '10.92']\n",
      "['New_Jersey', '12160', '13.31']\n",
      "['New_York', '17815', '22.7']\n",
      "['Orlando', '15606', '20.47']\n",
      "['Philadelphia', '14017', '19.04']\n",
      "['Phoenix', '14114', '16.59']\n",
      "['Portland', '12884', '22.19']\n",
      "['Sacramento', '17014', '16.96']\n",
      "['San_Antonio', '14722', '16.79']\n",
      "['Seattle', '12244', '18.11']\n",
      "['Utah', '12616', '18.41']\n",
      "['Washington', '11565', '14.55']\n"
     ]
    }
   ],
   "source": [
    "# Alternative method -- don't need to close the file after.\n",
    "\n",
    "NBAlist = []\n",
    "\n",
    "with open('/Users/pergolicious/Downloads/nba-attendance-1989.txt') as file:\n",
    "    for line in file:\n",
    "        textline = line.strip()\n",
    "        items = textline.split()\n",
    "        NBAlist.append(items)\n",
    "\n",
    "    for row in NBAlist:\n",
    "        print(row)\n",
    "    "
   ]
  }
 ],
 "metadata": {
  "kernelspec": {
   "display_name": "Python 3 (ipykernel)",
   "language": "python",
   "name": "python3"
  },
  "language_info": {
   "codemirror_mode": {
    "name": "ipython",
    "version": 3
   },
   "file_extension": ".py",
   "mimetype": "text/x-python",
   "name": "python",
   "nbconvert_exporter": "python",
   "pygments_lexer": "ipython3",
   "version": "3.9.12"
  }
 },
 "nbformat": 4,
 "nbformat_minor": 5
}
