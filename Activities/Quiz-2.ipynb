{
 "cells": [
  {
   "cell_type": "markdown",
   "id": "8318e83f-27d7-484b-a078-2b03b148c5ad",
   "metadata": {},
   "source": [
    "### QUIZ 2"
   ]
  },
  {
   "cell_type": "markdown",
   "id": "6d0f7559-64a7-446a-9dd6-b755c213a71c",
   "metadata": {},
   "source": [
    "## 1"
   ]
  },
  {
   "cell_type": "code",
   "execution_count": 1,
   "id": "4ab0a537-3e6d-4620-9cf4-a6450bd86aea",
   "metadata": {},
   "outputs": [],
   "source": [
    "# answer with regular parenthesis"
   ]
  },
  {
   "cell_type": "markdown",
   "id": "ac4219b3-7020-43db-8250-9e291dba74e8",
   "metadata": {},
   "source": [
    "## 2"
   ]
  },
  {
   "cell_type": "markdown",
   "id": "6c0b0c38-12f1-4f05-bc74-a7122f4436e4",
   "metadata": {},
   "source": [
    "Q 2\n",
    "Question 2\n",
    "Suppose that we have defined the following dictionary:\n",
    "\n",
    "people = {'hugh':49,'kate':35,'lucy':24,'bob':36}\n",
    "\n",
    "In the following list, three of the code snippets will correctly sum the values in this dictionary. Please select the one snippet that is NOT correct.\n",
    "\n",
    "a. total = 0\n",
    "for key in people:\n",
    "     total += key\n",
    "b. total = 0\n",
    "for x in people.values():\n",
    "     total += x\n",
    "c. total = sum(people.values())\n",
    "d. total = 0\n",
    "for key in people:\n",
    "     total += people[key]"
   ]
  },
  {
   "cell_type": "code",
   "execution_count": 14,
   "id": "15287d3f-340a-472f-a710-68928a48e789",
   "metadata": {},
   "outputs": [
    {
     "data": {
      "text/plain": [
       "{'hugh': 49, 'kate': 35, 'lucy': 24, 'bob': 36}"
      ]
     },
     "execution_count": 14,
     "metadata": {},
     "output_type": "execute_result"
    }
   ],
   "source": [
    "people = {'hugh':49,'kate':35,'lucy':24,'bob':36}\n",
    "people"
   ]
  },
  {
   "cell_type": "code",
   "execution_count": 11,
   "id": "6d943512-5a3b-4690-aa65-a4a78def08f0",
   "metadata": {},
   "outputs": [
    {
     "ename": "TypeError",
     "evalue": "unsupported operand type(s) for +=: 'int' and 'str'",
     "output_type": "error",
     "traceback": [
      "\u001b[0;31m---------------------------------------------------------------------------\u001b[0m",
      "\u001b[0;31mTypeError\u001b[0m                                 Traceback (most recent call last)",
      "Input \u001b[0;32mIn [11]\u001b[0m, in \u001b[0;36m<cell line: 3>\u001b[0;34m()\u001b[0m\n\u001b[1;32m      2\u001b[0m total \u001b[38;5;241m=\u001b[39m \u001b[38;5;241m0\u001b[39m\n\u001b[1;32m      3\u001b[0m \u001b[38;5;28;01mfor\u001b[39;00m key \u001b[38;5;129;01min\u001b[39;00m people:\n\u001b[0;32m----> 4\u001b[0m      total \u001b[38;5;241m+\u001b[39m\u001b[38;5;241m=\u001b[39m key\n",
      "\u001b[0;31mTypeError\u001b[0m: unsupported operand type(s) for +=: 'int' and 'str'"
     ]
    }
   ],
   "source": [
    "# Option 1\n",
    "total = 0\n",
    "for key in people:\n",
    "     total += key"
   ]
  },
  {
   "cell_type": "code",
   "execution_count": 7,
   "id": "b2264d9e-ceef-4eba-9e53-f70456c7e8e4",
   "metadata": {},
   "outputs": [
    {
     "data": {
      "text/plain": [
       "144"
      ]
     },
     "execution_count": 7,
     "metadata": {},
     "output_type": "execute_result"
    }
   ],
   "source": [
    "total = 0\n",
    "for x in people.values():\n",
    "     total += x\n",
    "        \n",
    "total"
   ]
  },
  {
   "cell_type": "code",
   "execution_count": 8,
   "id": "9e96f745-02a2-4c6c-be28-3565815d4a54",
   "metadata": {},
   "outputs": [
    {
     "data": {
      "text/plain": [
       "144"
      ]
     },
     "execution_count": 8,
     "metadata": {},
     "output_type": "execute_result"
    }
   ],
   "source": [
    "total = sum(people.values())\n",
    "total"
   ]
  },
  {
   "cell_type": "code",
   "execution_count": 12,
   "id": "1efd0667-9ab6-4635-bca1-ea931489e210",
   "metadata": {},
   "outputs": [
    {
     "data": {
      "text/plain": [
       "144"
      ]
     },
     "execution_count": 12,
     "metadata": {},
     "output_type": "execute_result"
    }
   ],
   "source": [
    "total = 0\n",
    "for key in people:\n",
    "     total += people[key]\n",
    "        \n",
    "total"
   ]
  },
  {
   "cell_type": "markdown",
   "id": "aeb6e005-0b69-4f73-997a-0d4fbc506eb7",
   "metadata": {},
   "source": [
    "Answer: A"
   ]
  },
  {
   "cell_type": "markdown",
   "id": "48e3ce43-57b4-47ba-bd37-6336f830057c",
   "metadata": {},
   "source": [
    "## 3"
   ]
  },
  {
   "cell_type": "code",
   "execution_count": 13,
   "id": "4955ec3e-2c0b-41d1-8eaa-fc2255918a6c",
   "metadata": {},
   "outputs": [
    {
     "ename": "KeyError",
     "evalue": "'dan'",
     "output_type": "error",
     "traceback": [
      "\u001b[0;31m---------------------------------------------------------------------------\u001b[0m",
      "\u001b[0;31mKeyError\u001b[0m                                  Traceback (most recent call last)",
      "Input \u001b[0;32mIn [13]\u001b[0m, in \u001b[0;36m<cell line: 1>\u001b[0;34m()\u001b[0m\n\u001b[0;32m----> 1\u001b[0m \u001b[43mpeople\u001b[49m\u001b[43m[\u001b[49m\u001b[38;5;124;43m'\u001b[39;49m\u001b[38;5;124;43mdan\u001b[39;49m\u001b[38;5;124;43m'\u001b[39;49m\u001b[43m]\u001b[49m\n",
      "\u001b[0;31mKeyError\u001b[0m: 'dan'"
     ]
    }
   ],
   "source": [
    "people['dan']"
   ]
  },
  {
   "cell_type": "markdown",
   "id": "ac81d7a9-a28a-4f25-beca-08164ced94be",
   "metadata": {},
   "source": [
    "Answer: Since 'dan' is not a key, it will raise a 'keyError'"
   ]
  },
  {
   "cell_type": "markdown",
   "id": "7f379c6f-472b-4c94-bb12-8afce9ff7f28",
   "metadata": {},
   "source": [
    "## 4"
   ]
  },
  {
   "cell_type": "markdown",
   "id": "f086fd08-c522-4984-a3dc-6c8d00b78e71",
   "metadata": {},
   "source": [
    "Q 4\n",
    "Question 4\n",
    "Suppose that we have the following list of dictionaries and associated loop of code:\n",
    "\n",
    "peoplelist = [{'name':'bob','age':28},{'name':'dylan','age':43},{'name':'cat','age':17}]\n",
    "     for item in peoplelist:\n",
    "     if item['age']>30:\n",
    "          print(item['name'])\n",
    "\n",
    "\n",
    "What will be the result if we execute this code?"
   ]
  },
  {
   "cell_type": "code",
   "execution_count": 20,
   "id": "57959bbe-4a6b-4213-83aa-f70494aefb59",
   "metadata": {},
   "outputs": [
    {
     "name": "stdout",
     "output_type": "stream",
     "text": [
      "dylan\n"
     ]
    }
   ],
   "source": [
    "peoplelist = [{'name':'bob','age':28},{'name':'dylan','age':43},{'name':'cat','age':17}]\n",
    "for item in peoplelist:\n",
    " if item['age']>30:\n",
    "        print(item['name'])"
   ]
  },
  {
   "cell_type": "markdown",
   "id": "f6ef4a8a-0bef-410d-bb8d-b101c5398d71",
   "metadata": {},
   "source": [
    "Answer: A"
   ]
  },
  {
   "cell_type": "markdown",
   "id": "18af812f-bd60-4b48-baed-a99f9be25a68",
   "metadata": {},
   "source": [
    "## 5"
   ]
  },
  {
   "cell_type": "markdown",
   "id": "8cb2ec86-1f06-4c4c-afc1-b523b9adcb72",
   "metadata": {},
   "source": [
    "Q 5\n",
    "Question 5\n",
    "Suppose that we define the following mystery function:\n",
    "\n",
    "def mystery(x):\n",
    "     if x > 0:\n",
    "          return −x\n",
    "     else:\n",
    "          return x\n",
    "\n",
    "\n",
    "Which of the following is NOT a true statement?"
   ]
  },
  {
   "cell_type": "code",
   "execution_count": 22,
   "id": "07945f18-266d-4e9a-8766-4a0633e9d1ea",
   "metadata": {},
   "outputs": [],
   "source": [
    "def mystery(x):\n",
    "     if x > 0:\n",
    "          return -x\n",
    "     else:\n",
    "          return x"
   ]
  },
  {
   "cell_type": "code",
   "execution_count": 26,
   "id": "c7f365a4-641e-43c3-99e3-2576407f96b1",
   "metadata": {},
   "outputs": [
    {
     "data": {
      "text/plain": [
       "0"
      ]
     },
     "execution_count": 26,
     "metadata": {},
     "output_type": "execute_result"
    }
   ],
   "source": [
    "mystery(0)"
   ]
  },
  {
   "cell_type": "code",
   "execution_count": 27,
   "id": "52bb1020-1d6d-4064-afa1-6904603418cd",
   "metadata": {},
   "outputs": [
    {
     "data": {
      "text/plain": [
       "-5"
      ]
     },
     "execution_count": 27,
     "metadata": {},
     "output_type": "execute_result"
    }
   ],
   "source": [
    "mystery(5)"
   ]
  },
  {
   "cell_type": "code",
   "execution_count": 28,
   "id": "5cae43d0-f3d5-4047-96ff-7975a516e766",
   "metadata": {},
   "outputs": [
    {
     "data": {
      "text/plain": [
       "-5"
      ]
     },
     "execution_count": 28,
     "metadata": {},
     "output_type": "execute_result"
    }
   ],
   "source": [
    "mystery(-5)"
   ]
  },
  {
   "cell_type": "code",
   "execution_count": 29,
   "id": "8c269b57-4cd0-4534-9d81-f45fb499f88e",
   "metadata": {},
   "outputs": [
    {
     "data": {
      "text/plain": [
       "0"
      ]
     },
     "execution_count": 29,
     "metadata": {},
     "output_type": "execute_result"
    }
   ],
   "source": [
    "mystery(0)"
   ]
  },
  {
   "cell_type": "markdown",
   "id": "a5d704c7-8c55-498c-8a91-911a03ec6ead",
   "metadata": {},
   "source": [
    "Answer: A (a. Calling mystery(0) returns −5.)"
   ]
  },
  {
   "cell_type": "markdown",
   "id": "cc588dd2-a8a2-4cd5-8d29-d0a6c014e398",
   "metadata": {},
   "source": [
    "## 6"
   ]
  },
  {
   "cell_type": "markdown",
   "id": "19b71faa-3ce1-4705-aac8-5b3bfdabbedf",
   "metadata": {},
   "source": [
    "Q 6\n",
    "Question 6\n",
    "Suppose that we define a NumPy array from a list of lists: [Please note that the print statement leaves out commas between elements in the array below.]\n",
    "\n",
    "import numpy as np\n",
    "c = np.array([[2,4,6,8],[12,14,16,18],[22,24,26,28]])\n",
    "print(c)\n",
    "[[2,4,6,8]\n",
    "[12,14,16,18]\n",
    "[22,24,26,28]]\n",
    "\n",
    "\n",
    "What is the shape of this array as defined by c.shape?"
   ]
  },
  {
   "cell_type": "code",
   "execution_count": 30,
   "id": "d811d7dc-a3ee-4f9d-ac75-19714a15205a",
   "metadata": {},
   "outputs": [
    {
     "name": "stdout",
     "output_type": "stream",
     "text": [
      "[[ 2  4  6  8]\n",
      " [12 14 16 18]\n",
      " [22 24 26 28]]\n"
     ]
    }
   ],
   "source": [
    "import numpy as np\n",
    "c = np.array([[2,4,6,8],[12,14,16,18],[22,24,26,28]])\n",
    "print(c)"
   ]
  },
  {
   "cell_type": "code",
   "execution_count": 31,
   "id": "0053cdee-930a-4bd1-a1b4-32820e8b0f2c",
   "metadata": {},
   "outputs": [
    {
     "data": {
      "text/plain": [
       "(3, 4)"
      ]
     },
     "execution_count": 31,
     "metadata": {},
     "output_type": "execute_result"
    }
   ],
   "source": [
    "c.shape"
   ]
  },
  {
   "cell_type": "markdown",
   "id": "56c18cbe-2253-427e-a3ee-0696ab41edf7",
   "metadata": {},
   "source": [
    "Answer: a. (3,4)"
   ]
  },
  {
   "cell_type": "markdown",
   "id": "47c54328-8fb1-484a-bab8-87981313c01c",
   "metadata": {},
   "source": [
    "## 7"
   ]
  },
  {
   "cell_type": "markdown",
   "id": "9840643f-d81f-4924-9728-d8f39eb628ae",
   "metadata": {},
   "source": [
    "Q 7\n",
    "Question 7\n",
    "If we have the same NumPy array c as defined in the previous question, how would we index the array using slices to get the second row [12,14,16,18]?"
   ]
  },
  {
   "cell_type": "code",
   "execution_count": 32,
   "id": "c84fa4c6-83f9-472d-9272-c99106e900cc",
   "metadata": {},
   "outputs": [
    {
     "data": {
      "text/plain": [
       "array([ 4, 14, 24])"
      ]
     },
     "execution_count": 32,
     "metadata": {},
     "output_type": "execute_result"
    }
   ],
   "source": [
    "c[:,1]"
   ]
  },
  {
   "cell_type": "code",
   "execution_count": 33,
   "id": "dcc52915-d631-41c3-9b3d-98b6d48e90d4",
   "metadata": {},
   "outputs": [
    {
     "data": {
      "text/plain": [
       "array([12, 14, 16, 18])"
      ]
     },
     "execution_count": 33,
     "metadata": {},
     "output_type": "execute_result"
    }
   ],
   "source": [
    "c[1,:]"
   ]
  },
  {
   "cell_type": "code",
   "execution_count": 34,
   "id": "7ff8dd4e-cd33-46de-9012-70271f51ec01",
   "metadata": {},
   "outputs": [
    {
     "data": {
      "text/plain": [
       "array([22, 24, 26, 28])"
      ]
     },
     "execution_count": 34,
     "metadata": {},
     "output_type": "execute_result"
    }
   ],
   "source": [
    "c[2,:]"
   ]
  },
  {
   "cell_type": "code",
   "execution_count": 36,
   "id": "be9f48bb-63fc-4b45-a6bd-7447fd284192",
   "metadata": {},
   "outputs": [
    {
     "data": {
      "text/plain": [
       "array([ 6, 16, 26])"
      ]
     },
     "execution_count": 36,
     "metadata": {},
     "output_type": "execute_result"
    }
   ],
   "source": [
    "c[:,2]"
   ]
  },
  {
   "cell_type": "markdown",
   "id": "29f1bae8-8512-4c4b-8308-dd1a61ac3b98",
   "metadata": {},
   "source": [
    "Answer: B (b. c[1,:])"
   ]
  },
  {
   "cell_type": "markdown",
   "id": "dd62f1d5-aac3-40c6-8a9d-5eca84ab9f23",
   "metadata": {},
   "source": [
    "## 8"
   ]
  },
  {
   "cell_type": "markdown",
   "id": "387528a5-6cfa-474c-8778-f2c03297fb12",
   "metadata": {},
   "source": [
    "Q 8\n",
    "Question 8\n",
    "Suppose that we define a NumPy array:\n",
    "\n",
    "d = np.array([6,16,26])\n",
    "\n",
    "How would you use a Boolean mask to assign all the values greater than 10 to be the value 0?"
   ]
  },
  {
   "cell_type": "code",
   "execution_count": 58,
   "id": "23b86fe9-8331-4e19-93c2-f57b64d88aaf",
   "metadata": {},
   "outputs": [
    {
     "data": {
      "text/plain": [
       "array([ 6, 16, 26])"
      ]
     },
     "execution_count": 58,
     "metadata": {},
     "output_type": "execute_result"
    }
   ],
   "source": [
    "d = np.array([6,16,26])\n",
    "d"
   ]
  },
  {
   "cell_type": "code",
   "execution_count": 53,
   "id": "50cfa5a8-11e4-4b25-ade3-c40e9bc9c812",
   "metadata": {},
   "outputs": [
    {
     "data": {
      "text/plain": [
       "0"
      ]
     },
     "execution_count": 53,
     "metadata": {},
     "output_type": "execute_result"
    }
   ],
   "source": [
    "d = 0\n",
    "d"
   ]
  },
  {
   "cell_type": "code",
   "execution_count": 55,
   "id": "68a681ba-f108-433b-b04b-449be07a6cf9",
   "metadata": {},
   "outputs": [
    {
     "data": {
      "text/plain": [
       "array([ 0, 16, 26])"
      ]
     },
     "execution_count": 55,
     "metadata": {},
     "output_type": "execute_result"
    }
   ],
   "source": [
    "d[d<=10]=0\n",
    "d"
   ]
  },
  {
   "cell_type": "code",
   "execution_count": 59,
   "id": "5aeb2252-96a5-479b-a926-56b108046a08",
   "metadata": {},
   "outputs": [
    {
     "data": {
      "text/plain": [
       "array([6, 0, 0])"
      ]
     },
     "execution_count": 59,
     "metadata": {},
     "output_type": "execute_result"
    }
   ],
   "source": [
    "d[d>10]=0\n",
    "d"
   ]
  },
  {
   "cell_type": "code",
   "execution_count": 57,
   "id": "b6447df7-63ff-4e95-986b-dae5a642fdd2",
   "metadata": {},
   "outputs": [
    {
     "ename": "ValueError",
     "evalue": "NumPy boolean array indexing assignment cannot assign 3 input values to the 0 output values where the mask is true",
     "output_type": "error",
     "traceback": [
      "\u001b[0;31m---------------------------------------------------------------------------\u001b[0m",
      "\u001b[0;31mValueError\u001b[0m                                Traceback (most recent call last)",
      "Input \u001b[0;32mIn [57]\u001b[0m, in \u001b[0;36m<cell line: 1>\u001b[0;34m()\u001b[0m\n\u001b[0;32m----> 1\u001b[0m d[d\u001b[38;5;241m>\u001b[39m\u001b[38;5;241m10\u001b[39m]\u001b[38;5;241m=\u001b[39md\n\u001b[1;32m      2\u001b[0m d\n",
      "\u001b[0;31mValueError\u001b[0m: NumPy boolean array indexing assignment cannot assign 3 input values to the 0 output values where the mask is true"
     ]
    }
   ],
   "source": [
    "d[d>10]=d\n",
    "d"
   ]
  },
  {
   "cell_type": "markdown",
   "id": "f3b0d412-2048-46a0-9c1f-e498cfc9bc44",
   "metadata": {},
   "source": [
    "Answer: C (d[d>10]=0)"
   ]
  },
  {
   "cell_type": "markdown",
   "id": "33807d73-0825-41bf-8f99-925720030cb2",
   "metadata": {},
   "source": [
    "## 9"
   ]
  },
  {
   "cell_type": "markdown",
   "id": "7db37a31-78fe-4a24-a31e-571ed06218e9",
   "metadata": {},
   "source": [
    "Q 9\n",
    "Question 9\n",
    "Suppose that we use the datetime package to create two datetime objects:\n",
    "\n",
    "D1 = datetime(2017,2,22,9,30)\n",
    "D2 = datetime(2017,2,23,10,45)\n",
    "\n",
    "\n",
    "Which of the following are operations that you can do with the datetime objects?"
   ]
  },
  {
   "cell_type": "code",
   "execution_count": 70,
   "id": "e545af8c-de5e-40d9-9ecd-055c2396ca4c",
   "metadata": {},
   "outputs": [
    {
     "name": "stdout",
     "output_type": "stream",
     "text": [
      "2017-02-22 09:30:00\n",
      "2017-02-23 10:45:00\n"
     ]
    }
   ],
   "source": [
    "import datetime\n",
    "\n",
    "d1 = datetime.datetime(2017,2,22,9,30)\n",
    "print(D1)\n",
    "d2 = datetime.datetime(2017,2,23,10,45)\n",
    "print(D2)"
   ]
  },
  {
   "cell_type": "code",
   "execution_count": 71,
   "id": "51fb5c84-bbf7-485d-b4c0-345d5e980085",
   "metadata": {},
   "outputs": [
    {
     "data": {
      "text/plain": [
       "True"
      ]
     },
     "execution_count": 71,
     "metadata": {},
     "output_type": "execute_result"
    }
   ],
   "source": [
    "d1 < d2"
   ]
  },
  {
   "cell_type": "code",
   "execution_count": 73,
   "id": "87b6d394-fa07-4d40-823f-b1b0cd3321df",
   "metadata": {},
   "outputs": [
    {
     "data": {
      "text/plain": [
       "datetime.timedelta(days=-2, seconds=81900)"
      ]
     },
     "execution_count": 73,
     "metadata": {},
     "output_type": "execute_result"
    }
   ],
   "source": [
    "d1 - d2"
   ]
  },
  {
   "cell_type": "code",
   "execution_count": 75,
   "id": "22031e51-7b8a-46e6-aabe-076c292c2311",
   "metadata": {},
   "outputs": [
    {
     "data": {
      "text/plain": [
       "'2017'"
      ]
     },
     "execution_count": 75,
     "metadata": {},
     "output_type": "execute_result"
    }
   ],
   "source": [
    "d1.strftime(\"%Y\")"
   ]
  },
  {
   "cell_type": "markdown",
   "id": "1a2a23c9-b1ba-4e7d-95cb-011094733afe",
   "metadata": {},
   "source": [
    "Answer: d (All of the above)"
   ]
  },
  {
   "cell_type": "markdown",
   "id": "f79cfbce-b9e6-4936-91d7-96ccb0719f5a",
   "metadata": {},
   "source": [
    "## 10"
   ]
  },
  {
   "cell_type": "markdown",
   "id": "ec9a3b02-2953-46af-98b1-da410aa40cff",
   "metadata": {},
   "source": [
    "Q 10\n",
    "Question 10\n",
    "Suppose that you have dictionaries with word frequencies. Each dictionary has strings for the keys and numbers for the values (representing the frequencies of the words in the strings). Here is an example dictionary:\n",
    "\n",
    "word_freq = {'the':58,'people':6,'beautiful':8,'cats':13}\n",
    "\n",
    "Write a function that takes as parameters a word frequency dictionary and a threshold number that is an integer. This function should return a result that is a list of all the words whose frequency is greater than the threshold.\n",
    "\n",
    "For example, suppose that you name your function top_words. If you call the function with the above dictionary and the threshold of 10:\n",
    "\n",
    "top_words(word_freq, 10)\n",
    "\n",
    "you should get the result\n",
    "['the', 'cats'],\n",
    "where the words can occur in any order.\n",
    "\n",
    "Please submit the code for this function and the output using the word frequency dictionary listed below. Please show the output of your code using three separate threshold numbers:\n",
    "\n",
    "word_freq = {'the':58, 'people':6, 'beautiful':8, 'cats':13, 'finally':9, 'this': 19, 'class': 21, 'is': 101, 'almost': 1, 'over':4}"
   ]
  },
  {
   "cell_type": "code",
   "execution_count": 77,
   "id": "569b799e-c5a4-40d0-8ef2-9e0a76d8c3af",
   "metadata": {},
   "outputs": [
    {
     "data": {
      "text/plain": [
       "{'the': 58,\n",
       " 'people': 6,\n",
       " 'beautiful': 8,\n",
       " 'cats': 13,\n",
       " 'finally': 9,\n",
       " 'this': 19,\n",
       " 'class': 21,\n",
       " 'is': 101,\n",
       " 'almost': 1,\n",
       " 'over': 4}"
      ]
     },
     "execution_count": 77,
     "metadata": {},
     "output_type": "execute_result"
    }
   ],
   "source": [
    "word_freq = {'the':58, \n",
    "             'people':6, \n",
    "             'beautiful':8, \n",
    "             'cats':13, \n",
    "             'finally':9, \n",
    "             'this': 19, \n",
    "             'class': 21, \n",
    "             'is': 101, \n",
    "             'almost': 1, \n",
    "             'over':4}\n",
    "\n",
    "word_freq"
   ]
  },
  {
   "cell_type": "code",
   "execution_count": 94,
   "id": "4ffb10e3-9012-46ba-bf52-1191ee3aebf6",
   "metadata": {},
   "outputs": [],
   "source": [
    "def greaterthany(x, y):\n",
    "    listgreaterthany = []\n",
    "    for k, v in word_freq.items():\n",
    "        if int(v) > int(y):\n",
    "            listgreaterthany.append(k)\n",
    "    return listgreaterthany\n",
    "            "
   ]
  },
  {
   "cell_type": "code",
   "execution_count": 98,
   "id": "8fc5dec4-93b0-46c2-8354-e24ab463c321",
   "metadata": {},
   "outputs": [
    {
     "data": {
      "text/plain": [
       "['the', 'cats', 'this', 'class', 'is']"
      ]
     },
     "execution_count": 98,
     "metadata": {},
     "output_type": "execute_result"
    }
   ],
   "source": [
    "greaterthany(word_freq, 11)"
   ]
  },
  {
   "cell_type": "code",
   "execution_count": 99,
   "id": "2adacd45-424c-4c95-912e-a7555a3b087d",
   "metadata": {},
   "outputs": [
    {
     "data": {
      "text/plain": [
       "['the', 'this', 'class', 'is']"
      ]
     },
     "execution_count": 99,
     "metadata": {},
     "output_type": "execute_result"
    }
   ],
   "source": [
    "greaterthany(word_freq, 15)"
   ]
  },
  {
   "cell_type": "code",
   "execution_count": 100,
   "id": "7fef0643-2274-40cc-ba6c-b2adb542d44c",
   "metadata": {},
   "outputs": [
    {
     "data": {
      "text/plain": [
       "['the', 'class', 'is']"
      ]
     },
     "execution_count": 100,
     "metadata": {},
     "output_type": "execute_result"
    }
   ],
   "source": [
    "greaterthany(word_freq, 20)"
   ]
  },
  {
   "cell_type": "markdown",
   "id": "60c89294-f12a-474c-92a5-49974fde6682",
   "metadata": {},
   "source": [
    "## 11"
   ]
  },
  {
   "cell_type": "markdown",
   "id": "adf57126-acb0-42a1-a79e-45a251ca4b86",
   "metadata": {},
   "source": [
    "Q 11\n",
    "Question 11\n",
    "For this question, you are to write a program that reads the data in the file EUR.pop.rev.csv. For each line in this file there is a country and seven population numbers between 1989 and 1995.\n",
    "\n",
    "Choose one of the following to accomplish:\n",
    "\n",
    "a. Read the data using the csv reader and represent one or more columns of the data in a NumPy array as in read_gasoline_numeric.py.\n",
    "b. Read the data into a pandas DataFrame using read_csv function.\n",
    "\n",
    "Your program must also accomplish all of the following:\n",
    "\n",
    "1. Replace missing data with 0\n",
    "2. Print each country that has more than 1,000,000 people in 1995\n",
    "3. Print the average population in the United Kingdom over those seven years\n",
    "\n",
    "Submit your code along with the output of your program.\n",
    "\n",
    "You can use code from the class as a template, but it is essential to use appropriate variable names throughout and that you write original comments for what your program does."
   ]
  },
  {
   "cell_type": "code",
   "execution_count": 235,
   "id": "f72f858e-d7e7-4e90-bcf4-d2c038926341",
   "metadata": {},
   "outputs": [],
   "source": [
    "# Import needed packages\n",
    "\n",
    "import pandas as pd\n",
    "import numpy as np"
   ]
  },
  {
   "cell_type": "code",
   "execution_count": 236,
   "id": "42b294fb-c968-4757-a712-54aa4603cdf9",
   "metadata": {},
   "outputs": [
    {
     "name": "stdout",
     "output_type": "stream",
     "text": [
      "<class 'pandas.core.frame.DataFrame'>\n",
      "RangeIndex: 23 entries, 0 to 22\n",
      "Data columns (total 8 columns):\n",
      " #   Column                           Non-Null Count  Dtype \n",
      "---  ------                           --------------  ----- \n",
      " 0   European Population (1989-1995)  19 non-null     object\n",
      " 1   Unnamed: 1                       19 non-null     object\n",
      " 2   Unnamed: 2                       17 non-null     object\n",
      " 3   Unnamed: 3                       19 non-null     object\n",
      " 4   Unnamed: 4                       19 non-null     object\n",
      " 5   Unnamed: 5                       19 non-null     object\n",
      " 6   Unnamed: 6                       19 non-null     object\n",
      " 7   Unnamed: 7                       19 non-null     object\n",
      "dtypes: object(8)\n",
      "memory usage: 1.6+ KB\n"
     ]
    }
   ],
   "source": [
    "# Choose pandas dataframe as the data read-in option (versus the numpy option)\n",
    "\n",
    "dataa = pd.read_csv('/Users/pergolicious/Downloads/eur.pop.rev.csv')\n",
    "dataa.info()"
   ]
  },
  {
   "cell_type": "code",
   "execution_count": 237,
   "id": "29c3bbb4-1e30-43da-ac79-fe08d3e5015c",
   "metadata": {},
   "outputs": [
    {
     "data": {
      "text/html": [
       "<div>\n",
       "<style scoped>\n",
       "    .dataframe tbody tr th:only-of-type {\n",
       "        vertical-align: middle;\n",
       "    }\n",
       "\n",
       "    .dataframe tbody tr th {\n",
       "        vertical-align: top;\n",
       "    }\n",
       "\n",
       "    .dataframe thead th {\n",
       "        text-align: right;\n",
       "    }\n",
       "</style>\n",
       "<table border=\"1\" class=\"dataframe\">\n",
       "  <thead>\n",
       "    <tr style=\"text-align: right;\">\n",
       "      <th></th>\n",
       "      <th>European Population (1989-1995)</th>\n",
       "      <th>Unnamed: 1</th>\n",
       "      <th>Unnamed: 2</th>\n",
       "      <th>Unnamed: 3</th>\n",
       "      <th>Unnamed: 4</th>\n",
       "      <th>Unnamed: 5</th>\n",
       "      <th>Unnamed: 6</th>\n",
       "      <th>Unnamed: 7</th>\n",
       "    </tr>\n",
       "  </thead>\n",
       "  <tbody>\n",
       "    <tr>\n",
       "      <th>0</th>\n",
       "      <td>NaN</td>\n",
       "      <td>NaN</td>\n",
       "      <td>NaN</td>\n",
       "      <td>NaN</td>\n",
       "      <td>NaN</td>\n",
       "      <td>NaN</td>\n",
       "      <td>NaN</td>\n",
       "      <td>NaN</td>\n",
       "    </tr>\n",
       "    <tr>\n",
       "      <th>1</th>\n",
       "      <td>NaN</td>\n",
       "      <td>01.01.89</td>\n",
       "      <td>01.01.90</td>\n",
       "      <td>01.01.91</td>\n",
       "      <td>01.01.92</td>\n",
       "      <td>01.01.93</td>\n",
       "      <td>01.01.94</td>\n",
       "      <td>01.01.95</td>\n",
       "    </tr>\n",
       "    <tr>\n",
       "      <th>2</th>\n",
       "      <td>Austria</td>\n",
       "      <td>7602431</td>\n",
       "      <td>7660345</td>\n",
       "      <td>7790957</td>\n",
       "      <td>7860800</td>\n",
       "      <td>7909575</td>\n",
       "      <td>7943652</td>\n",
       "      <td>8054800</td>\n",
       "    </tr>\n",
       "    <tr>\n",
       "      <th>3</th>\n",
       "      <td>Belgium</td>\n",
       "      <td>9927600</td>\n",
       "      <td>9947800</td>\n",
       "      <td>9987000</td>\n",
       "      <td>10068319</td>\n",
       "      <td>10100631</td>\n",
       "      <td>10130574</td>\n",
       "      <td>10143047</td>\n",
       "    </tr>\n",
       "    <tr>\n",
       "      <th>4</th>\n",
       "      <td>Denmark</td>\n",
       "      <td>5129800</td>\n",
       "      <td>5135400</td>\n",
       "      <td>5146500</td>\n",
       "      <td>5162100</td>\n",
       "      <td>5180614</td>\n",
       "      <td>5191000</td>\n",
       "      <td>5251027</td>\n",
       "    </tr>\n",
       "    <tr>\n",
       "      <th>5</th>\n",
       "      <td>Finland</td>\n",
       "      <td>4954359</td>\n",
       "      <td>4974383</td>\n",
       "      <td>4998478</td>\n",
       "      <td>5029300</td>\n",
       "      <td>5054982</td>\n",
       "      <td>5098754</td>\n",
       "      <td>5116800</td>\n",
       "    </tr>\n",
       "    <tr>\n",
       "      <th>6</th>\n",
       "      <td>France</td>\n",
       "      <td>56269800</td>\n",
       "      <td>NaN</td>\n",
       "      <td>56893000</td>\n",
       "      <td>57217500</td>\n",
       "      <td>57529577</td>\n",
       "      <td>57847000</td>\n",
       "      <td>58265400</td>\n",
       "    </tr>\n",
       "    <tr>\n",
       "      <th>7</th>\n",
       "      <td>Germany</td>\n",
       "      <td>61715000</td>\n",
       "      <td>62678000</td>\n",
       "      <td>79753000</td>\n",
       "      <td>80238000</td>\n",
       "      <td>81338000</td>\n",
       "      <td>81353000</td>\n",
       "      <td>81845000</td>\n",
       "    </tr>\n",
       "    <tr>\n",
       "      <th>8</th>\n",
       "      <td>Iceland</td>\n",
       "      <td>253500</td>\n",
       "      <td>255708</td>\n",
       "      <td>259577</td>\n",
       "      <td>262193</td>\n",
       "      <td>264922</td>\n",
       "      <td>266783</td>\n",
       "      <td>267806</td>\n",
       "    </tr>\n",
       "    <tr>\n",
       "      <th>9</th>\n",
       "      <td>Ireland</td>\n",
       "      <td>3526600</td>\n",
       "      <td>3505500</td>\n",
       "      <td>3519000</td>\n",
       "      <td>3542000</td>\n",
       "      <td>3559985</td>\n",
       "      <td>3570700</td>\n",
       "      <td>3591200</td>\n",
       "    </tr>\n",
       "    <tr>\n",
       "      <th>10</th>\n",
       "      <td>Italy</td>\n",
       "      <td>57504700</td>\n",
       "      <td>57576400</td>\n",
       "      <td>57746200</td>\n",
       "      <td>57788200</td>\n",
       "      <td>57114161</td>\n",
       "      <td>57201800</td>\n",
       "      <td>57268578</td>\n",
       "    </tr>\n",
       "    <tr>\n",
       "      <th>11</th>\n",
       "      <td>Luxemburg</td>\n",
       "      <td>374900</td>\n",
       "      <td>379300</td>\n",
       "      <td>384400</td>\n",
       "      <td>389800</td>\n",
       "      <td>395200</td>\n",
       "      <td>400000</td>\n",
       "      <td>412800</td>\n",
       "    </tr>\n",
       "    <tr>\n",
       "      <th>12</th>\n",
       "      <td>Netherland</td>\n",
       "      <td>14805240</td>\n",
       "      <td>14892574</td>\n",
       "      <td>15010445</td>\n",
       "      <td>15129200</td>\n",
       "      <td>15354000</td>\n",
       "      <td>15341553</td>\n",
       "      <td>15492800</td>\n",
       "    </tr>\n",
       "    <tr>\n",
       "      <th>13</th>\n",
       "      <td>Norway</td>\n",
       "      <td>4226901</td>\n",
       "      <td>4241473</td>\n",
       "      <td>4261930</td>\n",
       "      <td>4273634</td>\n",
       "      <td>4324577</td>\n",
       "      <td>4348410</td>\n",
       "      <td>4370000</td>\n",
       "    </tr>\n",
       "    <tr>\n",
       "      <th>14</th>\n",
       "      <td>Portugal</td>\n",
       "      <td>10304700</td>\n",
       "      <td>NaN</td>\n",
       "      <td>9858500</td>\n",
       "      <td>9846000</td>\n",
       "      <td>9987500</td>\n",
       "      <td>9776000</td>\n",
       "      <td>9920800</td>\n",
       "    </tr>\n",
       "    <tr>\n",
       "      <th>15</th>\n",
       "      <td>Spain</td>\n",
       "      <td>38851900</td>\n",
       "      <td>38924500</td>\n",
       "      <td>38993800</td>\n",
       "      <td>39055900</td>\n",
       "      <td>39790955</td>\n",
       "      <td>39177400</td>\n",
       "      <td>39241900</td>\n",
       "    </tr>\n",
       "    <tr>\n",
       "      <th>16</th>\n",
       "      <td>Sweden</td>\n",
       "      <td>8458890</td>\n",
       "      <td>8527040</td>\n",
       "      <td>8590630</td>\n",
       "      <td>8644100</td>\n",
       "      <td>8700000</td>\n",
       "      <td>8749000</td>\n",
       "      <td>8837000</td>\n",
       "    </tr>\n",
       "    <tr>\n",
       "      <th>17</th>\n",
       "      <td>Switzerland</td>\n",
       "      <td>6619973</td>\n",
       "      <td>6673850</td>\n",
       "      <td>6750693</td>\n",
       "      <td>6831900</td>\n",
       "      <td>6871500</td>\n",
       "      <td>7021200</td>\n",
       "      <td>7060400</td>\n",
       "    </tr>\n",
       "    <tr>\n",
       "      <th>18</th>\n",
       "      <td>United Kingdom</td>\n",
       "      <td>57236200</td>\n",
       "      <td>57410600</td>\n",
       "      <td>57649200</td>\n",
       "      <td>58888800</td>\n",
       "      <td>58191230</td>\n",
       "      <td>58380000</td>\n",
       "      <td>58684000</td>\n",
       "    </tr>\n",
       "    <tr>\n",
       "      <th>19</th>\n",
       "      <td>NaN</td>\n",
       "      <td>NaN</td>\n",
       "      <td>NaN</td>\n",
       "      <td>NaN</td>\n",
       "      <td>NaN</td>\n",
       "      <td>NaN</td>\n",
       "      <td>NaN</td>\n",
       "      <td>NaN</td>\n",
       "    </tr>\n",
       "    <tr>\n",
       "      <th>20</th>\n",
       "      <td>Total Europe</td>\n",
       "      <td>325665440</td>\n",
       "      <td>326962674</td>\n",
       "      <td>345061045</td>\n",
       "      <td>347604719</td>\n",
       "      <td>348887853</td>\n",
       "      <td>348540020</td>\n",
       "      <td>372599752</td>\n",
       "    </tr>\n",
       "    <tr>\n",
       "      <th>21</th>\n",
       "      <td>NaN</td>\n",
       "      <td>NaN</td>\n",
       "      <td>NaN</td>\n",
       "      <td>NaN</td>\n",
       "      <td>NaN</td>\n",
       "      <td>NaN</td>\n",
       "      <td>NaN</td>\n",
       "      <td>NaN</td>\n",
       "    </tr>\n",
       "    <tr>\n",
       "      <th>22</th>\n",
       "      <td>Sources: Eurostat, national agencies</td>\n",
       "      <td>NaN</td>\n",
       "      <td>NaN</td>\n",
       "      <td>NaN</td>\n",
       "      <td>NaN</td>\n",
       "      <td>NaN</td>\n",
       "      <td>NaN</td>\n",
       "      <td>NaN</td>\n",
       "    </tr>\n",
       "  </tbody>\n",
       "</table>\n",
       "</div>"
      ],
      "text/plain": [
       "         European Population (1989-1995) Unnamed: 1 Unnamed: 2 Unnamed: 3  \\\n",
       "0                                    NaN        NaN        NaN        NaN   \n",
       "1                                    NaN   01.01.89   01.01.90   01.01.91   \n",
       "2                                Austria    7602431    7660345    7790957   \n",
       "3                                Belgium    9927600    9947800    9987000   \n",
       "4                                Denmark    5129800    5135400    5146500   \n",
       "5                                Finland    4954359    4974383    4998478   \n",
       "6                                 France   56269800        NaN   56893000   \n",
       "7                                Germany   61715000   62678000   79753000   \n",
       "8                                Iceland     253500     255708     259577   \n",
       "9                                Ireland    3526600    3505500    3519000   \n",
       "10                                 Italy   57504700   57576400   57746200   \n",
       "11                             Luxemburg     374900     379300     384400   \n",
       "12                            Netherland   14805240   14892574   15010445   \n",
       "13                                Norway    4226901    4241473    4261930   \n",
       "14                              Portugal   10304700        NaN    9858500   \n",
       "15                                 Spain   38851900   38924500   38993800   \n",
       "16                                Sweden    8458890    8527040    8590630   \n",
       "17                           Switzerland    6619973    6673850    6750693   \n",
       "18                        United Kingdom   57236200   57410600   57649200   \n",
       "19                                   NaN        NaN        NaN        NaN   \n",
       "20                          Total Europe  325665440  326962674  345061045   \n",
       "21                                   NaN        NaN        NaN        NaN   \n",
       "22  Sources: Eurostat, national agencies        NaN        NaN        NaN   \n",
       "\n",
       "   Unnamed: 4 Unnamed: 5 Unnamed: 6 Unnamed: 7  \n",
       "0         NaN        NaN        NaN        NaN  \n",
       "1    01.01.92   01.01.93   01.01.94   01.01.95  \n",
       "2     7860800    7909575    7943652    8054800  \n",
       "3    10068319   10100631   10130574   10143047  \n",
       "4     5162100    5180614    5191000    5251027  \n",
       "5     5029300    5054982    5098754    5116800  \n",
       "6    57217500   57529577   57847000   58265400  \n",
       "7    80238000   81338000   81353000   81845000  \n",
       "8      262193     264922     266783     267806  \n",
       "9     3542000    3559985    3570700    3591200  \n",
       "10   57788200   57114161   57201800   57268578  \n",
       "11     389800     395200     400000     412800  \n",
       "12   15129200   15354000   15341553   15492800  \n",
       "13    4273634    4324577    4348410    4370000  \n",
       "14    9846000    9987500    9776000    9920800  \n",
       "15   39055900   39790955   39177400   39241900  \n",
       "16    8644100    8700000    8749000    8837000  \n",
       "17    6831900    6871500    7021200    7060400  \n",
       "18   58888800   58191230   58380000   58684000  \n",
       "19        NaN        NaN        NaN        NaN  \n",
       "20  347604719  348887853  348540020  372599752  \n",
       "21        NaN        NaN        NaN        NaN  \n",
       "22        NaN        NaN        NaN        NaN  "
      ]
     },
     "execution_count": 237,
     "metadata": {},
     "output_type": "execute_result"
    }
   ],
   "source": [
    "dataa"
   ]
  },
  {
   "cell_type": "code",
   "execution_count": 238,
   "id": "43650c24-4c78-4dfb-a571-80c1336fcd7f",
   "metadata": {},
   "outputs": [
    {
     "data": {
      "text/html": [
       "<div>\n",
       "<style scoped>\n",
       "    .dataframe tbody tr th:only-of-type {\n",
       "        vertical-align: middle;\n",
       "    }\n",
       "\n",
       "    .dataframe tbody tr th {\n",
       "        vertical-align: top;\n",
       "    }\n",
       "\n",
       "    .dataframe thead th {\n",
       "        text-align: right;\n",
       "    }\n",
       "</style>\n",
       "<table border=\"1\" class=\"dataframe\">\n",
       "  <thead>\n",
       "    <tr style=\"text-align: right;\">\n",
       "      <th>1</th>\n",
       "      <th>NaN</th>\n",
       "      <th>01.01.89</th>\n",
       "      <th>01.01.90</th>\n",
       "      <th>01.01.91</th>\n",
       "      <th>01.01.92</th>\n",
       "      <th>01.01.93</th>\n",
       "      <th>01.01.94</th>\n",
       "      <th>01.01.95</th>\n",
       "    </tr>\n",
       "  </thead>\n",
       "  <tbody>\n",
       "    <tr>\n",
       "      <th>2</th>\n",
       "      <td>Austria</td>\n",
       "      <td>7602431</td>\n",
       "      <td>7660345</td>\n",
       "      <td>7790957</td>\n",
       "      <td>7860800</td>\n",
       "      <td>7909575</td>\n",
       "      <td>7943652</td>\n",
       "      <td>8054800</td>\n",
       "    </tr>\n",
       "    <tr>\n",
       "      <th>3</th>\n",
       "      <td>Belgium</td>\n",
       "      <td>9927600</td>\n",
       "      <td>9947800</td>\n",
       "      <td>9987000</td>\n",
       "      <td>10068319</td>\n",
       "      <td>10100631</td>\n",
       "      <td>10130574</td>\n",
       "      <td>10143047</td>\n",
       "    </tr>\n",
       "    <tr>\n",
       "      <th>4</th>\n",
       "      <td>Denmark</td>\n",
       "      <td>5129800</td>\n",
       "      <td>5135400</td>\n",
       "      <td>5146500</td>\n",
       "      <td>5162100</td>\n",
       "      <td>5180614</td>\n",
       "      <td>5191000</td>\n",
       "      <td>5251027</td>\n",
       "    </tr>\n",
       "    <tr>\n",
       "      <th>5</th>\n",
       "      <td>Finland</td>\n",
       "      <td>4954359</td>\n",
       "      <td>4974383</td>\n",
       "      <td>4998478</td>\n",
       "      <td>5029300</td>\n",
       "      <td>5054982</td>\n",
       "      <td>5098754</td>\n",
       "      <td>5116800</td>\n",
       "    </tr>\n",
       "    <tr>\n",
       "      <th>6</th>\n",
       "      <td>France</td>\n",
       "      <td>56269800</td>\n",
       "      <td>NaN</td>\n",
       "      <td>56893000</td>\n",
       "      <td>57217500</td>\n",
       "      <td>57529577</td>\n",
       "      <td>57847000</td>\n",
       "      <td>58265400</td>\n",
       "    </tr>\n",
       "    <tr>\n",
       "      <th>7</th>\n",
       "      <td>Germany</td>\n",
       "      <td>61715000</td>\n",
       "      <td>62678000</td>\n",
       "      <td>79753000</td>\n",
       "      <td>80238000</td>\n",
       "      <td>81338000</td>\n",
       "      <td>81353000</td>\n",
       "      <td>81845000</td>\n",
       "    </tr>\n",
       "    <tr>\n",
       "      <th>8</th>\n",
       "      <td>Iceland</td>\n",
       "      <td>253500</td>\n",
       "      <td>255708</td>\n",
       "      <td>259577</td>\n",
       "      <td>262193</td>\n",
       "      <td>264922</td>\n",
       "      <td>266783</td>\n",
       "      <td>267806</td>\n",
       "    </tr>\n",
       "    <tr>\n",
       "      <th>9</th>\n",
       "      <td>Ireland</td>\n",
       "      <td>3526600</td>\n",
       "      <td>3505500</td>\n",
       "      <td>3519000</td>\n",
       "      <td>3542000</td>\n",
       "      <td>3559985</td>\n",
       "      <td>3570700</td>\n",
       "      <td>3591200</td>\n",
       "    </tr>\n",
       "    <tr>\n",
       "      <th>10</th>\n",
       "      <td>Italy</td>\n",
       "      <td>57504700</td>\n",
       "      <td>57576400</td>\n",
       "      <td>57746200</td>\n",
       "      <td>57788200</td>\n",
       "      <td>57114161</td>\n",
       "      <td>57201800</td>\n",
       "      <td>57268578</td>\n",
       "    </tr>\n",
       "    <tr>\n",
       "      <th>11</th>\n",
       "      <td>Luxemburg</td>\n",
       "      <td>374900</td>\n",
       "      <td>379300</td>\n",
       "      <td>384400</td>\n",
       "      <td>389800</td>\n",
       "      <td>395200</td>\n",
       "      <td>400000</td>\n",
       "      <td>412800</td>\n",
       "    </tr>\n",
       "    <tr>\n",
       "      <th>12</th>\n",
       "      <td>Netherland</td>\n",
       "      <td>14805240</td>\n",
       "      <td>14892574</td>\n",
       "      <td>15010445</td>\n",
       "      <td>15129200</td>\n",
       "      <td>15354000</td>\n",
       "      <td>15341553</td>\n",
       "      <td>15492800</td>\n",
       "    </tr>\n",
       "    <tr>\n",
       "      <th>13</th>\n",
       "      <td>Norway</td>\n",
       "      <td>4226901</td>\n",
       "      <td>4241473</td>\n",
       "      <td>4261930</td>\n",
       "      <td>4273634</td>\n",
       "      <td>4324577</td>\n",
       "      <td>4348410</td>\n",
       "      <td>4370000</td>\n",
       "    </tr>\n",
       "    <tr>\n",
       "      <th>14</th>\n",
       "      <td>Portugal</td>\n",
       "      <td>10304700</td>\n",
       "      <td>NaN</td>\n",
       "      <td>9858500</td>\n",
       "      <td>9846000</td>\n",
       "      <td>9987500</td>\n",
       "      <td>9776000</td>\n",
       "      <td>9920800</td>\n",
       "    </tr>\n",
       "    <tr>\n",
       "      <th>15</th>\n",
       "      <td>Spain</td>\n",
       "      <td>38851900</td>\n",
       "      <td>38924500</td>\n",
       "      <td>38993800</td>\n",
       "      <td>39055900</td>\n",
       "      <td>39790955</td>\n",
       "      <td>39177400</td>\n",
       "      <td>39241900</td>\n",
       "    </tr>\n",
       "    <tr>\n",
       "      <th>16</th>\n",
       "      <td>Sweden</td>\n",
       "      <td>8458890</td>\n",
       "      <td>8527040</td>\n",
       "      <td>8590630</td>\n",
       "      <td>8644100</td>\n",
       "      <td>8700000</td>\n",
       "      <td>8749000</td>\n",
       "      <td>8837000</td>\n",
       "    </tr>\n",
       "    <tr>\n",
       "      <th>17</th>\n",
       "      <td>Switzerland</td>\n",
       "      <td>6619973</td>\n",
       "      <td>6673850</td>\n",
       "      <td>6750693</td>\n",
       "      <td>6831900</td>\n",
       "      <td>6871500</td>\n",
       "      <td>7021200</td>\n",
       "      <td>7060400</td>\n",
       "    </tr>\n",
       "    <tr>\n",
       "      <th>18</th>\n",
       "      <td>United Kingdom</td>\n",
       "      <td>57236200</td>\n",
       "      <td>57410600</td>\n",
       "      <td>57649200</td>\n",
       "      <td>58888800</td>\n",
       "      <td>58191230</td>\n",
       "      <td>58380000</td>\n",
       "      <td>58684000</td>\n",
       "    </tr>\n",
       "  </tbody>\n",
       "</table>\n",
       "</div>"
      ],
      "text/plain": [
       "1              NaN  01.01.89  01.01.90  01.01.91  01.01.92  01.01.93  \\\n",
       "2          Austria   7602431   7660345   7790957   7860800   7909575   \n",
       "3          Belgium   9927600   9947800   9987000  10068319  10100631   \n",
       "4          Denmark   5129800   5135400   5146500   5162100   5180614   \n",
       "5          Finland   4954359   4974383   4998478   5029300   5054982   \n",
       "6           France  56269800       NaN  56893000  57217500  57529577   \n",
       "7          Germany  61715000  62678000  79753000  80238000  81338000   \n",
       "8          Iceland    253500    255708    259577    262193    264922   \n",
       "9          Ireland   3526600   3505500   3519000   3542000   3559985   \n",
       "10           Italy  57504700  57576400  57746200  57788200  57114161   \n",
       "11       Luxemburg    374900    379300    384400    389800    395200   \n",
       "12      Netherland  14805240  14892574  15010445  15129200  15354000   \n",
       "13          Norway   4226901   4241473   4261930   4273634   4324577   \n",
       "14        Portugal  10304700       NaN   9858500   9846000   9987500   \n",
       "15           Spain  38851900  38924500  38993800  39055900  39790955   \n",
       "16          Sweden   8458890   8527040   8590630   8644100   8700000   \n",
       "17     Switzerland   6619973   6673850   6750693   6831900   6871500   \n",
       "18  United Kingdom  57236200  57410600  57649200  58888800  58191230   \n",
       "\n",
       "1   01.01.94  01.01.95  \n",
       "2    7943652   8054800  \n",
       "3   10130574  10143047  \n",
       "4    5191000   5251027  \n",
       "5    5098754   5116800  \n",
       "6   57847000  58265400  \n",
       "7   81353000  81845000  \n",
       "8     266783    267806  \n",
       "9    3570700   3591200  \n",
       "10  57201800  57268578  \n",
       "11    400000    412800  \n",
       "12  15341553  15492800  \n",
       "13   4348410   4370000  \n",
       "14   9776000   9920800  \n",
       "15  39177400  39241900  \n",
       "16   8749000   8837000  \n",
       "17   7021200   7060400  \n",
       "18  58380000  58684000  "
      ]
     },
     "execution_count": 238,
     "metadata": {},
     "output_type": "execute_result"
    }
   ],
   "source": [
    "# Rename columns as the dates | keep only particular rows as defined below\n",
    "\n",
    "dataa.columns = dataa.iloc[1,:]\n",
    "dataa = dataa.iloc[2:19,:]\n",
    "dataa"
   ]
  },
  {
   "cell_type": "code",
   "execution_count": 239,
   "id": "2bea7280-ce3c-453e-b3bf-01cd9fa4928f",
   "metadata": {},
   "outputs": [
    {
     "data": {
      "text/html": [
       "<div>\n",
       "<style scoped>\n",
       "    .dataframe tbody tr th:only-of-type {\n",
       "        vertical-align: middle;\n",
       "    }\n",
       "\n",
       "    .dataframe tbody tr th {\n",
       "        vertical-align: top;\n",
       "    }\n",
       "\n",
       "    .dataframe thead th {\n",
       "        text-align: right;\n",
       "    }\n",
       "</style>\n",
       "<table border=\"1\" class=\"dataframe\">\n",
       "  <thead>\n",
       "    <tr style=\"text-align: right;\">\n",
       "      <th>1</th>\n",
       "      <th>01.01.89</th>\n",
       "      <th>01.01.90</th>\n",
       "      <th>01.01.91</th>\n",
       "      <th>01.01.92</th>\n",
       "      <th>01.01.93</th>\n",
       "      <th>01.01.94</th>\n",
       "      <th>01.01.95</th>\n",
       "    </tr>\n",
       "    <tr>\n",
       "      <th>nan</th>\n",
       "      <th></th>\n",
       "      <th></th>\n",
       "      <th></th>\n",
       "      <th></th>\n",
       "      <th></th>\n",
       "      <th></th>\n",
       "      <th></th>\n",
       "    </tr>\n",
       "  </thead>\n",
       "  <tbody>\n",
       "    <tr>\n",
       "      <th>Austria</th>\n",
       "      <td>7602431</td>\n",
       "      <td>7660345</td>\n",
       "      <td>7790957</td>\n",
       "      <td>7860800</td>\n",
       "      <td>7909575</td>\n",
       "      <td>7943652</td>\n",
       "      <td>8054800</td>\n",
       "    </tr>\n",
       "    <tr>\n",
       "      <th>Belgium</th>\n",
       "      <td>9927600</td>\n",
       "      <td>9947800</td>\n",
       "      <td>9987000</td>\n",
       "      <td>10068319</td>\n",
       "      <td>10100631</td>\n",
       "      <td>10130574</td>\n",
       "      <td>10143047</td>\n",
       "    </tr>\n",
       "    <tr>\n",
       "      <th>Denmark</th>\n",
       "      <td>5129800</td>\n",
       "      <td>5135400</td>\n",
       "      <td>5146500</td>\n",
       "      <td>5162100</td>\n",
       "      <td>5180614</td>\n",
       "      <td>5191000</td>\n",
       "      <td>5251027</td>\n",
       "    </tr>\n",
       "    <tr>\n",
       "      <th>Finland</th>\n",
       "      <td>4954359</td>\n",
       "      <td>4974383</td>\n",
       "      <td>4998478</td>\n",
       "      <td>5029300</td>\n",
       "      <td>5054982</td>\n",
       "      <td>5098754</td>\n",
       "      <td>5116800</td>\n",
       "    </tr>\n",
       "    <tr>\n",
       "      <th>France</th>\n",
       "      <td>56269800</td>\n",
       "      <td>NaN</td>\n",
       "      <td>56893000</td>\n",
       "      <td>57217500</td>\n",
       "      <td>57529577</td>\n",
       "      <td>57847000</td>\n",
       "      <td>58265400</td>\n",
       "    </tr>\n",
       "    <tr>\n",
       "      <th>Germany</th>\n",
       "      <td>61715000</td>\n",
       "      <td>62678000</td>\n",
       "      <td>79753000</td>\n",
       "      <td>80238000</td>\n",
       "      <td>81338000</td>\n",
       "      <td>81353000</td>\n",
       "      <td>81845000</td>\n",
       "    </tr>\n",
       "    <tr>\n",
       "      <th>Iceland</th>\n",
       "      <td>253500</td>\n",
       "      <td>255708</td>\n",
       "      <td>259577</td>\n",
       "      <td>262193</td>\n",
       "      <td>264922</td>\n",
       "      <td>266783</td>\n",
       "      <td>267806</td>\n",
       "    </tr>\n",
       "    <tr>\n",
       "      <th>Ireland</th>\n",
       "      <td>3526600</td>\n",
       "      <td>3505500</td>\n",
       "      <td>3519000</td>\n",
       "      <td>3542000</td>\n",
       "      <td>3559985</td>\n",
       "      <td>3570700</td>\n",
       "      <td>3591200</td>\n",
       "    </tr>\n",
       "    <tr>\n",
       "      <th>Italy</th>\n",
       "      <td>57504700</td>\n",
       "      <td>57576400</td>\n",
       "      <td>57746200</td>\n",
       "      <td>57788200</td>\n",
       "      <td>57114161</td>\n",
       "      <td>57201800</td>\n",
       "      <td>57268578</td>\n",
       "    </tr>\n",
       "    <tr>\n",
       "      <th>Luxemburg</th>\n",
       "      <td>374900</td>\n",
       "      <td>379300</td>\n",
       "      <td>384400</td>\n",
       "      <td>389800</td>\n",
       "      <td>395200</td>\n",
       "      <td>400000</td>\n",
       "      <td>412800</td>\n",
       "    </tr>\n",
       "    <tr>\n",
       "      <th>Netherland</th>\n",
       "      <td>14805240</td>\n",
       "      <td>14892574</td>\n",
       "      <td>15010445</td>\n",
       "      <td>15129200</td>\n",
       "      <td>15354000</td>\n",
       "      <td>15341553</td>\n",
       "      <td>15492800</td>\n",
       "    </tr>\n",
       "    <tr>\n",
       "      <th>Norway</th>\n",
       "      <td>4226901</td>\n",
       "      <td>4241473</td>\n",
       "      <td>4261930</td>\n",
       "      <td>4273634</td>\n",
       "      <td>4324577</td>\n",
       "      <td>4348410</td>\n",
       "      <td>4370000</td>\n",
       "    </tr>\n",
       "    <tr>\n",
       "      <th>Portugal</th>\n",
       "      <td>10304700</td>\n",
       "      <td>NaN</td>\n",
       "      <td>9858500</td>\n",
       "      <td>9846000</td>\n",
       "      <td>9987500</td>\n",
       "      <td>9776000</td>\n",
       "      <td>9920800</td>\n",
       "    </tr>\n",
       "    <tr>\n",
       "      <th>Spain</th>\n",
       "      <td>38851900</td>\n",
       "      <td>38924500</td>\n",
       "      <td>38993800</td>\n",
       "      <td>39055900</td>\n",
       "      <td>39790955</td>\n",
       "      <td>39177400</td>\n",
       "      <td>39241900</td>\n",
       "    </tr>\n",
       "    <tr>\n",
       "      <th>Sweden</th>\n",
       "      <td>8458890</td>\n",
       "      <td>8527040</td>\n",
       "      <td>8590630</td>\n",
       "      <td>8644100</td>\n",
       "      <td>8700000</td>\n",
       "      <td>8749000</td>\n",
       "      <td>8837000</td>\n",
       "    </tr>\n",
       "    <tr>\n",
       "      <th>Switzerland</th>\n",
       "      <td>6619973</td>\n",
       "      <td>6673850</td>\n",
       "      <td>6750693</td>\n",
       "      <td>6831900</td>\n",
       "      <td>6871500</td>\n",
       "      <td>7021200</td>\n",
       "      <td>7060400</td>\n",
       "    </tr>\n",
       "    <tr>\n",
       "      <th>United Kingdom</th>\n",
       "      <td>57236200</td>\n",
       "      <td>57410600</td>\n",
       "      <td>57649200</td>\n",
       "      <td>58888800</td>\n",
       "      <td>58191230</td>\n",
       "      <td>58380000</td>\n",
       "      <td>58684000</td>\n",
       "    </tr>\n",
       "  </tbody>\n",
       "</table>\n",
       "</div>"
      ],
      "text/plain": [
       "1               01.01.89  01.01.90  01.01.91  01.01.92  01.01.93  01.01.94  \\\n",
       "nan                                                                          \n",
       "Austria          7602431   7660345   7790957   7860800   7909575   7943652   \n",
       "Belgium          9927600   9947800   9987000  10068319  10100631  10130574   \n",
       "Denmark          5129800   5135400   5146500   5162100   5180614   5191000   \n",
       "Finland          4954359   4974383   4998478   5029300   5054982   5098754   \n",
       "France          56269800       NaN  56893000  57217500  57529577  57847000   \n",
       "Germany         61715000  62678000  79753000  80238000  81338000  81353000   \n",
       "Iceland           253500    255708    259577    262193    264922    266783   \n",
       "Ireland          3526600   3505500   3519000   3542000   3559985   3570700   \n",
       "Italy           57504700  57576400  57746200  57788200  57114161  57201800   \n",
       "Luxemburg         374900    379300    384400    389800    395200    400000   \n",
       "Netherland      14805240  14892574  15010445  15129200  15354000  15341553   \n",
       "Norway           4226901   4241473   4261930   4273634   4324577   4348410   \n",
       "Portugal        10304700       NaN   9858500   9846000   9987500   9776000   \n",
       "Spain           38851900  38924500  38993800  39055900  39790955  39177400   \n",
       "Sweden           8458890   8527040   8590630   8644100   8700000   8749000   \n",
       "Switzerland      6619973   6673850   6750693   6831900   6871500   7021200   \n",
       "United Kingdom  57236200  57410600  57649200  58888800  58191230  58380000   \n",
       "\n",
       "1               01.01.95  \n",
       "nan                       \n",
       "Austria          8054800  \n",
       "Belgium         10143047  \n",
       "Denmark          5251027  \n",
       "Finland          5116800  \n",
       "France          58265400  \n",
       "Germany         81845000  \n",
       "Iceland           267806  \n",
       "Ireland          3591200  \n",
       "Italy           57268578  \n",
       "Luxemburg         412800  \n",
       "Netherland      15492800  \n",
       "Norway           4370000  \n",
       "Portugal         9920800  \n",
       "Spain           39241900  \n",
       "Sweden           8837000  \n",
       "Switzerland      7060400  \n",
       "United Kingdom  58684000  "
      ]
     },
     "execution_count": 239,
     "metadata": {},
     "output_type": "execute_result"
    }
   ],
   "source": [
    "# Reset the index to be country names\n",
    "\n",
    "dataa.columns\n",
    "dataa = dataa.set_index(np.nan)\n",
    "dataa\n",
    "#dataa\n",
    "#dataa"
   ]
  },
  {
   "cell_type": "code",
   "execution_count": 240,
   "id": "bfa6d769-2c18-47fa-8e8a-2322263d4a3c",
   "metadata": {},
   "outputs": [
    {
     "name": "stdout",
     "output_type": "stream",
     "text": [
      "<class 'pandas.core.frame.DataFrame'>\n",
      "Index: 17 entries, Austria to United Kingdom\n",
      "Data columns (total 7 columns):\n",
      " #   Column    Non-Null Count  Dtype\n",
      "---  ------    --------------  -----\n",
      " 0   01.01.89  17 non-null     int64\n",
      " 1   01.01.90  17 non-null     int64\n",
      " 2   01.01.91  17 non-null     int64\n",
      " 3   01.01.92  17 non-null     int64\n",
      " 4   01.01.93  17 non-null     int64\n",
      " 5   01.01.94  17 non-null     int64\n",
      " 6   01.01.95  17 non-null     int64\n",
      "dtypes: int64(7)\n",
      "memory usage: 1.1+ KB\n"
     ]
    }
   ],
   "source": [
    "# 1. Replace missing data with 0\n",
    "\n",
    "data = dataa.replace(np.nan, 0)\n",
    "data = data.apply(pd.to_numeric)\n",
    "data.info()"
   ]
  },
  {
   "cell_type": "code",
   "execution_count": 249,
   "id": "00160a6e-a8e7-43a5-8965-351710880359",
   "metadata": {},
   "outputs": [
    {
     "name": "stdout",
     "output_type": "stream",
     "text": [
      "nan\n",
      "Austria            8054800\n",
      "Belgium           10143047\n",
      "Denmark            5251027\n",
      "Finland            5116800\n",
      "France            58265400\n",
      "Germany           81845000\n",
      "Ireland            3591200\n",
      "Italy             57268578\n",
      "Netherland        15492800\n",
      "Norway             4370000\n",
      "Portugal           9920800\n",
      "Spain             39241900\n",
      "Sweden             8837000\n",
      "Switzerland        7060400\n",
      "United Kingdom    58684000\n",
      "Name: 01.01.95, dtype: int64\n",
      "Output of countries with population greater than 1000000\n"
     ]
    }
   ],
   "source": [
    "# 2. Print each country that has more than 1,000,000 people in 1995\n",
    "\n",
    "data2 = data[data['01.01.95'] > 1000000]\n",
    "data2 = data2.iloc[:,6]\n",
    "print(data2)\n",
    "print('Output of countries with population greater than 1000000')"
   ]
  },
  {
   "cell_type": "code",
   "execution_count": null,
   "id": "57f966dc-d941-4551-8f3e-8da76626b74d",
   "metadata": {},
   "outputs": [],
   "source": [
    "# 3. Print the average population in the United Kingdom over those seven years\n"
   ]
  }
 ],
 "metadata": {
  "kernelspec": {
   "display_name": "Python 3 (ipykernel)",
   "language": "python",
   "name": "python3"
  },
  "language_info": {
   "codemirror_mode": {
    "name": "ipython",
    "version": 3
   },
   "file_extension": ".py",
   "mimetype": "text/x-python",
   "name": "python",
   "nbconvert_exporter": "python",
   "pygments_lexer": "ipython3",
   "version": "3.9.12"
  }
 },
 "nbformat": 4,
 "nbformat_minor": 5
}
