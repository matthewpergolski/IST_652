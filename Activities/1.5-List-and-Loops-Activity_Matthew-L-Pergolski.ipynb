{
 "cells": [
  {
   "cell_type": "markdown",
   "id": "2abe9a3e-65b3-4a40-be3f-ea040fb50090",
   "metadata": {},
   "source": [
    "## List and Loops Activity"
   ]
  },
  {
   "cell_type": "code",
   "execution_count": 11,
   "id": "1dd18a9a-0dd5-432f-801c-7ea3f642ec97",
   "metadata": {},
   "outputs": [
    {
     "name": "stdout",
     "output_type": "stream",
     "text": [
      "['bat', 'brat', 'stat', 'burmat', 'brrr', 'galipudu']\n"
     ]
    }
   ],
   "source": [
    "# Exercise 1\n",
    "\n",
    "Samples = ['at', 'bat', 'c', 'brat', 'stat', 'ac', 'aj', 'burmat', 'brrr', 'galipudu']\n",
    "len(Samples)\n",
    "NewSamples = []\n",
    "\n",
    "for elem in Samples:\n",
    "    if len(elem) > 2:\n",
    "        NewSamples.append(elem)\n",
    "\n",
    "print(NewSamples)"
   ]
  },
  {
   "cell_type": "code",
   "execution_count": 15,
   "id": "3b3d6730-c7d6-4e18-8203-9eb4f45d8858",
   "metadata": {},
   "outputs": [
    {
     "name": "stdout",
     "output_type": "stream",
     "text": [
      "['bat', 'brat', 'stat', 'brrr']\n"
     ]
    }
   ],
   "source": [
    "# Exercise 2\n",
    "\n",
    "Samples = ['at', 'bat', 'c', 'brat', 'stat', 'ac', 'aj', 'burmat', 'brrr', 'galipudu']\n",
    "len(Samples)\n",
    "NewSamples = []\n",
    "\n",
    "for elem in Samples:\n",
    "    if len(elem) > 2 and len(elem) <= 5:\n",
    "        NewSamples.append(elem)\n",
    "\n",
    "print(NewSamples)"
   ]
  }
 ],
 "metadata": {
  "kernelspec": {
   "display_name": "Python 3 (ipykernel)",
   "language": "python",
   "name": "python3"
  },
  "language_info": {
   "codemirror_mode": {
    "name": "ipython",
    "version": 3
   },
   "file_extension": ".py",
   "mimetype": "text/x-python",
   "name": "python",
   "nbconvert_exporter": "python",
   "pygments_lexer": "ipython3",
   "version": "3.9.12"
  }
 },
 "nbformat": 4,
 "nbformat_minor": 5
}
