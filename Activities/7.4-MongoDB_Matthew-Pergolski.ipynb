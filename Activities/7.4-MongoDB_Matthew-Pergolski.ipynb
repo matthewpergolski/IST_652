{
 "cells": [
  {
   "cell_type": "markdown",
   "id": "37f29d7a-3c25-411c-a1d7-97433183687b",
   "metadata": {},
   "source": [
    "## 7.4 MongoDB"
   ]
  },
  {
   "cell_type": "markdown",
   "id": "25d17692-803a-4057-b656-71009be97a0e",
   "metadata": {},
   "source": [
    "7.4-MongoDB_Matthew-Pergolski"
   ]
  },
  {
   "cell_type": "code",
   "execution_count": 20,
   "id": "bf8fa803-f8f0-4bc1-8b3b-22edae6a275d",
   "metadata": {},
   "outputs": [],
   "source": [
    "import pymongo"
   ]
  },
  {
   "cell_type": "code",
   "execution_count": 21,
   "id": "b6149ee4-ac73-4403-9ff7-fe67a635074b",
   "metadata": {},
   "outputs": [
    {
     "data": {
      "text/plain": [
       "['admin', 'config', 'local']"
      ]
     },
     "execution_count": 21,
     "metadata": {},
     "output_type": "execute_result"
    }
   ],
   "source": [
    "# Connecting to the database\n",
    "from pymongo import MongoClient\n",
    "client = MongoClient('localhost', 27017) \n",
    "\n",
    "# show existing databases\n",
    "client.list_database_names()"
   ]
  },
  {
   "cell_type": "code",
   "execution_count": 26,
   "id": "5307274a-f053-4b22-b0c4-fa3071d5d9ec",
   "metadata": {},
   "outputs": [
    {
     "data": {
      "text/plain": [
       "['people']"
      ]
     },
     "execution_count": 26,
     "metadata": {},
     "output_type": "execute_result"
    }
   ],
   "source": [
    "# Create a new database or use an existing database and show its collections\n",
    "db = client.peopledb \n",
    "db.list_collection_names()"
   ]
  },
  {
   "cell_type": "code",
   "execution_count": 23,
   "id": "2a2c9ee8-5e17-4e39-ac5f-abfc5ed680e5",
   "metadata": {},
   "outputs": [
    {
     "data": {
      "text/plain": [
       "pymongo.collection.Collection"
      ]
     },
     "execution_count": 23,
     "metadata": {},
     "output_type": "execute_result"
    }
   ],
   "source": [
    ">>> peoplecoll = db.people\n",
    ">>> type(peoplecoll)"
   ]
  },
  {
   "cell_type": "code",
   "execution_count": 27,
   "id": "1070afaf-fac2-46fb-a685-e5e774c64c7c",
   "metadata": {},
   "outputs": [],
   "source": [
    ">>> peoplelist = [{ \"name\": \"John Smith\", \"age\": 30 }, \n",
    "                  { \"name\": \"Bo Bennett\", \"age\": 23 }, \n",
    "                  { \"name\": \"Anna Jones\", \"age\": 25 }]"
   ]
  },
  {
   "cell_type": "code",
   "execution_count": 29,
   "id": "363546c9-c9f8-4558-b330-ac041a7cc90e",
   "metadata": {},
   "outputs": [
    {
     "data": {
      "text/plain": [
       "<pymongo.results.InsertOneResult at 0x7fd1020cb6c0>"
      ]
     },
     "execution_count": 29,
     "metadata": {},
     "output_type": "execute_result"
    }
   ],
   "source": [
    "# insert one document\n",
    "peoplecoll.insert_one({ \"name\": \"John Smith\", \"age\": 30 })"
   ]
  },
  {
   "cell_type": "code",
   "execution_count": 30,
   "id": "30faae6e-6c05-4137-b53b-3c06f80941ec",
   "metadata": {},
   "outputs": [
    {
     "data": {
      "text/plain": [
       "<pymongo.results.InsertManyResult at 0x7fd1021c8940>"
      ]
     },
     "execution_count": 30,
     "metadata": {},
     "output_type": "execute_result"
    }
   ],
   "source": [
    "# insert several documents\n",
    ">>> peoplecoll.insert_many(peoplelist[1: ])"
   ]
  },
  {
   "cell_type": "code",
   "execution_count": 31,
   "id": "fe78e84f-bb33-4c8a-8abd-e11e12eb52ea",
   "metadata": {},
   "outputs": [
    {
     "data": {
      "text/plain": [
       "pymongo.cursor.Cursor"
      ]
     },
     "execution_count": 31,
     "metadata": {},
     "output_type": "execute_result"
    }
   ],
   "source": [
    ">>> docs = peoplecoll.find() \n",
    ">>> type(docs)"
   ]
  },
  {
   "cell_type": "code",
   "execution_count": 32,
   "id": "1960ae3e-5166-44a1-9ccf-130076d2a2ae",
   "metadata": {},
   "outputs": [
    {
     "name": "stdout",
     "output_type": "stream",
     "text": [
      "{'_id': ObjectId('62fc1de72e71420b2d8836b9'), 'name': 'John Smith', 'age': 30}\n",
      "{'_id': ObjectId('62fc1e012e71420b2d8836ba'), 'name': 'John Smith', 'age': 30}\n",
      "{'_id': ObjectId('62fc1e1b2e71420b2d8836bb'), 'name': 'John Smith', 'age': 30}\n",
      "{'_id': ObjectId('62fc1e292e71420b2d8836bc'), 'name': 'Bo Bennett', 'age': 23}\n",
      "{'_id': ObjectId('62fc1e292e71420b2d8836bd'), 'name': 'Anna Jones', 'age': 25}\n"
     ]
    }
   ],
   "source": [
    "for doc in docs:\n",
    "    print(doc)"
   ]
  },
  {
   "cell_type": "code",
   "execution_count": 34,
   "id": "6fc0999c-07ac-40c4-9d6b-4cfa689ae44b",
   "metadata": {},
   "outputs": [
    {
     "data": {
      "text/plain": [
       "<pymongo.results.InsertManyResult at 0x7fd1020e5200>"
      ]
     },
     "execution_count": 34,
     "metadata": {},
     "output_type": "execute_result"
    }
   ],
   "source": [
    ">>> morepeoplelist = [{ \"name\": \"Britney Sykes\", \"age\": 21 , 'position':'Guard'}, \n",
    "                      { \"name\": \"Briana Day\", \"age\": 21, 'position':'Center'}, \n",
    "                      { \"name\": \"Alexis Peterson\", \"age\": 21, 'position':'Guard' }, \n",
    "                      { \"name\": \"Gabby Cooper\", \"age\": 18, 'position':'Guard'}]\n",
    "\n",
    ">>> peoplecoll.insert_many(morepeoplelist)"
   ]
  },
  {
   "cell_type": "code",
   "execution_count": 37,
   "id": "13f539c8-60d6-4505-9356-ee67035dd61f",
   "metadata": {},
   "outputs": [
    {
     "name": "stdout",
     "output_type": "stream",
     "text": [
      "{'_id': ObjectId('62fc1de72e71420b2d8836b9'), 'name': 'John Smith', 'age': 30}\n",
      "{'_id': ObjectId('62fc1e012e71420b2d8836ba'), 'name': 'John Smith', 'age': 30}\n",
      "{'_id': ObjectId('62fc1e1b2e71420b2d8836bb'), 'name': 'John Smith', 'age': 30}\n",
      "{'_id': ObjectId('62fc1e292e71420b2d8836bc'), 'name': 'Bo Bennett', 'age': 23}\n",
      "{'_id': ObjectId('62fc1e292e71420b2d8836bd'), 'name': 'Anna Jones', 'age': 25}\n",
      "{'_id': ObjectId('62fc1e922e71420b2d8836be'), 'name': 'Britney Sykes', 'age': 21, 'position': 'Guard'}\n",
      "{'_id': ObjectId('62fc1e922e71420b2d8836bf'), 'name': 'Briana Day', 'age': 21, 'position': 'Center'}\n",
      "{'_id': ObjectId('62fc1e922e71420b2d8836c0'), 'name': 'Alexis Peterson', 'age': 21, 'position': 'Guard'}\n",
      "{'_id': ObjectId('62fc1e922e71420b2d8836c1'), 'name': 'Gabby Cooper', 'age': 18, 'position': 'Guard'}\n",
      "{'_id': ObjectId('62fc1e9f2e71420b2d8836c2'), 'name': 'Britney Sykes', 'age': 21, 'position': 'Guard'}\n",
      "{'_id': ObjectId('62fc1e9f2e71420b2d8836c3'), 'name': 'Briana Day', 'age': 21, 'position': 'Center'}\n",
      "{'_id': ObjectId('62fc1e9f2e71420b2d8836c4'), 'name': 'Alexis Peterson', 'age': 21, 'position': 'Guard'}\n",
      "{'_id': ObjectId('62fc1e9f2e71420b2d8836c5'), 'name': 'Gabby Cooper', 'age': 18, 'position': 'Guard'}\n"
     ]
    }
   ],
   "source": [
    "docs = peoplecoll.find() \n",
    "for doc in docs:\n",
    "    print(doc)"
   ]
  },
  {
   "cell_type": "code",
   "execution_count": 38,
   "id": "2c57753b-e793-4970-bfa8-456b027250d7",
   "metadata": {},
   "outputs": [
    {
     "data": {
      "text/plain": [
       "{'_id': ObjectId('62fc1de72e71420b2d8836b9'), 'name': 'John Smith', 'age': 30}"
      ]
     },
     "execution_count": 38,
     "metadata": {},
     "output_type": "execute_result"
    }
   ],
   "source": [
    "peoplecoll.find_one()"
   ]
  },
  {
   "cell_type": "code",
   "execution_count": 39,
   "id": "f9077895-b0a3-4dc9-8c62-549fbb8ae1b0",
   "metadata": {},
   "outputs": [
    {
     "name": "stdout",
     "output_type": "stream",
     "text": [
      "{'_id': ObjectId('62fc1e292e71420b2d8836bd'), 'name': 'Anna Jones', 'age': 25}\n"
     ]
    }
   ],
   "source": [
    ">>> result = peoplecoll.find_one({'name':'Anna Jones'})\n",
    ">>> print(result)"
   ]
  },
  {
   "cell_type": "code",
   "execution_count": 42,
   "id": "867ce299-4697-408d-aed0-99663b082b54",
   "metadata": {},
   "outputs": [
    {
     "name": "stdout",
     "output_type": "stream",
     "text": [
      "{'_id': ObjectId('62fc1e922e71420b2d8836be'), 'name': 'Britney Sykes', 'age': 21, 'position': 'Guard'}\n",
      "{'_id': ObjectId('62fc1e922e71420b2d8836c0'), 'name': 'Alexis Peterson', 'age': 21, 'position': 'Guard'}\n",
      "{'_id': ObjectId('62fc1e922e71420b2d8836c1'), 'name': 'Gabby Cooper', 'age': 18, 'position': 'Guard'}\n",
      "{'_id': ObjectId('62fc1e9f2e71420b2d8836c2'), 'name': 'Britney Sykes', 'age': 21, 'position': 'Guard'}\n",
      "{'_id': ObjectId('62fc1e9f2e71420b2d8836c4'), 'name': 'Alexis Peterson', 'age': 21, 'position': 'Guard'}\n",
      "{'_id': ObjectId('62fc1e9f2e71420b2d8836c5'), 'name': 'Gabby Cooper', 'age': 18, 'position': 'Guard'}\n"
     ]
    }
   ],
   "source": [
    "# find all the documents where the position field has value ‘Guard’ \n",
    "results = peoplecoll.find({'position':'Guard'})\n",
    "for result in results:\n",
    "    print(result)"
   ]
  },
  {
   "cell_type": "code",
   "execution_count": null,
   "id": "ecefa7f9-16f0-4ea6-86db-8ce492a205fe",
   "metadata": {},
   "outputs": [],
   "source": []
  }
 ],
 "metadata": {
  "kernelspec": {
   "display_name": "Python 3 (ipykernel)",
   "language": "python",
   "name": "python3"
  },
  "language_info": {
   "codemirror_mode": {
    "name": "ipython",
    "version": 3
   },
   "file_extension": ".py",
   "mimetype": "text/x-python",
   "name": "python",
   "nbconvert_exporter": "python",
   "pygments_lexer": "ipython3",
   "version": "3.9.12"
  }
 },
 "nbformat": 4,
 "nbformat_minor": 5
}
