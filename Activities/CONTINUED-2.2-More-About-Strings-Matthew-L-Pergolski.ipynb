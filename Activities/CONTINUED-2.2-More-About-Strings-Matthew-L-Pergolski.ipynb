{
 "cells": [
  {
   "cell_type": "markdown",
   "id": "0a25da3f-92ba-4c5b-9267-9bfaa308f1a0",
   "metadata": {
    "tags": []
   },
   "source": [
    "## Continued | 2.2 More About Strings | Activity"
   ]
  },
  {
   "cell_type": "code",
   "execution_count": null,
   "id": "54e64559-cc05-4d20-92c2-7ae463a0d405",
   "metadata": {},
   "outputs": [],
   "source": [
    "# 2.2-More-About-Strings-Matthew-L-Pergolski"
   ]
  },
  {
   "cell_type": "code",
   "execution_count": null,
   "id": "fcbd60ef-32cb-4709-9398-dbecf2ca0595",
   "metadata": {
    "jp-MarkdownHeadingCollapsed": true,
    "tags": []
   },
   "outputs": [],
   "source": [
    "# Take the following Python code that stores a string:\n",
    "\n",
    "# str = 'X-DSPAM-Confidence:0.8475'\n",
    "\n",
    "# Use find and string slicing to extract the portions of the string after the colon character, \n",
    "# and then use the float function to convert the extracted string into a floating point number with two decimals.\n",
    "\n",
    "# Submit the code you used and the results in a single file. \n",
    "# Once you have submitted your file, \n",
    "# check out at least two of your classmates' files and see if their code and results are the same."
   ]
  },
  {
   "cell_type": "code",
   "execution_count": 11,
   "id": "7a974a86-6fb2-4432-aa46-216884f9e5c9",
   "metadata": {},
   "outputs": [
    {
     "name": "stdout",
     "output_type": "stream",
     "text": [
      "0.8475 <class 'float'>\n"
     ]
    }
   ],
   "source": [
    "str = 'X-DSPAM-Confidence:0.8475'\n",
    "str = str.split(':')\n",
    "str = str[1]\n",
    "str = float(str)\n",
    "print(str, type(str))"
   ]
  },
  {
   "cell_type": "code",
   "execution_count": null,
   "id": "6bb9af70-45b9-4319-bebd-06d2e5ed2bbd",
   "metadata": {},
   "outputs": [],
   "source": []
  }
 ],
 "metadata": {
  "kernelspec": {
   "display_name": "Python 3 (ipykernel)",
   "language": "python",
   "name": "python3"
  },
  "language_info": {
   "codemirror_mode": {
    "name": "ipython",
    "version": 3
   },
   "file_extension": ".py",
   "mimetype": "text/x-python",
   "name": "python",
   "nbconvert_exporter": "python",
   "pygments_lexer": "ipython3",
   "version": "3.9.12"
  }
 },
 "nbformat": 4,
 "nbformat_minor": 5
}
