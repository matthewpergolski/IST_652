{
 "cells": [
  {
   "cell_type": "markdown",
   "id": "3c48046f-471a-4a5a-b422-b128d5c6f28b",
   "metadata": {},
   "source": [
    "8.4 Twitter: Collecting Tweets"
   ]
  },
  {
   "cell_type": "raw",
   "id": "0400ce62-7db1-4310-895f-b51ebd6ee2f0",
   "metadata": {},
   "source": []
  },
  {
   "cell_type": "code",
   "execution_count": null,
   "id": "3412029f-0ac0-4d27-8b2b-0e3e9a6dcb98",
   "metadata": {},
   "outputs": [],
   "source": []
  },
  {
   "cell_type": "code",
   "execution_count": null,
   "id": "b820da51-f571-4cf5-b77e-cca705323dfd",
   "metadata": {},
   "outputs": [
    {
     "name": "stdout",
     "output_type": "stream",
     "text": [
      "Twitter OAuthorization:  <tweepy.api.API object at 0x7fa920297640>\n",
      "Twitter AppAuthorization:  <tweepy.api.API object at 0x7fa931f14190>\n"
     ]
    }
   ],
   "source": [
    "''' Provides function that connects to Twitter\n",
    "    Usage is shown in main test program\n",
    "'''\n",
    "\n",
    "import tweepy\n",
    "\n",
    "# login to Twitter with ordinary rate limiting\n",
    "def oauth_login():\n",
    "  # get the authorization from Twitter and save in the Tweepy package\n",
    "  auth = tweepy.OAuthHandler(CONSUMER_KEY,CONSUMER_SECRET)\n",
    "  auth.set_access_token(OAUTH_TOKEN,OAUTH_SECRET)\n",
    "  tweepy_api = tweepy.API(auth)\n",
    "\n",
    "  # if a null api is returned, give error message\n",
    "  if (not tweepy_api):\n",
    "      print (\"Problem Connecting to API with OAuth\")\n",
    "\n",
    "  # return the Twitter api object that allows access for the Tweepy api functions\n",
    "  return tweepy_api\n",
    "\n",
    "# login to Twitter with extended rate limiting\n",
    "#  must be used with the Tweepy Cursor to wrap the search and enact the waits\n",
    "def appauth_login():\n",
    "  # get the authorization from Twitter and save in the Tweepy package\n",
    "  auth = tweepy.AppAuthHandler(CONSUMER_KEY,CONSUMER_SECRET)\n",
    "  # apparently no need to set the other access tokens\n",
    "  tweepy_api = tweepy.API(auth, wait_on_rate_limit=True) #wait_on_rate_limit_notify=True)\n",
    "\n",
    "  # if a null api is returned, give error message\n",
    "  if (not tweepy_api):\n",
    "      print (\"Problem Connecting to API with AppAuth\")\n",
    "\n",
    "  # return the Twitter api object that allows access for the Tweepy api functions\n",
    "  return tweepy_api\n",
    "    \n",
    "# Test program to show how to connect\n",
    "if __name__ == '__main__':\n",
    "  tweepy_api = oauth_login()\n",
    "  print (\"Twitter OAuthorization: \", tweepy_api)\n",
    "  tweepy_api = appauth_login()\n",
    "  print (\"Twitter AppAuthorization: \", tweepy_api)"
   ]
  },
  {
   "cell_type": "code",
   "execution_count": 12,
   "id": "3fe65d87-3dc6-40f9-bfbd-62b330e2532f",
   "metadata": {},
   "outputs": [
    {
     "name": "stdout",
     "output_type": "stream",
     "text": [
      "/Users/pergolicious/Downloads\n"
     ]
    }
   ],
   "source": [
    "# Change to directory where the 'twitter_login_fn' python script is located\n",
    "\n",
    "%cd /Users/pergolicious/Downloads/"
   ]
  },
  {
   "cell_type": "code",
   "execution_count": 19,
   "id": "417981a9-1215-4dae-8f60-db3111a7acf1",
   "metadata": {},
   "outputs": [
    {
     "name": "stdout",
     "output_type": "stream",
     "text": [
      "usage: python twitter_simple_search.py \"#CuseLAX\" 100 lax syracuselax\n"
     ]
    },
    {
     "ename": "SystemExit",
     "evalue": "1",
     "output_type": "error",
     "traceback": [
      "An exception has occurred, use %tb to see the full traceback.\n",
      "\u001b[0;31mSystemExit\u001b[0m\u001b[0;31m:\u001b[0m 1\n"
     ]
    }
   ],
   "source": [
    "''' \n",
    "This main topic search function for Twitter using the python tweepy package\n",
    "      Tries to get up to 1000 results from the Twitter REST/Search API search function\n",
    "        using the tweepy Cursor to repeat the twitter search api requests\n",
    "      The query string may be a keyword or hashtag, or a set of them connected by or\n",
    "        example:  query = \"#CuseLAX OR CNYlacrosse\"\n",
    "        some queries require quotes on the command line\n",
    "    Returns a list of json formatted tweets\n",
    "'''\n",
    "\n",
    "import tweepy\n",
    "import json\n",
    "import sys\n",
    "from twitter_login_fn import oauth_login\n",
    "from twitter_login_fn import appauth_login\n",
    "from DB_fn import save_to_DB\n",
    "\n",
    "\n",
    "'''\n",
    "  Uses the tweepy Cursor to wrap a twitter api search for the query string\n",
    "    Returns json formatted results\n",
    "'''\n",
    "\n",
    "def simple_search(api, query, max_results=20):\n",
    "  # the first search initializes a cursor, stored in the metadata results,\n",
    "  #   that allows next searches to return additional tweets\n",
    "  #search_results = [status for status in tweepy.Cursor(api.search, q=query).items(max_results)]\n",
    "  search_results = [status for status in tweepy.Cursor(api.search(), q=query).items(max_results)]\n",
    "  # for each tweet, get the json representation\n",
    "  tweets = [tweet._json for tweet in search_results]\n",
    "  \n",
    "  return tweets\n",
    "\n",
    "# use a main so can get command line arguments\n",
    "if __name__ == '__main__':\n",
    "    # Make a list of command line arguments, omitting the [0] element\n",
    "    # which is the script itself.\n",
    "    args = sys.argv[1:]\n",
    "    if not args or len(args) < 4:\n",
    "        # print('usage: python twitter_simple_search.py <query> <num tweets> <DB name> <collection name>')\n",
    "        print('usage: python twitter_simple_search.py \"#CuseLAX\" 100 lax syracuselax')\n",
    "        sys.exit(1)\n",
    "    query = args[0]\n",
    "    num_tweets = int(args[1])\n",
    "    DBname = args[2]\n",
    "    DBcollection = args[3]\n",
    "\n",
    "    # api = oauth_login()\n",
    "    ''' if needed switch to using the appauth login to avoid rate limiting '''\n",
    "    api = appauth_login()\n",
    "    print (\"Twitter Authorization: \", api)\n",
    "    \n",
    "    # access Twitter search\n",
    "    result_tweets = simple_search(api, query, max_results=num_tweets)\n",
    "    print ('Number of result tweets: ', len(result_tweets))\n",
    "\n",
    "    # save the results in a database collection\n",
    "    #   change names to lowercase because they are not case sensitive\n",
    "    #   and remove special characters like hashtags and spaces (other special characters may also be forbidden)\n",
    "    DBname = DBname.lower()\n",
    "    DBname = DBname.replace('#', '')\n",
    "    DBname = DBname.replace(' ', '')\n",
    "    DBcollection = DBcollection.lower()\n",
    "    DBcollection = DBcollection.replace('#', '')\n",
    "    DBcollection = DBcollection.replace(' ', '')\n",
    "    \n",
    "    # use the save and load functions in this program\n",
    "    save_to_DB(DBname, DBcollection, result_tweets)\n",
    "\n",
    "    # Done!\n",
    "  "
   ]
  },
  {
   "cell_type": "code",
   "execution_count": 18,
   "id": "1e69f030-1066-40ae-b031-cab050042f84",
   "metadata": {},
   "outputs": [
    {
     "data": {
      "text/plain": [
       "['admin', 'bball', 'bikes', 'config', 'local', 'peopledb', 'usgs']"
      ]
     },
     "execution_count": 18,
     "metadata": {},
     "output_type": "execute_result"
    }
   ],
   "source": [
    ">>> import pymongo\n",
    "# connect to the database\n",
    ">>> client = pymongo.MongoClient('localhost', 27017)\n",
    ">>> client.list_database_names()"
   ]
  },
  {
   "cell_type": "code",
   "execution_count": null,
   "id": "b2790875-8547-4b19-8d17-87517097f1de",
   "metadata": {},
   "outputs": [],
   "source": []
  }
 ],
 "metadata": {
  "kernelspec": {
   "display_name": "Python 3 (ipykernel)",
   "language": "python",
   "name": "python3"
  },
  "language_info": {
   "codemirror_mode": {
    "name": "ipython",
    "version": 3
   },
   "file_extension": ".py",
   "mimetype": "text/x-python",
   "name": "python",
   "nbconvert_exporter": "python",
   "pygments_lexer": "ipython3",
   "version": "3.8.13"
  }
 },
 "nbformat": 4,
 "nbformat_minor": 5
}
