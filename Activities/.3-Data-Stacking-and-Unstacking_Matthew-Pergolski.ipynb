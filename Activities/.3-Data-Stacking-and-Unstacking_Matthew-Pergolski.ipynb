{
 "cells": [
  {
   "cell_type": "markdown",
   "id": "ba91b1f2-9d27-4920-b497-a395111310ea",
   "metadata": {},
   "source": [
    "# 5.3 Data Stacking and Unstacking"
   ]
  },
  {
   "cell_type": "markdown",
   "id": "c40923b7-7dc1-4b77-8400-89688a0a2088",
   "metadata": {},
   "source": [
    "### 5.3-Data-Stacking-and-Unstacking_Matthew-Pergolski"
   ]
  },
  {
   "cell_type": "code",
   "execution_count": null,
   "id": "ee673780-3837-45c3-8124-64a2f77e9be2",
   "metadata": {},
   "outputs": [],
   "source": [
    "persondict = {'person':['Jeff','Geoff','Jeffrey'],'age':[15,25,35],'weight':[120,180,195]}"
   ]
  }
 ],
 "metadata": {
  "kernelspec": {
   "display_name": "Python 3 (ipykernel)",
   "language": "python",
   "name": "python3"
  },
  "language_info": {
   "codemirror_mode": {
    "name": "ipython",
    "version": 3
   },
   "file_extension": ".py",
   "mimetype": "text/x-python",
   "name": "python",
   "nbconvert_exporter": "python",
   "pygments_lexer": "ipython3",
   "version": "3.9.12"
  }
 },
 "nbformat": 4,
 "nbformat_minor": 5
}
