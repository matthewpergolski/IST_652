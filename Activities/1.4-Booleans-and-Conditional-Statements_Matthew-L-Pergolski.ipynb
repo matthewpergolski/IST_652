{
 "cells": [
  {
   "cell_type": "markdown",
   "id": "071d7e02-89d7-46ba-a6fc-b0f8a9e01620",
   "metadata": {},
   "source": [
    "## 1.4 Booleans and Conditional Statements | Activity"
   ]
  },
  {
   "cell_type": "code",
   "execution_count": 6,
   "id": "a8fcc5dc-7ac2-4465-8d03-94b04866be9e",
   "metadata": {},
   "outputs": [
    {
     "name": "stdin",
     "output_type": "stream",
     "text": [
      "Submit a score between 0.0 and 1.0 1.1\n"
     ]
    },
    {
     "name": "stdout",
     "output_type": "stream",
     "text": [
      "Score out of range!\n"
     ]
    }
   ],
   "source": [
    "num = input('Submit a score between 0.0 and 1.0')\n",
    "num = float(num)\n",
    "\n",
    "if num > 1.0:\n",
    "    print('Score out of range!')\n",
    "elif num >= 0.9:\n",
    "    print('A')\n",
    "elif num >= 0.8:\n",
    "    print('B')\n",
    "elif num >= 0.7:\n",
    "    print('C')\n",
    "elif num  >= 0.6:\n",
    "    print('D')\n",
    "elif num <0.6:\n",
    "    print('F')\n",
    "\n"
   ]
  },
  {
   "cell_type": "markdown",
   "id": "9952bf11-d86d-4427-9871-b0fe4f5b861e",
   "metadata": {},
   "source": [
    "## Demonstartion | 'num' will be set to each condition to demonstrate that the code works for each scenario"
   ]
  },
  {
   "cell_type": "code",
   "execution_count": 7,
   "id": "9bc35b3f-7d34-41cd-abd8-ec8fca613969",
   "metadata": {},
   "outputs": [
    {
     "name": "stdout",
     "output_type": "stream",
     "text": [
      "Score out of range!\n"
     ]
    }
   ],
   "source": [
    "num = float(1.1)\n",
    "\n",
    "if num > 1.0:\n",
    "    print('Score out of range!')\n",
    "elif num >= 0.9:\n",
    "    print('A')\n",
    "elif num >= 0.8:\n",
    "    print('B')\n",
    "elif num >= 0.7:\n",
    "    print('C')\n",
    "elif num  >= 0.6:\n",
    "    print('D')\n",
    "elif num <0.6:\n",
    "    print('F')"
   ]
  },
  {
   "cell_type": "code",
   "execution_count": 5,
   "id": "24598420-f06b-4baa-ad9a-a13625934da2",
   "metadata": {},
   "outputs": [
    {
     "name": "stdout",
     "output_type": "stream",
     "text": [
      "A\n"
     ]
    }
   ],
   "source": [
    "num = float(0.9)\n",
    "\n",
    "if num > 1.0:\n",
    "    print('Score out of range!')\n",
    "elif num >= 0.9:\n",
    "    print('A')\n",
    "elif num >= 0.8:\n",
    "    print('B')\n",
    "elif num >= 0.7:\n",
    "    print('C')\n",
    "elif num  >= 0.6:\n",
    "    print('D')\n",
    "elif num <0.6:\n",
    "    print('F')"
   ]
  },
  {
   "cell_type": "code",
   "execution_count": 8,
   "id": "02dea5b5-ea48-4b74-998f-74761b446a7b",
   "metadata": {},
   "outputs": [
    {
     "name": "stdout",
     "output_type": "stream",
     "text": [
      "B\n"
     ]
    }
   ],
   "source": [
    "num = float(0.8)\n",
    "\n",
    "if num > 1.0:\n",
    "    print('Score out of range!')\n",
    "elif num >= 0.9:\n",
    "    print('A')\n",
    "elif num >= 0.8:\n",
    "    print('B')\n",
    "elif num >= 0.7:\n",
    "    print('C')\n",
    "elif num  >= 0.6:\n",
    "    print('D')\n",
    "elif num <0.6:\n",
    "    print('F')"
   ]
  },
  {
   "cell_type": "code",
   "execution_count": 9,
   "id": "97250b91-e4ea-4555-bdbd-98444d0e2c16",
   "metadata": {},
   "outputs": [
    {
     "name": "stdout",
     "output_type": "stream",
     "text": [
      "C\n"
     ]
    }
   ],
   "source": [
    "num = float(0.7)\n",
    "\n",
    "if num > 1.0:\n",
    "    print('Score out of range!')\n",
    "elif num >= 0.9:\n",
    "    print('A')\n",
    "elif num >= 0.8:\n",
    "    print('B')\n",
    "elif num >= 0.7:\n",
    "    print('C')\n",
    "elif num  >= 0.6:\n",
    "    print('D')\n",
    "elif num <0.6:\n",
    "    print('F')"
   ]
  },
  {
   "cell_type": "code",
   "execution_count": 10,
   "id": "6bc1b371-283c-45d0-9033-95f5b10fedad",
   "metadata": {},
   "outputs": [
    {
     "name": "stdout",
     "output_type": "stream",
     "text": [
      "D\n"
     ]
    }
   ],
   "source": [
    "num = float(0.6)\n",
    "\n",
    "if num > 1.0:\n",
    "    print('Score out of range!')\n",
    "elif num >= 0.9:\n",
    "    print('A')\n",
    "elif num >= 0.8:\n",
    "    print('B')\n",
    "elif num >= 0.7:\n",
    "    print('C')\n",
    "elif num  >= 0.6:\n",
    "    print('D')\n",
    "elif num <0.6:\n",
    "    print('F')"
   ]
  },
  {
   "cell_type": "code",
   "execution_count": 11,
   "id": "ada25a68-f87f-4683-a9d7-9b3f96a8788c",
   "metadata": {},
   "outputs": [
    {
     "name": "stdout",
     "output_type": "stream",
     "text": [
      "F\n"
     ]
    }
   ],
   "source": [
    "num = float(0.59)\n",
    "\n",
    "if num > 1.0:\n",
    "    print('Score out of range!')\n",
    "elif num >= 0.9:\n",
    "    print('A')\n",
    "elif num >= 0.8:\n",
    "    print('B')\n",
    "elif num >= 0.7:\n",
    "    print('C')\n",
    "elif num  >= 0.6:\n",
    "    print('D')\n",
    "elif num <0.6:\n",
    "    print('F')"
   ]
  }
 ],
 "metadata": {
  "kernelspec": {
   "display_name": "Python 3 (ipykernel)",
   "language": "python",
   "name": "python3"
  },
  "language_info": {
   "codemirror_mode": {
    "name": "ipython",
    "version": 3
   },
   "file_extension": ".py",
   "mimetype": "text/x-python",
   "name": "python",
   "nbconvert_exporter": "python",
   "pygments_lexer": "ipython3",
   "version": "3.9.12"
  }
 },
 "nbformat": 4,
 "nbformat_minor": 5
}
