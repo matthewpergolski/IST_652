{
 "cells": [
  {
   "cell_type": "markdown",
   "id": "5ef732e4-af61-46cd-81b9-8a21bbc5dbae",
   "metadata": {},
   "source": [
    "Final Project Data Set"
   ]
  },
  {
   "cell_type": "code",
   "execution_count": 1,
   "id": "c540e994-f334-4c29-8059-9ed95466c9ce",
   "metadata": {},
   "outputs": [],
   "source": [
    "import pandas as pd"
   ]
  },
  {
   "cell_type": "code",
   "execution_count": 3,
   "id": "58cd1cea-81a5-4eb2-a850-55c0d3213be0",
   "metadata": {},
   "outputs": [],
   "source": [
    "data = pd.read_excel('/Users/pergolicious/Library/CloudStorage/OneDrive-SyracuseUniversity/Syracuse University/Courses/IST 652/Final Project/complete laptop data0.xls')"
   ]
  },
  {
   "cell_type": "code",
   "execution_count": 5,
   "id": "3f3b8640-c9d2-457c-af85-4edb15329e4f",
   "metadata": {},
   "outputs": [
    {
     "name": "stdout",
     "output_type": "stream",
     "text": [
      "<class 'pandas.core.frame.DataFrame'>\n",
      "RangeIndex: 984 entries, 0 to 983\n",
      "Data columns (total 98 columns):\n",
      " #   Column                             Non-Null Count  Dtype  \n",
      "---  ------                             --------------  -----  \n",
      " 0   Unnamed: 0                         984 non-null    int64  \n",
      " 1   link                               984 non-null    object \n",
      " 2   name                               984 non-null    object \n",
      " 3   user rating                        690 non-null    float64\n",
      " 4   Price                              984 non-null    object \n",
      " 5   Sales Package                      984 non-null    object \n",
      " 6   Model Number                       984 non-null    object \n",
      " 7   Part Number                        984 non-null    object \n",
      " 8   Model Name                         709 non-null    object \n",
      " 9   Series                             787 non-null    object \n",
      " 10  Color                              984 non-null    object \n",
      " 11  Type                               984 non-null    object \n",
      " 12  Suitable For                       984 non-null    object \n",
      " 13  Power Supply                       548 non-null    object \n",
      " 14  Battery Cell                       680 non-null    object \n",
      " 15  MS Office Provided                 984 non-null    object \n",
      " 16  Dedicated Graphic Memory Type      338 non-null    object \n",
      " 17  Dedicated Graphic Memory Capacity  310 non-null    object \n",
      " 18  Processor Brand                    984 non-null    object \n",
      " 19  Processor Name                     984 non-null    object \n",
      " 20  Processor Generation               690 non-null    object \n",
      " 21  SSD                                984 non-null    object \n",
      " 22  SSD Capacity                       876 non-null    object \n",
      " 23  RAM                                984 non-null    object \n",
      " 24  RAM Type                           984 non-null    object \n",
      " 25  Processor Variant                  861 non-null    object \n",
      " 26  Clock Speed                        861 non-null    object \n",
      " 27  Expandable Memory                  383 non-null    object \n",
      " 28  Cache                              761 non-null    object \n",
      " 29  Graphic Processor                  964 non-null    object \n",
      " 30  Number of Cores                    724 non-null    float64\n",
      " 31  OS Architecture                    826 non-null    object \n",
      " 32  Operating System                   984 non-null    object \n",
      " 33  Supported Operating System         489 non-null    object \n",
      " 34  Mic In                             807 non-null    object \n",
      " 35  USB Port                           880 non-null    object \n",
      " 36  HDMI Port                          804 non-null    object \n",
      " 37  Touchscreen                        984 non-null    object \n",
      " 38  Screen Size                        984 non-null    object \n",
      " 39  Screen Resolution                  984 non-null    object \n",
      " 40  Screen Type                        883 non-null    object \n",
      " 41  Speakers                           852 non-null    object \n",
      " 42  Internal Mic                       843 non-null    object \n",
      " 43  Sound Properties                   698 non-null    object \n",
      " 44  Wireless LAN                       868 non-null    object \n",
      " 45  Bluetooth                          980 non-null    object \n",
      " 46  Dimensions                         863 non-null    object \n",
      " 47  Weight                             873 non-null    object \n",
      " 48  Disk Drive                         984 non-null    object \n",
      " 49  Finger Print Sensor                714 non-null    object \n",
      " 50  Keyboard                           883 non-null    object \n",
      " 51  Backlit Keyboard                   816 non-null    object \n",
      " 52  Additional Features                577 non-null    object \n",
      " 53  Warranty Summary                   984 non-null    object \n",
      " 54  Warranty Service Type              984 non-null    object \n",
      " 55  Covered in Warranty                984 non-null    object \n",
      " 56  Not Covered in Warranty            981 non-null    object \n",
      " 57  Domestic Warranty                  814 non-null    object \n",
      " 58  Ethernet                           310 non-null    object \n",
      " 59  Web Camera                         843 non-null    object \n",
      " 60  Pointer Device                     577 non-null    object \n",
      " 61  Included Software                  604 non-null    object \n",
      " 62  Battery Backup                     608 non-null    object \n",
      " 63  Chipset                            138 non-null    object \n",
      " 64  Memory Slots                       300 non-null    object \n",
      " 65  RAM Frequency                      393 non-null    object \n",
      " 66  RJ45                               418 non-null    object \n",
      " 67  Sound Chip                         111 non-null    object \n",
      " 68  Brightness                         12 non-null     object \n",
      " 69  Laptop Bag                         189 non-null    object \n",
      " 70  Other Accessories                  39 non-null     object \n",
      " 71  International Warranty             141 non-null    object \n",
      " 72  Wireless WAN                       62 non-null     object \n",
      " 73  Recovery Options                   32 non-null     object \n",
      " 74  RPM                                93 non-null     float64\n",
      " 75  Hardware Interface                 540 non-null    object \n",
      " 76  Face Recognition                   34 non-null     object \n",
      " 77  System Architecture                566 non-null    object \n",
      " 78  Refresh Rate                       157 non-null    object \n",
      " 79  Antivirus                          131 non-null    object \n",
      " 80  Multi Card Slot                    506 non-null    object \n",
      " 81  Lock Port                          224 non-null    object \n",
      " 82  NFC Support                        41 non-null     object \n",
      " 83  HDD Capacity                       182 non-null    object \n",
      " 84  Stylus Included                    51 non-null     object \n",
      " 85  TGP                                29 non-null     object \n",
      " 86  VGA Port                           91 non-null     object \n",
      " 87  Color Gamut                        4 non-null      object \n",
      " 88  Security Chip                      142 non-null    object \n",
      " 89  Inbuilt 4G LTE                     13 non-null     object \n",
      " 90  Cloud Storage                      1 non-null      object \n",
      " 91  S-video                            16 non-null     object \n",
      " 92  Dock Port                          33 non-null     object \n",
      " 93  Firewire Port                      34 non-null     object \n",
      " 94  RJ11                               41 non-null     object \n",
      " 95  Read/Write Speed                   4 non-null      object \n",
      " 96  EMMC Storage Capacity              24 non-null     object \n",
      " 97  Optane Memory                      6 non-null      object \n",
      "dtypes: float64(3), int64(1), object(94)\n",
      "memory usage: 753.5+ KB\n"
     ]
    }
   ],
   "source": [
    "data.info()"
   ]
  },
  {
   "cell_type": "code",
   "execution_count": 10,
   "id": "2155e701-5ee7-4365-8eb5-3b1389b76e34",
   "metadata": {},
   "outputs": [
    {
     "name": "stdout",
     "output_type": "stream",
     "text": [
      "Unnamed: 0               984\n",
      "link                     957\n",
      "name                     943\n",
      "user rating               28\n",
      "Price                    433\n",
      "                        ... \n",
      "Firewire Port              1\n",
      "RJ11                       1\n",
      "Read/Write Speed           2\n",
      "EMMC Storage Capacity      4\n",
      "Optane Memory              1\n",
      "Length: 98, dtype: int64\n"
     ]
    }
   ],
   "source": [
    "print(data.nunique())"
   ]
  },
  {
   "cell_type": "code",
   "execution_count": null,
   "id": "908c2977-2ace-4b7e-83b8-e931c5eb3ee9",
   "metadata": {},
   "outputs": [],
   "source": []
  }
 ],
 "metadata": {
  "kernelspec": {
   "display_name": "Python 3 (ipykernel)",
   "language": "python",
   "name": "python3"
  },
  "language_info": {
   "codemirror_mode": {
    "name": "ipython",
    "version": 3
   },
   "file_extension": ".py",
   "mimetype": "text/x-python",
   "name": "python",
   "nbconvert_exporter": "python",
   "pygments_lexer": "ipython3",
   "version": "3.8.13"
  }
 },
 "nbformat": 4,
 "nbformat_minor": 5
}
