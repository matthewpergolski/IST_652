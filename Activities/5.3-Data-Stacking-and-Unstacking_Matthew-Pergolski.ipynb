{
 "cells": [
  {
   "cell_type": "markdown",
   "id": "ba91b1f2-9d27-4920-b497-a395111310ea",
   "metadata": {},
   "source": [
    "# 5.3 Data Stacking and Unstacking"
   ]
  },
  {
   "cell_type": "markdown",
   "id": "c40923b7-7dc1-4b77-8400-89688a0a2088",
   "metadata": {},
   "source": [
    "### 5.3-Data-Stacking-and-Unstacking_Matthew-Pergolski"
   ]
  },
  {
   "cell_type": "code",
   "execution_count": 9,
   "id": "ee673780-3837-45c3-8124-64a2f77e9be2",
   "metadata": {},
   "outputs": [
    {
     "data": {
      "text/plain": [
       "{'person': ['Jeff', 'Geoff', 'Jeffrey'],\n",
       " 'age': [15, 25, 35],\n",
       " 'weight': [120, 180, 195]}"
      ]
     },
     "execution_count": 9,
     "metadata": {},
     "output_type": "execute_result"
    }
   ],
   "source": [
    "notyetdf = {'person':['Jeff','Geoff','Jeffrey'],'age':[15,25,35],'weight':[120,180,195]}\n",
    "notyetdf"
   ]
  },
  {
   "cell_type": "code",
   "execution_count": 10,
   "id": "2969f4d1-3013-4672-a449-3d24939b4a47",
   "metadata": {},
   "outputs": [
    {
     "data": {
      "text/html": [
       "<div>\n",
       "<style scoped>\n",
       "    .dataframe tbody tr th:only-of-type {\n",
       "        vertical-align: middle;\n",
       "    }\n",
       "\n",
       "    .dataframe tbody tr th {\n",
       "        vertical-align: top;\n",
       "    }\n",
       "\n",
       "    .dataframe thead th {\n",
       "        text-align: right;\n",
       "    }\n",
       "</style>\n",
       "<table border=\"1\" class=\"dataframe\">\n",
       "  <thead>\n",
       "    <tr style=\"text-align: right;\">\n",
       "      <th></th>\n",
       "      <th>person</th>\n",
       "      <th>age</th>\n",
       "      <th>weight</th>\n",
       "    </tr>\n",
       "  </thead>\n",
       "  <tbody>\n",
       "    <tr>\n",
       "      <th>0</th>\n",
       "      <td>Jeff</td>\n",
       "      <td>15</td>\n",
       "      <td>120</td>\n",
       "    </tr>\n",
       "    <tr>\n",
       "      <th>1</th>\n",
       "      <td>Geoff</td>\n",
       "      <td>25</td>\n",
       "      <td>180</td>\n",
       "    </tr>\n",
       "    <tr>\n",
       "      <th>2</th>\n",
       "      <td>Jeffrey</td>\n",
       "      <td>35</td>\n",
       "      <td>195</td>\n",
       "    </tr>\n",
       "  </tbody>\n",
       "</table>\n",
       "</div>"
      ],
      "text/plain": [
       "    person  age  weight\n",
       "0     Jeff   15     120\n",
       "1    Geoff   25     180\n",
       "2  Jeffrey   35     195"
      ]
     },
     "execution_count": 10,
     "metadata": {},
     "output_type": "execute_result"
    }
   ],
   "source": [
    "import pandas as pd\n",
    "\n",
    "df = pd.DataFrame(notyetdf)\n",
    "df"
   ]
  },
  {
   "cell_type": "code",
   "execution_count": 11,
   "id": "bdca85bd-ef65-4a14-b155-594635a55a31",
   "metadata": {},
   "outputs": [
    {
     "data": {
      "text/html": [
       "<div>\n",
       "<style scoped>\n",
       "    .dataframe tbody tr th:only-of-type {\n",
       "        vertical-align: middle;\n",
       "    }\n",
       "\n",
       "    .dataframe tbody tr th {\n",
       "        vertical-align: top;\n",
       "    }\n",
       "\n",
       "    .dataframe thead th {\n",
       "        text-align: right;\n",
       "    }\n",
       "</style>\n",
       "<table border=\"1\" class=\"dataframe\">\n",
       "  <thead>\n",
       "    <tr style=\"text-align: right;\">\n",
       "      <th></th>\n",
       "      <th>age</th>\n",
       "      <th>weight</th>\n",
       "    </tr>\n",
       "    <tr>\n",
       "      <th>person</th>\n",
       "      <th></th>\n",
       "      <th></th>\n",
       "    </tr>\n",
       "  </thead>\n",
       "  <tbody>\n",
       "    <tr>\n",
       "      <th>Jeff</th>\n",
       "      <td>15</td>\n",
       "      <td>120</td>\n",
       "    </tr>\n",
       "    <tr>\n",
       "      <th>Geoff</th>\n",
       "      <td>25</td>\n",
       "      <td>180</td>\n",
       "    </tr>\n",
       "    <tr>\n",
       "      <th>Jeffrey</th>\n",
       "      <td>35</td>\n",
       "      <td>195</td>\n",
       "    </tr>\n",
       "  </tbody>\n",
       "</table>\n",
       "</div>"
      ],
      "text/plain": [
       "         age  weight\n",
       "person              \n",
       "Jeff      15     120\n",
       "Geoff     25     180\n",
       "Jeffrey   35     195"
      ]
     },
     "execution_count": 11,
     "metadata": {},
     "output_type": "execute_result"
    }
   ],
   "source": [
    "#1 | Reset index\n",
    "\n",
    "df.set_index('person')"
   ]
  },
  {
   "cell_type": "code",
   "execution_count": 12,
   "id": "e0b624c4-9b5d-4751-a0fc-46a7f5ac249a",
   "metadata": {},
   "outputs": [
    {
     "data": {
      "text/plain": [
       "0  person       Jeff\n",
       "   age            15\n",
       "   weight        120\n",
       "1  person      Geoff\n",
       "   age            25\n",
       "   weight        180\n",
       "2  person    Jeffrey\n",
       "   age            35\n",
       "   weight        195\n",
       "dtype: object"
      ]
     },
     "execution_count": 12,
     "metadata": {},
     "output_type": "execute_result"
    }
   ],
   "source": [
    "# 2 | Stack into Tall object\n",
    "\n",
    "df.stack()"
   ]
  },
  {
   "cell_type": "code",
   "execution_count": 16,
   "id": "249fa903-26f9-46c6-b9f2-b8a9b823c576",
   "metadata": {},
   "outputs": [
    {
     "data": {
      "text/html": [
       "<div>\n",
       "<style scoped>\n",
       "    .dataframe tbody tr th:only-of-type {\n",
       "        vertical-align: middle;\n",
       "    }\n",
       "\n",
       "    .dataframe tbody tr th {\n",
       "        vertical-align: top;\n",
       "    }\n",
       "\n",
       "    .dataframe thead th {\n",
       "        text-align: right;\n",
       "    }\n",
       "</style>\n",
       "<table border=\"1\" class=\"dataframe\">\n",
       "  <thead>\n",
       "    <tr style=\"text-align: right;\">\n",
       "      <th></th>\n",
       "      <th>index</th>\n",
       "      <th>person</th>\n",
       "      <th>attribute</th>\n",
       "      <th>value</th>\n",
       "    </tr>\n",
       "  </thead>\n",
       "  <tbody>\n",
       "    <tr>\n",
       "      <th>0</th>\n",
       "      <td>0</td>\n",
       "      <td>Jeff</td>\n",
       "      <td>15</td>\n",
       "      <td>120</td>\n",
       "    </tr>\n",
       "    <tr>\n",
       "      <th>1</th>\n",
       "      <td>1</td>\n",
       "      <td>Geoff</td>\n",
       "      <td>25</td>\n",
       "      <td>180</td>\n",
       "    </tr>\n",
       "    <tr>\n",
       "      <th>2</th>\n",
       "      <td>2</td>\n",
       "      <td>Jeffrey</td>\n",
       "      <td>35</td>\n",
       "      <td>195</td>\n",
       "    </tr>\n",
       "  </tbody>\n",
       "</table>\n",
       "</div>"
      ],
      "text/plain": [
       "   index   person  attribute  value\n",
       "0      0     Jeff         15    120\n",
       "1      1    Geoff         25    180\n",
       "2      2  Jeffrey         35    195"
      ]
     },
     "execution_count": 16,
     "metadata": {},
     "output_type": "execute_result"
    }
   ],
   "source": [
    "#3 | Reset Index\n",
    "\n",
    "df.reset_index()"
   ]
  },
  {
   "cell_type": "code",
   "execution_count": 15,
   "id": "a1edf282-5052-4611-bc6f-771f89e8563d",
   "metadata": {},
   "outputs": [
    {
     "data": {
      "text/html": [
       "<div>\n",
       "<style scoped>\n",
       "    .dataframe tbody tr th:only-of-type {\n",
       "        vertical-align: middle;\n",
       "    }\n",
       "\n",
       "    .dataframe tbody tr th {\n",
       "        vertical-align: top;\n",
       "    }\n",
       "\n",
       "    .dataframe thead th {\n",
       "        text-align: right;\n",
       "    }\n",
       "</style>\n",
       "<table border=\"1\" class=\"dataframe\">\n",
       "  <thead>\n",
       "    <tr style=\"text-align: right;\">\n",
       "      <th></th>\n",
       "      <th>person</th>\n",
       "      <th>attribute</th>\n",
       "      <th>value</th>\n",
       "    </tr>\n",
       "  </thead>\n",
       "  <tbody>\n",
       "    <tr>\n",
       "      <th>0</th>\n",
       "      <td>Jeff</td>\n",
       "      <td>15</td>\n",
       "      <td>120</td>\n",
       "    </tr>\n",
       "    <tr>\n",
       "      <th>1</th>\n",
       "      <td>Geoff</td>\n",
       "      <td>25</td>\n",
       "      <td>180</td>\n",
       "    </tr>\n",
       "    <tr>\n",
       "      <th>2</th>\n",
       "      <td>Jeffrey</td>\n",
       "      <td>35</td>\n",
       "      <td>195</td>\n",
       "    </tr>\n",
       "  </tbody>\n",
       "</table>\n",
       "</div>"
      ],
      "text/plain": [
       "    person  attribute  value\n",
       "0     Jeff         15    120\n",
       "1    Geoff         25    180\n",
       "2  Jeffrey         35    195"
      ]
     },
     "execution_count": 15,
     "metadata": {},
     "output_type": "execute_result"
    }
   ],
   "source": [
    "#4 | Rename Columns\n",
    "\n",
    "df.columns=[ 'person', 'attribute', 'value']\n",
    "df"
   ]
  },
  {
   "cell_type": "code",
   "execution_count": 17,
   "id": "e6d5be02-1937-40e0-b1f8-7e37c088236e",
   "metadata": {},
   "outputs": [
    {
     "data": {
      "text/plain": [
       "person     0       Jeff\n",
       "           1      Geoff\n",
       "           2    Jeffrey\n",
       "attribute  0         15\n",
       "           1         25\n",
       "           2         35\n",
       "value      0        120\n",
       "           1        180\n",
       "           2        195\n",
       "dtype: object"
      ]
     },
     "execution_count": 17,
     "metadata": {},
     "output_type": "execute_result"
    }
   ],
   "source": [
    "#5 | Unstack\n",
    "\n",
    "df.unstack()"
   ]
  },
  {
   "cell_type": "code",
   "execution_count": 20,
   "id": "35101ffd-3007-4e49-9a6e-585fef85b20c",
   "metadata": {},
   "outputs": [
    {
     "data": {
      "text/html": [
       "<div>\n",
       "<style scoped>\n",
       "    .dataframe tbody tr th:only-of-type {\n",
       "        vertical-align: middle;\n",
       "    }\n",
       "\n",
       "    .dataframe tbody tr th {\n",
       "        vertical-align: top;\n",
       "    }\n",
       "\n",
       "    .dataframe thead th {\n",
       "        text-align: right;\n",
       "    }\n",
       "</style>\n",
       "<table border=\"1\" class=\"dataframe\">\n",
       "  <thead>\n",
       "    <tr style=\"text-align: right;\">\n",
       "      <th>attribute</th>\n",
       "      <th>15</th>\n",
       "      <th>25</th>\n",
       "      <th>35</th>\n",
       "    </tr>\n",
       "    <tr>\n",
       "      <th>person</th>\n",
       "      <th></th>\n",
       "      <th></th>\n",
       "      <th></th>\n",
       "    </tr>\n",
       "  </thead>\n",
       "  <tbody>\n",
       "    <tr>\n",
       "      <th>Geoff</th>\n",
       "      <td>NaN</td>\n",
       "      <td>180.0</td>\n",
       "      <td>NaN</td>\n",
       "    </tr>\n",
       "    <tr>\n",
       "      <th>Jeff</th>\n",
       "      <td>120.0</td>\n",
       "      <td>NaN</td>\n",
       "      <td>NaN</td>\n",
       "    </tr>\n",
       "    <tr>\n",
       "      <th>Jeffrey</th>\n",
       "      <td>NaN</td>\n",
       "      <td>NaN</td>\n",
       "      <td>195.0</td>\n",
       "    </tr>\n",
       "  </tbody>\n",
       "</table>\n",
       "</div>"
      ],
      "text/plain": [
       "attribute     15     25     35\n",
       "person                        \n",
       "Geoff        NaN  180.0    NaN\n",
       "Jeff       120.0    NaN    NaN\n",
       "Jeffrey      NaN    NaN  195.0"
      ]
     },
     "execution_count": 20,
     "metadata": {},
     "output_type": "execute_result"
    }
   ],
   "source": [
    "#6 | Pivot\n",
    "\n",
    "df.pivot('person', 'attribute', 'value')"
   ]
  },
  {
   "cell_type": "code",
   "execution_count": null,
   "id": "4b32c7c5-093c-4a14-a10c-26d639983424",
   "metadata": {},
   "outputs": [],
   "source": [
    ">>> import pandas as pd\n",
    ">>> persondict = {'person':['Bob','Alice','Steve'],'age':[32,24,64],'weight':[128,86,95]} >>> persontable=pd.DataFrame(persondict, columns=['person','age','weight'])\n",
    ">>> persontable\n",
    "person age weight\n",
    "0 Bob 32 128\n",
    "1 Alice 24 86\n",
    "2 Steve 64 95\n",
    ">>> persontable = persontable.set_index('person') >>> persontable\n",
    "age weight person\n",
    "Bob 32 128 Alice 24 86 Steve 64 95\n",
    ">>> result = persontable.stack() >>> result\n",
    "person\n",
    "Bob age 32\n",
    "weight 128 Alice age 24\n",
    "weight 86 Steve age 64\n",
    "weight 95 dtype: int64\n",
    ">>> persontall = result.reset_index() >>> persontall\n",
    "person level_1 0\n",
    "0 Bob age 32\n",
    "1 Bob weight 128\n",
    "2 Alice age 24\n",
    "3 Alice weight 86\n",
    "4 Steve age 64\n",
    "5 Steve weight 95\n",
    ">>> persontall.columns=['person','attribute','value'] >>> persontall\n",
    "person attribute value 0 Bob age 32\n",
    "1 Bob weight 128 2Alice age 24\n",
    "3 Alice weight 86 4Steve age 64 5 Steve weight 95 >>> result.unstack()\n",
    "age weight person\n",
    "Bob 32 128\n",
    "Alice 24 86\n",
    "Steve 64 95\n",
    ">>> persontall.pivot('person','attribute','value') attribute age weight\n",
    "person Alice Bob Steve\n",
    "24 86 32 128 64 95"
   ]
  }
 ],
 "metadata": {
  "kernelspec": {
   "display_name": "Python 3 (ipykernel)",
   "language": "python",
   "name": "python3"
  },
  "language_info": {
   "codemirror_mode": {
    "name": "ipython",
    "version": 3
   },
   "file_extension": ".py",
   "mimetype": "text/x-python",
   "name": "python",
   "nbconvert_exporter": "python",
   "pygments_lexer": "ipython3",
   "version": "3.9.12"
  }
 },
 "nbformat": 4,
 "nbformat_minor": 5
}
