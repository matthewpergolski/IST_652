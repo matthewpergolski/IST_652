{
 "cells": [
  {
   "cell_type": "markdown",
   "id": "d7901b55-6008-4500-bac8-495269094df2",
   "metadata": {},
   "source": [
    "# 5.4 Writing Reports and Tables to a File"
   ]
  },
  {
   "cell_type": "code",
   "execution_count": 1,
   "id": "15c4c79c-4c20-46d5-8fdd-1b86a9181d7a",
   "metadata": {},
   "outputs": [],
   "source": [
    "## 5.4-Writing-Reports-and-Tables-to-a-File_Matthew-Pergolski"
   ]
  },
  {
   "cell_type": "code",
   "execution_count": 3,
   "id": "305da52b-cb4c-4bde-9619-9bbe0afbfbf1",
   "metadata": {},
   "outputs": [
    {
     "name": "stdout",
     "output_type": "stream",
     "text": [
      "Read 381 player data\n"
     ]
    },
    {
     "name": "stderr",
     "output_type": "stream",
     "text": [
      "/var/folders/50/cmvlyf1x0jxfqm3s7khyhbt40000gn/T/ipykernel_16158/6784603.py:19: DeprecationWarning: 'U' mode is deprecated\n",
      "  with open(infile, 'rU') as csvfile:\n"
     ]
    }
   ],
   "source": [
    "'''\n",
    "  This program reads the American League baseball players, 2003, tsv file\n",
    "    using the csv reader \n",
    "    and stores it in a list of dictionaries, one for each player\n",
    "  Each line has the team, the player name, the salary and the position played.\n",
    "\n",
    "  The program writes a report on the average salary per player to a txt file.\n",
    "  The program writes the players who made more than $10 million to a csv file\n",
    "    using the csv writer with a header line suitable for excel.\n",
    "'''\n",
    "\n",
    "import csv\n",
    "\n",
    "infile = '/Users/pergolicious/Downloads/albb.salaries.2003.tsv'\n",
    "\n",
    "# create new empty list\n",
    "playersList = []\n",
    "\n",
    "with open(infile, 'rU') as csvfile:\n",
    "    # the csv file reader returns a list of the csv items on each line\n",
    "    ALReader = csv.reader(csvfile,  dialect='excel', delimiter='\\t')\n",
    "\n",
    "    # from each line, a list of row items, put each element in a dictionary\n",
    "    #   with a key representing the data\n",
    "    for line in ALReader:\n",
    "      # skip lines without data\n",
    "      if line[0] == '' or line[0].startswith('American') or line[0].startswith('Team')\\\n",
    "            or line[0].startswith('Source'):\n",
    "          continue\n",
    "      else:\n",
    "          try:\n",
    "            # create a dictionary for each player\n",
    "            player = {}\n",
    "            # add each piece of data under a key representing that data\n",
    "            player['team'] = line[0]\n",
    "            player['name'] = line[1]\n",
    "            player['sal'] = int(line[2].replace(',',''))\n",
    "            player['position'] = line[3]\n",
    "    \n",
    "            # add this player to the list\n",
    "            playersList.append(player)\n",
    "    \n",
    "          except IndexError:\n",
    "            print ('Error: ', line)\n",
    "csvfile.close()\n",
    "\n",
    "print (\"Read\", len(playersList), \"player data\")\n",
    "\n",
    "\n",
    "# Write a report text file with a title and the average of the salaries\n",
    "# First create an output file name\n",
    "outfile1 = infile.replace('tsv', '') + 'report.txt'\n",
    "# open the file for writing\n",
    "fout1 = open(outfile1, 'w')\n",
    "\n",
    "# write title at top of file\n",
    "fout1.write(\"American League Baseball players average salary in 2003\\n\\n\")\n",
    "\n",
    "# compute the average salary over all players\n",
    "total_salary = 0.0\n",
    "for player in playersList:\n",
    "    total_salary += player['sal']\n",
    "average_salary = total_salary / len(playersList)\n",
    "\n",
    "# write a report line as a string to the file\n",
    "fout1.write('Average salary = ${:,.2f}'.format(average_salary))\n",
    "fout1.close()\n",
    "\n",
    "# Write a file with all the players who made more than $10 million.\n",
    "# We write a comma separated file, using the csv writer to quote the player names with commas\n",
    "# first create an output file name\n",
    "outfile2 = infile.replace('tsv','') + 'under-million.csv'\n",
    "\n",
    "# open the file\n",
    "with open(outfile2, 'w', newline='') as csvfileout:\n",
    "    # create a csv writer for a comma sep file, with quoting as needed\n",
    "    ALwriter = csv.writer(csvfileout, delimiter=',', quoting=csv.QUOTE_MINIMAL)\n",
    "    # write the header row as a list of column labels\n",
    "    ALwriter.writerow(['Player', 'Team', 'Salary'])\n",
    "    for player in playersList:\n",
    "        # select the players with salary over 1 million\n",
    "        if (player['sal'] < 310000):\n",
    "            # write the player as a list of data items\n",
    "            ALwriter.writerow([player['name'], player['team'], player['sal']])\n",
    "\n",
    "csvfileout.close()\n"
   ]
  },
  {
   "cell_type": "code",
   "execution_count": null,
   "id": "160b4e49-fe5b-4212-bea7-3b19c13def6d",
   "metadata": {},
   "outputs": [],
   "source": []
  }
 ],
 "metadata": {
  "kernelspec": {
   "display_name": "Python 3 (ipykernel)",
   "language": "python",
   "name": "python3"
  },
  "language_info": {
   "codemirror_mode": {
    "name": "ipython",
    "version": 3
   },
   "file_extension": ".py",
   "mimetype": "text/x-python",
   "name": "python",
   "nbconvert_exporter": "python",
   "pygments_lexer": "ipython3",
   "version": "3.9.12"
  }
 },
 "nbformat": 4,
 "nbformat_minor": 5
}
