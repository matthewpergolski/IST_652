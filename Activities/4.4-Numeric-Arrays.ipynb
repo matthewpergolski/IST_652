{
 "cells": [
  {
   "cell_type": "markdown",
   "id": "0d1b86a7-b331-4fda-848b-768e7a5d875a",
   "metadata": {},
   "source": [
    "# 4.4 Numeric Arrays"
   ]
  },
  {
   "cell_type": "markdown",
   "id": "f64a8a26-f3ca-41a9-a733-d1af8ac872e8",
   "metadata": {},
   "source": [
    "4.4-Numeric-Arrays"
   ]
  },
  {
   "cell_type": "markdown",
   "id": "8326312a-6891-4389-b93e-64aea3cc720d",
   "metadata": {},
   "source": [
    "Generate a numpy array of size 4 by 5.\n",
    "\n",
    "[1,2,3,4,5], [6,7,8,9,10], [11,12,13,14,15], [16,17,18,19,20] \n",
    "\n",
    "a. Use Index Slicing and show how to get the subarray consisting of the last two rows and the third and fourth columns.\n",
    "\n",
    "b. Show how to create a one-dimensional array that sums the columns\n",
    "\n",
    "Submit your solution in a single file."
   ]
  },
  {
   "cell_type": "code",
   "execution_count": 115,
   "id": "5ae452fd-0206-4973-a427-8a094e7362d6",
   "metadata": {},
   "outputs": [
    {
     "name": "stdout",
     "output_type": "stream",
     "text": [
      "Answer: [[14 15]\n",
      " [19 20]]\n"
     ]
    },
    {
     "data": {
      "text/plain": [
       "210"
      ]
     },
     "execution_count": 115,
     "metadata": {},
     "output_type": "execute_result"
    }
   ],
   "source": [
    "import numpy as np\n",
    "\n",
    "#ray = np.arange(20).reshape(4,5)\n",
    "ray = [1,2,3,4,5], [6,7,8,9,10], [11,12,13,14,15], [16,17,18,19,20]\n",
    "ray = np.asarray(ray)\n",
    "type(ray)\n",
    "\n",
    "print(f'Answer: {ray[-2:,3:5]}')\n",
    "\n",
    "\n",
    "ray.sum()"
   ]
  },
  {
   "cell_type": "code",
   "execution_count": null,
   "id": "c9231be1-8d35-430b-b064-4ff9705a9297",
   "metadata": {},
   "outputs": [],
   "source": [
    "# Class solution"
   ]
  },
  {
   "cell_type": "code",
   "execution_count": 121,
   "id": "eaa67503-074f-4a78-a42a-9bcc97d305fa",
   "metadata": {},
   "outputs": [
    {
     "name": "stdout",
     "output_type": "stream",
     "text": [
      "210\n",
      "64\n"
     ]
    }
   ],
   "source": [
    ">>> nb4 = np.array([[1,2,3,4,5],[6,7,8,9,10],[11,12,13,14,15],[16,17,18,19,20]])\n",
    ">>> nb4\n",
    "\n",
    ">>> nb2 = nb4[2:,2:4]\n",
    ">>> nb2\n",
    "\n",
    ">>> print(nb4.sum())\n",
    ">>> print(nb2.sum())"
   ]
  }
 ],
 "metadata": {
  "kernelspec": {
   "display_name": "Python 3 (ipykernel)",
   "language": "python",
   "name": "python3"
  },
  "language_info": {
   "codemirror_mode": {
    "name": "ipython",
    "version": 3
   },
   "file_extension": ".py",
   "mimetype": "text/x-python",
   "name": "python",
   "nbconvert_exporter": "python",
   "pygments_lexer": "ipython3",
   "version": "3.9.12"
  }
 },
 "nbformat": 4,
 "nbformat_minor": 5
}
