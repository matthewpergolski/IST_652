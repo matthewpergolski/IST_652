{
 "cells": [
  {
   "cell_type": "markdown",
   "id": "2ca0c9e5-e8f8-4366-8124-b5a72f631409",
   "metadata": {},
   "source": [
    "# 3.3 Using Dictionaries | Activity"
   ]
  },
  {
   "cell_type": "markdown",
   "id": "34747464-be69-4ba5-b076-32c5325ca88f",
   "metadata": {},
   "source": [
    "3.3-Using-Dictionaries_Matthew-L-Pergolski"
   ]
  },
  {
   "cell_type": "markdown",
   "id": "b0878dae-c203-4a74-b80e-d66c28767b06",
   "metadata": {},
   "source": [
    "Now you try: Create a dictionary of at least five contacts with first names and phone numbers, \n",
    "sort the list in alphabetical order, and print the contacts with their phone numbers.\n",
    "\n",
    "Capture your code and the results in a text document and submit it here."
   ]
  },
  {
   "cell_type": "code",
   "execution_count": 6,
   "id": "17dfa7e3-b0e9-4146-aeaa-380f6d59587f",
   "metadata": {},
   "outputs": [
    {
     "name": "stdout",
     "output_type": "stream",
     "text": [
      "Bob 23456\n",
      "Jack 34567\n",
      "Jill 12345\n",
      "Mark 45678\n",
      "Tom 56789\n"
     ]
    }
   ],
   "source": [
    "d = {'Jill':'12345','Bob':'23456','Jack':'34567','Mark':'45678','Tom':'56789'}\n",
    "\n",
    "for keys, values in sorted(d.items()):\n",
    "    print(keys, values)"
   ]
  }
 ],
 "metadata": {
  "kernelspec": {
   "display_name": "Python 3 (ipykernel)",
   "language": "python",
   "name": "python3"
  },
  "language_info": {
   "codemirror_mode": {
    "name": "ipython",
    "version": 3
   },
   "file_extension": ".py",
   "mimetype": "text/x-python",
   "name": "python",
   "nbconvert_exporter": "python",
   "pygments_lexer": "ipython3",
   "version": "3.9.12"
  }
 },
 "nbformat": 4,
 "nbformat_minor": 5
}
