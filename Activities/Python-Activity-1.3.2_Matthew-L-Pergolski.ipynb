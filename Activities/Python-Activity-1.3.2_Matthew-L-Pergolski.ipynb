{
 "cells": [
  {
   "cell_type": "markdown",
   "id": "90091723-20a2-4c95-9863-553ef9306ce6",
   "metadata": {},
   "source": [
    "## Python Activity 1.3.2"
   ]
  },
  {
   "cell_type": "code",
   "execution_count": 1,
   "id": "d903ad6d-d15b-4447-bd56-6ba0e3e2a2dc",
   "metadata": {},
   "outputs": [
    {
     "name": "stdout",
     "output_type": "stream",
     "text": [
      "44\n"
     ]
    }
   ],
   "source": [
    "#Activity 1\n",
    "\n",
    "x = 43\n",
    "x = x +1 \n",
    "print (x)"
   ]
  },
  {
   "cell_type": "code",
   "execution_count": 5,
   "id": "0f7f113f-612c-472e-8044-4e070ec8e1eb",
   "metadata": {},
   "outputs": [
    {
     "name": "stdin",
     "output_type": "stream",
     "text": [
      "Enter Hours: 35\n"
     ]
    },
    {
     "name": "stdout",
     "output_type": "stream",
     "text": [
      "35\n"
     ]
    },
    {
     "name": "stdin",
     "output_type": "stream",
     "text": [
      "Enter Rate: 2.75\n"
     ]
    },
    {
     "name": "stdout",
     "output_type": "stream",
     "text": [
      "2.75\n",
      "96.25\n"
     ]
    }
   ],
   "source": [
    "#Activity 2\n",
    "\n",
    "Hours = input('Enter Hours:')\n",
    "# Hours = 35\n",
    "print(Hours)\n",
    "\n",
    "Rate = input('Enter Rate:')\n",
    "# Rate = 2.75\n",
    "print(Rate)\n",
    "\n",
    "Pay = int(Hours) * float(Rate)\n",
    "print(Pay)\n",
    "#Pay = 96.25"
   ]
  },
  {
   "cell_type": "code",
   "execution_count": 8,
   "id": "676ca7fc-9bfd-4314-8bfe-db15ad94dff1",
   "metadata": {},
   "outputs": [
    {
     "name": "stdout",
     "output_type": "stream",
     "text": [
      "8.5 <class 'float'>\n",
      "8.5 <class 'float'>\n",
      "4.0 <class 'float'>\n",
      "11 <class 'int'>\n"
     ]
    }
   ],
   "source": [
    "#Activity 3\n",
    "\n",
    "width = 17\n",
    "height = 12.0\n",
    "\n",
    "print((width/2), type(width/2))\n",
    "\n",
    "print((width / 2.0), type(width / 2.0))\n",
    "\n",
    "print((height / 3), type(height / 3))\n",
    "\n",
    "print((1 + 2 *5), type(1 + 2 *5))"
   ]
  }
 ],
 "metadata": {
  "kernelspec": {
   "display_name": "Python 3 (ipykernel)",
   "language": "python",
   "name": "python3"
  },
  "language_info": {
   "codemirror_mode": {
    "name": "ipython",
    "version": 3
   },
   "file_extension": ".py",
   "mimetype": "text/x-python",
   "name": "python",
   "nbconvert_exporter": "python",
   "pygments_lexer": "ipython3",
   "version": "3.9.12"
  }
 },
 "nbformat": 4,
 "nbformat_minor": 5
}
