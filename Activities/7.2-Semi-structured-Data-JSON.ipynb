{
 "cells": [
  {
   "cell_type": "markdown",
   "id": "88929ae4-3e6f-407d-b134-b61eff3c8a4a",
   "metadata": {},
   "source": [
    "## 7.2 Semi-structured Data: JSON"
   ]
  },
  {
   "cell_type": "markdown",
   "id": "47418434-1d4f-4e19-aa57-3ebfa38a27e1",
   "metadata": {},
   "source": [
    "7.2 Semi-structured Data: JSON__Matthew-Pergolski"
   ]
  },
  {
   "cell_type": "code",
   "execution_count": 4,
   "id": "f1676e0c-f3ea-4832-8926-f5c1ee482ab9",
   "metadata": {},
   "outputs": [],
   "source": [
    "import urllib.request\n",
    "import json"
   ]
  },
  {
   "cell_type": "code",
   "execution_count": 7,
   "id": "9383c795-3033-44c5-af68-fb76604fce22",
   "metadata": {},
   "outputs": [],
   "source": [
    "earthquake_url = \"http://earthquake.usgs.gov/earthquakes/feed/v1.0/summary/significant_month.geojson\""
   ]
  },
  {
   "cell_type": "code",
   "execution_count": 8,
   "id": "d93449fd-08ad-4c72-bcbf-3faee19dc737",
   "metadata": {},
   "outputs": [],
   "source": [
    "response = urllib.request.urlopen(earthquake_url)\n",
    "json_string = response.read().decode('utf-8')"
   ]
  },
  {
   "cell_type": "code",
   "execution_count": 9,
   "id": "ef8a3442-59ff-4c42-acf7-b002a45b7d4a",
   "metadata": {},
   "outputs": [
    {
     "data": {
      "text/plain": [
       "dict"
      ]
     },
     "execution_count": 9,
     "metadata": {},
     "output_type": "execute_result"
    }
   ],
   "source": [
    "eq_parsed_json = json.loads(json_string)\n",
    "type(eq_parsed_json)"
   ]
  },
  {
   "cell_type": "code",
   "execution_count": 10,
   "id": "e31ddff2-722a-4de5-a14d-c67450e0efa8",
   "metadata": {},
   "outputs": [
    {
     "data": {
      "text/plain": [
       "dict_keys(['type', 'metadata', 'features', 'bbox'])"
      ]
     },
     "execution_count": 10,
     "metadata": {},
     "output_type": "execute_result"
    }
   ],
   "source": [
    "eq_parsed_json.keys()"
   ]
  },
  {
   "cell_type": "code",
   "execution_count": 11,
   "id": "9b763d0f-0b44-4177-aaf5-86d094f4951c",
   "metadata": {},
   "outputs": [
    {
     "data": {
      "text/plain": [
       "'FeatureCollection'"
      ]
     },
     "execution_count": 11,
     "metadata": {},
     "output_type": "execute_result"
    }
   ],
   "source": [
    "eq_parsed_json['type']"
   ]
  },
  {
   "cell_type": "code",
   "execution_count": 12,
   "id": "e3f81b04-f0d7-4138-8a8f-0fa5aba34500",
   "metadata": {},
   "outputs": [
    {
     "data": {
      "text/plain": [
       "{'generated': 1660588597000,\n",
       " 'url': 'https://earthquake.usgs.gov/earthquakes/feed/v1.0/summary/significant_month.geojson',\n",
       " 'title': 'USGS Significant Earthquakes, Past Month',\n",
       " 'status': 200,\n",
       " 'api': '1.10.3',\n",
       " 'count': 6}"
      ]
     },
     "execution_count": 12,
     "metadata": {},
     "output_type": "execute_result"
    }
   ],
   "source": [
    "eq_parsed_json['metadata']"
   ]
  },
  {
   "cell_type": "code",
   "execution_count": 13,
   "id": "1979bf50-5b75-4cee-b955-39f0af1136cc",
   "metadata": {},
   "outputs": [
    {
     "data": {
      "text/plain": [
       "'USGS Significant Earthquakes, Past Month'"
      ]
     },
     "execution_count": 13,
     "metadata": {},
     "output_type": "execute_result"
    }
   ],
   "source": [
    "title = eq_parsed_json['metadata']['title']\n",
    "title"
   ]
  },
  {
   "cell_type": "code",
   "execution_count": 17,
   "id": "b4d22510-9c2a-4420-82c8-d05c5dded7a4",
   "metadata": {},
   "outputs": [
    {
     "name": "stdout",
     "output_type": "stream",
     "text": [
      "6\n",
      "<class 'dict'>\n"
     ]
    },
    {
     "data": {
      "text/plain": [
       "dict_keys(['type', 'properties', 'geometry', 'id'])"
      ]
     },
     "execution_count": 17,
     "metadata": {},
     "output_type": "execute_result"
    }
   ],
   "source": [
    "quakelist = eq_parsed_json['features']\n",
    "print(len(quakelist))\n",
    "quake1 = quakelist[0]\n",
    "print(type(quake1))\n",
    "quake1.keys()"
   ]
  },
  {
   "cell_type": "code",
   "execution_count": 18,
   "id": "44f61389-58ec-4dc1-ad68-9a35880ed4f9",
   "metadata": {},
   "outputs": [
    {
     "name": "stdout",
     "output_type": "stream",
     "text": [
      "{\n",
      "  \"type\": \"Feature\",\n",
      "  \"properties\": {\n",
      "    \"mag\": 6.6,\n",
      "    \"place\": \"south of the Kermadec Islands\",\n",
      "    \"time\": 1660484660760,\n",
      "    \"updated\": 1660571252794,\n",
      "    \"tz\": null,\n",
      "    \"url\": \"https://earthquake.usgs.gov/earthquakes/eventpage/us6000iasi\",\n",
      "    \"detail\": \"https://earthquake.usgs.gov/earthquakes/feed/v1.0/detail/us6000iasi.geojson\",\n",
      "    \"felt\": 2,\n",
      "    \"cdi\": 7.2,\n",
      "    \"mmi\": 5.959,\n",
      "    \"alert\": \"green\",\n",
      "    \"status\": \"reviewed\",\n",
      "    \"tsunami\": 1,\n",
      "    \"sig\": 672,\n",
      "    \"net\": \"us\",\n",
      "    \"code\": \"6000iasi\",\n",
      "    \"ids\": \",us6000iasi,pt22226003,at00rgly5y,\",\n",
      "    \"sources\": \",us,pt,at,\",\n",
      "    \"types\": \",dyfi,impact-link,losspager,moment-tensor,origin,phase-data,shakemap,\",\n",
      "    \"nst\": 63,\n",
      "    \"dmin\": 5.26,\n",
      "    \"rms\": 0.63,\n",
      "    \"gap\": 67,\n",
      "    \"magType\": \"mww\",\n",
      "    \"type\": \"earthquake\",\n",
      "    \"title\": \"M 6.6 - south of the Kermadec Islands\"\n",
      "  },\n",
      "  \"geometry\": {\n",
      "    \"type\": \"Point\",\n",
      "    \"coordinates\": [\n",
      "      -179.0086,\n",
      "      -32.7728,\n",
      "      39.08\n",
      "    ]\n",
      "  },\n",
      "  \"id\": \"us6000iasi\"\n",
      "}\n"
     ]
    }
   ],
   "source": [
    "print(json.dumps(quake1, indent=2))"
   ]
  },
  {
   "cell_type": "code",
   "execution_count": 19,
   "id": "67ce05be-efa9-4064-b6ff-f7da3e68500c",
   "metadata": {},
   "outputs": [
    {
     "data": {
      "text/plain": [
       "'Δ'"
      ]
     },
     "execution_count": 19,
     "metadata": {},
     "output_type": "execute_result"
    }
   ],
   "source": [
    "'\\u0394'"
   ]
  },
  {
   "cell_type": "code",
   "execution_count": 23,
   "id": "fe9f714e-c2a7-481d-8487-46dbdfa81f89",
   "metadata": {},
   "outputs": [
    {
     "ename": "SyntaxError",
     "evalue": "invalid syntax (3339988052.py, line 1)",
     "output_type": "error",
     "traceback": [
      "\u001b[0;36m  Input \u001b[0;32mIn [23]\u001b[0;36m\u001b[0m\n\u001b[0;31m    1F609\u001b[0m\n\u001b[0m     ^\u001b[0m\n\u001b[0;31mSyntaxError\u001b[0m\u001b[0;31m:\u001b[0m invalid syntax\n"
     ]
    }
   ],
   "source": [
    "1F609"
   ]
  },
  {
   "cell_type": "code",
   "execution_count": 26,
   "id": "ef35e58f-01ed-49c7-938e-ba1e5353b7f9",
   "metadata": {},
   "outputs": [
    {
     "name": "stdout",
     "output_type": "stream",
     "text": [
      "15\n",
      "255\n",
      "127\n",
      "Δ\n",
      "Δ\n",
      "Δ\n",
      "b'\\xffab'\n",
      "<class 'bytes'>\n",
      "<class 'bytes'>\n",
      "3\n",
      "<class 'str'>\n",
      "ꀀabcd޴\n",
      "ꀀabcd޴\n",
      "b'abcd'\n",
      "b'?abcd?'\n",
      "b'&#40960;abcd&#1972;'\n",
      "b'\\\\ua000abcd\\\\u07b4'\n"
     ]
    }
   ],
   "source": [
    "print(15)\n",
    "\n",
    "print(0xFF)\n",
    "\n",
    "print(0x7F)\n",
    "\n",
    "print('\\u0394')\n",
    "\n",
    "print(\"\\U00000394\")\n",
    "\n",
    "print(\"\\N{GREEK CAPITAL LETTER DELTA}\")\n",
    "\n",
    "print(b'\\xFFab')\n",
    "\n",
    "print(type(b'ab'))\n",
    "\n",
    "print(type(b'\\xFFab'))\n",
    "\n",
    "print(len(b'\\xFFab'))\n",
    "\n",
    "u=chr(40960) + 'abcd' + chr(1972)\n",
    "\n",
    "print(type(u))\n",
    "\n",
    "print(u)\n",
    "\n",
    "print(u)\n",
    "\n",
    "print(u.encode('ascii','ignore'))\n",
    "\n",
    "print(u.encode('ascii','replace'))\n",
    "\n",
    "print(u.encode('ascii', 'xmlcharrefreplace'))\n",
    "\n",
    "print(u.encode('ascii', 'backslashreplace'))"
   ]
  },
  {
   "cell_type": "code",
   "execution_count": null,
   "id": "c606b796-5674-48f9-8c1c-a094dca75717",
   "metadata": {},
   "outputs": [],
   "source": []
  }
 ],
 "metadata": {
  "kernelspec": {
   "display_name": "Python 3 (ipykernel)",
   "language": "python",
   "name": "python3"
  },
  "language_info": {
   "codemirror_mode": {
    "name": "ipython",
    "version": 3
   },
   "file_extension": ".py",
   "mimetype": "text/x-python",
   "name": "python",
   "nbconvert_exporter": "python",
   "pygments_lexer": "ipython3",
   "version": "3.9.12"
  }
 },
 "nbformat": 4,
 "nbformat_minor": 5
}
