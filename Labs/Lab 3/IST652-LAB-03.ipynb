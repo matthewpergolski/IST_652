{
 "cells": [
  {
   "cell_type": "code",
   "execution_count": 17,
   "id": "1541f943",
   "metadata": {},
   "outputs": [],
   "source": [
    "# Matthew L. Pergolski | IST 652 | LAB 3\n",
    "\n",
    "# LAB PROBLEMS\n",
    "# THREE:\n",
    "# Problem 1:\n",
    "# Write a Python function to multiply all the numbers in a list.\n",
    "# Sample List : (8, 2, 3, -1, 7)\n",
    "# Expected Output : -336\n",
    "# Execute the function with at least 3 different lists of numbers.\n",
    "# Problem 2:\n",
    "# Write a Python function that accepts a string and calculate the number of upper case letters and lower case letters.\n",
    "# Sample String : 'The quick Brown Fox’\n",
    "# Execute the function with at least 2 different phrases.\n",
    "# Submit your answer to Problem 1, along with your code and the output of your program in Problem 2. Submit assignment as a .txt, .py, .pdf, or jupyter notebook file.\n",
    "# Due 24 hours before the live session in Week 7.\n",
    "\n",
    "import pandas as pd\n",
    "import numpy as np\n"
   ]
  },
  {
   "cell_type": "code",
   "execution_count": 28,
   "id": "74a08725",
   "metadata": {},
   "outputs": [
    {
     "name": "stdout",
     "output_type": "stream",
     "text": [
      "-336\n",
      "-101480\n",
      "455184\n"
     ]
    }
   ],
   "source": [
    "# Problem 1:\n",
    "# Write a Python function to multiply all the numbers in a list.\n",
    "# Sample List : (8, 2, 3, -1, 7)\n",
    "# Expected Output : -336\n",
    "# Execute the function with at least 3 different lists of numbers.\n",
    "\n",
    "SampleList : (8, 2, 3, -1, 7)\n",
    "# SampleList = [8, 2, 3, -1, 7]\n",
    "print(np.prod(SampleList))\n",
    "\n",
    "SampleList2 : (4,5,2,59,-43)\n",
    "# SampleList2 = [4,5,2,59,-43]\n",
    "print(np.prod(SampleList2))\n",
    "\n",
    "SampleList3 : (-4,87,-2,109,6)\n",
    "# SampleList3 = [-4,87,-2,109,6]\n",
    "print(np.prod(SampleList3))"
   ]
  },
  {
   "cell_type": "code",
   "execution_count": 40,
   "id": "cacb9e56",
   "metadata": {},
   "outputs": [
    {
     "name": "stdout",
     "output_type": "stream",
     "text": [
      "Lowercase count: 13\n",
      "Uppercase count: 3\n"
     ]
    }
   ],
   "source": [
    "# Problem 2:\n",
    "# Write a Python function that accepts a string and calculate the number of upper case letters and lower case letters.\n",
    "# Sample String : 'The quick Brown Fox’\n",
    "# Execute the function with at least 2 different phrases.\n",
    "\n",
    "inputstring = \"The quick Brown Fox\"\n",
    "lowercase = 0\n",
    "uppercase = 0\n",
    "for i in inputstring:\n",
    "      if(i.islower()):\n",
    "            lowercase = lowercase + 1\n",
    "      elif(i.isupper()):\n",
    "            uppercase = uppercase + 1\n",
    "print(\"Lowercase count:\", lowercase)\n",
    "print(\"Uppercase count:\", uppercase)\n",
    "\n"
   ]
  }
 ],
 "metadata": {
  "kernelspec": {
   "display_name": "Python 3 (ipykernel)",
   "language": "python",
   "name": "python3"
  },
  "language_info": {
   "codemirror_mode": {
    "name": "ipython",
    "version": 3
   },
   "file_extension": ".py",
   "mimetype": "text/x-python",
   "name": "python",
   "nbconvert_exporter": "python",
   "pygments_lexer": "ipython3",
   "version": "3.8.13"
  }
 },
 "nbformat": 4,
 "nbformat_minor": 5
}
