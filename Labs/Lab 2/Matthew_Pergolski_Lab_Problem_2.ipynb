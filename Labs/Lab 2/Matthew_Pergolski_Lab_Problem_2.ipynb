{
 "cells": [
  {
   "cell_type": "markdown",
   "id": "a49e1697-7773-4ab7-9281-9fae0c269c5e",
   "metadata": {
    "tags": []
   },
   "source": [
    "# LAB ASSIGNMENT 2"
   ]
  },
  {
   "cell_type": "markdown",
   "id": "9788dd8a-1c12-47b6-8d74-6d0068385c05",
   "metadata": {},
   "source": [
    "LAB TWO:\n",
    "\n",
    "Dictionaries: You may wish to write the code for parts a–d in one Python file. Consider the following two dictionaries:\n",
    "    stock = {\"banana\": 6, \"apple\": 0, \"orange\": 32, \"pear\": 15} prices = {\"banana\": 4, \"apple\": 2, \"orange\": 1.5, \"pear\": 3}\n",
    "\n",
    "a. Show the expression that gets the value of the stock dictionary at the key ‘orange’. Show a statement that adds an item to the stock dictionary called ‘cherry’ with some integer value and that adds ‘cherry’ to the prices dictionary with a numeric value. (Or pick your own fruit name.)\n",
    "\n",
    "b. Write the code for a loop that iterates over the stock dictionary and prints each key and value.\n",
    "\n",
    "c. Suppose that we have a list:\n",
    "    groceries = [‘apple’, ‘banana’, ‘pear’]\n",
    "\n",
    "Write the code that will sum the total number in stock of the items in the groceries list.\n",
    "\n",
    "d. Write the code that can print out the total value in stock of all the items. This program can iterate over the stock dictionary and for each item multiply the number in stock times the price of that item in the prices dictionary. (This can include the items for ‘cherry’ or not, as you choose.)\n",
    "Submit your code and the output of your program. Submit assignment as a .txt, .py, .pdf, or jupyter notebook file.\n",
    "Due 24 hours before the live session in Week 4."
   ]
  },
  {
   "cell_type": "code",
   "execution_count": 7,
   "id": "d46d78f0",
   "metadata": {},
   "outputs": [],
   "source": [
    "import pandas as pd\n",
    "import numpy as np"
   ]
  },
  {
   "cell_type": "code",
   "execution_count": 8,
   "id": "5b381927",
   "metadata": {},
   "outputs": [
    {
     "name": "stdout",
     "output_type": "stream",
     "text": [
      "32\n",
      "{'banana': 6, 'apple': 0, 'orange': 32, 'pear': 15, 'cherry': 100}\n",
      "{'banana': 4, 'apple': 2, 'orange': 1.5, 'pear': 3, 'cherry': 4}\n"
     ]
    }
   ],
   "source": [
    "# PART A\n",
    "# a. Show the expression that gets the value of the stock dictionary at the key ‘orange’. \n",
    "# Show a statement that adds an item to the stock dictionary called ‘cherry’ with some integer value \n",
    "# and that adds ‘cherry’ to the prices dictionary with a numeric value. (Or pick your own fruit name.)\n",
    "\n",
    "# Provided data\n",
    "stock = {\"banana\": 6, \"apple\": 0, \"orange\": 32, \"pear\": 15}\n",
    "prices = {\"banana\": 4, \"apple\": 2, \"orange\": 1.5, \"pear\": 3}\n",
    "\n",
    "# Provides value of the stock dictionary at the key 'orange'.\n",
    "print(stock['orange'])\n",
    "\n",
    "# Statement that adds an item to the stock dictionary called 'cherry' with an integer value (100).\n",
    "stock.update({'cherry':100})\n",
    "print(stock)\n",
    "prices.update({'cherry':4})\n",
    "print(prices)\n"
   ]
  },
  {
   "cell_type": "code",
   "execution_count": 13,
   "id": "5aec1389",
   "metadata": {},
   "outputs": [
    {
     "name": "stdout",
     "output_type": "stream",
     "text": [
      "key: banana | value: 6\n",
      "key: apple | value: 0\n",
      "key: orange | value: 32\n",
      "key: pear | value: 15\n",
      "key: cherry | value: 100\n"
     ]
    }
   ],
   "source": [
    "# PART B\n",
    "# b. Write the code for a loop that iterates over the stock dictionary and prints each key and value.\n",
    "\n",
    "for key, value in stock.items():\n",
    "    print('key:',key, '|','value:',value)\n"
   ]
  },
  {
   "cell_type": "code",
   "execution_count": 14,
   "id": "2df8a321",
   "metadata": {},
   "outputs": [
    {
     "name": "stdout",
     "output_type": "stream",
     "text": [
      "21\n"
     ]
    }
   ],
   "source": [
    "# PART C\n",
    "# c. Suppose that we have a list:\n",
    "# groceries = [‘apple’, ‘banana’, ‘pear’]\n",
    "# Write the code that will sum the total number in stock of the items in the groceries list.\n",
    "\n",
    "\n",
    "groceries = ['apple', 'banana', 'pear']\n",
    "\n",
    "TotalNumInStockOfItemsInGroceriesList = sum(stock[groceries] for groceries in groceries)\n",
    "print(TotalNumInStockOfItemsInGroceriesList)"
   ]
  },
  {
   "cell_type": "code",
   "execution_count": 11,
   "id": "97b27be8",
   "metadata": {},
   "outputs": [
    {
     "name": "stdout",
     "output_type": "stream",
     "text": [
      "153\n",
      "{'orange': 48.0, 'apple': 0, 'banana': 24, 'pear': 45, 'cherry': 400}\n"
     ]
    }
   ],
   "source": [
    "# PART D\n",
    "# d. Write the code that can print out the total value in stock of all the items. \n",
    "# This program can iterate over the stock dictionary and for each item multiply the number \n",
    "# in stock times the price of that item in the prices dictionary. \n",
    "# (This can include the items for ‘cherry’ or not, as you choose.)\n",
    "\n",
    "\n",
    "print(sum(stock.values()))\n",
    "\n",
    "print({keys: stock[keys] * prices[keys] for keys in stock.keys() & prices.keys()})"
   ]
  }
 ],
 "metadata": {
  "kernelspec": {
   "display_name": "Python 3 (ipykernel)",
   "language": "python",
   "name": "python3"
  },
  "language_info": {
   "codemirror_mode": {
    "name": "ipython",
    "version": 3
   },
   "file_extension": ".py",
   "mimetype": "text/x-python",
   "name": "python",
   "nbconvert_exporter": "python",
   "pygments_lexer": "ipython3",
   "version": "3.9.12"
  }
 },
 "nbformat": 4,
 "nbformat_minor": 5
}
