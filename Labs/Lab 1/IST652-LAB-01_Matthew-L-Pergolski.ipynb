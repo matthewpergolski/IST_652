{
 "cells": [
  {
   "cell_type": "markdown",
   "id": "2a5e3f75-3fa9-4760-ab80-d998bd0bd325",
   "metadata": {},
   "source": [
    "# LAB ASSIGNMENT 1"
   ]
  },
  {
   "cell_type": "markdown",
   "id": "4e43e1c8-463a-4d5e-9808-3599c8824494",
   "metadata": {},
   "source": [
    "IST 652 | LAB 1\n",
    "\n",
    "LAB ONE:\n",
    "For the NBAfile.py program, for each line, create a string using string formatting that puts the team, attendance, and ticket prices into a formatted string. Each line should look something like:\n",
    "‘The attendance at Atlanta was 13993 and the ticket price was $20.06’\n",
    "Your program should then print these strings instead of the lines. Submit your code and the\n",
    "output of your program. Submit assignment as a .txt, .py, .pdf, or jupyter notebook file. DUE 24 hours before the live session in Week 3."
   ]
  },
  {
   "cell_type": "code",
   "execution_count": 27,
   "id": "670853a3-fcab-4444-a024-0a9f0952d2a0",
   "metadata": {},
   "outputs": [
    {
     "name": "stdout",
     "output_type": "stream",
     "text": [
      "The attendance at Atlanta was 13993 and the ticket price was $20.06\n",
      "The attendance at Boston was 14916 and the ticket price was $22.54\n",
      "The attendance at Charlotte was 23901 and the ticket price was $17.00\n",
      "The attendance at Chicago was 18404 and the ticket price was $21.98\n",
      "The attendance at Cleveland was 16969 and the ticket price was $19.63\n",
      "The attendance at Dallas was 16868 and the ticket price was $17.05\n",
      "The attendance at Denver was 12668 and the ticket price was $17.40\n",
      "The attendance at Detroit was 21454 and the ticket price was $24.42\n",
      "The attendance at Golden_State was 15025 and the ticket price was $17.04\n",
      "The attendance at Houston was 15846 and the ticket price was $17.56\n",
      "The attendance at Indiana was 12885 and the ticket price was $13.77\n",
      "The attendance at LA_Clippers was 11869 and the ticket price was $21.95\n",
      "The attendance at LA_Lakers was 17378 and the ticket price was $29.18\n",
      "The attendance at Miami was 15008 and the ticket price was $17.60\n",
      "The attendance at Milwaukee was 16088 and the ticket price was $14.08\n",
      "The attendance at Minnesota was 26160 and the ticket price was $10.92\n",
      "The attendance at New_Jersey was 12160 and the ticket price was $13.31\n",
      "The attendance at New_York was 17815 and the ticket price was $22.70\n",
      "The attendance at Orlando was 15606 and the ticket price was $20.47\n",
      "The attendance at Philadelphia was 14017 and the ticket price was $19.04\n",
      "The attendance at Phoenix was 14114 and the ticket price was $16.59\n",
      "The attendance at Portland was 12884 and the ticket price was $22.19\n",
      "The attendance at Sacramento was 17014 and the ticket price was $16.96\n",
      "The attendance at San_Antonio was 14722 and the ticket price was $16.79\n",
      "The attendance at Seattle was 12244 and the ticket price was $18.11\n",
      "The attendance at Utah was 12616 and the ticket price was $18.41\n",
      "The attendance at Washington was 11565 and the ticket price was $14.55\n"
     ]
    }
   ],
   "source": [
    "file = open('/Users/pergolicious/Downloads/nba-attendance-1989.txt', 'r')\n",
    "\n",
    "NBAlist = []\n",
    "attendance = []\n",
    "price = []\n",
    "\n",
    "for line in file:\n",
    "    textline = line.strip()\n",
    "    item = textline.split()\n",
    "    NBAlist.append(item)\n",
    "\n",
    "    \n",
    "for (city, att, cost) in NBAlist:\n",
    "    city = str(city)\n",
    "    att = int(att)\n",
    "    cost = float(cost)\n",
    "    print('The attendance at',city,'was',att,'and the ticket price was','${:,.2f}'.format(cost))\n",
    "    \n",
    "file.close()"
   ]
  }
 ],
 "metadata": {
  "kernelspec": {
   "display_name": "Python 3 (ipykernel)",
   "language": "python",
   "name": "python3"
  },
  "language_info": {
   "codemirror_mode": {
    "name": "ipython",
    "version": 3
   },
   "file_extension": ".py",
   "mimetype": "text/x-python",
   "name": "python",
   "nbconvert_exporter": "python",
   "pygments_lexer": "ipython3",
   "version": "3.8.13"
  }
 },
 "nbformat": 4,
 "nbformat_minor": 5
}
