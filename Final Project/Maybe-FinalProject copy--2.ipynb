{
 "cells": [
  {
   "cell_type": "markdown",
   "id": "a5c80cc2-0f7e-400f-9973-9b2cc7185e32",
   "metadata": {},
   "source": [
    "### Final Project Code | IST 652"
   ]
  },
  {
   "cell_type": "code",
   "execution_count": null,
   "id": "6d3eac86-58e5-4460-a675-bca14e86bed6",
   "metadata": {},
   "outputs": [],
   "source": [
    "# Download packages if needed\n",
    "###########################################################################################################################\n",
    "\n",
    "%pip install tweepy"
   ]
  },
  {
   "cell_type": "code",
   "execution_count": 115,
   "id": "caf5b6b0-ed0d-41aa-b9e9-520a9c9e9a3a",
   "metadata": {},
   "outputs": [],
   "source": [
    "# Import Needed Packages\n",
    "###########################################################################################################################\n",
    "\n",
    "import pandas as pd\n",
    "import numpy as np\n",
    "import tweepy\n",
    "import configparser\n",
    "import json\n",
    "import os\n",
    "import re\n",
    "import pandas as pd\n",
    "import ipywidgets as widgets\n",
    "from IPython.display import clear_output\n",
    "from ipyfilechooser import FileChooser\n",
    "from ipywidgets import interact\n",
    "from pathlib import Path\n",
    "from textblob import TextBlob, Word, Blobber\n",
    "from textblob.classifiers import NaiveBayesClassifier\n",
    "from textblob.taggers import NLTKTagger\n",
    "#import matplotlib.pyplot as plt"
   ]
  },
  {
   "cell_type": "code",
   "execution_count": 116,
   "id": "d062f929-c0eb-45fc-a0c9-880340797e66",
   "metadata": {},
   "outputs": [
    {
     "data": {
      "application/vnd.jupyter.widget-view+json": {
       "model_id": "276862430a694d589f9bdfb71b3f9c60",
       "version_major": 2,
       "version_minor": 0
      },
      "text/plain": [
       "FileChooser(path='/Users/pergolicious', filename='', title='<b>Select your file</b>', show_hidden=False, selec…"
      ]
     },
     "metadata": {},
     "output_type": "display_data"
    }
   ],
   "source": [
    "# Choose File Through Widget Experience | config.ini\n",
    "###########################################################################################################################\n",
    "\n",
    "# get home dir of user\n",
    "home = str(Path.home()) \n",
    "\n",
    "# initialize a dict for the excel file; this removes the need to set global values\n",
    "dict_file = {}\n",
    "\n",
    "# change to simply `home` if you want users to navigate through diff dirs\n",
    "#fc = FileChooser(f'{home}/excel')\n",
    "fc = FileChooser(f'{home}/') \n",
    "\n",
    "# same here\n",
    "#fc.sandbox_path = f'{home}/excel'\n",
    "fc.sandbox_path = f'{home}/'\n",
    "\n",
    "# limit file extensions to '.xls, .xlsb, .xlsm, .xlsx'\n",
    "fc.filter_pattern = ['*.ini*']\n",
    "fc.title = '<b>Select your file</b>'\n",
    "display(fc)\n",
    "\n",
    "# create empty dropdown for sheet names\n",
    "dropdown = widgets.Dropdown(options=[''], value='', description='Sheets:', disabled=False)\n",
    "\n",
    "# create output frame for the df\n",
    "out = widgets.Output(layout=widgets.Layout(display='flex', flex_flow='column', align_items='flex-start', width='100%'))"
   ]
  },
  {
   "cell_type": "code",
   "execution_count": 117,
   "id": "f5dd89c5-8d8b-48c2-9dfc-c7ee7ea6887c",
   "metadata": {},
   "outputs": [
    {
     "name": "stdout",
     "output_type": "stream",
     "text": [
      "/Users/pergolicious/Library/CloudStorage/OneDrive-SyracuseUniversity/Syracuse University/Courses/IST 652/Final Project/FinalProject-Config.ini\n"
     ]
    }
   ],
   "source": [
    "# Save actual key values to a separate '.ini' file for privacy reasons (don't want to directly share my keys with the world)\n",
    "###########################################################################################################################\n",
    "\n",
    "#configfile = '/Users/pergolicious/Library/CloudStorage/OneDrive-SyracuseUniversity/Syracuse University/Courses/IST 652/Final Project/FinalProject-Config.ini'\n",
    "\n",
    "configfile = f'{fc.selected_path}/{fc.selected_filename}'\n",
    "print(configfile)\n",
    "\n",
    "config = configparser.ConfigParser()\n",
    "config.read(f'{configfile}')\n",
    "\n",
    "API_KEY = config['twitter']['API_KEY']\n",
    "API_KEY_SECRET = config['twitter']['API_KEY_SECRET']\n",
    "ACCESS_TOKEN = config['twitter']['ACCESS_TOKEN']\n",
    "ACCESS_TOKEN_SECRET = config['twitter']['ACCESS_TOKEN_SECRET']"
   ]
  },
  {
   "cell_type": "code",
   "execution_count": 118,
   "id": "bcdd195c-1438-4161-a402-2d77b2f6ebd9",
   "metadata": {},
   "outputs": [],
   "source": [
    "# Define function to print metadata information for tweets\n",
    "###########################################################################################################################\n",
    "\n",
    "directory = '/Users/pergolicious/Library/CloudStorage/OneDrive-SyracuseUniversity/Syracuse University/Courses/IST 652/Final Project'\n",
    "\n",
    "def printtweetdata(n, ith_tweet, scrapped_data):\n",
    "    \n",
    "    d = {\"Tweet Scraped\":n, \"Username\": ith_tweet[0], \"Description\" :ith_tweet[1], \"Location\": ith_tweet[2], \n",
    "         \"Following Count\":ith_tweet[3], \"Follower Count\":ith_tweet[4],\"Total Tweets\":ith_tweet[5], \"Retweet Count\": ith_tweet[6],\n",
    "         \"Tweet Text\": ith_tweet[7],\"Hashtags Used\":ith_tweet[8]}\n",
    "         \n",
    "         \n",
    "    \n",
    "    print(f\"Tweet Scraped{n}:\")\n",
    "    print(f\"Username:{ith_tweet[0]}\")\n",
    "    print(f\"Description:{ith_tweet[1]}\")\n",
    "    print(f\"Location:{ith_tweet[2]}\")\n",
    "    print(f\" Following Count:{ith_tweet[3]}\")\n",
    "    print(f\"Follower Count:{ith_tweet[4]}\")\n",
    "    print(f\"Total Tweets:{ith_tweet[5]}\")\n",
    "    print(f\"Retweet Count:{ith_tweet[6]}\")\n",
    "    print(f\"Tweet Text: {ith_tweet[7]}\")\n",
    "    print(f\"Hashtags Used:{ith_tweet[8]}\")\n",
    "    \n",
    "    scraped_data.append(d)\n",
    "    \n",
    "    try:\n",
    "        if not os.path.isdir(f'{directory}'):\n",
    "            os.mkdir(f'{directory}')\n",
    "        with open(f'{directory}/final-project-scraped_data-{words}.json', 'w') as outfile:\n",
    "            json.dump(scraped_data, outfile, indent = 4)\n",
    "    except:\n",
    "        print (\"An exception occurred\")"
   ]
  },
  {
   "cell_type": "code",
   "execution_count": 119,
   "id": "89113745-b92c-4701-b9c0-57a89db54606",
   "metadata": {},
   "outputs": [],
   "source": [
    "# Authentication the account and credentials\n",
    "###########################################################################################################################\n",
    "\n",
    "auth = tweepy.OAuthHandler(API_KEY, API_KEY_SECRET)\n",
    "auth.set_access_token(ACCESS_TOKEN, ACCESS_TOKEN_SECRET)\n",
    "\n",
    "api = tweepy.API(auth)"
   ]
  },
  {
   "cell_type": "code",
   "execution_count": 120,
   "id": "2feeaa84-2a7e-4903-b566-2654b299e91b",
   "metadata": {},
   "outputs": [],
   "source": [
    "# Define function to scrape twitter for data based on 3 different prameters\n",
    "###########################################################################################################################\n",
    "\n",
    "def scrape(words, numtweet, scrapped_data):\n",
    "    tweets = tweepy.Cursor(api.search_tweets, q = words, len = 'en',\n",
    "                          tweet_mode = 'extended').items(numtweet)\n",
    "    list_tweets = [tweet for tweet in tweets]\n",
    "    \n",
    "    i = 1\n",
    "    \n",
    "    # Extract various infomration through an iterative process\n",
    "    for tweet in list_tweets:\n",
    "        username = tweet.user.screen_name\n",
    "        description = tweet.user.description\n",
    "        location = tweet.user.location\n",
    "        following = tweet.user.friends_count\n",
    "        followers = tweet.user.followers_count\n",
    "        totaltweets = tweet.user.statuses_count\n",
    "        retweetcount = tweet.retweet_count\n",
    "        hashtags = tweet.entities['hashtags']\n",
    "    \n",
    "        \n",
    "        try:\n",
    "            text = tweet.retweeted_status.full_text\n",
    "        except AttributeError:\n",
    "            text = tweet.full_text\n",
    "        hashtext = list()\n",
    "        for j in range(0, len(hashtags)):\n",
    "            hashtext.append(hashtags[j]['text'])\n",
    "            \n",
    "            \n",
    "        ith_tweet = [username, description, location, following,\n",
    "                   followers, totaltweets, retweetcount, text, hashtext]\n",
    "        \n",
    "        printtweetdata(i, ith_tweet, scraped_data)\n",
    "        i = i+1"
   ]
  },
  {
   "cell_type": "code",
   "execution_count": 121,
   "id": "55501629-031c-4ac0-a6a6-6492147d66ba",
   "metadata": {},
   "outputs": [
    {
     "name": "stdout",
     "output_type": "stream",
     "text": [
      "Enter hasthag to search for\n"
     ]
    },
    {
     "name": "stdin",
     "output_type": "stream",
     "text": [
      " #BTC\n"
     ]
    },
    {
     "name": "stdout",
     "output_type": "stream",
     "text": [
      "Enter number of tweets to search for\n"
     ]
    },
    {
     "name": "stdin",
     "output_type": "stream",
     "text": [
      " 3\n"
     ]
    },
    {
     "name": "stderr",
     "output_type": "stream",
     "text": [
      "Unexpected parameter: len\n"
     ]
    },
    {
     "name": "stdout",
     "output_type": "stream",
     "text": [
      "Fetching tweets...\n",
      "Tweet Scraped1:\n",
      "Username:0xEthereumYoda\n",
      "Description:UP or DOWN...\n",
      ".\n",
      ".\n",
      ".\n",
      ".\n",
      "Price matters NOT.\n",
      "Location:\n",
      " Following Count:1\n",
      "Follower Count:111\n",
      "Total Tweets:49704\n",
      "Retweet Count:0\n",
      "Tweet Text: #Ethereum price update: \n",
      "\n",
      "#ETH $1555.28 USD\n",
      "#Bitcoin 0.07859321 #BTC\n",
      "\n",
      "Follow for recent ETH price updates\n",
      "#altcoin, #cryptocurrency, #crypto\n",
      "Hashtags Used:['Ethereum', 'ETH', 'Bitcoin', 'BTC', 'altcoin', 'cryptocurrency', 'crypto']\n",
      "Tweet Scraped2:\n",
      "Username:weswix\n",
      "Description:Admin for @HachikoInu1 (#ハチコ) @usa_nft @PensionPlanFin -All the same crypto/nft ecosystem!  Our 0 fee crypto trading exchange launches September 1st 2022! ⬇️\n",
      "Location:United States 🇺🇸 \n",
      " Following Count:2977\n",
      "Follower Count:3004\n",
      "Total Tweets:22217\n",
      "Retweet Count:0\n",
      "Tweet Text: #gasfees #crypto #CryptoNews #SHIB $SHIB #shiba #shibainu #ShibaArmy #SaitaMask #SaitamaWolfPack #SaitamaInu #ElonMusk #Polygon #BTC #Ethereum #ETH #HEX #money #Cardano #opensea #DeFi #blockchain #Cryptos #cryptocurrency #KYC #Doxed #KYD #BSC #ADA #XRP #Doge #Etherium #finance https://t.co/cx9LrM67Uh\n",
      "Hashtags Used:['gasfees', 'crypto', 'CryptoNews', 'SHIB', 'shiba', 'shibainu', 'ShibaArmy', 'SaitaMask', 'SaitamaWolfPack', 'SaitamaInu', 'ElonMusk', 'Polygon', 'BTC', 'Ethereum', 'ETH', 'HEX', 'money', 'Cardano', 'opensea', 'DeFi', 'blockchain', 'Cryptos', 'cryptocurrency', 'KYC', 'Doxed', 'KYD', 'BSC', 'ADA', 'XRP', 'Doge', 'Etherium', 'finance']\n",
      "Tweet Scraped3:\n",
      "Username:CriptoDrake\n",
      "Description:Creador de contenido en Youtube. Criptomonedas, noticias cripto, juegos NFT, tecnología blockchain y mucho más. \n",
      "Contacto MD ✉️\n",
      "Location:\n",
      " Following Count:74\n",
      "Follower Count:6669\n",
      "Total Tweets:1107\n",
      "Retweet Count:153\n",
      "Tweet Text: 🔥🔥  𝐒 𝐎 𝐑 𝐓 𝐄 𝐎  🔥🔥\n",
      "\n",
      "🚨 Quieres ganar 𝟮𝟱𝟬$ #USDTether #BTC         \n",
      "\n",
      "Para participar\n",
      "\n",
      "- 🔄 al tweet \n",
      "- Sigue @CriiptoWolf @CriptoDrake\n",
      "- Sigue @TokoinGlobal @KeplerCapital\n",
      "\n",
      "Ganador en 48 horas\n",
      "\n",
      "*Más opciones de ganar si mencionas amigos y ♥️\n",
      "\n",
      "Suerte 🍀 https://t.co/RPo5JTJf3L\n",
      "Hashtags Used:['USDTether', 'BTC']\n",
      "scraping has completed! :)\n"
     ]
    }
   ],
   "source": [
    "# Gathering of Data | 1 | Bitcoin Tweets\n",
    "###########################################################################################################################\n",
    "\n",
    "print('Enter hasthag to search for')\n",
    "words = input()\n",
    "\n",
    "print('Enter number of tweets to search for')\n",
    "numtweet = int(input())\n",
    "\n",
    "scraped_data = []\n",
    "print('Fetching tweets...')\n",
    "\n",
    "scrape(words, numtweet, scraped_data)\n",
    "print('scraping has completed! :)')"
   ]
  },
  {
   "cell_type": "code",
   "execution_count": 122,
   "id": "3d49ff29-2bc0-4b76-95cf-1ba07e7da78b",
   "metadata": {},
   "outputs": [
    {
     "data": {
      "application/vnd.jupyter.widget-view+json": {
       "model_id": "fc7148848a1e4ba1a6edad78640951d8",
       "version_major": 2,
       "version_minor": 0
      },
      "text/plain": [
       "FileChooser(path='/Users/pergolicious', filename='', title='<b>Select your file</b>', show_hidden=False, selec…"
      ]
     },
     "metadata": {},
     "output_type": "display_data"
    }
   ],
   "source": [
    "# Choose File Through Widget Experience | /Users/pergolicious/Library/CloudStorage/OneDrive-SyracuseUniversity/Syracuse University/Courses/IST 652/Final Project/final-project-scraped_data-#BTC.json\n",
    "###########################################################################################################################\n",
    "\n",
    "# get home dir of user\n",
    "home = str(Path.home()) \n",
    "\n",
    "# initialize a dict for the excel file; this removes the need to set global values\n",
    "dict_file = {}\n",
    "\n",
    "# change to simply `home` if you want users to navigate through diff dirs\n",
    "#fc = FileChooser(f'{home}/excel')\n",
    "fc = FileChooser(f'{home}/') \n",
    "\n",
    "# same here\n",
    "#fc.sandbox_path = f'{home}/excel'\n",
    "fc.sandbox_path = f'{home}/'\n",
    "\n",
    "# limit file extensions to '.xls, .xlsb, .xlsm, .xlsx'\n",
    "fc.filter_pattern = ['*.json*']\n",
    "fc.title = '<b>Select your file</b>'\n",
    "display(fc)\n",
    "\n",
    "# create empty dropdown for sheet names\n",
    "dropdown = widgets.Dropdown(options=[''], value='', description='Sheets:', disabled=False)\n",
    "\n",
    "# create output frame for the df\n",
    "out = widgets.Output(layout=widgets.Layout(display='flex', flex_flow='column', align_items='flex-start', width='100%'))"
   ]
  },
  {
   "cell_type": "code",
   "execution_count": 123,
   "id": "961f6baf-efe7-4b0c-9082-5c2e1a8f754e",
   "metadata": {},
   "outputs": [
    {
     "name": "stdout",
     "output_type": "stream",
     "text": [
      "/Users/pergolicious/Library/CloudStorage/OneDrive-SyracuseUniversity/Syracuse University/Courses/IST 652/Final Project/final-project-scraped_data-#BTC.json\n",
      "<class 'pandas.core.frame.DataFrame'>\n",
      "RangeIndex: 3 entries, 0 to 2\n",
      "Data columns (total 10 columns):\n",
      " #   Column           Non-Null Count  Dtype \n",
      "---  ------           --------------  ----- \n",
      " 0   Tweet Scraped    3 non-null      int64 \n",
      " 1   Username         3 non-null      object\n",
      " 2   Description      3 non-null      object\n",
      " 3   Location         3 non-null      object\n",
      " 4   Following Count  3 non-null      int64 \n",
      " 5   Follower Count   3 non-null      int64 \n",
      " 6   Total Tweets     3 non-null      int64 \n",
      " 7   Retweet Count    3 non-null      int64 \n",
      " 8   Tweet Text       3 non-null      object\n",
      " 9   Hashtags Used    3 non-null      object\n",
      "dtypes: int64(5), object(5)\n",
      "memory usage: 368.0+ bytes\n"
     ]
    }
   ],
   "source": [
    "# Convert JSON Data to Data Frame\n",
    "###########################################################################################################################\n",
    "\n",
    "BTCjsondata = f'{fc.selected_path}/{fc.selected_filename}'\n",
    "print(BTCjsondata)\n",
    "\n",
    "BTCdf = pd.read_json(BTCjsondata)\n",
    "\n",
    "BTCdf.reset_index(drop=True, inplace=True)\n",
    "\n",
    "BTCdf.info()"
   ]
  },
  {
   "cell_type": "code",
   "execution_count": 124,
   "id": "d7b0686f-d6c2-43df-a036-d75491d805b3",
   "metadata": {},
   "outputs": [
    {
     "name": "stdout",
     "output_type": "stream",
     "text": [
      "Enter hasthag to search for\n"
     ]
    },
    {
     "name": "stdin",
     "output_type": "stream",
     "text": [
      " #ETH\n"
     ]
    },
    {
     "name": "stdout",
     "output_type": "stream",
     "text": [
      "Enter number of tweets to search for\n"
     ]
    },
    {
     "name": "stdin",
     "output_type": "stream",
     "text": [
      " 4\n"
     ]
    },
    {
     "name": "stderr",
     "output_type": "stream",
     "text": [
      "Unexpected parameter: len\n"
     ]
    },
    {
     "name": "stdout",
     "output_type": "stream",
     "text": [
      "Fetching tweets...\n",
      "Tweet Scraped1:\n",
      "Username:Dannyb11nc\n",
      "Description:@BOLIXTOKEN @CLOUD9NFT #DOGSOFMANDOX #MANDOX #KISHIMOTO #BLUESPARROW #PARA LETS ALL MAKE THIS MONEY TOGETHER\n",
      "Location:Raleigh, NC\n",
      " Following Count:2233\n",
      "Follower Count:1046\n",
      "Total Tweets:27041\n",
      "Retweet Count:12\n",
      "Tweet Text: 🚨Kim Tub Tater was just sold for 5.2 #ETH ($8,096.40) 👀🤯😳\n",
      "\n",
      "✅Kim Tub #Tater is not just an average #NFT, he is one of just 3 Councilmen #minted so far.\n",
      "\n",
      "🥔There are still 7 more out there that will propose for the #Dao!\n",
      "\n",
      "🥔Mint some now: https://t.co/lzCdAlrMxD for 0.04 #ETH! https://t.co/jlhMIDs3Pj\n",
      "Hashtags Used:['ETH', 'Tater', 'NFT']\n",
      "Tweet Scraped2:\n",
      "Username:Valdecantos13\n",
      "Description:My tweets are based on my own views, so NFA & DYOR 💎🙌\n",
      "Location:Philadelphia, PA\n",
      " Following Count:348\n",
      "Follower Count:8\n",
      "Total Tweets:423\n",
      "Retweet Count:8739\n",
      "Tweet Text: 💸 $1,000 #Giveaway 💸\n",
      "\n",
      "We'll select 10 winners randomly and award $100 to each account! 🤑🤑\n",
      "\n",
      "Rules: 👇\n",
      "\n",
      "1️⃣ Tag 2 friends\n",
      "2️⃣ Must Like, Follow &amp; Retweet \n",
      "\n",
      "Good luck 💚\n",
      "\n",
      "#BTC #Crypto #Contest #Casino #prize #Competition #ETH #NFT\n",
      "\n",
      "🔗 https://t.co/iOPgBrSIiZ https://t.co/DiRKGbV3cW\n",
      "Hashtags Used:['Giveaway']\n",
      "Tweet Scraped3:\n",
      "Username:PiwastoCristen\n",
      "Description:The nerds say that you are wasting your time if you don’t have a serious collection of NFTs.\n",
      "Location:\n",
      " Following Count:122\n",
      "Follower Count:233\n",
      "Total Tweets:137\n",
      "Retweet Count:1461\n",
      "Tweet Text: 🎁 #Giveaway 🎁\n",
      "\n",
      "🏆$150 #ETH or #Solana\n",
      "🏆3x WL Spots\n",
      "\n",
      "To Enter:\n",
      "1⃣Follow @Beings_Official\n",
      "2⃣RT, LIKE\n",
      "3⃣Tag 3 friends\n",
      "\n",
      "#NFT #NFTcommunity #NFTGiveaway #NFTdrop #WLGiveaway #WLGiveaways https://t.co/27RGzgOJAh\n",
      "Hashtags Used:['Giveaway', 'ETH', 'Solana', 'NFT']\n",
      "Tweet Scraped4:\n",
      "Username:k_saigirimiNFT\n",
      "Description:where is ticket to claim wl role i won from ga\n",
      "Location:USA\n",
      " Following Count:213\n",
      "Follower Count:11\n",
      "Total Tweets:649\n",
      "Retweet Count:7771\n",
      "Tweet Text: 🎁 $100 CASH &amp; WL GIVEAWAY 🎁\n",
      "\n",
      "Prizes:\n",
      "🏆 2x $50\n",
      "🏆 20x WL\n",
      "\n",
      "🎫\n",
      "1️⃣ RT + Like\n",
      "2️⃣ Follow me &amp; @PuzzleCapsule \n",
      "3️⃣ Tag Frens\n",
      "\n",
      "⭐️Bonus Join DC 👇🏻\n",
      "https://t.co/w8JARP9P4a\n",
      "\n",
      "48hrs📢\n",
      "#NFT #NFTs #NFTProject #SOL #ETH \n",
      "#NFTGiveaways #NFTCommunity https://t.co/P4ObVkOJY8\n",
      "Hashtags Used:[]\n",
      "scraping has completed! :)\n"
     ]
    }
   ],
   "source": [
    "# Gathering of Data | 2 | Ethereum Tweets\n",
    "###########################################################################################################################\n",
    "\n",
    "print('Enter hasthag to search for')\n",
    "words = input()\n",
    "\n",
    "print('Enter number of tweets to search for')\n",
    "numtweet = int(input())\n",
    "\n",
    "scraped_data = []\n",
    "print('Fetching tweets...')\n",
    "\n",
    "scrape(words, numtweet, scraped_data)\n",
    "print('scraping has completed! :)')"
   ]
  },
  {
   "cell_type": "code",
   "execution_count": 125,
   "id": "ee998e96-92be-467b-8df3-aad32bcc19e3",
   "metadata": {},
   "outputs": [
    {
     "data": {
      "application/vnd.jupyter.widget-view+json": {
       "model_id": "b86e928c38d3406c9f5777f33bbe01d1",
       "version_major": 2,
       "version_minor": 0
      },
      "text/plain": [
       "FileChooser(path='/Users/pergolicious', filename='', title='<b>Select your file</b>', show_hidden=False, selec…"
      ]
     },
     "metadata": {},
     "output_type": "display_data"
    }
   ],
   "source": [
    "# Choose File Through Widget Experience | /Users/pergolicious/Library/CloudStorage/OneDrive-SyracuseUniversity/Syracuse University/Courses/IST 652/Final Project/final-project-scraped_data-#ETH.json\n",
    "###########################################################################################################################\n",
    "\n",
    "# get home dir of user\n",
    "home = str(Path.home()) \n",
    "\n",
    "# initialize a dict for the excel file; this removes the need to set global values\n",
    "dict_file = {}\n",
    "\n",
    "# change to simply `home` if you want users to navigate through diff dirs\n",
    "#fc = FileChooser(f'{home}/excel')\n",
    "fc = FileChooser(f'{home}/') \n",
    "\n",
    "# same here\n",
    "#fc.sandbox_path = f'{home}/excel'\n",
    "fc.sandbox_path = f'{home}/'\n",
    "\n",
    "# limit file extensions to '.xls, .xlsb, .xlsm, .xlsx'\n",
    "fc.filter_pattern = ['*.json*']\n",
    "fc.title = '<b>Select your file</b>'\n",
    "display(fc)\n",
    "\n",
    "# create empty dropdown for sheet names\n",
    "dropdown = widgets.Dropdown(options=[''], value='', description='Sheets:', disabled=False)\n",
    "\n",
    "# create output frame for the df\n",
    "out = widgets.Output(layout=widgets.Layout(display='flex', flex_flow='column', align_items='flex-start', width='100%'))"
   ]
  },
  {
   "cell_type": "code",
   "execution_count": 126,
   "id": "2a0473b1-e778-4429-8b6f-6b57cde04af7",
   "metadata": {},
   "outputs": [
    {
     "name": "stdout",
     "output_type": "stream",
     "text": [
      "/Users/pergolicious/Library/CloudStorage/OneDrive-SyracuseUniversity/Syracuse University/Courses/IST 652/Final Project/final-project-scraped_data-#ETH.json\n",
      "<class 'pandas.core.frame.DataFrame'>\n",
      "RangeIndex: 4 entries, 0 to 3\n",
      "Data columns (total 10 columns):\n",
      " #   Column           Non-Null Count  Dtype \n",
      "---  ------           --------------  ----- \n",
      " 0   Tweet Scraped    4 non-null      int64 \n",
      " 1   Username         4 non-null      object\n",
      " 2   Description      4 non-null      object\n",
      " 3   Location         4 non-null      object\n",
      " 4   Following Count  4 non-null      int64 \n",
      " 5   Follower Count   4 non-null      int64 \n",
      " 6   Total Tweets     4 non-null      int64 \n",
      " 7   Retweet Count    4 non-null      int64 \n",
      " 8   Tweet Text       4 non-null      object\n",
      " 9   Hashtags Used    4 non-null      object\n",
      "dtypes: int64(5), object(5)\n",
      "memory usage: 448.0+ bytes\n"
     ]
    }
   ],
   "source": [
    "# Convert JSON Data to Data Frame\n",
    "###########################################################################################################################\n",
    "\n",
    "ETHjsondata = f'{fc.selected_path}/{fc.selected_filename}'\n",
    "print(ETHjsondata)\n",
    "\n",
    "ETHdf = pd.read_json(ETHjsondata)\n",
    "\n",
    "ETHdf.reset_index(drop=True, inplace=True)\n",
    "\n",
    "ETHdf.info()"
   ]
  },
  {
   "cell_type": "code",
   "execution_count": 128,
   "id": "572b7c6e-e814-4e92-9187-f27c1e703682",
   "metadata": {},
   "outputs": [
    {
     "name": "stdout",
     "output_type": "stream",
     "text": [
      "<class 'pandas.core.frame.DataFrame'>\n",
      "Int64Index: 7 entries, 0 to 3\n",
      "Data columns (total 10 columns):\n",
      " #   Column           Non-Null Count  Dtype \n",
      "---  ------           --------------  ----- \n",
      " 0   Tweet Scraped    7 non-null      int64 \n",
      " 1   Username         7 non-null      object\n",
      " 2   Description      7 non-null      object\n",
      " 3   Location         7 non-null      object\n",
      " 4   Following Count  7 non-null      int64 \n",
      " 5   Follower Count   7 non-null      int64 \n",
      " 6   Total Tweets     7 non-null      int64 \n",
      " 7   Retweet Count    7 non-null      int64 \n",
      " 8   Tweet Text       7 non-null      object\n",
      " 9   Hashtags Used    7 non-null      object\n",
      "dtypes: int64(5), object(5)\n",
      "memory usage: 616.0+ bytes\n"
     ]
    }
   ],
   "source": [
    "# Combine #BTC and #ETH Data Frames\n",
    "###########################################################################################################################\n",
    "\n",
    "df = pd.concat([BTCdf,ETHdf])\n",
    "\n",
    "df.info()"
   ]
  },
  {
   "cell_type": "code",
   "execution_count": 129,
   "id": "366f3151-02af-4e94-843d-60253cdc460b",
   "metadata": {},
   "outputs": [
    {
     "data": {
      "text/html": [
       "<div>\n",
       "<style scoped>\n",
       "    .dataframe tbody tr th:only-of-type {\n",
       "        vertical-align: middle;\n",
       "    }\n",
       "\n",
       "    .dataframe tbody tr th {\n",
       "        vertical-align: top;\n",
       "    }\n",
       "\n",
       "    .dataframe thead th {\n",
       "        text-align: right;\n",
       "    }\n",
       "</style>\n",
       "<table border=\"1\" class=\"dataframe\">\n",
       "  <thead>\n",
       "    <tr style=\"text-align: right;\">\n",
       "      <th></th>\n",
       "      <th>Tweet Scraped</th>\n",
       "      <th>Username</th>\n",
       "      <th>Description</th>\n",
       "      <th>Location</th>\n",
       "      <th>Following Count</th>\n",
       "      <th>Follower Count</th>\n",
       "      <th>Total Tweets</th>\n",
       "      <th>Retweet Count</th>\n",
       "      <th>Tweet Text</th>\n",
       "      <th>Hashtags Used</th>\n",
       "    </tr>\n",
       "  </thead>\n",
       "  <tbody>\n",
       "    <tr>\n",
       "      <th>0</th>\n",
       "      <td>1</td>\n",
       "      <td>0xEthereumYoda</td>\n",
       "      <td>UP or DOWN...\\n.\\n.\\n.\\n.\\nPrice matters NOT.</td>\n",
       "      <td></td>\n",
       "      <td>1</td>\n",
       "      <td>111</td>\n",
       "      <td>49704</td>\n",
       "      <td>0</td>\n",
       "      <td>#Ethereum price update: \\n\\n#ETH $1555.28 USD\\...</td>\n",
       "      <td>[Ethereum, ETH, Bitcoin, BTC, altcoin, cryptoc...</td>\n",
       "    </tr>\n",
       "    <tr>\n",
       "      <th>1</th>\n",
       "      <td>2</td>\n",
       "      <td>weswix</td>\n",
       "      <td>Admin for @HachikoInu1 (#ハチコ) @usa_nft @Pensio...</td>\n",
       "      <td>United States 🇺🇸</td>\n",
       "      <td>2977</td>\n",
       "      <td>3004</td>\n",
       "      <td>22217</td>\n",
       "      <td>0</td>\n",
       "      <td>#gasfees #crypto #CryptoNews #SHIB $SHIB #shib...</td>\n",
       "      <td>[gasfees, crypto, CryptoNews, SHIB, shiba, shi...</td>\n",
       "    </tr>\n",
       "    <tr>\n",
       "      <th>2</th>\n",
       "      <td>3</td>\n",
       "      <td>CriptoDrake</td>\n",
       "      <td>Creador de contenido en Youtube. Criptomonedas...</td>\n",
       "      <td></td>\n",
       "      <td>74</td>\n",
       "      <td>6669</td>\n",
       "      <td>1107</td>\n",
       "      <td>153</td>\n",
       "      <td>🔥🔥  𝐒 𝐎 𝐑 𝐓 𝐄 𝐎  🔥🔥\\n\\n🚨 Quieres ganar 𝟮𝟱𝟬$ #U...</td>\n",
       "      <td>[USDTether, BTC]</td>\n",
       "    </tr>\n",
       "    <tr>\n",
       "      <th>0</th>\n",
       "      <td>1</td>\n",
       "      <td>Dannyb11nc</td>\n",
       "      <td>@BOLIXTOKEN @CLOUD9NFT #DOGSOFMANDOX #MANDOX #...</td>\n",
       "      <td>Raleigh, NC</td>\n",
       "      <td>2233</td>\n",
       "      <td>1046</td>\n",
       "      <td>27041</td>\n",
       "      <td>12</td>\n",
       "      <td>🚨Kim Tub Tater was just sold for 5.2 #ETH ($8,...</td>\n",
       "      <td>[ETH, Tater, NFT]</td>\n",
       "    </tr>\n",
       "    <tr>\n",
       "      <th>1</th>\n",
       "      <td>2</td>\n",
       "      <td>Valdecantos13</td>\n",
       "      <td>My tweets are based on my own views, so NFA &amp; ...</td>\n",
       "      <td>Philadelphia, PA</td>\n",
       "      <td>348</td>\n",
       "      <td>8</td>\n",
       "      <td>423</td>\n",
       "      <td>8739</td>\n",
       "      <td>💸 $1,000 #Giveaway 💸\\n\\nWe'll select 10 winner...</td>\n",
       "      <td>[Giveaway]</td>\n",
       "    </tr>\n",
       "  </tbody>\n",
       "</table>\n",
       "</div>"
      ],
      "text/plain": [
       "   Tweet Scraped        Username  \\\n",
       "0              1  0xEthereumYoda   \n",
       "1              2          weswix   \n",
       "2              3     CriptoDrake   \n",
       "0              1      Dannyb11nc   \n",
       "1              2   Valdecantos13   \n",
       "\n",
       "                                         Description           Location  \\\n",
       "0      UP or DOWN...\\n.\\n.\\n.\\n.\\nPrice matters NOT.                      \n",
       "1  Admin for @HachikoInu1 (#ハチコ) @usa_nft @Pensio...  United States 🇺🇸    \n",
       "2  Creador de contenido en Youtube. Criptomonedas...                      \n",
       "0  @BOLIXTOKEN @CLOUD9NFT #DOGSOFMANDOX #MANDOX #...        Raleigh, NC   \n",
       "1  My tweets are based on my own views, so NFA & ...   Philadelphia, PA   \n",
       "\n",
       "   Following Count  Follower Count  Total Tweets  Retweet Count  \\\n",
       "0                1             111         49704              0   \n",
       "1             2977            3004         22217              0   \n",
       "2               74            6669          1107            153   \n",
       "0             2233            1046         27041             12   \n",
       "1              348               8           423           8739   \n",
       "\n",
       "                                          Tweet Text  \\\n",
       "0  #Ethereum price update: \\n\\n#ETH $1555.28 USD\\...   \n",
       "1  #gasfees #crypto #CryptoNews #SHIB $SHIB #shib...   \n",
       "2  🔥🔥  𝐒 𝐎 𝐑 𝐓 𝐄 𝐎  🔥🔥\\n\\n🚨 Quieres ganar 𝟮𝟱𝟬$ #U...   \n",
       "0  🚨Kim Tub Tater was just sold for 5.2 #ETH ($8,...   \n",
       "1  💸 $1,000 #Giveaway 💸\\n\\nWe'll select 10 winner...   \n",
       "\n",
       "                                       Hashtags Used  \n",
       "0  [Ethereum, ETH, Bitcoin, BTC, altcoin, cryptoc...  \n",
       "1  [gasfees, crypto, CryptoNews, SHIB, shiba, shi...  \n",
       "2                                   [USDTether, BTC]  \n",
       "0                                  [ETH, Tater, NFT]  \n",
       "1                                         [Giveaway]  "
      ]
     },
     "execution_count": 129,
     "metadata": {},
     "output_type": "execute_result"
    }
   ],
   "source": [
    "# Preview Data\n",
    "###########################################################################################################################\n",
    "\n",
    "df.head()"
   ]
  },
  {
   "cell_type": "code",
   "execution_count": 130,
   "id": "857c1e55-6806-45da-b71c-ee68adcff503",
   "metadata": {},
   "outputs": [
    {
     "data": {
      "text/html": [
       "<div>\n",
       "<style scoped>\n",
       "    .dataframe tbody tr th:only-of-type {\n",
       "        vertical-align: middle;\n",
       "    }\n",
       "\n",
       "    .dataframe tbody tr th {\n",
       "        vertical-align: top;\n",
       "    }\n",
       "\n",
       "    .dataframe thead th {\n",
       "        text-align: right;\n",
       "    }\n",
       "</style>\n",
       "<table border=\"1\" class=\"dataframe\">\n",
       "  <thead>\n",
       "    <tr style=\"text-align: right;\">\n",
       "      <th></th>\n",
       "      <th>Tweet Scraped</th>\n",
       "      <th>Following Count</th>\n",
       "      <th>Follower Count</th>\n",
       "      <th>Total Tweets</th>\n",
       "      <th>Retweet Count</th>\n",
       "    </tr>\n",
       "  </thead>\n",
       "  <tbody>\n",
       "    <tr>\n",
       "      <th>count</th>\n",
       "      <td>7.000000</td>\n",
       "      <td>7.000000</td>\n",
       "      <td>7.000000</td>\n",
       "      <td>7.000000</td>\n",
       "      <td>7.000000</td>\n",
       "    </tr>\n",
       "    <tr>\n",
       "      <th>mean</th>\n",
       "      <td>2.285714</td>\n",
       "      <td>852.571429</td>\n",
       "      <td>1583.142857</td>\n",
       "      <td>14468.285714</td>\n",
       "      <td>2590.857143</td>\n",
       "    </tr>\n",
       "    <tr>\n",
       "      <th>std</th>\n",
       "      <td>1.112697</td>\n",
       "      <td>1221.167864</td>\n",
       "      <td>2487.170375</td>\n",
       "      <td>19286.539751</td>\n",
       "      <td>3914.265594</td>\n",
       "    </tr>\n",
       "    <tr>\n",
       "      <th>min</th>\n",
       "      <td>1.000000</td>\n",
       "      <td>1.000000</td>\n",
       "      <td>8.000000</td>\n",
       "      <td>137.000000</td>\n",
       "      <td>0.000000</td>\n",
       "    </tr>\n",
       "    <tr>\n",
       "      <th>25%</th>\n",
       "      <td>1.500000</td>\n",
       "      <td>98.000000</td>\n",
       "      <td>61.000000</td>\n",
       "      <td>536.000000</td>\n",
       "      <td>6.000000</td>\n",
       "    </tr>\n",
       "    <tr>\n",
       "      <th>50%</th>\n",
       "      <td>2.000000</td>\n",
       "      <td>213.000000</td>\n",
       "      <td>233.000000</td>\n",
       "      <td>1107.000000</td>\n",
       "      <td>153.000000</td>\n",
       "    </tr>\n",
       "    <tr>\n",
       "      <th>75%</th>\n",
       "      <td>3.000000</td>\n",
       "      <td>1290.500000</td>\n",
       "      <td>2025.000000</td>\n",
       "      <td>24629.000000</td>\n",
       "      <td>4616.000000</td>\n",
       "    </tr>\n",
       "    <tr>\n",
       "      <th>max</th>\n",
       "      <td>4.000000</td>\n",
       "      <td>2977.000000</td>\n",
       "      <td>6669.000000</td>\n",
       "      <td>49704.000000</td>\n",
       "      <td>8739.000000</td>\n",
       "    </tr>\n",
       "  </tbody>\n",
       "</table>\n",
       "</div>"
      ],
      "text/plain": [
       "       Tweet Scraped  Following Count  Follower Count  Total Tweets  \\\n",
       "count       7.000000         7.000000        7.000000      7.000000   \n",
       "mean        2.285714       852.571429     1583.142857  14468.285714   \n",
       "std         1.112697      1221.167864     2487.170375  19286.539751   \n",
       "min         1.000000         1.000000        8.000000    137.000000   \n",
       "25%         1.500000        98.000000       61.000000    536.000000   \n",
       "50%         2.000000       213.000000      233.000000   1107.000000   \n",
       "75%         3.000000      1290.500000     2025.000000  24629.000000   \n",
       "max         4.000000      2977.000000     6669.000000  49704.000000   \n",
       "\n",
       "       Retweet Count  \n",
       "count       7.000000  \n",
       "mean     2590.857143  \n",
       "std      3914.265594  \n",
       "min         0.000000  \n",
       "25%         6.000000  \n",
       "50%       153.000000  \n",
       "75%      4616.000000  \n",
       "max      8739.000000  "
      ]
     },
     "execution_count": 130,
     "metadata": {},
     "output_type": "execute_result"
    }
   ],
   "source": [
    "# Question 1 | What are the twitter summary statistics of the sampled users?\n",
    "###########################################################################################################################\n",
    "\n",
    "df.describe()"
   ]
  },
  {
   "cell_type": "markdown",
   "id": "f1c3fb89-d4e4-436a-ae02-5f2bca265f6d",
   "metadata": {},
   "source": [
    "## Question 2"
   ]
  },
  {
   "cell_type": "markdown",
   "id": "e7db39c7-bcd7-4534-a41e-a8e2ba3f29b0",
   "metadata": {},
   "source": [
    "### Who is the Most Followed Sampled Account?"
   ]
  },
  {
   "cell_type": "markdown",
   "id": "759ecc37-507c-4125-88aa-0a32ef6f51ff",
   "metadata": {},
   "source": [
    "## Question 2"
   ]
  },
  {
   "cell_type": "markdown",
   "id": "f56e32c9-0e5b-4d87-a308-614e2e1b3787",
   "metadata": {},
   "source": [
    "### Who is the Most Followed Account from the Tweet Sample?"
   ]
  },
  {
   "cell_type": "code",
   "execution_count": 149,
   "id": "019ddbae-40e2-4897-9b73-40907f4e1567",
   "metadata": {},
   "outputs": [
    {
     "name": "stdout",
     "output_type": "stream",
     "text": [
      "Most Followed Account | Username: CriptoDrake, Follower Count: 6669\n"
     ]
    }
   ],
   "source": [
    "# Question 2 | Who is the most followed sampled account?\n",
    "###########################################################################################################################\n",
    "\n",
    "sorteddf = df.sort_values(by = ['Follower Count'], ascending = False)\n",
    "sorteddf.head()\n",
    "\n",
    "MostFollowed_Username = sorteddf['Username'].iloc[0]\n",
    "MostFollowed_FollowerCount = sorteddf['Follower Count'].iloc[0]\n",
    "\n",
    "print(f'Most Followed Account | Username: {MostFollowed_Username}, Follower Count: {MostFollowed_FollowerCount}')"
   ]
  },
  {
   "cell_type": "markdown",
   "id": "69a26b61-efc1-4884-a430-25ae013aa731",
   "metadata": {},
   "source": [
    "## Question 3"
   ]
  },
  {
   "cell_type": "markdown",
   "id": "e52c8cac-802a-4814-acff-5b442756e891",
   "metadata": {},
   "source": [
    "### Which Locations are the Users Tweeting From?"
   ]
  },
  {
   "cell_type": "code",
   "execution_count": 132,
   "id": "c97149fe-5b39-4c89-b9a0-597db771dda1",
   "metadata": {},
   "outputs": [
    {
     "name": "stdout",
     "output_type": "stream",
     "text": [
      "\n",
      "Philadelphia, PA\n",
      "Raleigh, NC\n",
      "USA\n",
      "United States 🇺🇸 \n",
      "5\n"
     ]
    }
   ],
   "source": [
    "# Question 3 | Which locations are the users tweeting from (via Twitter)?\n",
    "###########################################################################################################################\n",
    "\n",
    "df_loc = df.groupby('Location').groups\n",
    "df_loc_lst = []\n",
    "\n",
    "for loc in df_loc:\n",
    "    print(loc)\n",
    "    df_loc_lst.append(loc)\n",
    "    \n",
    "print(len(df_loc_lst))\n",
    "\n",
    "#jsondata_loc_df = pd.DataFrame(jsondata_loc_lst).to_csv('loccsvvvvv.csv')"
   ]
  },
  {
   "cell_type": "markdown",
   "id": "ae7d2753-80e0-4e15-b236-1b12a54539c1",
   "metadata": {},
   "source": [
    "## Question 4"
   ]
  },
  {
   "cell_type": "markdown",
   "id": "3f13888b-6ba3-4f26-ae64-012088198596",
   "metadata": {},
   "source": [
    "### What Percentage of the Sampled Tweets Contain the Terms 'Giveaway', 'Contest', or 'Prize'?"
   ]
  },
  {
   "cell_type": "code",
   "execution_count": 133,
   "id": "f1e61b5d-34f5-4b30-bf82-58b620591840",
   "metadata": {},
   "outputs": [
    {
     "name": "stdout",
     "output_type": "stream",
     "text": [
      "\"['giveaway', 'contest', 'prize']\" was mentioned in 71% of the tweets captured in the sample.\n"
     ]
    }
   ],
   "source": [
    "# Question 4 | What Percentage of the Sampled Tweets Contain the Terms 'Giveaway', 'Contest', or 'Prize'?\n",
    "###########################################################################################################################\n",
    "\n",
    "df_text = df.groupby('Tweet Text').groups\n",
    "df_text\n",
    "\n",
    "lst = []\n",
    "\n",
    "for txt in df_text:\n",
    "    lst.append(txt)\n",
    "    \n",
    "\n",
    "\n",
    "searchterms = ['giveaway','contest','prize']\n",
    "#pd.value_counts(np.array(lst))\n",
    "giveawaycount = round((sum(len(re.findall(r'(giveaway) | (contest) | (prize)', x.lower())) for x in lst)/(len(lst)))*100)\n",
    "\n",
    "print(f'\"{searchterms}\" was mentioned in {giveawaycount}% of the tweets captured in the sample.')\n"
   ]
  },
  {
   "cell_type": "markdown",
   "id": "20bf6c36-7fe5-4cd7-9745-4cc3c91fdbb3",
   "metadata": {},
   "source": [
    "## Question 5"
   ]
  },
  {
   "cell_type": "markdown",
   "id": "dcb62832-62d1-4e86-83f4-266b25d3b66d",
   "metadata": {},
   "source": [
    "### What is the average Polarity and Subjectivity of the Tweet Sample?"
   ]
  },
  {
   "cell_type": "code",
   "execution_count": 134,
   "id": "68d9cc2d-96d3-4ed4-80ce-efd5a05743c4",
   "metadata": {},
   "outputs": [
    {
     "name": "stdout",
     "output_type": "stream",
     "text": [
      "Average Polarity Score: 0.04017857142857143\n",
      "----------------------------------\n",
      "Average Subjectivity Score: 0.20476190476190476\n"
     ]
    }
   ],
   "source": [
    "# Question 5 | What is the average Polarity and Subjectivity of the Tweet Sample?\n",
    "###########################################################################################################################\n",
    "\n",
    "pol = lambda tweet: TextBlob(tweet).sentiment.polarity\n",
    "sub = lambda tweet: TextBlob(tweet). sentiment.subjectivity\n",
    "\n",
    "df['Polarity'] = df['Tweet Text'].apply(pol)\n",
    "df['Subjectivity'] = df['Tweet Text'].apply(sub)\n",
    "\n",
    "PolMean = np.mean(df['Polarity'])\n",
    "print(f'Average Polarity Score: {PolMean}')\n",
    "print('----------------------------------')\n",
    "SubMean = np.mean(df['Subjectivity'])\n",
    "print(f'Average Subjectivity Score: {SubMean}')"
   ]
  },
  {
   "cell_type": "code",
   "execution_count": 110,
   "id": "4ba6cad4-3092-4345-9722-374deef9c412",
   "metadata": {},
   "outputs": [],
   "source": [
    "# Exploratory | Do Not Grade | Plotting Results (not required for IST 652 class)\n",
    "###########################################################################################################################\n",
    "\n",
    "# import matplotlib.pyplot as plt\n",
    "\n",
    "# plt.rcParams['figure.figsize']:[10, 8]\n",
    "\n",
    "# for index, tweet in enumerate (df.index):\n",
    "#     x = df['Polarity'].loc[tweet]\n",
    "#     y = df['Subjectivity'].loc[tweet]\n",
    "#     plt.scatter(x, y, color='blue')\n",
    "#     plt.text(x+.001, y+.001, df['Username'][index], fontsize=10)\n",
    "#     plt.xlim(-.01, .12)\n",
    "\n",
    "# plt.title ('Sentiment Analysis', fontsize=20)\n",
    "# plt.xlabel('<-- Negative Positive -->', fontsize=15)\n",
    "# plt.ylabel('<-- Facts Opinions -->', fontsize=15)\n",
    "\n",
    "# plt.show()"
   ]
  }
 ],
 "metadata": {
  "kernelspec": {
   "display_name": "Python 3 (ipykernel)",
   "language": "python",
   "name": "python3"
  },
  "language_info": {
   "codemirror_mode": {
    "name": "ipython",
    "version": 3
   },
   "file_extension": ".py",
   "mimetype": "text/x-python",
   "name": "python",
   "nbconvert_exporter": "python",
   "pygments_lexer": "ipython3",
   "version": "3.8.13"
  }
 },
 "nbformat": 4,
 "nbformat_minor": 5
}
