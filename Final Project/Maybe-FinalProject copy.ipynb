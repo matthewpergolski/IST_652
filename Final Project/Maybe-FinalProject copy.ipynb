{
 "cells": [
  {
   "cell_type": "markdown",
   "id": "a5c80cc2-0f7e-400f-9973-9b2cc7185e32",
   "metadata": {},
   "source": [
    "### Final Project Code | IST 652"
   ]
  },
  {
   "cell_type": "code",
   "execution_count": null,
   "id": "6d3eac86-58e5-4460-a675-bca14e86bed6",
   "metadata": {},
   "outputs": [],
   "source": [
    "# Download packages if needed\n",
    "\n",
    "%pip install tweepy"
   ]
  },
  {
   "cell_type": "code",
   "execution_count": 89,
   "id": "caf5b6b0-ed0d-41aa-b9e9-520a9c9e9a3a",
   "metadata": {},
   "outputs": [],
   "source": [
    "# Import Needed Packages\n",
    "import pandas as pd\n",
    "import numpy as np\n",
    "import tweepy\n",
    "import configparser\n",
    "import json\n",
    "import os\n",
    "import re\n",
    "from textblob import TextBlob, Word, Blobber\n",
    "from textblob.classifiers import NaiveBayesClassifier\n",
    "from textblob.taggers import NLTKTagger\n",
    "import matplotlib.pyplot as plt"
   ]
  },
  {
   "cell_type": "code",
   "execution_count": 3,
   "id": "f5dd89c5-8d8b-48c2-9dfc-c7ee7ea6887c",
   "metadata": {},
   "outputs": [],
   "source": [
    "# Save actual key values to a separate '.ini' file for privacy reasons (don't want to directly share my keys with the world)\n",
    "\n",
    "configfile = '/Users/pergolicious/Library/CloudStorage/OneDrive-SyracuseUniversity/Syracuse University/Courses/IST 652/Final Project/FinalProject-Config.ini'\n",
    "\n",
    "config = configparser.ConfigParser()\n",
    "config.read(f'{configfile}')\n",
    "\n",
    "API_KEY = config['twitter']['API_KEY']\n",
    "API_KEY_SECRET = config['twitter']['API_KEY_SECRET']\n",
    "ACCESS_TOKEN = config['twitter']['ACCESS_TOKEN']\n",
    "ACCESS_TOKEN_SECRET = config['twitter']['ACCESS_TOKEN_SECRET']"
   ]
  },
  {
   "cell_type": "code",
   "execution_count": 4,
   "id": "bcdd195c-1438-4161-a402-2d77b2f6ebd9",
   "metadata": {},
   "outputs": [],
   "source": [
    "# Define function to print metadata information for tweets\n",
    "\n",
    "directory = '/Users/pergolicious/Library/CloudStorage/OneDrive-SyracuseUniversity/Syracuse University/Courses/IST 652/Final Project'\n",
    "\n",
    "def printtweetdata(n, ith_tweet, scrapped_data):\n",
    "    \n",
    "    d = {\"Tweet Scraped\":n, \"Username\": ith_tweet[0], \"Description\" :ith_tweet[1], \"Location\": ith_tweet[2], \n",
    "         \"Following Count\":ith_tweet[3], \"Follower Count\":ith_tweet[4],\"Total Tweets\":ith_tweet[5], \"Retweet Count\": ith_tweet[6],\n",
    "         \"Tweet Text\": ith_tweet[7],\"Hashtags Used\":ith_tweet[8]}\n",
    "         \n",
    "         \n",
    "    \n",
    "    print(f\"Tweet Scraped{n}:\")\n",
    "    print(f\"Username:{ith_tweet[0]}\")\n",
    "    print(f\"Description:{ith_tweet[1]}\")\n",
    "    print(f\"Location:{ith_tweet[2]}\")\n",
    "    print(f\" Following Count:{ith_tweet[3]}\")\n",
    "    print(f\"Follower Count:{ith_tweet[4]}\")\n",
    "    print(f\"Total Tweets:{ith_tweet[5]}\")\n",
    "    print(f\"Retweet Count:{ith_tweet[6]}\")\n",
    "    print(f\"Tweet Text: {ith_tweet[7]}\")\n",
    "    print(f\"Hashtags Used:{ith_tweet[8]}\")\n",
    "    \n",
    "    scraped_data.append(d)\n",
    "    \n",
    "    try:\n",
    "        if not os.path.isdir(f'{directory}'):\n",
    "            os.mkdir(f'{directory}')\n",
    "        with open(f'{directory}/final-project-scraped_data-{words}.json', 'w') as outfile:\n",
    "            json.dump(scraped_data, outfile, indent = 4)\n",
    "    except:\n",
    "        print (\"An exception occurred\")"
   ]
  },
  {
   "cell_type": "code",
   "execution_count": 5,
   "id": "89113745-b92c-4701-b9c0-57a89db54606",
   "metadata": {},
   "outputs": [],
   "source": [
    "# Authentication the account and credentials\n",
    "\n",
    "auth = tweepy.OAuthHandler(API_KEY, API_KEY_SECRET)\n",
    "auth.set_access_token(ACCESS_TOKEN, ACCESS_TOKEN_SECRET)\n",
    "\n",
    "api = tweepy.API(auth)"
   ]
  },
  {
   "cell_type": "code",
   "execution_count": 6,
   "id": "2feeaa84-2a7e-4903-b566-2654b299e91b",
   "metadata": {},
   "outputs": [],
   "source": [
    "# Define function to scrape twitter for data based on 3 different prameters\n",
    "\n",
    "def scrape(words, numtweet, scrapped_data):\n",
    "    tweets = tweepy.Cursor(api.search_tweets, q = words, len = 'en',\n",
    "                          tweet_mode = 'extended').items(numtweet)\n",
    "    list_tweets = [tweet for tweet in tweets]\n",
    "    \n",
    "    i = 1\n",
    "    \n",
    "    # Extract various infomration through an iterative process\n",
    "    for tweet in list_tweets:\n",
    "        username = tweet.user.screen_name\n",
    "        description = tweet.user.description\n",
    "        location = tweet.user.location\n",
    "        following = tweet.user.friends_count\n",
    "        followers = tweet.user.followers_count\n",
    "        totaltweets = tweet.user.statuses_count\n",
    "        retweetcount = tweet.retweet_count\n",
    "        hashtags = tweet.entities['hashtags']\n",
    "    \n",
    "        \n",
    "        try:\n",
    "            text = tweet.retweeted_status.full_text\n",
    "        except AttributeError:\n",
    "            text = tweet.full_text\n",
    "        hashtext = list()\n",
    "        for j in range(0, len(hashtags)):\n",
    "            hashtext.append(hashtags[j]['text'])\n",
    "            \n",
    "            \n",
    "        ith_tweet = [username, description, location, following,\n",
    "                   followers, totaltweets, retweetcount, text, hashtext]\n",
    "        \n",
    "        printtweetdata(i, ith_tweet, scraped_data)\n",
    "        i = i+1"
   ]
  },
  {
   "cell_type": "code",
   "execution_count": 7,
   "id": "55501629-031c-4ac0-a6a6-6492147d66ba",
   "metadata": {},
   "outputs": [
    {
     "name": "stdout",
     "output_type": "stream",
     "text": [
      "Enter hasthag to search for\n"
     ]
    },
    {
     "name": "stdin",
     "output_type": "stream",
     "text": [
      " #BTC\n"
     ]
    },
    {
     "name": "stdout",
     "output_type": "stream",
     "text": [
      "Enter number of tweets to search for\n"
     ]
    },
    {
     "name": "stdin",
     "output_type": "stream",
     "text": [
      " 2\n"
     ]
    },
    {
     "name": "stderr",
     "output_type": "stream",
     "text": [
      "Unexpected parameter: len\n"
     ]
    },
    {
     "name": "stdout",
     "output_type": "stream",
     "text": [
      "Fetching tweets...\n",
      "Tweet Scraped1:\n",
      "Username:_Yoshinori_2\n",
      "Description:Manifesting wins🍀 #YoshiVouch\n",
      "\n",
      "#CrypoqFamily\n",
      "Location:she/her • need wins • kpopstan\n",
      " Following Count:3521\n",
      "Follower Count:43\n",
      "Total Tweets:15876\n",
      "Retweet Count:562\n",
      "Tweet Text: ⚡The greatest interest in #BTC and #ETH among U.S. states is shown in California \n",
      "\n",
      "💭For reference, California is the headquarters of #Apple, #Alphabet and #Facebook🤔 https://t.co/WYR3NIUlsi\n",
      "Hashtags Used:['BTC', 'ETH']\n",
      "Tweet Scraped2:\n",
      "Username:LivePriceCrypto\n",
      "Description:I Tweet the latest #Bitcoin & #Ethereum price and Daily/Weekly Technical Indicators Data every minute. \n",
      "\n",
      "Developed the 20/03/2022\n",
      "Location:\n",
      " Following Count:4\n",
      "Follower Count:3419\n",
      "Total Tweets:231922\n",
      "Retweet Count:0\n",
      "Tweet Text: #Bitcoin Last Price $19760 #BTC 🚀\n",
      "Weekly Indicators:\n",
      "•Variation since Monday 00h00(UTC): +1.04%\n",
      "•MACD:\n",
      " -MACD Line: -5092\n",
      " -Signal Line: -5282\n",
      "\n",
      "#Ethereum Last Price $1547 #ETH\n",
      "•Variation: +8.49%\n",
      "•MACD:\n",
      " -MACD Line: -325\n",
      " -Signal Line: -380\n",
      "\n",
      "#Blockchain #Web3\n",
      "(5/6)\n",
      "231748\n",
      "Hashtags Used:['Bitcoin', 'BTC', 'Ethereum', 'ETH', 'Blockchain', 'Web3']\n",
      "scraping has completed! :)\n"
     ]
    }
   ],
   "source": [
    "# Gathering of Data | 1 | Bitcoin Tweets\n",
    "\n",
    "print('Enter hasthag to search for')\n",
    "words = input()\n",
    "\n",
    "print('Enter number of tweets to search for')\n",
    "numtweet = int(input())\n",
    "\n",
    "scraped_data = []\n",
    "print('Fetching tweets...')\n",
    "\n",
    "scrape(words, numtweet, scraped_data)\n",
    "print('scraping has completed! :)')"
   ]
  },
  {
   "cell_type": "code",
   "execution_count": 8,
   "id": "961f6baf-efe7-4b0c-9082-5c2e1a8f754e",
   "metadata": {},
   "outputs": [
    {
     "name": "stdout",
     "output_type": "stream",
     "text": [
      "<class 'pandas.core.frame.DataFrame'>\n",
      "RangeIndex: 2 entries, 0 to 1\n",
      "Data columns (total 10 columns):\n",
      " #   Column           Non-Null Count  Dtype \n",
      "---  ------           --------------  ----- \n",
      " 0   Tweet Scraped    2 non-null      int64 \n",
      " 1   Username         2 non-null      object\n",
      " 2   Description      2 non-null      object\n",
      " 3   Location         2 non-null      object\n",
      " 4   Following Count  2 non-null      int64 \n",
      " 5   Follower Count   2 non-null      int64 \n",
      " 6   Total Tweets     2 non-null      int64 \n",
      " 7   Retweet Count    2 non-null      int64 \n",
      " 8   Tweet Text       2 non-null      object\n",
      " 9   Hashtags Used    2 non-null      object\n",
      "dtypes: int64(5), object(5)\n",
      "memory usage: 288.0+ bytes\n"
     ]
    }
   ],
   "source": [
    "BTCjsondata = pd.read_json(f'{directory}/final-project-scraped_data-{words}.json')\n",
    "BTCjsondata.reset_index(drop=True, inplace=True)\n",
    "\n",
    "BTCjsondata.info()"
   ]
  },
  {
   "cell_type": "code",
   "execution_count": 10,
   "id": "d7b0686f-d6c2-43df-a036-d75491d805b3",
   "metadata": {},
   "outputs": [
    {
     "name": "stdout",
     "output_type": "stream",
     "text": [
      "Enter hasthag to search for\n"
     ]
    },
    {
     "name": "stdin",
     "output_type": "stream",
     "text": [
      " #ETH\n"
     ]
    },
    {
     "name": "stdout",
     "output_type": "stream",
     "text": [
      "Enter number of tweets to search for\n"
     ]
    },
    {
     "name": "stdin",
     "output_type": "stream",
     "text": [
      " 3\n"
     ]
    },
    {
     "name": "stderr",
     "output_type": "stream",
     "text": [
      "Unexpected parameter: len\n"
     ]
    },
    {
     "name": "stdout",
     "output_type": "stream",
     "text": [
      "Fetching tweets...\n",
      "Tweet Scraped1:\n",
      "Username:gepengGV\n",
      "Description:\n",
      "Location:\n",
      " Following Count:33\n",
      "Follower Count:2\n",
      "Total Tweets:62\n",
      "Retweet Count:980\n",
      "Tweet Text: 🥳 MINT LIVE #GIVEAWAY 🥳\n",
      "\n",
      "🏆\n",
      "🔹1x $25 in $ETH or $USDT\n",
      "🔹5x #NFT Airdrops\n",
      "\n",
      "📜\n",
      "1⃣ Follow me &amp; @ttpt_eth\n",
      "2⃣ ❤️ &amp; RT &amp; Tag friends\n",
      "\n",
      "⏰24H #EthereumNFTs #OpenSea #ETH #NFTs\n",
      "\n",
      "🚀 ------------------- 🚀\n",
      "Trappin’ Trailer Park Turtles™️\n",
      "MINT HERE: https://t.co/eG1Wdq0RAw\n",
      "Price: 0.1 $eth https://t.co/lRNPSkeiUk\n",
      "Hashtags Used:['GIVEAWAY', 'NFT']\n",
      "Tweet Scraped2:\n",
      "Username:reireikeo\n",
      "Description:レイレイ🥺サブ垢だお💓/本垢@enoyouも可愛いがってね🙇‍♀️/とにかく猫、猫、猫🐈🐈‍⬛ ͗ ͗〰︎︎❤︎が好きだお💓/keo活動隊隊長😍/keoとは感謝(k)笑顔(e)思いやり(o)だお💕/みんなの応援アカウント💓/仲良くしてください🌸/フォロバできてない時は教えてね💓/\n",
      "Location:\n",
      " Following Count:3768\n",
      "Follower Count:4252\n",
      "Total Tweets:40967\n",
      "Retweet Count:36\n",
      "Tweet Text: My 7-year-old granddaughter Victoria made the Walrus T #NFTcollection to chase her dreams \n",
      "\n",
      "Walrus T: https://t.co/5AuyCC29Cv\n",
      "\n",
      "My son @salvador_nfts  made Walrus TT to support Victoria with her dreams.❤️\n",
      "\n",
      "Walrus TT: https://t.co/MwRD2CECE2\n",
      "\n",
      "Listed: 30/3000\n",
      "Owners: 3\n",
      "TV: .01 #ETH https://t.co/zh01lDzOwt\n",
      "Hashtags Used:['NFTcollection']\n",
      "Tweet Scraped3:\n",
      "Username:kidswisher310\n",
      "Description:who am I kidding this page is a mess but follow it 😈❤️ “hate it or love it the underdogs on top” #Guttercatgang\n",
      "Location:Orlando, FL\n",
      " Following Count:379\n",
      "Follower Count:7\n",
      "Total Tweets:676\n",
      "Retweet Count:7255\n",
      "Tweet Text: 💸 $1,000 #Giveaway 💸\n",
      "\n",
      "We'll select 10 winners randomly and award $100 to each account! 🤑🤑\n",
      "\n",
      "Rules: 👇\n",
      "\n",
      "1️⃣ Tag 2 friends\n",
      "2️⃣ Must Like, Follow &amp; Retweet \n",
      "\n",
      "Good luck 💚\n",
      "\n",
      "#BTC #Crypto #Contest #Casino #prize #Competition #ETH #NFT\n",
      "\n",
      "🔗 https://t.co/iOPgBrSIiZ https://t.co/DiRKGbV3cW\n",
      "Hashtags Used:['Giveaway']\n",
      "scraping has completed! :)\n"
     ]
    }
   ],
   "source": [
    "# Gathering of Data | 2 | Ethereum Tweets\n",
    "\n",
    "print('Enter hasthag to search for')\n",
    "words = input()\n",
    "\n",
    "print('Enter number of tweets to search for')\n",
    "numtweet = int(input())\n",
    "\n",
    "scraped_data = []\n",
    "print('Fetching tweets...')\n",
    "\n",
    "scrape(words, numtweet, scraped_data)\n",
    "print('scraping has completed! :)')"
   ]
  },
  {
   "cell_type": "code",
   "execution_count": 11,
   "id": "2a0473b1-e778-4429-8b6f-6b57cde04af7",
   "metadata": {},
   "outputs": [
    {
     "name": "stdout",
     "output_type": "stream",
     "text": [
      "<class 'pandas.core.frame.DataFrame'>\n",
      "RangeIndex: 3 entries, 0 to 2\n",
      "Data columns (total 10 columns):\n",
      " #   Column           Non-Null Count  Dtype \n",
      "---  ------           --------------  ----- \n",
      " 0   Tweet Scraped    3 non-null      int64 \n",
      " 1   Username         3 non-null      object\n",
      " 2   Description      3 non-null      object\n",
      " 3   Location         3 non-null      object\n",
      " 4   Following Count  3 non-null      int64 \n",
      " 5   Follower Count   3 non-null      int64 \n",
      " 6   Total Tweets     3 non-null      int64 \n",
      " 7   Retweet Count    3 non-null      int64 \n",
      " 8   Tweet Text       3 non-null      object\n",
      " 9   Hashtags Used    3 non-null      object\n",
      "dtypes: int64(5), object(5)\n",
      "memory usage: 368.0+ bytes\n"
     ]
    }
   ],
   "source": [
    "ETHjsondata = pd.read_json(f'{directory}/final-project-scraped_data-{words}.json')\n",
    "ETHjsondata.reset_index(drop=True, inplace=True)\n",
    "\n",
    "ETHjsondata.info()"
   ]
  },
  {
   "cell_type": "code",
   "execution_count": 92,
   "id": "572b7c6e-e814-4e92-9187-f27c1e703682",
   "metadata": {},
   "outputs": [
    {
     "name": "stdout",
     "output_type": "stream",
     "text": [
      "<class 'pandas.core.frame.DataFrame'>\n",
      "Int64Index: 5 entries, 0 to 2\n",
      "Data columns (total 10 columns):\n",
      " #   Column           Non-Null Count  Dtype \n",
      "---  ------           --------------  ----- \n",
      " 0   Tweet Scraped    5 non-null      int64 \n",
      " 1   Username         5 non-null      object\n",
      " 2   Description      5 non-null      object\n",
      " 3   Location         5 non-null      object\n",
      " 4   Following Count  5 non-null      int64 \n",
      " 5   Follower Count   5 non-null      int64 \n",
      " 6   Total Tweets     5 non-null      int64 \n",
      " 7   Retweet Count    5 non-null      int64 \n",
      " 8   Tweet Text       5 non-null      object\n",
      " 9   Hashtags Used    5 non-null      object\n",
      "dtypes: int64(5), object(5)\n",
      "memory usage: 440.0+ bytes\n"
     ]
    }
   ],
   "source": [
    "df = pd.concat([BTCjsondata,ETHjsondata])\n",
    "\n",
    "df.info()"
   ]
  },
  {
   "cell_type": "code",
   "execution_count": 93,
   "id": "366f3151-02af-4e94-843d-60253cdc460b",
   "metadata": {},
   "outputs": [
    {
     "data": {
      "text/html": [
       "<div>\n",
       "<style scoped>\n",
       "    .dataframe tbody tr th:only-of-type {\n",
       "        vertical-align: middle;\n",
       "    }\n",
       "\n",
       "    .dataframe tbody tr th {\n",
       "        vertical-align: top;\n",
       "    }\n",
       "\n",
       "    .dataframe thead th {\n",
       "        text-align: right;\n",
       "    }\n",
       "</style>\n",
       "<table border=\"1\" class=\"dataframe\">\n",
       "  <thead>\n",
       "    <tr style=\"text-align: right;\">\n",
       "      <th></th>\n",
       "      <th>Tweet Scraped</th>\n",
       "      <th>Username</th>\n",
       "      <th>Description</th>\n",
       "      <th>Location</th>\n",
       "      <th>Following Count</th>\n",
       "      <th>Follower Count</th>\n",
       "      <th>Total Tweets</th>\n",
       "      <th>Retweet Count</th>\n",
       "      <th>Tweet Text</th>\n",
       "      <th>Hashtags Used</th>\n",
       "    </tr>\n",
       "  </thead>\n",
       "  <tbody>\n",
       "    <tr>\n",
       "      <th>0</th>\n",
       "      <td>1</td>\n",
       "      <td>_Yoshinori_2</td>\n",
       "      <td>Manifesting wins🍀 #YoshiVouch\\n\\n#CrypoqFamily</td>\n",
       "      <td>she/her • need wins • kpopstan</td>\n",
       "      <td>3521</td>\n",
       "      <td>43</td>\n",
       "      <td>15876</td>\n",
       "      <td>562</td>\n",
       "      <td>⚡The greatest interest in #BTC and #ETH among ...</td>\n",
       "      <td>[BTC, ETH]</td>\n",
       "    </tr>\n",
       "    <tr>\n",
       "      <th>1</th>\n",
       "      <td>2</td>\n",
       "      <td>LivePriceCrypto</td>\n",
       "      <td>I Tweet the latest #Bitcoin &amp; #Ethereum price ...</td>\n",
       "      <td></td>\n",
       "      <td>4</td>\n",
       "      <td>3419</td>\n",
       "      <td>231922</td>\n",
       "      <td>0</td>\n",
       "      <td>#Bitcoin Last Price $19760 #BTC 🚀\\nWeekly Indi...</td>\n",
       "      <td>[Bitcoin, BTC, Ethereum, ETH, Blockchain, Web3]</td>\n",
       "    </tr>\n",
       "    <tr>\n",
       "      <th>0</th>\n",
       "      <td>1</td>\n",
       "      <td>gepengGV</td>\n",
       "      <td></td>\n",
       "      <td></td>\n",
       "      <td>33</td>\n",
       "      <td>2</td>\n",
       "      <td>62</td>\n",
       "      <td>980</td>\n",
       "      <td>🥳 MINT LIVE #GIVEAWAY 🥳\\n\\n🏆\\n🔹1x $25 in $ETH ...</td>\n",
       "      <td>[GIVEAWAY, NFT]</td>\n",
       "    </tr>\n",
       "    <tr>\n",
       "      <th>1</th>\n",
       "      <td>2</td>\n",
       "      <td>reireikeo</td>\n",
       "      <td>レイレイ🥺サブ垢だお💓/本垢@enoyouも可愛いがってね🙇‍♀️/とにかく猫、猫、猫🐈🐈‍...</td>\n",
       "      <td></td>\n",
       "      <td>3768</td>\n",
       "      <td>4252</td>\n",
       "      <td>40967</td>\n",
       "      <td>36</td>\n",
       "      <td>My 7-year-old granddaughter Victoria made the ...</td>\n",
       "      <td>[NFTcollection]</td>\n",
       "    </tr>\n",
       "    <tr>\n",
       "      <th>2</th>\n",
       "      <td>3</td>\n",
       "      <td>kidswisher310</td>\n",
       "      <td>who am I kidding this page is a mess but follo...</td>\n",
       "      <td>Orlando, FL</td>\n",
       "      <td>379</td>\n",
       "      <td>7</td>\n",
       "      <td>676</td>\n",
       "      <td>7255</td>\n",
       "      <td>💸 $1,000 #Giveaway 💸\\n\\nWe'll select 10 winner...</td>\n",
       "      <td>[Giveaway]</td>\n",
       "    </tr>\n",
       "  </tbody>\n",
       "</table>\n",
       "</div>"
      ],
      "text/plain": [
       "   Tweet Scraped         Username  \\\n",
       "0              1     _Yoshinori_2   \n",
       "1              2  LivePriceCrypto   \n",
       "0              1         gepengGV   \n",
       "1              2        reireikeo   \n",
       "2              3    kidswisher310   \n",
       "\n",
       "                                         Description  \\\n",
       "0     Manifesting wins🍀 #YoshiVouch\\n\\n#CrypoqFamily   \n",
       "1  I Tweet the latest #Bitcoin & #Ethereum price ...   \n",
       "0                                                      \n",
       "1  レイレイ🥺サブ垢だお💓/本垢@enoyouも可愛いがってね🙇‍♀️/とにかく猫、猫、猫🐈🐈‍...   \n",
       "2  who am I kidding this page is a mess but follo...   \n",
       "\n",
       "                         Location  Following Count  Follower Count  \\\n",
       "0  she/her • need wins • kpopstan             3521              43   \n",
       "1                                                4            3419   \n",
       "0                                               33               2   \n",
       "1                                             3768            4252   \n",
       "2                     Orlando, FL              379               7   \n",
       "\n",
       "   Total Tweets  Retweet Count  \\\n",
       "0         15876            562   \n",
       "1        231922              0   \n",
       "0            62            980   \n",
       "1         40967             36   \n",
       "2           676           7255   \n",
       "\n",
       "                                          Tweet Text  \\\n",
       "0  ⚡The greatest interest in #BTC and #ETH among ...   \n",
       "1  #Bitcoin Last Price $19760 #BTC 🚀\\nWeekly Indi...   \n",
       "0  🥳 MINT LIVE #GIVEAWAY 🥳\\n\\n🏆\\n🔹1x $25 in $ETH ...   \n",
       "1  My 7-year-old granddaughter Victoria made the ...   \n",
       "2  💸 $1,000 #Giveaway 💸\\n\\nWe'll select 10 winner...   \n",
       "\n",
       "                                     Hashtags Used  \n",
       "0                                       [BTC, ETH]  \n",
       "1  [Bitcoin, BTC, Ethereum, ETH, Blockchain, Web3]  \n",
       "0                                  [GIVEAWAY, NFT]  \n",
       "1                                  [NFTcollection]  \n",
       "2                                       [Giveaway]  "
      ]
     },
     "execution_count": 93,
     "metadata": {},
     "output_type": "execute_result"
    }
   ],
   "source": [
    "df.head()"
   ]
  },
  {
   "cell_type": "code",
   "execution_count": 94,
   "id": "857c1e55-6806-45da-b71c-ee68adcff503",
   "metadata": {},
   "outputs": [
    {
     "data": {
      "text/html": [
       "<div>\n",
       "<style scoped>\n",
       "    .dataframe tbody tr th:only-of-type {\n",
       "        vertical-align: middle;\n",
       "    }\n",
       "\n",
       "    .dataframe tbody tr th {\n",
       "        vertical-align: top;\n",
       "    }\n",
       "\n",
       "    .dataframe thead th {\n",
       "        text-align: right;\n",
       "    }\n",
       "</style>\n",
       "<table border=\"1\" class=\"dataframe\">\n",
       "  <thead>\n",
       "    <tr style=\"text-align: right;\">\n",
       "      <th></th>\n",
       "      <th>Tweet Scraped</th>\n",
       "      <th>Following Count</th>\n",
       "      <th>Follower Count</th>\n",
       "      <th>Total Tweets</th>\n",
       "      <th>Retweet Count</th>\n",
       "    </tr>\n",
       "  </thead>\n",
       "  <tbody>\n",
       "    <tr>\n",
       "      <th>count</th>\n",
       "      <td>5.00000</td>\n",
       "      <td>5.000000</td>\n",
       "      <td>5.000000</td>\n",
       "      <td>5.000000</td>\n",
       "      <td>5.000000</td>\n",
       "    </tr>\n",
       "    <tr>\n",
       "      <th>mean</th>\n",
       "      <td>1.80000</td>\n",
       "      <td>1541.000000</td>\n",
       "      <td>1544.600000</td>\n",
       "      <td>57900.600000</td>\n",
       "      <td>1766.600000</td>\n",
       "    </tr>\n",
       "    <tr>\n",
       "      <th>std</th>\n",
       "      <td>0.83666</td>\n",
       "      <td>1927.861899</td>\n",
       "      <td>2111.990838</td>\n",
       "      <td>98686.650525</td>\n",
       "      <td>3094.680404</td>\n",
       "    </tr>\n",
       "    <tr>\n",
       "      <th>min</th>\n",
       "      <td>1.00000</td>\n",
       "      <td>4.000000</td>\n",
       "      <td>2.000000</td>\n",
       "      <td>62.000000</td>\n",
       "      <td>0.000000</td>\n",
       "    </tr>\n",
       "    <tr>\n",
       "      <th>25%</th>\n",
       "      <td>1.00000</td>\n",
       "      <td>33.000000</td>\n",
       "      <td>7.000000</td>\n",
       "      <td>676.000000</td>\n",
       "      <td>36.000000</td>\n",
       "    </tr>\n",
       "    <tr>\n",
       "      <th>50%</th>\n",
       "      <td>2.00000</td>\n",
       "      <td>379.000000</td>\n",
       "      <td>43.000000</td>\n",
       "      <td>15876.000000</td>\n",
       "      <td>562.000000</td>\n",
       "    </tr>\n",
       "    <tr>\n",
       "      <th>75%</th>\n",
       "      <td>2.00000</td>\n",
       "      <td>3521.000000</td>\n",
       "      <td>3419.000000</td>\n",
       "      <td>40967.000000</td>\n",
       "      <td>980.000000</td>\n",
       "    </tr>\n",
       "    <tr>\n",
       "      <th>max</th>\n",
       "      <td>3.00000</td>\n",
       "      <td>3768.000000</td>\n",
       "      <td>4252.000000</td>\n",
       "      <td>231922.000000</td>\n",
       "      <td>7255.000000</td>\n",
       "    </tr>\n",
       "  </tbody>\n",
       "</table>\n",
       "</div>"
      ],
      "text/plain": [
       "       Tweet Scraped  Following Count  Follower Count   Total Tweets  \\\n",
       "count        5.00000         5.000000        5.000000       5.000000   \n",
       "mean         1.80000      1541.000000     1544.600000   57900.600000   \n",
       "std          0.83666      1927.861899     2111.990838   98686.650525   \n",
       "min          1.00000         4.000000        2.000000      62.000000   \n",
       "25%          1.00000        33.000000        7.000000     676.000000   \n",
       "50%          2.00000       379.000000       43.000000   15876.000000   \n",
       "75%          2.00000      3521.000000     3419.000000   40967.000000   \n",
       "max          3.00000      3768.000000     4252.000000  231922.000000   \n",
       "\n",
       "       Retweet Count  \n",
       "count       5.000000  \n",
       "mean     1766.600000  \n",
       "std      3094.680404  \n",
       "min         0.000000  \n",
       "25%        36.000000  \n",
       "50%       562.000000  \n",
       "75%       980.000000  \n",
       "max      7255.000000  "
      ]
     },
     "execution_count": 94,
     "metadata": {},
     "output_type": "execute_result"
    }
   ],
   "source": [
    "# Question 1 | What are the twitter summary statistics of the sampled users?\n",
    "\n",
    "df.describe()"
   ]
  },
  {
   "cell_type": "code",
   "execution_count": 95,
   "id": "019ddbae-40e2-4897-9b73-40907f4e1567",
   "metadata": {},
   "outputs": [
    {
     "name": "stdout",
     "output_type": "stream",
     "text": [
      "1    My 7-year-old granddaughter Victoria made the ...\n",
      "Name: Tweet Text, dtype: object\n"
     ]
    },
    {
     "data": {
      "text/plain": [
       "'\\nHow often do you struggle to find your car keys? It could be really annoying at times and a #Tesla driver has found a unique solution to take care of this problem.\\n\\nhttps://t.co/mt15GjLZ6w\\n'"
      ]
     },
     "execution_count": 95,
     "metadata": {},
     "output_type": "execute_result"
    }
   ],
   "source": [
    "# Question 2 | Who is the most followed sampled account?\n",
    "\n",
    "sorteddf = df.sort_values(by = ['Follower Count'], ascending = False)\n",
    "print(sorteddf['Tweet Text'].head(1))\n",
    "sorteddf.head()\n",
    "\n",
    "\n",
    "#csvdata = sorteddata['Tweet Text'].head(1)\n",
    "#csvdata.to_csv('dataaaaaaaaaa.csv')\n",
    "\n",
    "'''\n",
    "How often do you struggle to find your car keys? It could be really annoying at times and a #Tesla driver has found a unique solution to take care of this problem.\n",
    "\n",
    "https://t.co/mt15GjLZ6w\n",
    "'''\n"
   ]
  },
  {
   "cell_type": "code",
   "execution_count": 96,
   "id": "c97149fe-5b39-4c89-b9a0-597db771dda1",
   "metadata": {},
   "outputs": [
    {
     "name": "stdout",
     "output_type": "stream",
     "text": [
      "\n",
      "Orlando, FL\n",
      "she/her • need wins • kpopstan\n",
      "3\n"
     ]
    }
   ],
   "source": [
    "# Question 3 | Which locations are the users tweeting from (via Twitter)?\n",
    "\n",
    "df_loc = df.groupby('Location').groups\n",
    "df_loc_lst = []\n",
    "\n",
    "for loc in df_loc:\n",
    "    print(loc)\n",
    "    df_loc_lst.append(loc)\n",
    "    \n",
    "print(len(df_loc_lst))\n",
    "\n",
    "#jsondata_loc_df = pd.DataFrame(jsondata_loc_lst).to_csv('loccsvvvvv.csv')"
   ]
  },
  {
   "cell_type": "code",
   "execution_count": 97,
   "id": "f1e61b5d-34f5-4b30-bf82-58b620591840",
   "metadata": {},
   "outputs": [
    {
     "name": "stdout",
     "output_type": "stream",
     "text": [
      "\"['giveaway', 'contest', 'prize']\" was mentioned in 40% of the tweets captured in the sample.\n"
     ]
    }
   ],
   "source": [
    "# Question 4 | How many times is Elon Musk mentioned within these 'Tesla' centered tweets?\n",
    "\n",
    "df_text = df.groupby('Tweet Text').groups\n",
    "df_text\n",
    "\n",
    "lst = []\n",
    "\n",
    "for txt in df_text:\n",
    "    lst.append(txt)\n",
    "    \n",
    "\n",
    "\n",
    "searchterms = ['giveaway','contest','prize']\n",
    "#pd.value_counts(np.array(lst))\n",
    "giveawaycount = round((sum(len(re.findall(r'(giveaway) | (contest) | (prize)', x.lower())) for x in lst)/(len(lst)))*100)\n",
    "\n",
    "print(f'\"{searchterms}\" was mentioned in {giveawaycount}% of the tweets captured in the sample.')\n"
   ]
  },
  {
   "cell_type": "code",
   "execution_count": 109,
   "id": "68d9cc2d-96d3-4ed4-80ce-efd5a05743c4",
   "metadata": {},
   "outputs": [
    {
     "name": "stdout",
     "output_type": "stream",
     "text": [
      "Average Polarity Score: 0.3347727272727273\n",
      "----------------------------------\n",
      "Average Subjectivity Score: 0.6233333333333333\n"
     ]
    }
   ],
   "source": [
    "# Question 5 | What is the average Polarity and Subjectivity of the Tweet Sample?\n",
    "\n",
    "pol = lambda tweet: TextBlob(tweet).sentiment.polarity\n",
    "sub = lambda tweet: TextBlob(tweet). sentiment.subjectivity\n",
    "\n",
    "df['Polarity'] = df['Tweet Text'].apply(pol)\n",
    "df['Subjectivity'] = df['Tweet Text'].apply(sub)\n",
    "\n",
    "PolMean = np.mean(df['Polarity'])\n",
    "print(f'Average Polarity Score: {PolMean}')\n",
    "print('----------------------------------')\n",
    "SubMean = np.mean(df['Subjectivity'])\n",
    "print(f'Average Subjectivity Score: {SubMean}')"
   ]
  },
  {
   "cell_type": "code",
   "execution_count": 110,
   "id": "4ba6cad4-3092-4345-9722-374deef9c412",
   "metadata": {},
   "outputs": [],
   "source": [
    "# Exploratory -- plotting results (not required for IST 652 class)\n",
    "\n",
    "# import matplotlib.pyplot as plt\n",
    "\n",
    "# plt.rcParams['figure.figsize']:[10, 8]\n",
    "\n",
    "# for index, tweet in enumerate (df.index):\n",
    "#     x = df['Polarity'].loc[tweet]\n",
    "#     y = df['Subjectivity'].loc[tweet]\n",
    "#     plt.scatter(x, y, color='blue')\n",
    "#     plt.text(x+.001, y+.001, df['Username'][index], fontsize=10)\n",
    "#     plt.xlim(-.01, .12)\n",
    "\n",
    "# plt.title ('Sentiment Analysis', fontsize=20)\n",
    "# plt.xlabel('<-- Negative Positive -->', fontsize=15)\n",
    "# plt.ylabel('<-- Facts Opinions -->', fontsize=15)\n",
    "\n",
    "# plt.show()"
   ]
  }
 ],
 "metadata": {
  "kernelspec": {
   "display_name": "Python 3 (ipykernel)",
   "language": "python",
   "name": "python3"
  },
  "language_info": {
   "codemirror_mode": {
    "name": "ipython",
    "version": 3
   },
   "file_extension": ".py",
   "mimetype": "text/x-python",
   "name": "python",
   "nbconvert_exporter": "python",
   "pygments_lexer": "ipython3",
   "version": "3.8.13"
  }
 },
 "nbformat": 4,
 "nbformat_minor": 5
}
