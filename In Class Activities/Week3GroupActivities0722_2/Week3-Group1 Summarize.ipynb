{
 "cells": [
  {
   "cell_type": "markdown",
   "metadata": {},
   "source": [
    "# Review of Snippets of Code:\n",
    "\n",
    "Download the Week3-Group Activities.zip file from the files section of the course.\n",
    "Extract the 3 files in that zip file.\n",
    "\n",
    "Each group will work on a different program file\n",
    "\n",
    "Group1 - Week3-Group1 Summarize program\n",
    "\n",
    "Group2 - Week3-Group2 Dictionaries program\n",
    "\n",
    "Group3 - Week3-Group3 Sorting program\n",
    "\n",
    "Run the various blocks of code and identify how they differ from one another.\n",
    "Do you see advantages over one approach to another?\n",
    "What libraries did they use?"
   ]
  },
  {
   "cell_type": "code",
   "execution_count": 1,
   "metadata": {},
   "outputs": [
    {
     "name": "stdout",
     "output_type": "stream",
     "text": [
      "The average is 18.4\n"
     ]
    }
   ],
   "source": [
    "#Example to find average of list\n",
    "\n",
    "def cal_average(num):\n",
    "    sum_num = 0\n",
    "    for t in num:\n",
    "        sum_num = sum_num + t           \n",
    "\n",
    "    avg = sum_num / len(num)\n",
    "    return avg\n",
    "\n",
    "print(\"The average is\", cal_average([18,25,3,41,5]))"
   ]
  },
  {
   "cell_type": "code",
   "execution_count": 2,
   "metadata": {},
   "outputs": [
    {
     "name": "stdout",
     "output_type": "stream",
     "text": [
      "The average is  31.86\n"
     ]
    }
   ],
   "source": [
    "# Example to find average of list\n",
    "\n",
    "number_list = [45, 34, 10, 36, 12, 6, 80]\n",
    "avg = sum(number_list)/len(number_list)\n",
    "print(\"The average is \", round(avg,2))"
   ]
  },
  {
   "cell_type": "code",
   "execution_count": 3,
   "metadata": {},
   "outputs": [
    {
     "name": "stdout",
     "output_type": "stream",
     "text": [
      "The average is  31.86\n"
     ]
    }
   ],
   "source": [
    "# Example to find the average of the list\n",
    "\n",
    "from statistics import mean\n",
    " \n",
    "number_list = [45, 34, 10, 36, 12, 6, 80]\n",
    "avg = mean(number_list)\n",
    "print(\"The average is \", round(avg,2))"
   ]
  },
  {
   "cell_type": "code",
   "execution_count": 4,
   "metadata": {},
   "outputs": [
    {
     "name": "stdout",
     "output_type": "stream",
     "text": [
      "The average is  31.86\n"
     ]
    }
   ],
   "source": [
    "# Example to find avearge of list\n",
    "\n",
    "from numpy import mean\n",
    "number_list = [45, 34, 10, 36, 12, 6, 80]\n",
    "avg = mean(number_list)\n",
    "print(\"The average is \", round(avg,2))"
   ]
  },
  {
   "cell_type": "code",
   "execution_count": 5,
   "metadata": {},
   "outputs": [
    {
     "name": "stdout",
     "output_type": "stream",
     "text": [
      "Smallest number in the list is: 16\n"
     ]
    }
   ],
   "source": [
    "# Python program to find smallest number in a list\n",
    "\n",
    "# Given list of numbers\n",
    "lis = [89, 100, 35, 16, 99]\n",
    "\n",
    "# sorting the given list \"lis\"\n",
    "# sort() function sorts the list in ascending order\n",
    "lis.sort()\n",
    "\n",
    "# Displaying the first element of the list\n",
    "# which is the smallest number in the sorted list\n",
    "print(\"Smallest number in the list is:\", lis[0])"
   ]
  },
  {
   "cell_type": "code",
   "execution_count": 6,
   "metadata": {},
   "outputs": [
    {
     "name": "stdout",
     "output_type": "stream",
     "text": [
      "Smallest number of the list is: 3\n"
     ]
    }
   ],
   "source": [
    "# Python program to find smallest number in the\n",
    "# given list using min() method\n",
    "\n",
    "# Given list of numbers\n",
    "lis = [9, 100, 3, 16, 60]\n",
    "\n",
    "# min() method returns the smallest element of the list\n",
    "print(\"Smallest number of the list is:\", min(lis))"
   ]
  },
  {
   "cell_type": "code",
   "execution_count": 7,
   "metadata": {},
   "outputs": [
    {
     "name": "stdout",
     "output_type": "stream",
     "text": [
      "Largest number in the list is: 40\n"
     ]
    }
   ],
   "source": [
    "# Python program to find largest number in a list\n",
    "\n",
    "# A list of numbers is given\n",
    "lis = [1, 10, 40, 36, 16]\n",
    "\n",
    "# sorting the given list \"lis\"\n",
    "# sort() function sorts the list in ascending order\n",
    "lis.sort()\n",
    "\n",
    "# Displaying the last element of the list\n",
    "# which is the largest number in the sorted list\n",
    "print(\"Largest number in the list is:\", lis[-1])"
   ]
  },
  {
   "cell_type": "code",
   "execution_count": 8,
   "metadata": {},
   "outputs": [
    {
     "name": "stdout",
     "output_type": "stream",
     "text": [
      "Largest number of the list is: 45\n"
     ]
    }
   ],
   "source": [
    "# Python program to find largest number in a list\n",
    "# using max() function\n",
    "\n",
    "# A list of numbers\n",
    "lis = [19, 10, 45, 26, 6]\n",
    "\n",
    "# max() method returns the largest element of the list\n",
    "print(\"Largest number of the list is:\", max(lis))"
   ]
  },
  {
   "cell_type": "code",
   "execution_count": null,
   "metadata": {},
   "outputs": [],
   "source": []
  }
 ],
 "metadata": {
  "kernelspec": {
   "display_name": "Python 3 (ipykernel)",
   "language": "python",
   "name": "python3"
  },
  "language_info": {
   "codemirror_mode": {
    "name": "ipython",
    "version": 3
   },
   "file_extension": ".py",
   "mimetype": "text/x-python",
   "name": "python",
   "nbconvert_exporter": "python",
   "pygments_lexer": "ipython3",
   "version": "3.9.12"
  }
 },
 "nbformat": 4,
 "nbformat_minor": 4
}
