{
 "cells": [
  {
   "cell_type": "code",
   "execution_count": 19,
   "id": "eda23f1d-0869-4238-a13e-3c428181c80a",
   "metadata": {},
   "outputs": [
    {
     "name": "stdout",
     "output_type": "stream",
     "text": [
      "example 1: 5.00\n",
      "example 2: 3.50\n",
      "example 3: 2.00\n"
     ]
    }
   ],
   "source": [
    "# GROUP 3\n",
    "\n",
    "import numpy as np\n",
    "\n",
    "st1 = [ 1,2,3,4,5,6,7,8,9]\n",
    "st2 = ( 1,2,3,4,5,6)\n",
    "st3 = ( 1,2,3)\n",
    "\n",
    "x = lambda a: np.mean(a)\n",
    "print('example 1: {:.2f}'.format(x(st1)))\n",
    "print('example 2: {:.2f}'.format(x(st2)))\n",
    "print('example 3: {:.2f}'.format(x(st3)))"
   ]
  },
  {
   "cell_type": "markdown",
   "id": "06430932-2cf5-4992-8047-c3bcd8439b9e",
   "metadata": {},
   "source": [
    "Use the Week4-NumpyActivities program, review the snipets of code and then do\n",
    "the following:\n",
    "\n",
    "1. Write a Python program to convert a list and tuple into Numpy arrays.\n",
    "\n",
    "List to array: [1 2 3 4 5 6 7 8] \n",
    "Tuple to array:\n",
    "[[8 4 6]  [1 2 3]]\n",
    "\n",
    "Discuss how the list and tuple differ from the arrays.\n",
    "\n",
    "2. Write a Python program to append values to the end of a Numpy array. \n",
    "\n",
    "Expected Output:\n",
    "Original array:\n",
    " [10, 20, 30] \n",
    "After append values to the end of the array:\n",
    "[10 20 30 40 50 60 70 80 90]\n",
    "NUMPY Arrays\n"
   ]
  },
  {
   "cell_type": "code",
   "execution_count": 34,
   "id": "bfa68581-d948-47ea-9bc4-4353b80858b5",
   "metadata": {},
   "outputs": [
    {
     "data": {
      "text/plain": [
       "array([[8, 4, 6],\n",
       "       [1, 2, 3]])"
      ]
     },
     "execution_count": 34,
     "metadata": {},
     "output_type": "execute_result"
    }
   ],
   "source": [
    "import numpy as np\n",
    "\n",
    "toople = (1, 2, 3, 4, 5, 6, 7, 8)\n",
    "ary = np.array(toople)\n",
    "type(ary)\n",
    "\n",
    "toople2 = ([8, 4, 6],  [1, 2, 3])\n",
    "ary2 = np.array(toople2)\n",
    "ary2\n",
    "\n",
    "# "
   ]
  },
  {
   "cell_type": "code",
   "execution_count": 33,
   "id": "cd19089c-3505-4b2f-a5c1-e2079d7057a9",
   "metadata": {},
   "outputs": [
    {
     "name": "stdout",
     "output_type": "stream",
     "text": [
      "[10 20 30  1  2  3  4]\n"
     ]
    }
   ],
   "source": [
    "a = np.array([10,20,30])\n",
    "b = np.array([1,2,3,4])\n",
    "print(np.append(a,b))"
   ]
  },
  {
   "cell_type": "code",
   "execution_count": null,
   "id": "c737ef67-b9cb-4676-bae5-3733b976f6f2",
   "metadata": {},
   "outputs": [],
   "source": []
  }
 ],
 "metadata": {
  "kernelspec": {
   "display_name": "Python 3 (ipykernel)",
   "language": "python",
   "name": "python3"
  },
  "language_info": {
   "codemirror_mode": {
    "name": "ipython",
    "version": 3
   },
   "file_extension": ".py",
   "mimetype": "text/x-python",
   "name": "python",
   "nbconvert_exporter": "python",
   "pygments_lexer": "ipython3",
   "version": "3.9.12"
  }
 },
 "nbformat": 4,
 "nbformat_minor": 5
}
