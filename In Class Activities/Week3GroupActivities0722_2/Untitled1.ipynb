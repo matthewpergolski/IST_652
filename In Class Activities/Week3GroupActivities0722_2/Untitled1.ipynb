{
 "cells": [
  {
   "cell_type": "markdown",
   "id": "093e8f86-eaaf-4a33-bdbe-6bb045f73eb6",
   "metadata": {},
   "source": [
    "## Text Mining\n",
    "\n",
    "Tokenization = splitting lines of text into words\n",
    "- Remove stopwords that are 'filler' words of sorts\n",
    "- Can leave punctuation if desired to attempt to capture sentiment\n"
   ]
  },
  {
   "cell_type": "code",
   "execution_count": null,
   "id": "e88e55e1-0856-4a3b-9d1e-3d1e105190ed",
   "metadata": {},
   "outputs": [],
   "source": []
  }
 ],
 "metadata": {
  "kernelspec": {
   "display_name": "Python 3 (ipykernel)",
   "language": "python",
   "name": "python3"
  },
  "language_info": {
   "codemirror_mode": {
    "name": "ipython",
    "version": 3
   },
   "file_extension": ".py",
   "mimetype": "text/x-python",
   "name": "python",
   "nbconvert_exporter": "python",
   "pygments_lexer": "ipython3",
   "version": "3.9.12"
  }
 },
 "nbformat": 4,
 "nbformat_minor": 5
}
