{
 "cells": [
  {
   "cell_type": "markdown",
   "id": "5b4a6cbc-effe-4a27-833e-82a5887024ce",
   "metadata": {},
   "source": [
    "# Machine Learning Process\n",
    "- Data Collection\n",
    "    - Gather data through static files, via database, or other means\n",
    "- Data Exploration\n",
    "    - Summarize and describe data\n",
    "        - str/summary in R; .info()/.describe() in python\n",
    "    - Visualize variables for:\n",
    "        - Comparison (boxplot)\n",
    "        - Relationship (scatter/line plots)\n",
    "        - Distribution (histogram)\n",
    "        - Composition (stacked bar chart)\n",
    "- Data Preparation\n",
    "    - Data quality issues (missing values -- removing or estimating through median/mean/mode)\n",
    "    - Normalize data\n",
    "        - z-score\n",
    "        - min/max\n",
    "        - log\n",
    "    "
   ]
  },
  {
   "cell_type": "code",
   "execution_count": null,
   "id": "be87ece7-3e94-4f46-8317-26bd1b878cdf",
   "metadata": {},
   "outputs": [],
   "source": []
  }
 ],
 "metadata": {
  "kernelspec": {
   "display_name": "Python 3 (ipykernel)",
   "language": "python",
   "name": "python3"
  },
  "language_info": {
   "codemirror_mode": {
    "name": "ipython",
    "version": 3
   },
   "file_extension": ".py",
   "mimetype": "text/x-python",
   "name": "python",
   "nbconvert_exporter": "python",
   "pygments_lexer": "ipython3",
   "version": "3.9.12"
  }
 },
 "nbformat": 4,
 "nbformat_minor": 5
}
