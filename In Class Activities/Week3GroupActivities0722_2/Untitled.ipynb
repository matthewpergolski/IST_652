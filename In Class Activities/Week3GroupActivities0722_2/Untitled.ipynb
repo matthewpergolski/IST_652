{
 "cells": [
  {
   "cell_type": "markdown",
   "id": "0f603342-f921-40dd-b757-db80ccbf20d4",
   "metadata": {},
   "source": [
    "# Interview"
   ]
  },
  {
   "cell_type": "markdown",
   "id": "245844bf-dfba-40c0-bf0e-60f00ed380e8",
   "metadata": {},
   "source": [
    "### Intro\n",
    "- Thank you for the opportunity to have a discussion regarding my education and passion for data science\n",
    "- Hopeful I can potentially provide value to the team through eagerness to learn and willingness to adapt to different situation\n"
   ]
  },
  {
   "cell_type": "code",
   "execution_count": 1,
   "id": "133cc9a6-63f5-4382-8bac-116ad49c4883",
   "metadata": {},
   "outputs": [],
   "source": [
    "#"
   ]
  },
  {
   "cell_type": "markdown",
   "id": "772a5f11-02f3-4f34-bdba-bbaa52abb2ae",
   "metadata": {},
   "source": [
    "### What is Data Science?\n",
    "\n",
    "Blend of various fields that aims to ultiamtely solve problems through statistics, pattern recognition, visualization, and more\n",
    "- Statistics\n",
    "- Pattern Recognition\n",
    "- Machine Learning\n",
    "- ai\n",
    "- Data Mining\n",
    "- Database & Data Processing\n",
    "- Viz\n",
    "- Neurocomputing"
   ]
  },
  {
   "cell_type": "code",
   "execution_count": 2,
   "id": "9c80fce0-0ea7-417d-b492-0ddefef3a0a1",
   "metadata": {},
   "outputs": [],
   "source": [
    "#"
   ]
  },
  {
   "cell_type": "markdown",
   "id": "29312199-b19d-40a4-a55f-04f137287463",
   "metadata": {},
   "source": [
    "## Data Science Life Cycle\n",
    "\n",
    "Process for solving problems for stakeholders:\n",
    "- Learning application domain\n",
    "- Communicate with Data users\n",
    "- Seeing the 'big picture'\n",
    "- Knowing how data can be represented\n",
    "- Data transformation & analysis\n",
    "- Visualization and presentation\n",
    "- Attention to quality\n",
    "- Repeat!"
   ]
  },
  {
   "cell_type": "code",
   "execution_count": 3,
   "id": "e9da57ef-d374-40d1-bad5-f298e927eacb",
   "metadata": {},
   "outputs": [],
   "source": [
    "#"
   ]
  },
  {
   "cell_type": "markdown",
   "id": "82cfe2f4-5ffd-4dc3-bb36-ba3cfaacbbe7",
   "metadata": {},
   "source": [
    "### Questions to Ask Interviewer\n",
    "\n",
    "Questions\n",
    "- How would you describe the culture of the team?\n",
    "- Which software tools is the team mostly using?\n",
    "- What are some examples of recent projects the team has completed?\n",
    "- How does the team communicate insights to management?\n",
    "- Is the team developing new algorithms or implementing known or existing ones?"
   ]
  },
  {
   "cell_type": "code",
   "execution_count": null,
   "id": "f64edded-3662-439c-9855-e4fbc20ed359",
   "metadata": {},
   "outputs": [],
   "source": []
  }
 ],
 "metadata": {
  "kernelspec": {
   "display_name": "Python 3 (ipykernel)",
   "language": "python",
   "name": "python3"
  },
  "language_info": {
   "codemirror_mode": {
    "name": "ipython",
    "version": 3
   },
   "file_extension": ".py",
   "mimetype": "text/x-python",
   "name": "python",
   "nbconvert_exporter": "python",
   "pygments_lexer": "ipython3",
   "version": "3.9.12"
  }
 },
 "nbformat": 4,
 "nbformat_minor": 5
}
