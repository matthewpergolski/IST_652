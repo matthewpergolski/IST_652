{
 "cells": [
  {
   "cell_type": "code",
   "execution_count": 2,
   "id": "af357939",
   "metadata": {},
   "outputs": [
    {
     "name": "stdout",
     "output_type": "stream",
     "text": [
      "15\n"
     ]
    }
   ],
   "source": [
    "'''A lambda function is a small anonymous function.\n",
    "\n",
    "A lambda function can take any number of arguments, but can only have one expression.\n",
    "\n",
    "Syntax\n",
    "lambda arguments : expression\n",
    "The expression is executed and the result is returned:\n",
    "\n",
    "Example\n",
    "Add 10 to argument a, and return the result:'''\n",
    "\n",
    "x = lambda a : a + 10\n",
    "print(x(5))\n"
   ]
  },
  {
   "cell_type": "code",
   "execution_count": null,
   "id": "80473527",
   "metadata": {},
   "outputs": [],
   "source": [
    "'''The Anonymous Functions\n",
    "These functions are called anonymous because they are not declared in the standard manner \n",
    "by using the def keyword. \n",
    "You can use the lambda keyword to create small anonymous functions.\n",
    "\n",
    "Lambda forms can take any number of arguments but return just one value in the form of an expression. \n",
    "\n",
    "Lambda functions have their own local namespace and cannot access variables other than those in their parameter \n",
    "list and those in the global namespace.\n",
    "\n",
    "Syntax\n",
    "The syntax of lambda functions contains only a single statement, which is as follows −\n",
    "\n",
    "lambda [arg1 [,arg2,.....argn]]:expression\n",
    "Following is the example to show how lambda form of function works −'''\n",
    "\n",
    "\n",
    "# Function definition is here\n",
    "sum2 = lambda arg1, arg2: arg1 + arg2;\n",
    "\n",
    "# Now you can call sum as a function\n",
    "print(\"Value of total : \", sum2( 10, 20 ))\n",
    "print(\"Value of total : \", sum2( 20, 20 ))"
   ]
  },
  {
   "cell_type": "code",
   "execution_count": 3,
   "id": "3de1f14c",
   "metadata": {},
   "outputs": [
    {
     "name": "stdout",
     "output_type": "stream",
     "text": [
      "30\n",
      "13\n"
     ]
    }
   ],
   "source": [
    "'''Lambda functions can take any number of arguments:\n",
    "\n",
    "Example\n",
    "Multiply argument a with argument b and return the result:'''\n",
    "\n",
    "x = lambda a, b : a * b\n",
    "print(x(5, 6))\n",
    "\n",
    "#Example\n",
    "#Summarize argument a, b, and c and return the result:\n",
    "\n",
    "x = lambda a, b, c : a + b + c\n",
    "print(x(5, 6, 2))\n"
   ]
  },
  {
   "cell_type": "code",
   "execution_count": 1,
   "id": "82bdfc89",
   "metadata": {},
   "outputs": [
    {
     "name": "stdout",
     "output_type": "stream",
     "text": [
      "22\n"
     ]
    }
   ],
   "source": [
    "'''The power of lambda is better shown when you use them as an anonymous function \n",
    "inside another function.\n",
    "Say you have a function definition that takes one argument, \n",
    "and that argument will be multiplied with an unknown number:'''\n",
    "    \n",
    "#Use that function definition to make a function that always doubles the number you send in:\n",
    "\n",
    "def myfunc(n):\n",
    "  return lambda a : a * n\n",
    "\n",
    "mydoubler = myfunc(2)\n",
    "\n",
    "print(mydoubler(11))\n"
   ]
  },
  {
   "cell_type": "code",
   "execution_count": 4,
   "id": "e9323029",
   "metadata": {},
   "outputs": [
    {
     "name": "stdout",
     "output_type": "stream",
     "text": [
      "33\n"
     ]
    }
   ],
   "source": [
    "'''Or, use the same function definition to make a function that always triples \n",
    "the number you send in:'''\n",
    "\n",
    "def myfunc(n):\n",
    "  return lambda a : a * n\n",
    "\n",
    "mytripler = myfunc(3)\n",
    "\n",
    "print(mytripler(11))"
   ]
  },
  {
   "cell_type": "code",
   "execution_count": 5,
   "id": "3663dbdd",
   "metadata": {},
   "outputs": [
    {
     "name": "stdout",
     "output_type": "stream",
     "text": [
      "22\n",
      "33\n"
     ]
    }
   ],
   "source": [
    "#Or, use the same function definition to make both functions, in the same program:\n",
    "\n",
    "def myfunc(n):\n",
    "  return lambda a : a * n\n",
    "\n",
    "mydoubler = myfunc(2)\n",
    "mytripler = myfunc(3)\n",
    "\n",
    "print(mydoubler(11))\n",
    "print(mytripler(11))"
   ]
  },
  {
   "cell_type": "code",
   "execution_count": null,
   "id": "883c60a7",
   "metadata": {},
   "outputs": [],
   "source": [
    "'''Define a lambda function that returns the mean of three numbers. \n",
    "Hint: Divide by 3.0 to get a float. \n",
    "Make sure that your answer only has 2 decimals.'''\n"
   ]
  }
 ],
 "metadata": {
  "kernelspec": {
   "display_name": "Python 3 (ipykernel)",
   "language": "python",
   "name": "python3"
  },
  "language_info": {
   "codemirror_mode": {
    "name": "ipython",
    "version": 3
   },
   "file_extension": ".py",
   "mimetype": "text/x-python",
   "name": "python",
   "nbconvert_exporter": "python",
   "pygments_lexer": "ipython3",
   "version": "3.9.12"
  }
 },
 "nbformat": 4,
 "nbformat_minor": 5
}
