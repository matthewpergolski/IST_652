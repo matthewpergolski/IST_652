{
 "cells": [
  {
   "cell_type": "code",
   "execution_count": null,
   "metadata": {},
   "outputs": [],
   "source": [
    "'''\n",
    "Python Function\n",
    "    \n",
    "    Functions are the most important aspect of an application. \n",
    "    A function can be defined as the organized block of reusable code, which can be called whenever required.\n",
    "\n",
    "    Python allows us to divide a large program into the basic building blocks known as a function. \n",
    "    The function contains the set of programming statements. \n",
    "    A function can be called multiple times to provide reusability and modularity to the Python program.\n",
    "\n",
    "    The Function helps the programmer to break the program into smaller parts. \n",
    "    It organizes the code very effectively and avoids the repetition of code. \n",
    "    As the program grows, functions make the program more organized.\n",
    "\n",
    "    Python provides us with various built in functions, like range() or print(). \n",
    "    Although we can make use of these built in functions,\n",
    "    we can also create our own functions, which are called user-defined functions.\n",
    "'''"
   ]
  },
  {
   "cell_type": "code",
   "execution_count": null,
   "metadata": {},
   "outputs": [],
   "source": [
    "'''\n",
    "The advantages of using functions are:\n",
    "1. Reducing duplication of code.\n",
    "    In general, anytime you're going to be doing the same thing multiple times, you should use a function. \n",
    "    That way, whenever you need to do that action, you just call the function, \n",
    "    rather than copy & pasting the same code again.\n",
    "    \n",
    "2. Decomposing complex problems into simpler pieces.\n",
    "    It helps to divide the large programs into small groups so that we can read the code, \n",
    "    and debug the program faster and better.\n",
    "\n",
    "3. Improving clarity of the code.\n",
    "    Their primary purpose is to help us organize programs into chunks \n",
    "    that match how we think about the solution to the problem.\n",
    "    \n",
    "4. Reuse of code.\n",
    "    Functions provide better modularity for your application and a high degree of code reusing. \n",
    "    As you already know, Python gives you many built-in functions like print(), etc.\n",
    "\n",
    "5. Information hiding.\n",
    "    The goal of information hiding is to protect the rest of the system from these design changes in that, \n",
    "    if a design decision changes, the resulting code change is limited to the associated programming module.\n",
    "'''"
   ]
  },
  {
   "cell_type": "code",
   "execution_count": 11,
   "metadata": {},
   "outputs": [
    {
     "name": "stdout",
     "output_type": "stream",
     "text": [
      "Using default value\n",
      "Emp Name:  Nick\n",
      "Emp Role  Manager\n",
      "************************\n",
      "Overwriting default value\n",
      "Emp Name:  Tom\n",
      "Emp Role  CEO\n"
     ]
    }
   ],
   "source": [
    "# Functions and Variables\n",
    "# Inside and outside a function\n",
    "\n",
    "def defArgFunc( empname, emprole = \"Manager\" ):   \n",
    "   print (\"Emp Name: \", empname)\n",
    "   print (\"Emp Role \", emprole)\n",
    "   return;\n",
    "print(\"Using default value\")\n",
    "defArgFunc(empname=\"Nick\")\n",
    "print(\"************************\")\n",
    "print(\"Overwriting default value\")\n",
    "defArgFunc(empname=\"Tom\",emprole = \"CEO\")"
   ]
  },
  {
   "cell_type": "code",
   "execution_count": 12,
   "metadata": {},
   "outputs": [
    {
     "ename": "NameError",
     "evalue": "name 'empname' is not defined",
     "output_type": "error",
     "traceback": [
      "\u001b[1;31m---------------------------------------------------------------------------\u001b[0m",
      "\u001b[1;31mNameError\u001b[0m                                 Traceback (most recent call last)",
      "\u001b[1;32m~\\AppData\\Local\\Temp/ipykernel_3836/3933064219.py\u001b[0m in \u001b[0;36m<module>\u001b[1;34m\u001b[0m\n\u001b[1;32m----> 1\u001b[1;33m \u001b[0mprint\u001b[0m\u001b[1;33m(\u001b[0m\u001b[0mempname\u001b[0m\u001b[1;33m)\u001b[0m \u001b[1;31m#explain the result you got\u001b[0m\u001b[1;33m\u001b[0m\u001b[1;33m\u001b[0m\u001b[0m\n\u001b[0m",
      "\u001b[1;31mNameError\u001b[0m: name 'empname' is not defined"
     ]
    }
   ],
   "source": [
    "print(empname) #explain the result you got"
   ]
  },
  {
   "cell_type": "code",
   "execution_count": 14,
   "metadata": {},
   "outputs": [
    {
     "name": "stdout",
     "output_type": "stream",
     "text": [
      "Calling with single value\n",
      "The Output is: \n",
      "55\n",
      "Calling with multiple values\n",
      "The Output is: \n",
      "50\n",
      "60\n",
      "70\n",
      "80\n",
      "The Output is: \n"
     ]
    }
   ],
   "source": [
    "#Variable length argument example\n",
    "\n",
    "def varLenArgFunc(*varvallist ):   \n",
    "   print (\"The Output is: \")\n",
    "   for varval in varvallist:\n",
    "      print (varval)\n",
    "   return;   \n",
    "print(\"Calling with single value\")\n",
    "varLenArgFunc(55)\n",
    "print(\"Calling with multiple values\")\n",
    "varLenArgFunc(50,60,70,80)\n",
    "varLenArgFunc()"
   ]
  },
  {
   "cell_type": "code",
   "execution_count": 4,
   "metadata": {},
   "outputs": [
    {
     "name": "stdout",
     "output_type": "stream",
     "text": [
      "Values inside the function:  [10, 20, 30, [1, 2, 3, 4]]\n",
      "Values outside the function:  [10, 20, 30, [1, 2, 3, 4]]\n"
     ]
    }
   ],
   "source": [
    "# Function definition is here\n",
    "def changeme( mylist ):\n",
    "   \"This changes a passed list into this function\"\n",
    "   mylist.append([1,2,3,4]);\n",
    "   print(\"Values inside the function: \", mylist)\n",
    "   return mylist\n",
    "\n",
    "# Now you can call changeme function\n",
    "mylist = [10,20,30];\n",
    "newlist = changeme( [10,20,30] );\n",
    "print(\"Values outside the function: \", newlist)"
   ]
  },
  {
   "cell_type": "code",
   "execution_count": 2,
   "metadata": {},
   "outputs": [
    {
     "name": "stdout",
     "output_type": "stream",
     "text": [
      "Values inside the function:  [1, 2, 3, 4]\n",
      "Values outside the function:  [10, 20, 30]\n"
     ]
    }
   ],
   "source": [
    "def changeme( mylist ):\n",
    "   \"This changes a passed list into this function\"\n",
    "   mylist = [1,2,3,4]; # This would assig new reference in mylist\n",
    "   print(\"Values inside the function: \", mylist)\n",
    "   return\n",
    "\n",
    "# Now you can call changeme function\n",
    "mylist = [10,20,30];\n",
    "changeme( mylist );\n",
    "print(\"Values outside the function: \", mylist)"
   ]
  },
  {
   "cell_type": "code",
   "execution_count": 5,
   "metadata": {},
   "outputs": [],
   "source": [
    "# Function definition is here  *vartuple is for variable # of arguments\n",
    "def printinfo( arg1, *vartuple ):\n",
    "   \"This prints a variable passed arguments\"\n",
    "   print(\"Output is: \")\n",
    "   print(arg1)\n",
    "   for var in vartuple:\n",
    "      print(var)\n",
    "   return;"
   ]
  },
  {
   "cell_type": "code",
   "execution_count": 7,
   "metadata": {},
   "outputs": [
    {
     "name": "stdout",
     "output_type": "stream",
     "text": [
      "Output is: \n",
      "10\n",
      "Output is: \n",
      "65\n",
      "25\n",
      "45\n"
     ]
    },
    {
     "ename": "TypeError",
     "evalue": "printinfo() missing 1 required positional argument: 'arg1'",
     "output_type": "error",
     "traceback": [
      "\u001b[1;31m---------------------------------------------------------------------------\u001b[0m",
      "\u001b[1;31mTypeError\u001b[0m                                 Traceback (most recent call last)",
      "\u001b[1;32m~\\AppData\\Local\\Temp/ipykernel_3836/1926036089.py\u001b[0m in \u001b[0;36m<module>\u001b[1;34m\u001b[0m\n\u001b[0;32m      1\u001b[0m \u001b[0mprintinfo\u001b[0m\u001b[1;33m(\u001b[0m\u001b[1;36m10\u001b[0m\u001b[1;33m)\u001b[0m\u001b[1;33m\u001b[0m\u001b[1;33m\u001b[0m\u001b[0m\n\u001b[0;32m      2\u001b[0m \u001b[0mprintinfo\u001b[0m\u001b[1;33m(\u001b[0m\u001b[1;36m65\u001b[0m\u001b[1;33m,\u001b[0m\u001b[1;36m25\u001b[0m\u001b[1;33m,\u001b[0m\u001b[1;36m45\u001b[0m\u001b[1;33m)\u001b[0m\u001b[1;33m\u001b[0m\u001b[1;33m\u001b[0m\u001b[0m\n\u001b[1;32m----> 3\u001b[1;33m \u001b[0mprintinfo\u001b[0m\u001b[1;33m(\u001b[0m\u001b[1;33m)\u001b[0m\u001b[1;33m\u001b[0m\u001b[1;33m\u001b[0m\u001b[0m\n\u001b[0m",
      "\u001b[1;31mTypeError\u001b[0m: printinfo() missing 1 required positional argument: 'arg1'"
     ]
    }
   ],
   "source": [
    "printinfo(10)\n",
    "printinfo(65,25,45)\n",
    "printinfo()"
   ]
  },
  {
   "cell_type": "code",
   "execution_count": 16,
   "metadata": {},
   "outputs": [
    {
     "name": "stdout",
     "output_type": "stream",
     "text": [
      "Inside the function :  30\n",
      "Outside the function :  30\n"
     ]
    }
   ],
   "source": [
    "# Function using a return of a value\n",
    "def sum( arg1, arg2 ):\n",
    "   # Add both the parameters and return them.\"\n",
    "   calc = arg1 + arg2\n",
    "   print(\"Inside the function : \", calc)\n",
    "   return calc\n",
    "\n",
    "# Now you can call sum function\n",
    "total = sum( 10, 20 );\n",
    "print(\"Outside the function : \", total)"
   ]
  },
  {
   "cell_type": "code",
   "execution_count": null,
   "metadata": {},
   "outputs": [],
   "source": [
    "Write a short program to create one of the two functions below.  \n",
    "Run your code a few times with different values.\n",
    "\n",
    "\n",
    "1.  Create a function add_tax(amount, tax_rate) that accepts numeric values, amount and tax_rate,\n",
    "\n",
    "     and returns a new total amount with the tax amount included. \n",
    "\n",
    "Note: that tax rate and tax amount are different.\n",
    "\n",
    "\n",
    "2.  Define a function mean(a, b, c) that returns the mean of three numbers. \n",
    "Hint: Divide by 3.0 to get a float. \n",
    "Make sure that your answer only has 2 decimals.\n",
    "\n",
    "Share your code on the wall."
   ]
  }
 ],
 "metadata": {
  "kernelspec": {
   "display_name": "Python 3 (ipykernel)",
   "language": "python",
   "name": "python3"
  },
  "language_info": {
   "codemirror_mode": {
    "name": "ipython",
    "version": 3
   },
   "file_extension": ".py",
   "mimetype": "text/x-python",
   "name": "python",
   "nbconvert_exporter": "python",
   "pygments_lexer": "ipython3",
   "version": "3.9.7"
  }
 },
 "nbformat": 4,
 "nbformat_minor": 2
}
