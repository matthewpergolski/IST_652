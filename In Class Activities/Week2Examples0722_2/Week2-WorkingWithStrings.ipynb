{
 "cells": [
  {
   "cell_type": "code",
   "execution_count": null,
   "metadata": {},
   "outputs": [],
   "source": [
    "'''Work with Sample Programs\n",
    "\n",
    "Download Week2-Examples.zip in the files section.\n",
    "\n",
    "Unzip the file and load the file into Jupyter notebook.\n",
    "\n",
    "Group 1  (work with this file)\n",
    "\tWeek2-WorkingWithLists (deals with counting occurences of items in lists)\n",
    "\n",
    "Group 2 (work with this file)\n",
    "\tWeek2-WorkingWithStrings (deals with counting words in strings)\n",
    "\n",
    "Group 3 (work with this file)\n",
    "                   Work2-WorkingWithTuples\n",
    "\t\n",
    "Run the various blocks of code and identify how they differ from one another.\n",
    "Do you see advantages over one approach to another?\n",
    "What libraries did they use?\n",
    "\n",
    "Be prepared to discuss when we come back to the larger group.'''\n"
   ]
  },
  {
   "cell_type": "code",
   "execution_count": 9,
   "metadata": {},
   "outputs": [
    {
     "name": "stdout",
     "output_type": "stream",
     "text": [
      "The original string is : Geeksforgeeks is best Computer Science Portal\n",
      "['Geeksforgeeks', 'is', 'best', 'Computer', 'Science', 'Portal']\n",
      "The number of words in string are : 6\n"
     ]
    }
   ],
   "source": [
    "# Python3 code to demonstrate  \n",
    "# to count words in string  \n",
    "# using split() \n",
    "  \n",
    "# initializing string   \n",
    "test_string = \"Geeksforgeeks is best Computer Science Portal\"\n",
    "  \n",
    "# printing original string \n",
    "print (\"The original string is : \" +  test_string) \n",
    "\n",
    "# using split() \n",
    "# to count words in string \n",
    "res = len(test_string.split()) \n",
    "  \n",
    "# printing result \n",
    "print (\"The number of words in string are : \" +  str(res)) "
   ]
  },
  {
   "cell_type": "code",
   "execution_count": 10,
   "metadata": {},
   "outputs": [
    {
     "name": "stdout",
     "output_type": "stream",
     "text": [
      "The original string is : Geeksforgeeks,    is best @# Computer Science Portal.!!!\n",
      "The number of words in string are : 6\n"
     ]
    }
   ],
   "source": [
    "# Python3 code to demonstrate  \n",
    "# to count words in string  \n",
    "# using regex (findall()) \n",
    "import re \n",
    "  \n",
    "# initializing string   \n",
    "test_string = \"Geeksforgeeks,    is best @# Computer Science Portal.!!!\"\n",
    "  \n",
    "# printing original string \n",
    "print (\"The original string is : \" +  test_string) \n",
    "  \n",
    "# using regex (findall()) \n",
    "# to count words in string \n",
    "res = len(re.findall(r'\\w+', test_string)) \n",
    "  \n",
    "# printing result \n",
    "print (\"The number of words in string are : \" +  str(res)) \n"
   ]
  },
  {
   "cell_type": "code",
   "execution_count": 11,
   "metadata": {},
   "outputs": [
    {
     "name": "stdout",
     "output_type": "stream",
     "text": [
      "The original string is : Geeksforgeeks,    is best @# Computer Science Portal.!!!\n",
      "Result of split:   ['Geeksforgeeks,', 'is', 'best', '@#', 'Computer', 'Science', 'Portal.!!!']\n",
      "Result of strip testing for string:   [True, True, True, False, True, True, True]\n",
      "Result of strip:   ['Geeksforgeeks', 'is', 'best', '', 'Computer', 'Science', 'Portal']\n",
      "The number of words in string are : 6\n"
     ]
    }
   ],
   "source": [
    "# Python3 code to demonstrate  \n",
    "# to count words in string  \n",
    "# using sum() + strip() + split() \n",
    "import string \n",
    "  \n",
    "# initializing string   \n",
    "test_string = \"Geeksforgeeks,    is best @# Computer Science Portal.!!!\"\n",
    "  \n",
    "# printing original string \n",
    "print (\"The original string is : \" +  test_string) \n",
    "  \n",
    "# using sum() + strip() + split() \n",
    "stst = test_string.split()\n",
    "print('Result of split:  ',stst)\n",
    "\n",
    "spunc = [i.strip(string.punctuation).isalpha() for i in test_string.split()]\n",
    "print('Result of strip testing for string:  ',spunc)\n",
    "\n",
    "spunc2 = [i.strip(string.punctuation) for i in test_string.split()]\n",
    "print('Result of strip:  ',spunc2)\n",
    "\n",
    "# to count words in string \n",
    "res = sum([i.strip(string.punctuation).isalpha() for i in test_string.split()]) \n",
    "  \n",
    "# printing result \n",
    "print (\"The number of words in string are : \" +  str(res)) "
   ]
  },
  {
   "cell_type": "code",
   "execution_count": 13,
   "metadata": {},
   "outputs": [
    {
     "name": "stdout",
     "output_type": "stream",
     "text": [
      "Lorem ipsum dolor sit amet,\n",
      "consectetur adipiscing elit,\n",
      "sed do eiusmod tempor incididunt\n",
      "ut labore et dolore magna aliqua.\n"
     ]
    }
   ],
   "source": [
    "a = \"\"\"Lorem ipsum dolor sit amet,\n",
    "consectetur adipiscing elit,\n",
    "sed do eiusmod tempor incididunt\n",
    "ut labore et dolore magna aliqua.\"\"\"\n",
    "print(a)"
   ]
  },
  {
   "cell_type": "code",
   "execution_count": 14,
   "metadata": {},
   "outputs": [
    {
     "name": "stdout",
     "output_type": "stream",
     "text": [
      "True\n",
      "Yes, 'free' is present.\n"
     ]
    }
   ],
   "source": [
    "txt = \"The best things in life are free!\"\n",
    "print(\"free\" in txt)\n",
    "\n",
    "txt = \"The best things in life are free!\"\n",
    "if \"free\" in txt:\n",
    "  print(\"Yes, 'free' is present.\")"
   ]
  },
  {
   "cell_type": "code",
   "execution_count": 6,
   "metadata": {},
   "outputs": [
    {
     "name": "stdout",
     "output_type": "stream",
     "text": [
      "True\n",
      "No, 'expensive' is NOT present.\n"
     ]
    }
   ],
   "source": [
    "txt = \"The best things in life are free!\"\n",
    "print(\"expensive\" not in txt)\n",
    "\n",
    "txt = \"The best things in life are free!\"\n",
    "if \"expensive\" not in txt:\n",
    "  print(\"No, 'expensive' is NOT present.\")\n"
   ]
  },
  {
   "cell_type": "code",
   "execution_count": 3,
   "metadata": {},
   "outputs": [
    {
     "name": "stdout",
     "output_type": "stream",
     "text": [
      "HELLO, WORLD!\n",
      "hello, world!\n",
      "Hello, World!\n",
      "['Hello', ' World!']\n"
     ]
    }
   ],
   "source": [
    "a = \"Hello, World!\"\n",
    "print(a.upper())\n",
    "\n",
    "a = \"Hello, World!\"\n",
    "print(a.lower())\n",
    "\n",
    "#Stripping white space from beginning and end\n",
    "a = \"    Hello, World!    \"\n",
    "print(a.strip()) \n",
    "\n",
    "a = \"Hello, World!\"\n",
    "print(a.split(\",\"))"
   ]
  }
 ],
 "metadata": {
  "kernelspec": {
   "display_name": "Python 3 (ipykernel)",
   "language": "python",
   "name": "python3"
  },
  "language_info": {
   "codemirror_mode": {
    "name": "ipython",
    "version": 3
   },
   "file_extension": ".py",
   "mimetype": "text/x-python",
   "name": "python",
   "nbconvert_exporter": "python",
   "pygments_lexer": "ipython3",
   "version": "3.9.12"
  }
 },
 "nbformat": 4,
 "nbformat_minor": 4
}
