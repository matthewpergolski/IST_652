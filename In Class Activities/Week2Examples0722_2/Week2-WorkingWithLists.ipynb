{
 "cells": [
  {
   "cell_type": "code",
   "execution_count": null,
   "metadata": {},
   "outputs": [],
   "source": [
    "'''Work with Sample Programs\n",
    "\n",
    "Download Week2-Examples.zip in the files section.\n",
    "\n",
    "Unzip the file and load the file into Jupyter notebook.\n",
    "\n",
    "Group 1  (work with this file)\n",
    "\tWeek2-WorkingWithLists (deals with counting occurences of items in lists)\n",
    "\n",
    "Group 2 (work with this file)\n",
    "\tWeek2-WorkingWithStrings (deals with counting words in strings)\n",
    "\n",
    "Group 3 (work with this file)\n",
    "                   Work2-WorkingWithTuples\n",
    "\t\n",
    "Run the various blocks of code and identify how they differ from one another.\n",
    "Do you see advantages over one approach to another?\n",
    "What libraries did they use?\n",
    "\n",
    "Be prepared to discuss when we come back to the larger group.'''\n"
   ]
  },
  {
   "cell_type": "code",
   "execution_count": null,
   "metadata": {},
   "outputs": [],
   "source": [
    "# Python3 program to count the number of times \n",
    "# an object appears in a list using count() method  \n",
    "  \n",
    "list1 = [1, 1, 1, 2, 3, 2, 1]  \n",
    "  \n",
    "# Counts the number of times 1 appears in list1 \n",
    "print(list1.count(1))  \n",
    "  \n",
    "print(dir(list1)) ##shows functions that can be used with list1(a list)\n",
    "print(   )\n",
    "print(help(list1.count)) ##shows information about a specific function\n",
    "\n",
    "'''The dir and help function can be done on any object to get the functions associated with that object.\n",
    "    Run this code and try it with a few functions we used this week in class'''"
   ]
  },
  {
   "cell_type": "code",
   "execution_count": null,
   "metadata": {},
   "outputs": [],
   "source": [
    "help(list1.append)"
   ]
  },
  {
   "cell_type": "code",
   "execution_count": null,
   "metadata": {},
   "outputs": [],
   "source": [
    "# Python3 program to demonstrate \n",
    "# the error in count() method \n",
    "  \n",
    "list1 = [1, 1, 1, 2, 3, 2, 1]  \n",
    "  \n",
    "# Error when two parameters is passed.  \n",
    "print(list1.count(1, 2))   "
   ]
  },
  {
   "cell_type": "code",
   "execution_count": null,
   "metadata": {},
   "outputs": [],
   "source": [
    "# Python3 program to count the number of times \n",
    "# an object appears in a list using count() method  \n",
    "  \n",
    "list1 = [ ('Cat', 'Bat'), ('Sat', 'Cat'), ('Cat', 'Bat'), \n",
    "          ('Cat', 'Bat', 'Sat'), [1, 2], [1, 2, 3], [1, 2] ] \n",
    "  \n",
    "# Counts the number of times 'Cat' appears in list1 \n",
    "print(list1.count(('Cat', 'Bat'))) \n",
    "  \n",
    "# Count the number of times sublist \n",
    "# '[1, 2]' appears in list1 \n",
    "print(list1.count([1, 2])) "
   ]
  },
  {
   "cell_type": "code",
   "execution_count": null,
   "metadata": {},
   "outputs": [],
   "source": [
    "# Python3 program to count the number of times \n",
    "# an object appears in a list using count() method  \n",
    "  \n",
    "lst = ['Cat', 'Bat', 'Sat', 'Cat', 'Mat', 'Cat', 'Sat'] \n",
    "  \n",
    "# To get the number of occurrences  \n",
    "# of each item in a list \n",
    "print ([ [l, lst.count(l)] for l in set(lst)]) \n",
    "  \n",
    "# To get the number of occurrences  \n",
    "# of each item in a dictionary \n",
    "print (dict( (l, lst.count(l) ) for l in set(lst))) \n"
   ]
  },
  {
   "cell_type": "code",
   "execution_count": null,
   "metadata": {},
   "outputs": [],
   "source": [
    "#looking at part of the list\n",
    "lst = ['Cat', 'Bat', 'Sat', 'Cat', 'Mat', 'Cat', 'Sat'] \n",
    "\n",
    "print(lst[1:3])\n",
    "\n",
    "#try looking at different elements in the list using the example above"
   ]
  },
  {
   "cell_type": "code",
   "execution_count": null,
   "metadata": {},
   "outputs": [],
   "source": [
    "thislist = list((\"apple\", \"banana\", \"cherry\")) # note the double round-brackets\n",
    "print(thislist)"
   ]
  },
  {
   "cell_type": "code",
   "execution_count": null,
   "metadata": {},
   "outputs": [],
   "source": [
    "thislist = [\"apple\", \"banana\", \"cherry\", \"orange\", \"kiwi\", \"mango\"]\n",
    "thislist[1:3] = [\"blackcurrant\", \"watermelon\"]\n",
    "print(thislist)"
   ]
  },
  {
   "cell_type": "code",
   "execution_count": null,
   "metadata": {},
   "outputs": [],
   "source": [
    "thislist = [\"apple\", \"banana\", \"cherry\"]\n",
    "thislist[1:2] = [\"blackcurrant\", \"watermelon\"]\n",
    "print(thislist)\n"
   ]
  },
  {
   "cell_type": "code",
   "execution_count": null,
   "metadata": {},
   "outputs": [],
   "source": [
    "thislist = [\"apple\", \"banana\", \"cherry\"]\n",
    "thislist[1:3] = [\"watermelon\"]\n",
    "print(thislist)\n"
   ]
  },
  {
   "cell_type": "code",
   "execution_count": null,
   "metadata": {},
   "outputs": [],
   "source": [
    "thislist = [\"apple\", \"banana\", \"cherry\"]\n",
    "thislist.insert(2, \"watermelon\")\n",
    "print(thislist)\n"
   ]
  },
  {
   "cell_type": "code",
   "execution_count": null,
   "metadata": {},
   "outputs": [],
   "source": [
    "fruits = [\"apple\", \"banana\", \"cherry\", \"kiwi\", \"mango\"]\n",
    "newlist = []\n",
    "\n",
    "for x in fruits:\n",
    "  if \"a\" in x:\n",
    "    newlist.append(x)\n",
    "\n",
    "print(newlist)\n"
   ]
  },
  {
   "cell_type": "code",
   "execution_count": null,
   "metadata": {},
   "outputs": [],
   "source": [
    "fruits = [\"apple\", \"banana\", \"cherry\", \"kiwi\", \"mango\"]\n",
    "\n",
    "newlist = [x for x in fruits if \"a\" in x]\n",
    "\n",
    "print(newlist)\n"
   ]
  },
  {
   "cell_type": "code",
   "execution_count": null,
   "metadata": {},
   "outputs": [],
   "source": [
    "newlist = [x for x in fruits if x != \"apple\"]\n",
    "print(newlist)"
   ]
  },
  {
   "cell_type": "code",
   "execution_count": null,
   "metadata": {},
   "outputs": [],
   "source": [
    "thislist = [\"orange\", \"mango\", \"kiwi\", \"pineapple\", \"banana\"]\n",
    "thislist.sort()\n",
    "print(thislist)\n",
    "\n",
    "thislist = [\"orange\", \"mango\", \"kiwi\", \"pineapple\", \"banana\"]\n",
    "thislist.sort(reverse = True)\n",
    "print(thislist)\n"
   ]
  },
  {
   "cell_type": "code",
   "execution_count": null,
   "metadata": {},
   "outputs": [],
   "source": []
  }
 ],
 "metadata": {
  "kernelspec": {
   "display_name": "Python 3 (ipykernel)",
   "language": "python",
   "name": "python3"
  },
  "language_info": {
   "codemirror_mode": {
    "name": "ipython",
    "version": 3
   },
   "file_extension": ".py",
   "mimetype": "text/x-python",
   "name": "python",
   "nbconvert_exporter": "python",
   "pygments_lexer": "ipython3",
   "version": "3.9.7"
  }
 },
 "nbformat": 4,
 "nbformat_minor": 2
}
